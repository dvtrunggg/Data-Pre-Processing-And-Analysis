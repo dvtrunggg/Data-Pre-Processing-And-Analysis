{
 "cells": [
  {
   "cell_type": "code",
   "execution_count": 1,
   "id": "46b177bb",
   "metadata": {},
   "outputs": [],
   "source": [
    "import pandas as pd"
   ]
  },
  {
   "cell_type": "code",
   "execution_count": 37,
   "id": "e750a0bf",
   "metadata": {},
   "outputs": [],
   "source": [
    "def check(n):\n",
    "    rev = 0\n",
    "    i = True\n",
    "    if n < 0:\n",
    "        n = n * -1 \n",
    "        i = False\n",
    "\n",
    "    while(n > 0):\n",
    "        a = n % 10\n",
    "        rev = rev * 10 + a\n",
    "        n = n // 10\n",
    "    return rev*-1 if i == False else rev\n"
   ]
  },
  {
   "cell_type": "code",
   "execution_count": 40,
   "id": "db44d1ee",
   "metadata": {},
   "outputs": [
    {
     "data": {
      "text/plain": [
       "543321"
      ]
     },
     "execution_count": 40,
     "metadata": {},
     "output_type": "execute_result"
    }
   ],
   "source": [
    "check(1233450)"
   ]
  },
  {
   "cell_type": "code",
   "execution_count": null,
   "id": "150cf3fa",
   "metadata": {},
   "outputs": [],
   "source": []
  }
 ],
 "metadata": {
  "kernelspec": {
   "display_name": "Python 3 (ipykernel)",
   "language": "python",
   "name": "python3"
  },
  "language_info": {
   "codemirror_mode": {
    "name": "ipython",
    "version": 3
   },
   "file_extension": ".py",
   "mimetype": "text/x-python",
   "name": "python",
   "nbconvert_exporter": "python",
   "pygments_lexer": "ipython3",
   "version": "3.10.0"
  }
 },
 "nbformat": 4,
 "nbformat_minor": 5
}
