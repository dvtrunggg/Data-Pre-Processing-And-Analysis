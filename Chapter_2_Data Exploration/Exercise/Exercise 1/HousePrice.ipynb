{
 "cells": [
  {
   "cell_type": "markdown",
   "id": "b88c3317",
   "metadata": {},
   "source": [
    "## Chapter 2 - Ex1: Housing prices\n",
    "- Cho dữ liệu housing-prices-dataset/train.csv\n",
    "- Yêu cầu: Thực hiện các công việc sau\n",
    "1. Xác định các thuộc tính\n",
    "2. Phân tích đơn biến\n",
    "- 2.1 Để dự đoán giá nhà, giả sử cần các thông tin sau: 'LotArea', 'YearBuilt', '1stFlrSF',\n",
    "'2ndFlrSF', 'FullBath', 'BedroomAbvGr', 'TotRmsAbvGrd' => phân tích các biến này\n",
    "3. Phân tích hai biến\n",
    "4. Xử lý dữ liệu thiếu\n",
    "5. Phát hiện và xử lý ngoại lệ\n",
    "\n",
    "Note: Đây là một project với rất nhiều thuộc tính. Chúng ta chỉ thực hành trên một số thuộc\n",
    "tính để biết cách làm. Khi triển khai một project thực tế cần phải lựa chọn các thuộc tính phù\n",
    "hợp và thực hiện các công việc trên tất cả các thuộc tính được lựa chọn."
   ]
  },
  {
   "cell_type": "markdown",
   "id": "d6c834e5",
   "metadata": {},
   "source": [
    "https://www.kaggle.com/alphaepsilon/housing-prices-dataset"
   ]
  },
  {
   "cell_type": "code",
   "execution_count": 129,
   "id": "359c9b1a",
   "metadata": {},
   "outputs": [
    {
     "name": "stdout",
     "output_type": "stream",
     "text": [
      "The nb_black extension is already loaded. To reload it, use:\n",
      "  %reload_ext nb_black\n"
     ]
    },
    {
     "data": {
      "application/javascript": [
       "\n",
       "            setTimeout(function() {\n",
       "                var nbb_cell_id = 129;\n",
       "                var nbb_unformatted_code = \"import pandas as pd\\nimport numpy as np\\nimport seaborn as sns\\nimport matplotlib.pyplot as plt\\nimport scipy\\nimport scipy.stats\\nimport warnings\\nimport statsmodels.api as sm\\nfrom statsmodels.formula.api import ols\\nfrom statsmodels.stats.multicomp import pairwise_tukeyhsd\\n\\n%load_ext nb_black\";\n",
       "                var nbb_formatted_code = \"import pandas as pd\\nimport numpy as np\\nimport seaborn as sns\\nimport matplotlib.pyplot as plt\\nimport scipy\\nimport scipy.stats\\nimport warnings\\nimport statsmodels.api as sm\\nfrom statsmodels.formula.api import ols\\nfrom statsmodels.stats.multicomp import pairwise_tukeyhsd\\n\\n%load_ext nb_black\";\n",
       "                var nbb_cells = Jupyter.notebook.get_cells();\n",
       "                for (var i = 0; i < nbb_cells.length; ++i) {\n",
       "                    if (nbb_cells[i].input_prompt_number == nbb_cell_id) {\n",
       "                        if (nbb_cells[i].get_text() == nbb_unformatted_code) {\n",
       "                             nbb_cells[i].set_text(nbb_formatted_code);\n",
       "                        }\n",
       "                        break;\n",
       "                    }\n",
       "                }\n",
       "            }, 500);\n",
       "            "
      ],
      "text/plain": [
       "<IPython.core.display.Javascript object>"
      ]
     },
     "metadata": {},
     "output_type": "display_data"
    }
   ],
   "source": [
    "import pandas as pd\n",
    "import numpy as np\n",
    "import seaborn as sns\n",
    "import matplotlib.pyplot as plt\n",
    "import scipy\n",
    "import scipy.stats\n",
    "import warnings\n",
    "import statsmodels.api as sm\n",
    "from statsmodels.formula.api import ols\n",
    "from statsmodels.stats.multicomp import pairwise_tukeyhsd\n",
    "\n",
    "%load_ext nb_black"
   ]
  },
  {
   "cell_type": "code",
   "execution_count": 2,
   "id": "a096af74",
   "metadata": {},
   "outputs": [
    {
     "data": {
      "application/javascript": [
       "\n",
       "            setTimeout(function() {\n",
       "                var nbb_cell_id = 2;\n",
       "                var nbb_unformatted_code = \"warnings.filterwarnings(\\\"ignore\\\")\";\n",
       "                var nbb_formatted_code = \"warnings.filterwarnings(\\\"ignore\\\")\";\n",
       "                var nbb_cells = Jupyter.notebook.get_cells();\n",
       "                for (var i = 0; i < nbb_cells.length; ++i) {\n",
       "                    if (nbb_cells[i].input_prompt_number == nbb_cell_id) {\n",
       "                        if (nbb_cells[i].get_text() == nbb_unformatted_code) {\n",
       "                             nbb_cells[i].set_text(nbb_formatted_code);\n",
       "                        }\n",
       "                        break;\n",
       "                    }\n",
       "                }\n",
       "            }, 500);\n",
       "            "
      ],
      "text/plain": [
       "<IPython.core.display.Javascript object>"
      ]
     },
     "metadata": {},
     "output_type": "display_data"
    }
   ],
   "source": [
    "warnings.filterwarnings(\"ignore\")"
   ]
  },
  {
   "cell_type": "markdown",
   "id": "e2d3c1d0",
   "metadata": {},
   "source": [
    "# B1: Khám phá, xác định thuộc tính, field của dữ liệu"
   ]
  },
  {
   "cell_type": "code",
   "execution_count": 3,
   "id": "6f9bdc15",
   "metadata": {},
   "outputs": [
    {
     "data": {
      "text/html": [
       "<div>\n",
       "<style scoped>\n",
       "    .dataframe tbody tr th:only-of-type {\n",
       "        vertical-align: middle;\n",
       "    }\n",
       "\n",
       "    .dataframe tbody tr th {\n",
       "        vertical-align: top;\n",
       "    }\n",
       "\n",
       "    .dataframe thead th {\n",
       "        text-align: right;\n",
       "    }\n",
       "</style>\n",
       "<table border=\"1\" class=\"dataframe\">\n",
       "  <thead>\n",
       "    <tr style=\"text-align: right;\">\n",
       "      <th></th>\n",
       "      <th>Id</th>\n",
       "      <th>MSSubClass</th>\n",
       "      <th>MSZoning</th>\n",
       "      <th>LotFrontage</th>\n",
       "      <th>LotArea</th>\n",
       "      <th>Street</th>\n",
       "      <th>Alley</th>\n",
       "      <th>LotShape</th>\n",
       "      <th>LandContour</th>\n",
       "      <th>Utilities</th>\n",
       "      <th>...</th>\n",
       "      <th>PoolArea</th>\n",
       "      <th>PoolQC</th>\n",
       "      <th>Fence</th>\n",
       "      <th>MiscFeature</th>\n",
       "      <th>MiscVal</th>\n",
       "      <th>MoSold</th>\n",
       "      <th>YrSold</th>\n",
       "      <th>SaleType</th>\n",
       "      <th>SaleCondition</th>\n",
       "      <th>SalePrice</th>\n",
       "    </tr>\n",
       "  </thead>\n",
       "  <tbody>\n",
       "    <tr>\n",
       "      <th>0</th>\n",
       "      <td>1</td>\n",
       "      <td>60</td>\n",
       "      <td>RL</td>\n",
       "      <td>65.0</td>\n",
       "      <td>8450</td>\n",
       "      <td>Pave</td>\n",
       "      <td>NaN</td>\n",
       "      <td>Reg</td>\n",
       "      <td>Lvl</td>\n",
       "      <td>AllPub</td>\n",
       "      <td>...</td>\n",
       "      <td>0</td>\n",
       "      <td>NaN</td>\n",
       "      <td>NaN</td>\n",
       "      <td>NaN</td>\n",
       "      <td>0</td>\n",
       "      <td>2</td>\n",
       "      <td>2008</td>\n",
       "      <td>WD</td>\n",
       "      <td>Normal</td>\n",
       "      <td>208500</td>\n",
       "    </tr>\n",
       "    <tr>\n",
       "      <th>1</th>\n",
       "      <td>2</td>\n",
       "      <td>20</td>\n",
       "      <td>RL</td>\n",
       "      <td>80.0</td>\n",
       "      <td>9600</td>\n",
       "      <td>Pave</td>\n",
       "      <td>NaN</td>\n",
       "      <td>Reg</td>\n",
       "      <td>Lvl</td>\n",
       "      <td>AllPub</td>\n",
       "      <td>...</td>\n",
       "      <td>0</td>\n",
       "      <td>NaN</td>\n",
       "      <td>NaN</td>\n",
       "      <td>NaN</td>\n",
       "      <td>0</td>\n",
       "      <td>5</td>\n",
       "      <td>2007</td>\n",
       "      <td>WD</td>\n",
       "      <td>Normal</td>\n",
       "      <td>181500</td>\n",
       "    </tr>\n",
       "    <tr>\n",
       "      <th>2</th>\n",
       "      <td>3</td>\n",
       "      <td>60</td>\n",
       "      <td>RL</td>\n",
       "      <td>68.0</td>\n",
       "      <td>11250</td>\n",
       "      <td>Pave</td>\n",
       "      <td>NaN</td>\n",
       "      <td>IR1</td>\n",
       "      <td>Lvl</td>\n",
       "      <td>AllPub</td>\n",
       "      <td>...</td>\n",
       "      <td>0</td>\n",
       "      <td>NaN</td>\n",
       "      <td>NaN</td>\n",
       "      <td>NaN</td>\n",
       "      <td>0</td>\n",
       "      <td>9</td>\n",
       "      <td>2008</td>\n",
       "      <td>WD</td>\n",
       "      <td>Normal</td>\n",
       "      <td>223500</td>\n",
       "    </tr>\n",
       "    <tr>\n",
       "      <th>3</th>\n",
       "      <td>4</td>\n",
       "      <td>70</td>\n",
       "      <td>RL</td>\n",
       "      <td>60.0</td>\n",
       "      <td>9550</td>\n",
       "      <td>Pave</td>\n",
       "      <td>NaN</td>\n",
       "      <td>IR1</td>\n",
       "      <td>Lvl</td>\n",
       "      <td>AllPub</td>\n",
       "      <td>...</td>\n",
       "      <td>0</td>\n",
       "      <td>NaN</td>\n",
       "      <td>NaN</td>\n",
       "      <td>NaN</td>\n",
       "      <td>0</td>\n",
       "      <td>2</td>\n",
       "      <td>2006</td>\n",
       "      <td>WD</td>\n",
       "      <td>Abnorml</td>\n",
       "      <td>140000</td>\n",
       "    </tr>\n",
       "    <tr>\n",
       "      <th>4</th>\n",
       "      <td>5</td>\n",
       "      <td>60</td>\n",
       "      <td>RL</td>\n",
       "      <td>84.0</td>\n",
       "      <td>14260</td>\n",
       "      <td>Pave</td>\n",
       "      <td>NaN</td>\n",
       "      <td>IR1</td>\n",
       "      <td>Lvl</td>\n",
       "      <td>AllPub</td>\n",
       "      <td>...</td>\n",
       "      <td>0</td>\n",
       "      <td>NaN</td>\n",
       "      <td>NaN</td>\n",
       "      <td>NaN</td>\n",
       "      <td>0</td>\n",
       "      <td>12</td>\n",
       "      <td>2008</td>\n",
       "      <td>WD</td>\n",
       "      <td>Normal</td>\n",
       "      <td>250000</td>\n",
       "    </tr>\n",
       "  </tbody>\n",
       "</table>\n",
       "<p>5 rows × 81 columns</p>\n",
       "</div>"
      ],
      "text/plain": [
       "   Id  MSSubClass MSZoning  LotFrontage  LotArea Street Alley LotShape  \\\n",
       "0   1          60       RL         65.0     8450   Pave   NaN      Reg   \n",
       "1   2          20       RL         80.0     9600   Pave   NaN      Reg   \n",
       "2   3          60       RL         68.0    11250   Pave   NaN      IR1   \n",
       "3   4          70       RL         60.0     9550   Pave   NaN      IR1   \n",
       "4   5          60       RL         84.0    14260   Pave   NaN      IR1   \n",
       "\n",
       "  LandContour Utilities  ... PoolArea PoolQC Fence MiscFeature MiscVal MoSold  \\\n",
       "0         Lvl    AllPub  ...        0    NaN   NaN         NaN       0      2   \n",
       "1         Lvl    AllPub  ...        0    NaN   NaN         NaN       0      5   \n",
       "2         Lvl    AllPub  ...        0    NaN   NaN         NaN       0      9   \n",
       "3         Lvl    AllPub  ...        0    NaN   NaN         NaN       0      2   \n",
       "4         Lvl    AllPub  ...        0    NaN   NaN         NaN       0     12   \n",
       "\n",
       "  YrSold  SaleType  SaleCondition  SalePrice  \n",
       "0   2008        WD         Normal     208500  \n",
       "1   2007        WD         Normal     181500  \n",
       "2   2008        WD         Normal     223500  \n",
       "3   2006        WD        Abnorml     140000  \n",
       "4   2008        WD         Normal     250000  \n",
       "\n",
       "[5 rows x 81 columns]"
      ]
     },
     "execution_count": 3,
     "metadata": {},
     "output_type": "execute_result"
    },
    {
     "data": {
      "application/javascript": [
       "\n",
       "            setTimeout(function() {\n",
       "                var nbb_cell_id = 3;\n",
       "                var nbb_unformatted_code = \"df = pd.read_csv(\\\"housing-prices-dataset/train.csv\\\")\\ndf.head()\";\n",
       "                var nbb_formatted_code = \"df = pd.read_csv(\\\"housing-prices-dataset/train.csv\\\")\\ndf.head()\";\n",
       "                var nbb_cells = Jupyter.notebook.get_cells();\n",
       "                for (var i = 0; i < nbb_cells.length; ++i) {\n",
       "                    if (nbb_cells[i].input_prompt_number == nbb_cell_id) {\n",
       "                        if (nbb_cells[i].get_text() == nbb_unformatted_code) {\n",
       "                             nbb_cells[i].set_text(nbb_formatted_code);\n",
       "                        }\n",
       "                        break;\n",
       "                    }\n",
       "                }\n",
       "            }, 500);\n",
       "            "
      ],
      "text/plain": [
       "<IPython.core.display.Javascript object>"
      ]
     },
     "metadata": {},
     "output_type": "display_data"
    }
   ],
   "source": [
    "df = pd.read_csv(\"housing-prices-dataset/train.csv\")\n",
    "df.head()"
   ]
  },
  {
   "cell_type": "code",
   "execution_count": 4,
   "id": "27d8a92d",
   "metadata": {},
   "outputs": [
    {
     "name": "stdout",
     "output_type": "stream",
     "text": [
      "<class 'pandas.core.frame.DataFrame'>\n",
      "RangeIndex: 1460 entries, 0 to 1459\n",
      "Data columns (total 81 columns):\n",
      " #   Column         Non-Null Count  Dtype  \n",
      "---  ------         --------------  -----  \n",
      " 0   Id             1460 non-null   int64  \n",
      " 1   MSSubClass     1460 non-null   int64  \n",
      " 2   MSZoning       1460 non-null   object \n",
      " 3   LotFrontage    1201 non-null   float64\n",
      " 4   LotArea        1460 non-null   int64  \n",
      " 5   Street         1460 non-null   object \n",
      " 6   Alley          91 non-null     object \n",
      " 7   LotShape       1460 non-null   object \n",
      " 8   LandContour    1460 non-null   object \n",
      " 9   Utilities      1460 non-null   object \n",
      " 10  LotConfig      1460 non-null   object \n",
      " 11  LandSlope      1460 non-null   object \n",
      " 12  Neighborhood   1460 non-null   object \n",
      " 13  Condition1     1460 non-null   object \n",
      " 14  Condition2     1460 non-null   object \n",
      " 15  BldgType       1460 non-null   object \n",
      " 16  HouseStyle     1460 non-null   object \n",
      " 17  OverallQual    1460 non-null   int64  \n",
      " 18  OverallCond    1460 non-null   int64  \n",
      " 19  YearBuilt      1460 non-null   int64  \n",
      " 20  YearRemodAdd   1460 non-null   int64  \n",
      " 21  RoofStyle      1460 non-null   object \n",
      " 22  RoofMatl       1460 non-null   object \n",
      " 23  Exterior1st    1460 non-null   object \n",
      " 24  Exterior2nd    1460 non-null   object \n",
      " 25  MasVnrType     1452 non-null   object \n",
      " 26  MasVnrArea     1452 non-null   float64\n",
      " 27  ExterQual      1460 non-null   object \n",
      " 28  ExterCond      1460 non-null   object \n",
      " 29  Foundation     1460 non-null   object \n",
      " 30  BsmtQual       1423 non-null   object \n",
      " 31  BsmtCond       1423 non-null   object \n",
      " 32  BsmtExposure   1422 non-null   object \n",
      " 33  BsmtFinType1   1423 non-null   object \n",
      " 34  BsmtFinSF1     1460 non-null   int64  \n",
      " 35  BsmtFinType2   1422 non-null   object \n",
      " 36  BsmtFinSF2     1460 non-null   int64  \n",
      " 37  BsmtUnfSF      1460 non-null   int64  \n",
      " 38  TotalBsmtSF    1460 non-null   int64  \n",
      " 39  Heating        1460 non-null   object \n",
      " 40  HeatingQC      1460 non-null   object \n",
      " 41  CentralAir     1460 non-null   object \n",
      " 42  Electrical     1459 non-null   object \n",
      " 43  1stFlrSF       1460 non-null   int64  \n",
      " 44  2ndFlrSF       1460 non-null   int64  \n",
      " 45  LowQualFinSF   1460 non-null   int64  \n",
      " 46  GrLivArea      1460 non-null   int64  \n",
      " 47  BsmtFullBath   1460 non-null   int64  \n",
      " 48  BsmtHalfBath   1460 non-null   int64  \n",
      " 49  FullBath       1460 non-null   int64  \n",
      " 50  HalfBath       1460 non-null   int64  \n",
      " 51  BedroomAbvGr   1460 non-null   int64  \n",
      " 52  KitchenAbvGr   1460 non-null   int64  \n",
      " 53  KitchenQual    1460 non-null   object \n",
      " 54  TotRmsAbvGrd   1460 non-null   int64  \n",
      " 55  Functional     1460 non-null   object \n",
      " 56  Fireplaces     1460 non-null   int64  \n",
      " 57  FireplaceQu    770 non-null    object \n",
      " 58  GarageType     1379 non-null   object \n",
      " 59  GarageYrBlt    1379 non-null   float64\n",
      " 60  GarageFinish   1379 non-null   object \n",
      " 61  GarageCars     1460 non-null   int64  \n",
      " 62  GarageArea     1460 non-null   int64  \n",
      " 63  GarageQual     1379 non-null   object \n",
      " 64  GarageCond     1379 non-null   object \n",
      " 65  PavedDrive     1460 non-null   object \n",
      " 66  WoodDeckSF     1460 non-null   int64  \n",
      " 67  OpenPorchSF    1460 non-null   int64  \n",
      " 68  EnclosedPorch  1460 non-null   int64  \n",
      " 69  3SsnPorch      1460 non-null   int64  \n",
      " 70  ScreenPorch    1460 non-null   int64  \n",
      " 71  PoolArea       1460 non-null   int64  \n",
      " 72  PoolQC         7 non-null      object \n",
      " 73  Fence          281 non-null    object \n",
      " 74  MiscFeature    54 non-null     object \n",
      " 75  MiscVal        1460 non-null   int64  \n",
      " 76  MoSold         1460 non-null   int64  \n",
      " 77  YrSold         1460 non-null   int64  \n",
      " 78  SaleType       1460 non-null   object \n",
      " 79  SaleCondition  1460 non-null   object \n",
      " 80  SalePrice      1460 non-null   int64  \n",
      "dtypes: float64(3), int64(35), object(43)\n",
      "memory usage: 924.0+ KB\n"
     ]
    }
   ],
   "source": [
    "df.info()"
   ]
  },
  {
   "cell_type": "code",
   "execution_count": 27,
   "id": "108a5ee7",
   "metadata": {},
   "outputs": [
    {
     "data": {
      "text/plain": [
       "Index(['LotFrontage', 'Alley', 'MasVnrType', 'MasVnrArea', 'BsmtQual',\n",
       "       'BsmtCond', 'BsmtExposure', 'BsmtFinType1', 'BsmtFinType2',\n",
       "       'Electrical', 'FireplaceQu', 'GarageType', 'GarageYrBlt',\n",
       "       'GarageFinish', 'GarageQual', 'GarageCond', 'PoolQC', 'Fence',\n",
       "       'MiscFeature'],\n",
       "      dtype='object')"
      ]
     },
     "execution_count": 27,
     "metadata": {},
     "output_type": "execute_result"
    }
   ],
   "source": [
    "null_cols = df.isnull().any(axis = 0).tolist()\n",
    "df.columns[null_cols]"
   ]
  },
  {
   "cell_type": "code",
   "execution_count": 32,
   "id": "f1beb677",
   "metadata": {},
   "outputs": [
    {
     "data": {
      "text/plain": [
       "Id                 0\n",
       "MSSubClass         0\n",
       "MSZoning           0\n",
       "LotFrontage      259\n",
       "LotArea            0\n",
       "                ... \n",
       "MoSold             0\n",
       "YrSold             0\n",
       "SaleType           0\n",
       "SaleCondition      0\n",
       "SalePrice          0\n",
       "Length: 81, dtype: int64"
      ]
     },
     "execution_count": 32,
     "metadata": {},
     "output_type": "execute_result"
    }
   ],
   "source": [
    "df.isnull().sum() #đếm các giá trị null từ các cột"
   ]
  },
  {
   "cell_type": "markdown",
   "id": "79eac2e4",
   "metadata": {},
   "source": [
    "## 1. Xác định các thuộc tính\n",
    "1. Input: <> SalePrice\n",
    "2. Output: SalePrice\n",
    "3. Type of variable:\n",
    "- 3.1 Predictor: khác SalePrice\n",
    "- 3.2 Target: SalePrice\n",
    "4. Data Type:\n",
    "- 4.1 Charactor/String\n",
    "- 4.2 Numeric\n"
   ]
  },
  {
   "cell_type": "code",
   "execution_count": 1,
   "id": "fbf15f72",
   "metadata": {},
   "outputs": [
    {
     "data": {
      "text/plain": [
       "'\\nTa thấy: yêu cầu là dự đó giá nhà (SalePrice)\\n=>\\n***thuộc tính:\\nInput: <> SalePrice (tất cả thuộc tính khác SalePrice)\\nOutput: SalePrice\\n\\n***các loại biến:\\npredictor variable: <> SalePrice (tất cả thuộc tính khác SalePrice) - các biến input\\nTarget Variable: SalePrice - biến output\\n\\n*** các type data:\\nstring\\nNumeric\\n\\n- **variable category**\\n    - Categorical: kiểu số, kiểu chuỗi, ...\\n    - Continuous: int, float, ...\\n    \\n\\n'"
      ]
     },
     "execution_count": 1,
     "metadata": {},
     "output_type": "execute_result"
    }
   ],
   "source": [
    "'''\n",
    "Ta thấy: yêu cầu là dự đó giá nhà (SalePrice)\n",
    "=>\n",
    "***thuộc tính:\n",
    "Input: <> SalePrice (tất cả thuộc tính khác SalePrice)\n",
    "Output: SalePrice\n",
    "\n",
    "***các loại biến:\n",
    "predictor variable: <> SalePrice (tất cả thuộc tính khác SalePrice) - các biến input\n",
    "Target Variable: SalePrice - biến output\n",
    "\n",
    "*** các type data:\n",
    "string\n",
    "Numeric\n",
    "\n",
    "- **variable category**\n",
    "    - Categorical: kiểu số, kiểu chuỗi, ...\n",
    "    - Continuous: int, float, ...\n",
    "    \n",
    "\n",
    "'''"
   ]
  },
  {
   "cell_type": "markdown",
   "id": "9f040a4a",
   "metadata": {},
   "source": [
    "## 2. Phân loại các biến định lượng (quantitative) và các biến định tính (quanlitative) trong df"
   ]
  },
  {
   "cell_type": "markdown",
   "id": "0d62e668",
   "metadata": {},
   "source": [
    "**Các biến định lượng (thường là các biến có kiểu != object (numeric)**\n"
   ]
  },
  {
   "cell_type": "code",
   "execution_count": 4,
   "id": "edbda0fe",
   "metadata": {},
   "outputs": [
    {
     "data": {
      "application/javascript": [
       "\n",
       "            setTimeout(function() {\n",
       "                var nbb_cell_id = 4;\n",
       "                var nbb_unformatted_code = \"### c\\u00e1c bi\\u1ebfn \\u0111\\u1ecbnh l\\u01b0\\u1ee3ng (th\\u01b0\\u1eddng l\\u00e0 c\\u00e1c bi\\u1ebfn c\\u00f3 ki\\u1ec3u != object)\\nnumbers = [f for f in df.columns if df.dtypes[f] != \\\"object\\\"]  # Quantitative\";\n",
       "                var nbb_formatted_code = \"### c\\u00e1c bi\\u1ebfn \\u0111\\u1ecbnh l\\u01b0\\u1ee3ng (th\\u01b0\\u1eddng l\\u00e0 c\\u00e1c bi\\u1ebfn c\\u00f3 ki\\u1ec3u != object)\\nnumbers = [f for f in df.columns if df.dtypes[f] != \\\"object\\\"]  # Quantitative\";\n",
       "                var nbb_cells = Jupyter.notebook.get_cells();\n",
       "                for (var i = 0; i < nbb_cells.length; ++i) {\n",
       "                    if (nbb_cells[i].input_prompt_number == nbb_cell_id) {\n",
       "                        if (nbb_cells[i].get_text() == nbb_unformatted_code) {\n",
       "                             nbb_cells[i].set_text(nbb_formatted_code);\n",
       "                        }\n",
       "                        break;\n",
       "                    }\n",
       "                }\n",
       "            }, 500);\n",
       "            "
      ],
      "text/plain": [
       "<IPython.core.display.Javascript object>"
      ]
     },
     "metadata": {},
     "output_type": "display_data"
    }
   ],
   "source": [
    "### các biến định lượng (thường là các biến có kiểu != object)\n",
    "numbers = [f for f in df.columns if df.dtypes[f] != \"object\"]  # Quantitative\n"
   ]
  },
  {
   "cell_type": "code",
   "execution_count": 5,
   "id": "5e5fe111",
   "metadata": {},
   "outputs": [
    {
     "name": "stdout",
     "output_type": "stream",
     "text": [
      "Các biến định lượng (Quantitative variables)\n"
     ]
    },
    {
     "data": {
      "text/plain": [
       "'Id, MSSubClass, LotFrontage, LotArea, OverallQual, OverallCond, YearBuilt, YearRemodAdd, MasVnrArea, BsmtFinSF1, BsmtFinSF2, BsmtUnfSF, TotalBsmtSF, 1stFlrSF, 2ndFlrSF, LowQualFinSF, GrLivArea, BsmtFullBath, BsmtHalfBath, FullBath, HalfBath, BedroomAbvGr, KitchenAbvGr, TotRmsAbvGrd, Fireplaces, GarageYrBlt, GarageCars, GarageArea, WoodDeckSF, OpenPorchSF, EnclosedPorch, 3SsnPorch, ScreenPorch, PoolArea, MiscVal, MoSold, YrSold, SalePrice'"
      ]
     },
     "execution_count": 5,
     "metadata": {},
     "output_type": "execute_result"
    },
    {
     "data": {
      "application/javascript": [
       "\n",
       "            setTimeout(function() {\n",
       "                var nbb_cell_id = 5;\n",
       "                var nbb_unformatted_code = \"print(\\\"C\\u00e1c bi\\u1ebfn \\u0111\\u1ecbnh l\\u01b0\\u1ee3ng (Quantitative variables)\\\")\\nlist_nums = \\\", \\\".join(numbers)\\nlist_nums\";\n",
       "                var nbb_formatted_code = \"print(\\\"C\\u00e1c bi\\u1ebfn \\u0111\\u1ecbnh l\\u01b0\\u1ee3ng (Quantitative variables)\\\")\\nlist_nums = \\\", \\\".join(numbers)\\nlist_nums\";\n",
       "                var nbb_cells = Jupyter.notebook.get_cells();\n",
       "                for (var i = 0; i < nbb_cells.length; ++i) {\n",
       "                    if (nbb_cells[i].input_prompt_number == nbb_cell_id) {\n",
       "                        if (nbb_cells[i].get_text() == nbb_unformatted_code) {\n",
       "                             nbb_cells[i].set_text(nbb_formatted_code);\n",
       "                        }\n",
       "                        break;\n",
       "                    }\n",
       "                }\n",
       "            }, 500);\n",
       "            "
      ],
      "text/plain": [
       "<IPython.core.display.Javascript object>"
      ]
     },
     "metadata": {},
     "output_type": "display_data"
    }
   ],
   "source": [
    "print(\"Các biến định lượng (Quantitative variables)\")\n",
    "list_nums = \", \".join(numbers)\n",
    "list_nums"
   ]
  },
  {
   "cell_type": "markdown",
   "id": "0ff45066",
   "metadata": {},
   "source": [
    "**Các biến định tính (thường là các biến có kiểu là object)**\n"
   ]
  },
  {
   "cell_type": "code",
   "execution_count": 10,
   "id": "8129fd38",
   "metadata": {},
   "outputs": [
    {
     "data": {
      "application/javascript": [
       "\n",
       "            setTimeout(function() {\n",
       "                var nbb_cell_id = 10;\n",
       "                var nbb_unformatted_code = \"### c\\u00e1c bi\\u1ebfn \\u0111\\u1ecbnh t\\u00ednh (th\\u01b0\\u1eddng l\\u00e0 c\\u00e1c bi\\u1ebfn c\\u00f3 ki\\u1ec3u l\\u00e0 object)\\nobjects = [f for f in df.columns if df.dtypes[f] == \\\"object\\\"]  # Qualitative\";\n",
       "                var nbb_formatted_code = \"### c\\u00e1c bi\\u1ebfn \\u0111\\u1ecbnh t\\u00ednh (th\\u01b0\\u1eddng l\\u00e0 c\\u00e1c bi\\u1ebfn c\\u00f3 ki\\u1ec3u l\\u00e0 object)\\nobjects = [f for f in df.columns if df.dtypes[f] == \\\"object\\\"]  # Qualitative\";\n",
       "                var nbb_cells = Jupyter.notebook.get_cells();\n",
       "                for (var i = 0; i < nbb_cells.length; ++i) {\n",
       "                    if (nbb_cells[i].input_prompt_number == nbb_cell_id) {\n",
       "                        if (nbb_cells[i].get_text() == nbb_unformatted_code) {\n",
       "                             nbb_cells[i].set_text(nbb_formatted_code);\n",
       "                        }\n",
       "                        break;\n",
       "                    }\n",
       "                }\n",
       "            }, 500);\n",
       "            "
      ],
      "text/plain": [
       "<IPython.core.display.Javascript object>"
      ]
     },
     "metadata": {},
     "output_type": "display_data"
    }
   ],
   "source": [
    "### các biến định tính (thường là các biến có kiểu là object)\n",
    "objects = [f for f in df.columns if df.dtypes[f] == \"object\"]  # Qualitative"
   ]
  },
  {
   "cell_type": "code",
   "execution_count": 11,
   "id": "4131232f",
   "metadata": {},
   "outputs": [
    {
     "name": "stdout",
     "output_type": "stream",
     "text": [
      "Các biến định tính (Quanlitative variables)\n"
     ]
    },
    {
     "data": {
      "text/plain": [
       "'MSZoning, Street, Alley, LotShape, LandContour, Utilities, LotConfig, LandSlope, Neighborhood, Condition1, Condition2, BldgType, HouseStyle, RoofStyle, RoofMatl, Exterior1st, Exterior2nd, MasVnrType, ExterQual, ExterCond, Foundation, BsmtQual, BsmtCond, BsmtExposure, BsmtFinType1, BsmtFinType2, Heating, HeatingQC, CentralAir, Electrical, KitchenQual, Functional, FireplaceQu, GarageType, GarageFinish, GarageQual, GarageCond, PavedDrive, PoolQC, Fence, MiscFeature, SaleType, SaleCondition'"
      ]
     },
     "execution_count": 11,
     "metadata": {},
     "output_type": "execute_result"
    },
    {
     "data": {
      "application/javascript": [
       "\n",
       "            setTimeout(function() {\n",
       "                var nbb_cell_id = 11;\n",
       "                var nbb_unformatted_code = \"print(\\\"C\\u00e1c bi\\u1ebfn \\u0111\\u1ecbnh t\\u00ednh (Quanlitative variables)\\\")\\nlist_obj = \\\", \\\".join(objects)\\nlist_obj\";\n",
       "                var nbb_formatted_code = \"print(\\\"C\\u00e1c bi\\u1ebfn \\u0111\\u1ecbnh t\\u00ednh (Quanlitative variables)\\\")\\nlist_obj = \\\", \\\".join(objects)\\nlist_obj\";\n",
       "                var nbb_cells = Jupyter.notebook.get_cells();\n",
       "                for (var i = 0; i < nbb_cells.length; ++i) {\n",
       "                    if (nbb_cells[i].input_prompt_number == nbb_cell_id) {\n",
       "                        if (nbb_cells[i].get_text() == nbb_unformatted_code) {\n",
       "                             nbb_cells[i].set_text(nbb_formatted_code);\n",
       "                        }\n",
       "                        break;\n",
       "                    }\n",
       "                }\n",
       "            }, 500);\n",
       "            "
      ],
      "text/plain": [
       "<IPython.core.display.Javascript object>"
      ]
     },
     "metadata": {},
     "output_type": "display_data"
    }
   ],
   "source": [
    "print(\"Các biến định tính (Quanlitative variables)\")\n",
    "list_obj = \", \".join(objects)\n",
    "list_obj"
   ]
  },
  {
   "cell_type": "markdown",
   "id": "7e449c15",
   "metadata": {},
   "source": [
    "### 3. Phân loại categorical variable và continuous variable"
   ]
  },
  {
   "cell_type": "markdown",
   "id": "302dd4ef",
   "metadata": {},
   "source": [
    "#### Categorical"
   ]
  },
  {
   "cell_type": "code",
   "execution_count": 13,
   "id": "5f39ee35",
   "metadata": {},
   "outputs": [
    {
     "name": "stdout",
     "output_type": "stream",
     "text": [
      "Các categorical variable trong df: \n",
      "\n",
      "1 / MSZoning \t length =  5 : ['RL' 'RM' 'C (all)' 'FV' 'RH']\n",
      "2 / Street \t length =  2 : ['Pave' 'Grvl']\n",
      "3 / Alley \t length =  3 : [nan 'Grvl' 'Pave']\n",
      "4 / LotShape \t length =  4 : ['Reg' 'IR1' 'IR2' 'IR3']\n",
      "5 / LandContour \t length =  4 : ['Lvl' 'Bnk' 'Low' 'HLS']\n",
      "6 / Utilities \t length =  2 : ['AllPub' 'NoSeWa']\n",
      "7 / LotConfig \t length =  5 : ['Inside' 'FR2' 'Corner' 'CulDSac' 'FR3']\n",
      "8 / LandSlope \t length =  3 : ['Gtl' 'Mod' 'Sev']\n",
      "9 / Neighborhood \t length =  25 : ['CollgCr' 'Veenker' 'Crawfor' 'NoRidge' 'Mitchel' 'Somerst' 'NWAmes'\n",
      " 'OldTown' 'BrkSide' 'Sawyer' 'NridgHt' 'NAmes' 'SawyerW' 'IDOTRR'\n",
      " 'MeadowV' 'Edwards' 'Timber' 'Gilbert' 'StoneBr' 'ClearCr' 'NPkVill'\n",
      " 'Blmngtn' 'BrDale' 'SWISU' 'Blueste']\n",
      "10 / Condition1 \t length =  9 : ['Norm' 'Feedr' 'PosN' 'Artery' 'RRAe' 'RRNn' 'RRAn' 'PosA' 'RRNe']\n",
      "11 / Condition2 \t length =  8 : ['Norm' 'Artery' 'RRNn' 'Feedr' 'PosN' 'PosA' 'RRAn' 'RRAe']\n",
      "12 / BldgType \t length =  5 : ['1Fam' '2fmCon' 'Duplex' 'TwnhsE' 'Twnhs']\n",
      "13 / HouseStyle \t length =  8 : ['2Story' '1Story' '1.5Fin' '1.5Unf' 'SFoyer' 'SLvl' '2.5Unf' '2.5Fin']\n",
      "14 / RoofStyle \t length =  6 : ['Gable' 'Hip' 'Gambrel' 'Mansard' 'Flat' 'Shed']\n",
      "15 / RoofMatl \t length =  8 : ['CompShg' 'WdShngl' 'Metal' 'WdShake' 'Membran' 'Tar&Grv' 'Roll'\n",
      " 'ClyTile']\n",
      "16 / Exterior1st \t length =  15 : ['VinylSd' 'MetalSd' 'Wd Sdng' 'HdBoard' 'BrkFace' 'WdShing' 'CemntBd'\n",
      " 'Plywood' 'AsbShng' 'Stucco' 'BrkComm' 'AsphShn' 'Stone' 'ImStucc'\n",
      " 'CBlock']\n",
      "17 / Exterior2nd \t length =  16 : ['VinylSd' 'MetalSd' 'Wd Shng' 'HdBoard' 'Plywood' 'Wd Sdng' 'CmentBd'\n",
      " 'BrkFace' 'Stucco' 'AsbShng' 'Brk Cmn' 'ImStucc' 'AsphShn' 'Stone'\n",
      " 'Other' 'CBlock']\n",
      "18 / MasVnrType \t length =  5 : ['BrkFace' 'None' 'Stone' 'BrkCmn' nan]\n",
      "19 / ExterQual \t length =  4 : ['Gd' 'TA' 'Ex' 'Fa']\n",
      "20 / ExterCond \t length =  5 : ['TA' 'Gd' 'Fa' 'Po' 'Ex']\n",
      "21 / Foundation \t length =  6 : ['PConc' 'CBlock' 'BrkTil' 'Wood' 'Slab' 'Stone']\n",
      "22 / BsmtQual \t length =  5 : ['Gd' 'TA' 'Ex' nan 'Fa']\n",
      "23 / BsmtCond \t length =  5 : ['TA' 'Gd' nan 'Fa' 'Po']\n",
      "24 / BsmtExposure \t length =  5 : ['No' 'Gd' 'Mn' 'Av' nan]\n",
      "25 / BsmtFinType1 \t length =  7 : ['GLQ' 'ALQ' 'Unf' 'Rec' 'BLQ' nan 'LwQ']\n",
      "26 / BsmtFinType2 \t length =  7 : ['Unf' 'BLQ' nan 'ALQ' 'Rec' 'LwQ' 'GLQ']\n",
      "27 / Heating \t length =  6 : ['GasA' 'GasW' 'Grav' 'Wall' 'OthW' 'Floor']\n",
      "28 / HeatingQC \t length =  5 : ['Ex' 'Gd' 'TA' 'Fa' 'Po']\n",
      "29 / CentralAir \t length =  2 : ['Y' 'N']\n",
      "30 / Electrical \t length =  6 : ['SBrkr' 'FuseF' 'FuseA' 'FuseP' 'Mix' nan]\n",
      "31 / KitchenQual \t length =  4 : ['Gd' 'TA' 'Ex' 'Fa']\n",
      "32 / Functional \t length =  7 : ['Typ' 'Min1' 'Maj1' 'Min2' 'Mod' 'Maj2' 'Sev']\n",
      "33 / FireplaceQu \t length =  6 : [nan 'TA' 'Gd' 'Fa' 'Ex' 'Po']\n",
      "34 / GarageType \t length =  7 : ['Attchd' 'Detchd' 'BuiltIn' 'CarPort' nan 'Basment' '2Types']\n",
      "35 / GarageFinish \t length =  4 : ['RFn' 'Unf' 'Fin' nan]\n",
      "36 / GarageQual \t length =  6 : ['TA' 'Fa' 'Gd' nan 'Ex' 'Po']\n",
      "37 / GarageCond \t length =  6 : ['TA' 'Fa' nan 'Gd' 'Po' 'Ex']\n",
      "38 / PavedDrive \t length =  3 : ['Y' 'N' 'P']\n",
      "39 / PoolQC \t length =  4 : [nan 'Ex' 'Fa' 'Gd']\n",
      "40 / Fence \t length =  5 : [nan 'MnPrv' 'GdWo' 'GdPrv' 'MnWw']\n",
      "41 / MiscFeature \t length =  5 : [nan 'Shed' 'Gar2' 'Othr' 'TenC']\n",
      "42 / SaleType \t length =  9 : ['WD' 'New' 'COD' 'ConLD' 'ConLI' 'CWD' 'ConLw' 'Con' 'Oth']\n",
      "43 / SaleCondition \t length =  6 : ['Normal' 'Abnorml' 'Partial' 'AdjLand' 'Alloca' 'Family']\n"
     ]
    },
    {
     "data": {
      "application/javascript": [
       "\n",
       "            setTimeout(function() {\n",
       "                var nbb_cell_id = 13;\n",
       "                var nbb_unformatted_code = \"# Categorical: (x\\u00e9t c\\u00e1c bi\\u1ebfn \\u0111\\u1ecbnh t\\u00ednh)\\nprint(\\\"C\\u00e1c categorical variable trong df: \\\\n\\\")\\ni = 1\\nfor obj in objects:\\n    print(i, \\\"/\\\", obj, \\\"\\\\t length = \\\", len(df[obj].unique()), \\\":\\\", df[obj].unique())\\n    i = i + 1\";\n",
       "                var nbb_formatted_code = \"# Categorical: (x\\u00e9t c\\u00e1c bi\\u1ebfn \\u0111\\u1ecbnh t\\u00ednh)\\nprint(\\\"C\\u00e1c categorical variable trong df: \\\\n\\\")\\ni = 1\\nfor obj in objects:\\n    print(i, \\\"/\\\", obj, \\\"\\\\t length = \\\", len(df[obj].unique()), \\\":\\\", df[obj].unique())\\n    i = i + 1\";\n",
       "                var nbb_cells = Jupyter.notebook.get_cells();\n",
       "                for (var i = 0; i < nbb_cells.length; ++i) {\n",
       "                    if (nbb_cells[i].input_prompt_number == nbb_cell_id) {\n",
       "                        if (nbb_cells[i].get_text() == nbb_unformatted_code) {\n",
       "                             nbb_cells[i].set_text(nbb_formatted_code);\n",
       "                        }\n",
       "                        break;\n",
       "                    }\n",
       "                }\n",
       "            }, 500);\n",
       "            "
      ],
      "text/plain": [
       "<IPython.core.display.Javascript object>"
      ]
     },
     "metadata": {},
     "output_type": "display_data"
    }
   ],
   "source": [
    "# Categorical: (xét các biến định tính)\n",
    "print(\"Các categorical variable trong df: \\n\")\n",
    "i = 1\n",
    "for obj in objects:\n",
    "    print(i, \"/\", obj, \"\\t length = \", len(df[obj].unique()), \":\", df[obj].unique())\n",
    "    i = i + 1"
   ]
  },
  {
   "cell_type": "code",
   "execution_count": 19,
   "id": "4abddadf",
   "metadata": {},
   "outputs": [
    {
     "data": {
      "application/javascript": [
       "\n",
       "            setTimeout(function() {\n",
       "                var nbb_cell_id = 19;\n",
       "                var nbb_unformatted_code = \"# # Categorical & Continueous\\n# i = 1\\n# for obj in numbers:\\n#     print(\\n#         i,\\n#         \\\"/\\\",\\n#         obj,\\n#         \\\"\\\\t\\\",\\n#         len(df[obj].unique()),\\n#         \\\":\\\",\\n#         df[obj].unique() if len(df[obj].unique()) < 150 else \\\"\\\",\\n#     )\\n\\n#     i = i + 1\";\n",
       "                var nbb_formatted_code = \"# # Categorical & Continueous\\n# i = 1\\n# for obj in numbers:\\n#     print(\\n#         i,\\n#         \\\"/\\\",\\n#         obj,\\n#         \\\"\\\\t\\\",\\n#         len(df[obj].unique()),\\n#         \\\":\\\",\\n#         df[obj].unique() if len(df[obj].unique()) < 150 else \\\"\\\",\\n#     )\\n\\n#     i = i + 1\";\n",
       "                var nbb_cells = Jupyter.notebook.get_cells();\n",
       "                for (var i = 0; i < nbb_cells.length; ++i) {\n",
       "                    if (nbb_cells[i].input_prompt_number == nbb_cell_id) {\n",
       "                        if (nbb_cells[i].get_text() == nbb_unformatted_code) {\n",
       "                             nbb_cells[i].set_text(nbb_formatted_code);\n",
       "                        }\n",
       "                        break;\n",
       "                    }\n",
       "                }\n",
       "            }, 500);\n",
       "            "
      ],
      "text/plain": [
       "<IPython.core.display.Javascript object>"
      ]
     },
     "metadata": {},
     "output_type": "display_data"
    }
   ],
   "source": [
    "# # Categorical & Continueous\n",
    "# i = 1\n",
    "# for obj in numbers:\n",
    "#     print(\n",
    "#         i,\n",
    "#         \"/\",\n",
    "#         obj,\n",
    "#         \"\\t\",\n",
    "#         len(df[obj].unique()),\n",
    "#         \":\",\n",
    "#         df[obj].unique() if len(df[obj].unique()) < 150 else \"\",\n",
    "#     )\n",
    "\n",
    "#     i = i + 1"
   ]
  },
  {
   "cell_type": "code",
   "execution_count": 27,
   "id": "c1f67fa4",
   "metadata": {},
   "outputs": [
    {
     "name": "stdout",
     "output_type": "stream",
     "text": [
      "1 / Id \t\t Unique values: 1460 \t\t Range:  1459\n",
      "2 / MSSubClass \t\t Unique values: 15 \t\t Range:  170\n",
      "3 / LotFrontage \t\t Unique values: 111 \t\t Range:  292.0\n",
      "4 / LotArea \t\t Unique values: 1073 \t\t Range:  213945\n",
      "5 / OverallQual \t\t Unique values: 10 \t\t Range:  9\n",
      "6 / OverallCond \t\t Unique values: 9 \t\t Range:  8\n",
      "7 / YearBuilt \t\t Unique values: 112 \t\t Range:  138\n",
      "8 / YearRemodAdd \t\t Unique values: 61 \t\t Range:  60\n",
      "9 / MasVnrArea \t\t Unique values: 328 \t\t Range:  1600.0\n",
      "10 / BsmtFinSF1 \t\t Unique values: 637 \t\t Range:  5644\n",
      "11 / BsmtFinSF2 \t\t Unique values: 144 \t\t Range:  1474\n",
      "12 / BsmtUnfSF \t\t Unique values: 780 \t\t Range:  2336\n",
      "13 / TotalBsmtSF \t\t Unique values: 721 \t\t Range:  6110\n",
      "14 / 1stFlrSF \t\t Unique values: 753 \t\t Range:  4358\n",
      "15 / 2ndFlrSF \t\t Unique values: 417 \t\t Range:  2065\n",
      "16 / LowQualFinSF \t\t Unique values: 24 \t\t Range:  572\n",
      "17 / GrLivArea \t\t Unique values: 861 \t\t Range:  5308\n",
      "18 / BsmtFullBath \t\t Unique values: 4 \t\t Range:  3\n",
      "19 / BsmtHalfBath \t\t Unique values: 3 \t\t Range:  2\n",
      "20 / FullBath \t\t Unique values: 4 \t\t Range:  3\n",
      "21 / HalfBath \t\t Unique values: 3 \t\t Range:  2\n",
      "22 / BedroomAbvGr \t\t Unique values: 8 \t\t Range:  8\n",
      "23 / KitchenAbvGr \t\t Unique values: 4 \t\t Range:  3\n",
      "24 / TotRmsAbvGrd \t\t Unique values: 12 \t\t Range:  12\n",
      "25 / Fireplaces \t\t Unique values: 4 \t\t Range:  3\n",
      "26 / GarageYrBlt \t\t Unique values: 98 \t\t Range:  110.0\n",
      "27 / GarageCars \t\t Unique values: 5 \t\t Range:  4\n",
      "28 / GarageArea \t\t Unique values: 441 \t\t Range:  1418\n",
      "29 / WoodDeckSF \t\t Unique values: 274 \t\t Range:  857\n",
      "30 / OpenPorchSF \t\t Unique values: 202 \t\t Range:  547\n",
      "31 / EnclosedPorch \t\t Unique values: 120 \t\t Range:  552\n",
      "32 / 3SsnPorch \t\t Unique values: 20 \t\t Range:  508\n",
      "33 / ScreenPorch \t\t Unique values: 76 \t\t Range:  480\n",
      "34 / PoolArea \t\t Unique values: 8 \t\t Range:  738\n",
      "35 / MiscVal \t\t Unique values: 21 \t\t Range:  15500\n",
      "36 / MoSold \t\t Unique values: 12 \t\t Range:  11\n",
      "37 / YrSold \t\t Unique values: 5 \t\t Range:  4\n",
      "38 / SalePrice \t\t Unique values: 663 \t\t Range:  720100\n"
     ]
    },
    {
     "data": {
      "application/javascript": [
       "\n",
       "            setTimeout(function() {\n",
       "                var nbb_cell_id = 27;\n",
       "                var nbb_unformatted_code = \"# Categorical & Continueous\\ni = 1\\nfor obj in numbers:\\n    print(\\n        i,\\n        \\\"/\\\",\\n        obj,\\n        \\\"\\\\t\\\\t Unique values:\\\",\\n        len(df[obj].unique()),\\n        \\\"\\\\t\\\\t Range: \\\",\\n        (df[obj].max() - df[obj].min()),\\n    )\\n\\n    i = i + 1\";\n",
       "                var nbb_formatted_code = \"# Categorical & Continueous\\ni = 1\\nfor obj in numbers:\\n    print(\\n        i,\\n        \\\"/\\\",\\n        obj,\\n        \\\"\\\\t\\\\t Unique values:\\\",\\n        len(df[obj].unique()),\\n        \\\"\\\\t\\\\t Range: \\\",\\n        (df[obj].max() - df[obj].min()),\\n    )\\n\\n    i = i + 1\";\n",
       "                var nbb_cells = Jupyter.notebook.get_cells();\n",
       "                for (var i = 0; i < nbb_cells.length; ++i) {\n",
       "                    if (nbb_cells[i].input_prompt_number == nbb_cell_id) {\n",
       "                        if (nbb_cells[i].get_text() == nbb_unformatted_code) {\n",
       "                             nbb_cells[i].set_text(nbb_formatted_code);\n",
       "                        }\n",
       "                        break;\n",
       "                    }\n",
       "                }\n",
       "            }, 500);\n",
       "            "
      ],
      "text/plain": [
       "<IPython.core.display.Javascript object>"
      ]
     },
     "metadata": {},
     "output_type": "display_data"
    }
   ],
   "source": [
    "# Categorical & Continueous\n",
    "i = 1\n",
    "for obj in numbers:\n",
    "    print(\n",
    "        i,\n",
    "        \"/\",\n",
    "        obj,\n",
    "        \"\\t\\t Unique values:\",\n",
    "        len(df[obj].unique()),\n",
    "        \"\\t\\t Range: \",\n",
    "        (df[obj].max() - df[obj].min()),\n",
    "    )\n",
    "\n",
    "    i = i + 1"
   ]
  },
  {
   "cell_type": "code",
   "execution_count": 41,
   "id": "cc82bbf7",
   "metadata": {},
   "outputs": [
    {
     "data": {
      "text/plain": [
       "'\\nQuan sát kết quả trên:\\nCategorical Variables: là các biến có len(unique) nhỏ, range nhỏ\\n\\nContinuous Variables; là các biến có len(unique) lớn, range lớn (so sánh 2 cái nha) (vd: LotFrontage, GarageArea) \\n'"
      ]
     },
     "execution_count": 41,
     "metadata": {},
     "output_type": "execute_result"
    },
    {
     "data": {
      "application/javascript": [
       "\n",
       "            setTimeout(function() {\n",
       "                var nbb_cell_id = 41;\n",
       "                var nbb_unformatted_code = \"\\\"\\\"\\\"\\nQuan s\\u00e1t k\\u1ebft qu\\u1ea3 tr\\u00ean:\\nCategorical Variables: l\\u00e0 c\\u00e1c bi\\u1ebfn c\\u00f3 len(unique) nh\\u1ecf, range nh\\u1ecf\\n\\nContinuous Variables; l\\u00e0 c\\u00e1c bi\\u1ebfn c\\u00f3 len(unique) l\\u1edbn, range l\\u1edbn (so s\\u00e1nh 2 c\\u00e1i nha) (vd: LotFrontage, GarageArea) \\n\\\"\\\"\\\"\";\n",
       "                var nbb_formatted_code = \"\\\"\\\"\\\"\\nQuan s\\u00e1t k\\u1ebft qu\\u1ea3 tr\\u00ean:\\nCategorical Variables: l\\u00e0 c\\u00e1c bi\\u1ebfn c\\u00f3 len(unique) nh\\u1ecf, range nh\\u1ecf\\n\\nContinuous Variables; l\\u00e0 c\\u00e1c bi\\u1ebfn c\\u00f3 len(unique) l\\u1edbn, range l\\u1edbn (so s\\u00e1nh 2 c\\u00e1i nha) (vd: LotFrontage, GarageArea) \\n\\\"\\\"\\\"\";\n",
       "                var nbb_cells = Jupyter.notebook.get_cells();\n",
       "                for (var i = 0; i < nbb_cells.length; ++i) {\n",
       "                    if (nbb_cells[i].input_prompt_number == nbb_cell_id) {\n",
       "                        if (nbb_cells[i].get_text() == nbb_unformatted_code) {\n",
       "                             nbb_cells[i].set_text(nbb_formatted_code);\n",
       "                        }\n",
       "                        break;\n",
       "                    }\n",
       "                }\n",
       "            }, 500);\n",
       "            "
      ],
      "text/plain": [
       "<IPython.core.display.Javascript object>"
      ]
     },
     "metadata": {},
     "output_type": "display_data"
    }
   ],
   "source": [
    "\"\"\"\n",
    "Quan sát kết quả trên:\n",
    "Categorical Variables: là các biến có len(unique) nhỏ, range nhỏ\n",
    "\n",
    "Continuous Variables; là các biến có len(unique) lớn, range lớn (so sánh 2 cái nha) (vd: LotFrontage, GarageArea) \n",
    "\"\"\""
   ]
  },
  {
   "cell_type": "markdown",
   "id": "2bd6a370",
   "metadata": {},
   "source": [
    "---\n",
    "---\n",
    "---"
   ]
  },
  {
   "cell_type": "markdown",
   "id": "62e5f730",
   "metadata": {},
   "source": [
    "## B2: Phân tích các biến (variable analysist)"
   ]
  },
  {
   "cell_type": "markdown",
   "id": "1ce49255",
   "metadata": {},
   "source": [
    "### A. Phân tích đơn biến\n",
    "2.1 Để dự đoán giá nhà, giả sử cần các thông tin sau: 'LotArea', 'YearBuilt', '1stFlrSF', '2ndFlrSF', 'FullBath', 'BedroomAbvGr', 'TotRmsAbvGrd' => phân tích các biến này"
   ]
  },
  {
   "cell_type": "code",
   "execution_count": 4,
   "id": "7e360b06",
   "metadata": {},
   "outputs": [
    {
     "data": {
      "text/html": [
       "<div>\n",
       "<style scoped>\n",
       "    .dataframe tbody tr th:only-of-type {\n",
       "        vertical-align: middle;\n",
       "    }\n",
       "\n",
       "    .dataframe tbody tr th {\n",
       "        vertical-align: top;\n",
       "    }\n",
       "\n",
       "    .dataframe thead th {\n",
       "        text-align: right;\n",
       "    }\n",
       "</style>\n",
       "<table border=\"1\" class=\"dataframe\">\n",
       "  <thead>\n",
       "    <tr style=\"text-align: right;\">\n",
       "      <th></th>\n",
       "      <th>LotArea</th>\n",
       "      <th>YearBuilt</th>\n",
       "      <th>1stFlrSF</th>\n",
       "      <th>2ndFlrSF</th>\n",
       "      <th>FullBath</th>\n",
       "      <th>BedroomAbvGr</th>\n",
       "      <th>TotRmsAbvGrd</th>\n",
       "    </tr>\n",
       "  </thead>\n",
       "  <tbody>\n",
       "    <tr>\n",
       "      <th>0</th>\n",
       "      <td>8450</td>\n",
       "      <td>2003</td>\n",
       "      <td>856</td>\n",
       "      <td>854</td>\n",
       "      <td>2</td>\n",
       "      <td>3</td>\n",
       "      <td>8</td>\n",
       "    </tr>\n",
       "    <tr>\n",
       "      <th>1</th>\n",
       "      <td>9600</td>\n",
       "      <td>1976</td>\n",
       "      <td>1262</td>\n",
       "      <td>0</td>\n",
       "      <td>2</td>\n",
       "      <td>3</td>\n",
       "      <td>6</td>\n",
       "    </tr>\n",
       "    <tr>\n",
       "      <th>2</th>\n",
       "      <td>11250</td>\n",
       "      <td>2001</td>\n",
       "      <td>920</td>\n",
       "      <td>866</td>\n",
       "      <td>2</td>\n",
       "      <td>3</td>\n",
       "      <td>6</td>\n",
       "    </tr>\n",
       "    <tr>\n",
       "      <th>3</th>\n",
       "      <td>9550</td>\n",
       "      <td>1915</td>\n",
       "      <td>961</td>\n",
       "      <td>756</td>\n",
       "      <td>1</td>\n",
       "      <td>3</td>\n",
       "      <td>7</td>\n",
       "    </tr>\n",
       "    <tr>\n",
       "      <th>4</th>\n",
       "      <td>14260</td>\n",
       "      <td>2000</td>\n",
       "      <td>1145</td>\n",
       "      <td>1053</td>\n",
       "      <td>2</td>\n",
       "      <td>4</td>\n",
       "      <td>9</td>\n",
       "    </tr>\n",
       "  </tbody>\n",
       "</table>\n",
       "</div>"
      ],
      "text/plain": [
       "   LotArea  YearBuilt  1stFlrSF  2ndFlrSF  FullBath  BedroomAbvGr  \\\n",
       "0     8450       2003       856       854         2             3   \n",
       "1     9600       1976      1262         0         2             3   \n",
       "2    11250       2001       920       866         2             3   \n",
       "3     9550       1915       961       756         1             3   \n",
       "4    14260       2000      1145      1053         2             4   \n",
       "\n",
       "   TotRmsAbvGrd  \n",
       "0             8  \n",
       "1             6  \n",
       "2             6  \n",
       "3             7  \n",
       "4             9  "
      ]
     },
     "execution_count": 4,
     "metadata": {},
     "output_type": "execute_result"
    },
    {
     "data": {
      "application/javascript": [
       "\n",
       "            setTimeout(function() {\n",
       "                var nbb_cell_id = 4;\n",
       "                var nbb_unformatted_code = \"### x\\u00e9t c\\u00e1c fetures: 'LotArea', 'YearBuilt', '1stFlrSF', '2ndFlrSF', 'FullBath', 'BedroomAbvGr', 'TotRmsAbvGrd'\\ndf = df[\\n    [\\n        \\\"LotArea\\\",\\n        \\\"YearBuilt\\\",\\n        \\\"1stFlrSF\\\",\\n        \\\"2ndFlrSF\\\",\\n        \\\"FullBath\\\",\\n        \\\"BedroomAbvGr\\\",\\n        \\\"TotRmsAbvGrd\\\",\\n    ]\\n]\\ndf.head()\";\n",
       "                var nbb_formatted_code = \"### x\\u00e9t c\\u00e1c fetures: 'LotArea', 'YearBuilt', '1stFlrSF', '2ndFlrSF', 'FullBath', 'BedroomAbvGr', 'TotRmsAbvGrd'\\ndf = df[\\n    [\\n        \\\"LotArea\\\",\\n        \\\"YearBuilt\\\",\\n        \\\"1stFlrSF\\\",\\n        \\\"2ndFlrSF\\\",\\n        \\\"FullBath\\\",\\n        \\\"BedroomAbvGr\\\",\\n        \\\"TotRmsAbvGrd\\\",\\n    ]\\n]\\ndf.head()\";\n",
       "                var nbb_cells = Jupyter.notebook.get_cells();\n",
       "                for (var i = 0; i < nbb_cells.length; ++i) {\n",
       "                    if (nbb_cells[i].input_prompt_number == nbb_cell_id) {\n",
       "                        if (nbb_cells[i].get_text() == nbb_unformatted_code) {\n",
       "                             nbb_cells[i].set_text(nbb_formatted_code);\n",
       "                        }\n",
       "                        break;\n",
       "                    }\n",
       "                }\n",
       "            }, 500);\n",
       "            "
      ],
      "text/plain": [
       "<IPython.core.display.Javascript object>"
      ]
     },
     "metadata": {},
     "output_type": "display_data"
    }
   ],
   "source": [
    "### xét các fetures: 'LotArea', 'YearBuilt', '1stFlrSF', '2ndFlrSF', 'FullBath', 'BedroomAbvGr', 'TotRmsAbvGrd'\n",
    "df = df[\n",
    "    [\n",
    "        \"LotArea\",\n",
    "        \"YearBuilt\",\n",
    "        \"1stFlrSF\",\n",
    "        \"2ndFlrSF\",\n",
    "        \"FullBath\",\n",
    "        \"BedroomAbvGr\",\n",
    "        \"TotRmsAbvGrd\",\n",
    "    ]\n",
    "]\n",
    "df.head()"
   ]
  },
  {
   "cell_type": "code",
   "execution_count": 38,
   "id": "e18dd2c3",
   "metadata": {},
   "outputs": [
    {
     "name": "stdout",
     "output_type": "stream",
     "text": [
      "_ LotArea \tNum of Unique Values: \t 1073 \t Range:  213945\n",
      "_ YearBuilt \tNum of Unique Values: \t 112 \t Range:  138\n",
      "_ 1stFlrSF \tNum of Unique Values: \t 753 \t Range:  4358\n",
      "_ 2ndFlrSF \tNum of Unique Values: \t 417 \t Range:  2065\n",
      "_ FullBath \tNum of Unique Values: \t 4 \t Range:  3\n",
      "_ BedroomAbvGr \tNum of Unique Values: \t 8 \t Range:  8\n",
      "_ TotRmsAbvGrd \tNum of Unique Values: \t 12 \t Range:  12\n"
     ]
    },
    {
     "data": {
      "application/javascript": [
       "\n",
       "            setTimeout(function() {\n",
       "                var nbb_cell_id = 38;\n",
       "                var nbb_unformatted_code = \"for col in df.columns:\\n    print(\\n        \\\"_\\\",\\n        col,\\n        \\\"\\\\tNum of Unique Values: \\\\t\\\",\\n        len(df[col].unique()),\\n        \\\"\\\\t Range: \\\",\\n        df[col].max() - df[col].min(),\\n    )\\n\\n# print(\\\"size of df: \\\", df.shape)\\n# print(\\\"\\\\n\\\", df.info())\";\n",
       "                var nbb_formatted_code = \"for col in df.columns:\\n    print(\\n        \\\"_\\\",\\n        col,\\n        \\\"\\\\tNum of Unique Values: \\\\t\\\",\\n        len(df[col].unique()),\\n        \\\"\\\\t Range: \\\",\\n        df[col].max() - df[col].min(),\\n    )\\n\\n# print(\\\"size of df: \\\", df.shape)\\n# print(\\\"\\\\n\\\", df.info())\";\n",
       "                var nbb_cells = Jupyter.notebook.get_cells();\n",
       "                for (var i = 0; i < nbb_cells.length; ++i) {\n",
       "                    if (nbb_cells[i].input_prompt_number == nbb_cell_id) {\n",
       "                        if (nbb_cells[i].get_text() == nbb_unformatted_code) {\n",
       "                             nbb_cells[i].set_text(nbb_formatted_code);\n",
       "                        }\n",
       "                        break;\n",
       "                    }\n",
       "                }\n",
       "            }, 500);\n",
       "            "
      ],
      "text/plain": [
       "<IPython.core.display.Javascript object>"
      ]
     },
     "metadata": {},
     "output_type": "display_data"
    }
   ],
   "source": [
    "for col in df.columns:\n",
    "    print(\n",
    "        \"_\",\n",
    "        col,\n",
    "        \"\\tNum of Unique Values: \\t\",\n",
    "        len(df[col].unique()),\n",
    "        \"\\t Range: \",\n",
    "        df[col].max() - df[col].min(),\n",
    "    )\n",
    "\n",
    "# print(\"size of df: \", df.shape)\n",
    "# print(\"\\n\", df.info())"
   ]
  },
  {
   "cell_type": "code",
   "execution_count": 133,
   "id": "10684614",
   "metadata": {},
   "outputs": [
    {
     "data": {
      "text/plain": [
       "'\\nTừ kết quả trên, với 1460 records\\n=> \\nCategorical variable: FullBath, BedroomAbvGr,  TotRmsAbvGrd\\nContinuous variable: LotArea, 1stFlrSF, 2ndFlrSF\\n'"
      ]
     },
     "execution_count": 133,
     "metadata": {},
     "output_type": "execute_result"
    },
    {
     "data": {
      "application/javascript": [
       "\n",
       "            setTimeout(function() {\n",
       "                var nbb_cell_id = 133;\n",
       "                var nbb_unformatted_code = \"\\\"\\\"\\\"\\nT\\u1eeb k\\u1ebft qu\\u1ea3 tr\\u00ean, v\\u1edbi 1460 records\\n=> \\nCategorical variable: FullBath, BedroomAbvGr,  TotRmsAbvGrd\\nContinuous variable: LotArea, 1stFlrSF, 2ndFlrSF\\n\\\"\\\"\\\"\";\n",
       "                var nbb_formatted_code = \"\\\"\\\"\\\"\\nT\\u1eeb k\\u1ebft qu\\u1ea3 tr\\u00ean, v\\u1edbi 1460 records\\n=> \\nCategorical variable: FullBath, BedroomAbvGr,  TotRmsAbvGrd\\nContinuous variable: LotArea, 1stFlrSF, 2ndFlrSF\\n\\\"\\\"\\\"\";\n",
       "                var nbb_cells = Jupyter.notebook.get_cells();\n",
       "                for (var i = 0; i < nbb_cells.length; ++i) {\n",
       "                    if (nbb_cells[i].input_prompt_number == nbb_cell_id) {\n",
       "                        if (nbb_cells[i].get_text() == nbb_unformatted_code) {\n",
       "                             nbb_cells[i].set_text(nbb_formatted_code);\n",
       "                        }\n",
       "                        break;\n",
       "                    }\n",
       "                }\n",
       "            }, 500);\n",
       "            "
      ],
      "text/plain": [
       "<IPython.core.display.Javascript object>"
      ]
     },
     "metadata": {},
     "output_type": "display_data"
    }
   ],
   "source": [
    "\"\"\"\n",
    "Từ kết quả trên, với 1460 records\n",
    "=> \n",
    "Categorical variable: FullBath, BedroomAbvGr,  TotRmsAbvGrd\n",
    "Continuous variable: LotArea, 1stFlrSF, 2ndFlrSF\n",
    "\"\"\""
   ]
  },
  {
   "cell_type": "markdown",
   "id": "d187ce2f",
   "metadata": {},
   "source": [
    "### A.1: Phân tích continuous variable\n",
    "#### Phân tích các biến \n",
    "- LotArea \n",
    "- 1stFlrSF \n",
    "- 2ndFlrSF"
   ]
  },
  {
   "cell_type": "markdown",
   "id": "5f6856a8",
   "metadata": {},
   "source": [
    "### 1. Phân tích LotArea"
   ]
  },
  {
   "cell_type": "markdown",
   "id": "ab2b0156",
   "metadata": {},
   "source": [
    "#### a. Tính các giá trị thống kê"
   ]
  },
  {
   "cell_type": "code",
   "execution_count": 44,
   "id": "d544aa6a",
   "metadata": {},
   "outputs": [
    {
     "data": {
      "text/plain": [
       "count      1460.000000\n",
       "mean      10516.828082\n",
       "std        9981.264932\n",
       "min        1300.000000\n",
       "25%        7553.500000\n",
       "50%        9478.500000\n",
       "75%       11601.500000\n",
       "max      215245.000000\n",
       "Name: LotArea, dtype: float64"
      ]
     },
     "execution_count": 44,
     "metadata": {},
     "output_type": "execute_result"
    },
    {
     "data": {
      "application/javascript": [
       "\n",
       "            setTimeout(function() {\n",
       "                var nbb_cell_id = 44;\n",
       "                var nbb_unformatted_code = \"df.LotArea.describe()\";\n",
       "                var nbb_formatted_code = \"df.LotArea.describe()\";\n",
       "                var nbb_cells = Jupyter.notebook.get_cells();\n",
       "                for (var i = 0; i < nbb_cells.length; ++i) {\n",
       "                    if (nbb_cells[i].input_prompt_number == nbb_cell_id) {\n",
       "                        if (nbb_cells[i].get_text() == nbb_unformatted_code) {\n",
       "                             nbb_cells[i].set_text(nbb_formatted_code);\n",
       "                        }\n",
       "                        break;\n",
       "                    }\n",
       "                }\n",
       "            }, 500);\n",
       "            "
      ],
      "text/plain": [
       "<IPython.core.display.Javascript object>"
      ]
     },
     "metadata": {},
     "output_type": "display_data"
    }
   ],
   "source": [
    "df.LotArea.describe()"
   ]
  },
  {
   "cell_type": "code",
   "execution_count": 88,
   "id": "2b10f8ae",
   "metadata": {},
   "outputs": [
    {
     "data": {
      "text/plain": [
       "9478.5"
      ]
     },
     "execution_count": 88,
     "metadata": {},
     "output_type": "execute_result"
    },
    {
     "data": {
      "application/javascript": [
       "\n",
       "            setTimeout(function() {\n",
       "                var nbb_cell_id = 88;\n",
       "                var nbb_unformatted_code = \"#trung v\\u1ecb\\ndf.LotArea.median()\";\n",
       "                var nbb_formatted_code = \"# trung v\\u1ecb\\ndf.LotArea.median()\";\n",
       "                var nbb_cells = Jupyter.notebook.get_cells();\n",
       "                for (var i = 0; i < nbb_cells.length; ++i) {\n",
       "                    if (nbb_cells[i].input_prompt_number == nbb_cell_id) {\n",
       "                        if (nbb_cells[i].get_text() == nbb_unformatted_code) {\n",
       "                             nbb_cells[i].set_text(nbb_formatted_code);\n",
       "                        }\n",
       "                        break;\n",
       "                    }\n",
       "                }\n",
       "            }, 500);\n",
       "            "
      ],
      "text/plain": [
       "<IPython.core.display.Javascript object>"
      ]
     },
     "metadata": {},
     "output_type": "display_data"
    }
   ],
   "source": [
    "# trung vị\n",
    "df.LotArea.median()"
   ]
  },
  {
   "cell_type": "code",
   "execution_count": 89,
   "id": "06195124",
   "metadata": {},
   "outputs": [
    {
     "data": {
      "text/plain": [
       "0    7200\n",
       "dtype: int64"
      ]
     },
     "execution_count": 89,
     "metadata": {},
     "output_type": "execute_result"
    },
    {
     "data": {
      "application/javascript": [
       "\n",
       "            setTimeout(function() {\n",
       "                var nbb_cell_id = 89;\n",
       "                var nbb_unformatted_code = \"df.LotArea.mode()  # gi\\u00e1 tr\\u1ecb c\\u00f3 s\\u1ed1 l\\u1ea7n xu\\u1ea5t hi\\u1ec7n nhi\\u1ec1u nh\\u1ea5t trong t\\u1eadp d\\u1eef li\\u1ec7u\";\n",
       "                var nbb_formatted_code = \"df.LotArea.mode()  # gi\\u00e1 tr\\u1ecb c\\u00f3 s\\u1ed1 l\\u1ea7n xu\\u1ea5t hi\\u1ec7n nhi\\u1ec1u nh\\u1ea5t trong t\\u1eadp d\\u1eef li\\u1ec7u\";\n",
       "                var nbb_cells = Jupyter.notebook.get_cells();\n",
       "                for (var i = 0; i < nbb_cells.length; ++i) {\n",
       "                    if (nbb_cells[i].input_prompt_number == nbb_cell_id) {\n",
       "                        if (nbb_cells[i].get_text() == nbb_unformatted_code) {\n",
       "                             nbb_cells[i].set_text(nbb_formatted_code);\n",
       "                        }\n",
       "                        break;\n",
       "                    }\n",
       "                }\n",
       "            }, 500);\n",
       "            "
      ],
      "text/plain": [
       "<IPython.core.display.Javascript object>"
      ]
     },
     "metadata": {},
     "output_type": "display_data"
    }
   ],
   "source": [
    "df.LotArea.mode()  # giá trị có số lần xuất hiện nhiều nhất trong tập dữ liệu"
   ]
  },
  {
   "cell_type": "code",
   "execution_count": 55,
   "id": "b40b9757",
   "metadata": {},
   "outputs": [
    {
     "data": {
      "text/plain": [
       "213945"
      ]
     },
     "execution_count": 55,
     "metadata": {},
     "output_type": "execute_result"
    },
    {
     "data": {
      "application/javascript": [
       "\n",
       "            setTimeout(function() {\n",
       "                var nbb_cell_id = 55;\n",
       "                var nbb_unformatted_code = \"#t\\u00ednh range \\nnp.ptp(df.LotArea)\";\n",
       "                var nbb_formatted_code = \"# t\\u00ednh range\\nnp.ptp(df.LotArea)\";\n",
       "                var nbb_cells = Jupyter.notebook.get_cells();\n",
       "                for (var i = 0; i < nbb_cells.length; ++i) {\n",
       "                    if (nbb_cells[i].input_prompt_number == nbb_cell_id) {\n",
       "                        if (nbb_cells[i].get_text() == nbb_unformatted_code) {\n",
       "                             nbb_cells[i].set_text(nbb_formatted_code);\n",
       "                        }\n",
       "                        break;\n",
       "                    }\n",
       "                }\n",
       "            }, 500);\n",
       "            "
      ],
      "text/plain": [
       "<IPython.core.display.Javascript object>"
      ]
     },
     "metadata": {},
     "output_type": "display_data"
    }
   ],
   "source": [
    "# tính range\n",
    "np.ptp(df.LotArea)"
   ]
  },
  {
   "cell_type": "code",
   "execution_count": 95,
   "id": "4ce3c8d1",
   "metadata": {},
   "outputs": [
    {
     "data": {
      "text/plain": [
       "4048.0"
      ]
     },
     "execution_count": 95,
     "metadata": {},
     "output_type": "execute_result"
    },
    {
     "data": {
      "application/javascript": [
       "\n",
       "            setTimeout(function() {\n",
       "                var nbb_cell_id = 95;\n",
       "                var nbb_unformatted_code = \"Q1 = np.quantile(df.LotArea.dropna(), 0.25)\\nQ3 = np.quantile(df.LotArea.dropna(), 0.75)\\n\\n\\nIQR = scipy.stats.iqr(df.LotArea.dropna())\\nIQR\";\n",
       "                var nbb_formatted_code = \"Q1 = np.quantile(df.LotArea.dropna(), 0.25)\\nQ3 = np.quantile(df.LotArea.dropna(), 0.75)\\n\\n\\nIQR = scipy.stats.iqr(df.LotArea.dropna())\\nIQR\";\n",
       "                var nbb_cells = Jupyter.notebook.get_cells();\n",
       "                for (var i = 0; i < nbb_cells.length; ++i) {\n",
       "                    if (nbb_cells[i].input_prompt_number == nbb_cell_id) {\n",
       "                        if (nbb_cells[i].get_text() == nbb_unformatted_code) {\n",
       "                             nbb_cells[i].set_text(nbb_formatted_code);\n",
       "                        }\n",
       "                        break;\n",
       "                    }\n",
       "                }\n",
       "            }, 500);\n",
       "            "
      ],
      "text/plain": [
       "<IPython.core.display.Javascript object>"
      ]
     },
     "metadata": {},
     "output_type": "display_data"
    }
   ],
   "source": [
    "Q1 = np.quantile(df.LotArea.dropna(), 0.25)\n",
    "Q3 = np.quantile(df.LotArea.dropna(), 0.75)\n",
    "\n",
    "\n",
    "IQR = scipy.stats.iqr(df.LotArea.dropna())\n",
    "IQR"
   ]
  },
  {
   "cell_type": "code",
   "execution_count": 96,
   "id": "6f3bebbf",
   "metadata": {},
   "outputs": [
    {
     "data": {
      "text/plain": [
       "99625649.65034176"
      ]
     },
     "execution_count": 96,
     "metadata": {},
     "output_type": "execute_result"
    },
    {
     "data": {
      "application/javascript": [
       "\n",
       "            setTimeout(function() {\n",
       "                var nbb_cell_id = 96;\n",
       "                var nbb_unformatted_code = \"#ph\\u01b0\\u01a1ng sai\\ndf.LotArea.var()\";\n",
       "                var nbb_formatted_code = \"# ph\\u01b0\\u01a1ng sai\\ndf.LotArea.var()\";\n",
       "                var nbb_cells = Jupyter.notebook.get_cells();\n",
       "                for (var i = 0; i < nbb_cells.length; ++i) {\n",
       "                    if (nbb_cells[i].input_prompt_number == nbb_cell_id) {\n",
       "                        if (nbb_cells[i].get_text() == nbb_unformatted_code) {\n",
       "                             nbb_cells[i].set_text(nbb_formatted_code);\n",
       "                        }\n",
       "                        break;\n",
       "                    }\n",
       "                }\n",
       "            }, 500);\n",
       "            "
      ],
      "text/plain": [
       "<IPython.core.display.Javascript object>"
      ]
     },
     "metadata": {},
     "output_type": "display_data"
    }
   ],
   "source": [
    "# phương sai\n",
    "df.LotArea.var()"
   ]
  },
  {
   "cell_type": "markdown",
   "id": "a7a27151",
   "metadata": {},
   "source": [
    "#### Xem hình dạng phân phối"
   ]
  },
  {
   "cell_type": "code",
   "execution_count": 60,
   "id": "27e56dec",
   "metadata": {},
   "outputs": [
    {
     "data": {
      "text/plain": [
       "12.207687851233496"
      ]
     },
     "execution_count": 60,
     "metadata": {},
     "output_type": "execute_result"
    },
    {
     "data": {
      "application/javascript": [
       "\n",
       "            setTimeout(function() {\n",
       "                var nbb_cell_id = 60;\n",
       "                var nbb_unformatted_code = \"df.LotArea.skew()\";\n",
       "                var nbb_formatted_code = \"df.LotArea.skew()\";\n",
       "                var nbb_cells = Jupyter.notebook.get_cells();\n",
       "                for (var i = 0; i < nbb_cells.length; ++i) {\n",
       "                    if (nbb_cells[i].input_prompt_number == nbb_cell_id) {\n",
       "                        if (nbb_cells[i].get_text() == nbb_unformatted_code) {\n",
       "                             nbb_cells[i].set_text(nbb_formatted_code);\n",
       "                        }\n",
       "                        break;\n",
       "                    }\n",
       "                }\n",
       "            }, 500);\n",
       "            "
      ],
      "text/plain": [
       "<IPython.core.display.Javascript object>"
      ]
     },
     "metadata": {},
     "output_type": "display_data"
    }
   ],
   "source": [
    "df.LotArea.skew()"
   ]
  },
  {
   "cell_type": "code",
   "execution_count": 61,
   "id": "db41f40c",
   "metadata": {},
   "outputs": [
    {
     "data": {
      "text/plain": [
       "'\\nvì df.LotArea.skew() > 0 => phân phối lệch phải\\n'"
      ]
     },
     "execution_count": 61,
     "metadata": {},
     "output_type": "execute_result"
    },
    {
     "data": {
      "application/javascript": [
       "\n",
       "            setTimeout(function() {\n",
       "                var nbb_cell_id = 61;\n",
       "                var nbb_unformatted_code = \"'''\\nv\\u00ec df.LotArea.skew() > 0 => ph\\u00e2n ph\\u1ed1i l\\u1ec7ch ph\\u1ea3i\\n'''\";\n",
       "                var nbb_formatted_code = \"\\\"\\\"\\\"\\nv\\u00ec df.LotArea.skew() > 0 => ph\\u00e2n ph\\u1ed1i l\\u1ec7ch ph\\u1ea3i\\n\\\"\\\"\\\"\";\n",
       "                var nbb_cells = Jupyter.notebook.get_cells();\n",
       "                for (var i = 0; i < nbb_cells.length; ++i) {\n",
       "                    if (nbb_cells[i].input_prompt_number == nbb_cell_id) {\n",
       "                        if (nbb_cells[i].get_text() == nbb_unformatted_code) {\n",
       "                             nbb_cells[i].set_text(nbb_formatted_code);\n",
       "                        }\n",
       "                        break;\n",
       "                    }\n",
       "                }\n",
       "            }, 500);\n",
       "            "
      ],
      "text/plain": [
       "<IPython.core.display.Javascript object>"
      ]
     },
     "metadata": {},
     "output_type": "display_data"
    }
   ],
   "source": [
    "\"\"\"\n",
    "vì df.LotArea.skew() > 0 => phân phối lệch phải\n",
    "\"\"\""
   ]
  },
  {
   "cell_type": "code",
   "execution_count": 62,
   "id": "b3240ca0",
   "metadata": {},
   "outputs": [
    {
     "data": {
      "text/plain": [
       "203.24327101886033"
      ]
     },
     "execution_count": 62,
     "metadata": {},
     "output_type": "execute_result"
    },
    {
     "data": {
      "application/javascript": [
       "\n",
       "            setTimeout(function() {\n",
       "                var nbb_cell_id = 62;\n",
       "                var nbb_unformatted_code = \"df.LotArea.kurtosis()\";\n",
       "                var nbb_formatted_code = \"df.LotArea.kurtosis()\";\n",
       "                var nbb_cells = Jupyter.notebook.get_cells();\n",
       "                for (var i = 0; i < nbb_cells.length; ++i) {\n",
       "                    if (nbb_cells[i].input_prompt_number == nbb_cell_id) {\n",
       "                        if (nbb_cells[i].get_text() == nbb_unformatted_code) {\n",
       "                             nbb_cells[i].set_text(nbb_formatted_code);\n",
       "                        }\n",
       "                        break;\n",
       "                    }\n",
       "                }\n",
       "            }, 500);\n",
       "            "
      ],
      "text/plain": [
       "<IPython.core.display.Javascript object>"
      ]
     },
     "metadata": {},
     "output_type": "display_data"
    }
   ],
   "source": [
    "df.LotArea.kurtosis()"
   ]
  },
  {
   "cell_type": "code",
   "execution_count": 63,
   "id": "57dd91ef",
   "metadata": {},
   "outputs": [
    {
     "data": {
      "text/plain": [
       "'\\ndf.LotArea.kurtosis() > 0 => phân phối của df.LotArea nhọn hơn phân phối chuẩn\\n'"
      ]
     },
     "execution_count": 63,
     "metadata": {},
     "output_type": "execute_result"
    },
    {
     "data": {
      "application/javascript": [
       "\n",
       "            setTimeout(function() {\n",
       "                var nbb_cell_id = 63;\n",
       "                var nbb_unformatted_code = \"'''\\ndf.LotArea.kurtosis() > 0 => ph\\u00e2n ph\\u1ed1i c\\u1ee7a df.LotArea nh\\u1ecdn h\\u01a1n ph\\u00e2n ph\\u1ed1i chu\\u1ea9n\\n'''\";\n",
       "                var nbb_formatted_code = \"\\\"\\\"\\\"\\ndf.LotArea.kurtosis() > 0 => ph\\u00e2n ph\\u1ed1i c\\u1ee7a df.LotArea nh\\u1ecdn h\\u01a1n ph\\u00e2n ph\\u1ed1i chu\\u1ea9n\\n\\\"\\\"\\\"\";\n",
       "                var nbb_cells = Jupyter.notebook.get_cells();\n",
       "                for (var i = 0; i < nbb_cells.length; ++i) {\n",
       "                    if (nbb_cells[i].input_prompt_number == nbb_cell_id) {\n",
       "                        if (nbb_cells[i].get_text() == nbb_unformatted_code) {\n",
       "                             nbb_cells[i].set_text(nbb_formatted_code);\n",
       "                        }\n",
       "                        break;\n",
       "                    }\n",
       "                }\n",
       "            }, 500);\n",
       "            "
      ],
      "text/plain": [
       "<IPython.core.display.Javascript object>"
      ]
     },
     "metadata": {},
     "output_type": "display_data"
    }
   ],
   "source": [
    "\"\"\"\n",
    "df.LotArea.kurtosis() > 0 => phân phối của df.LotArea nhọn hơn phân phối chuẩn\n",
    "\"\"\""
   ]
  },
  {
   "cell_type": "markdown",
   "id": "964e2089",
   "metadata": {},
   "source": [
    "#### Visualization"
   ]
  },
  {
   "cell_type": "code",
   "execution_count": 86,
   "id": "e010f17b",
   "metadata": {},
   "outputs": [
    {
     "data": {
      "image/png": "[encoded data removed]",
      "text/plain": [
       "<Figure size 720x360 with 2 Axes>"
      ]
     },
     "metadata": {
      "needs_background": "light"
     },
     "output_type": "display_data"
    },
    {
     "data": {
      "application/javascript": [
       "\n",
       "            setTimeout(function() {\n",
       "                var nbb_cell_id = 86;\n",
       "                var nbb_unformatted_code = \"# Histogram\\nplt.figure(figsize=(10, 5))\\nplt.subplot(1, 2, 1)\\nsns.distplot(df.LotArea)\\nplt.xscale(\\\"log\\\")\\n\\nplt.subplot(1, 2, 2)\\nplt.hist(df.LotArea)\\nplt.xscale(\\\"log\\\")\\n\\n\\nplt.show()\";\n",
       "                var nbb_formatted_code = \"# Histogram\\nplt.figure(figsize=(10, 5))\\nplt.subplot(1, 2, 1)\\nsns.distplot(df.LotArea)\\nplt.xscale(\\\"log\\\")\\n\\nplt.subplot(1, 2, 2)\\nplt.hist(df.LotArea)\\nplt.xscale(\\\"log\\\")\\n\\n\\nplt.show()\";\n",
       "                var nbb_cells = Jupyter.notebook.get_cells();\n",
       "                for (var i = 0; i < nbb_cells.length; ++i) {\n",
       "                    if (nbb_cells[i].input_prompt_number == nbb_cell_id) {\n",
       "                        if (nbb_cells[i].get_text() == nbb_unformatted_code) {\n",
       "                             nbb_cells[i].set_text(nbb_formatted_code);\n",
       "                        }\n",
       "                        break;\n",
       "                    }\n",
       "                }\n",
       "            }, 500);\n",
       "            "
      ],
      "text/plain": [
       "<IPython.core.display.Javascript object>"
      ]
     },
     "metadata": {},
     "output_type": "display_data"
    }
   ],
   "source": [
    "# Histogram\n",
    "plt.figure(figsize=(10, 5))\n",
    "plt.subplot(1, 2, 1)\n",
    "sns.distplot(df.LotArea)\n",
    "plt.xscale(\"log\")\n",
    "\n",
    "plt.subplot(1, 2, 2)\n",
    "plt.hist(df.LotArea)\n",
    "plt.xscale(\"log\")\n",
    "\n",
    "\n",
    "plt.show()"
   ]
  },
  {
   "cell_type": "code",
   "execution_count": 84,
   "id": "b57a268d",
   "metadata": {},
   "outputs": [
    {
     "data": {
      "image/png": "[encoded data removed]",
      "text/plain": [
       "<Figure size 432x288 with 1 Axes>"
      ]
     },
     "metadata": {
      "needs_background": "light"
     },
     "output_type": "display_data"
    },
    {
     "data": {
      "application/javascript": [
       "\n",
       "            setTimeout(function() {\n",
       "                var nbb_cell_id = 84;\n",
       "                var nbb_unformatted_code = \"plt.hist(df.LotArea)\\nplt.xscale('log')\\n\\nplt.show()\";\n",
       "                var nbb_formatted_code = \"plt.hist(df.LotArea)\\nplt.xscale(\\\"log\\\")\\n\\nplt.show()\";\n",
       "                var nbb_cells = Jupyter.notebook.get_cells();\n",
       "                for (var i = 0; i < nbb_cells.length; ++i) {\n",
       "                    if (nbb_cells[i].input_prompt_number == nbb_cell_id) {\n",
       "                        if (nbb_cells[i].get_text() == nbb_unformatted_code) {\n",
       "                             nbb_cells[i].set_text(nbb_formatted_code);\n",
       "                        }\n",
       "                        break;\n",
       "                    }\n",
       "                }\n",
       "            }, 500);\n",
       "            "
      ],
      "text/plain": [
       "<IPython.core.display.Javascript object>"
      ]
     },
     "metadata": {},
     "output_type": "display_data"
    }
   ],
   "source": [
    "plt.hist(df.LotArea)\n",
    "plt.xscale(\"log\")\n",
    "\n",
    "plt.show()"
   ]
  },
  {
   "cell_type": "code",
   "execution_count": 100,
   "id": "415258ba",
   "metadata": {},
   "outputs": [
    {
     "data": {
      "image/png": "[encoded data removed]",
      "text/plain": [
       "<Figure size 576x864 with 1 Axes>"
      ]
     },
     "metadata": {
      "needs_background": "light"
     },
     "output_type": "display_data"
    },
    {
     "data": {
      "application/javascript": [
       "\n",
       "            setTimeout(function() {\n",
       "                var nbb_cell_id = 100;\n",
       "                var nbb_unformatted_code = \"# boxplot\\nplt.figure(figsize = (8, 12))\\nplt.boxplot(df.LotArea)\\nplt.show()\";\n",
       "                var nbb_formatted_code = \"# boxplot\\nplt.figure(figsize=(8, 12))\\nplt.boxplot(df.LotArea)\\nplt.show()\";\n",
       "                var nbb_cells = Jupyter.notebook.get_cells();\n",
       "                for (var i = 0; i < nbb_cells.length; ++i) {\n",
       "                    if (nbb_cells[i].input_prompt_number == nbb_cell_id) {\n",
       "                        if (nbb_cells[i].get_text() == nbb_unformatted_code) {\n",
       "                             nbb_cells[i].set_text(nbb_formatted_code);\n",
       "                        }\n",
       "                        break;\n",
       "                    }\n",
       "                }\n",
       "            }, 500);\n",
       "            "
      ],
      "text/plain": [
       "<IPython.core.display.Javascript object>"
      ]
     },
     "metadata": {},
     "output_type": "display_data"
    }
   ],
   "source": [
    "# boxplot\n",
    "plt.figure(figsize=(8, 12))\n",
    "plt.boxplot(df.LotArea)\n",
    "plt.show()"
   ]
  },
  {
   "cell_type": "code",
   "execution_count": 102,
   "id": "2972fd68",
   "metadata": {},
   "outputs": [
    {
     "name": "stdout",
     "output_type": "stream",
     "text": [
      "Number of upper outliers:  67\n",
      "Number of lower outliers:  2\n"
     ]
    },
    {
     "data": {
      "application/javascript": [
       "\n",
       "            setTimeout(function() {\n",
       "                var nbb_cell_id = 102;\n",
       "                var nbb_unformatted_code = \"num_upper_outliers = df[df.LotArea > Q3 + 1.5 * IQR].shape[0]\\nnum_lower_outliers = df[df.LotArea < Q1 - 1.5 * IQR].shape[0]\\n\\nprint(\\\"Number of upper outliers: \\\", num_upper_outliers)\\nprint(\\\"Number of lower outliers: \\\", num_lower_outliers)\";\n",
       "                var nbb_formatted_code = \"num_upper_outliers = df[df.LotArea > Q3 + 1.5 * IQR].shape[0]\\nnum_lower_outliers = df[df.LotArea < Q1 - 1.5 * IQR].shape[0]\\n\\nprint(\\\"Number of upper outliers: \\\", num_upper_outliers)\\nprint(\\\"Number of lower outliers: \\\", num_lower_outliers)\";\n",
       "                var nbb_cells = Jupyter.notebook.get_cells();\n",
       "                for (var i = 0; i < nbb_cells.length; ++i) {\n",
       "                    if (nbb_cells[i].input_prompt_number == nbb_cell_id) {\n",
       "                        if (nbb_cells[i].get_text() == nbb_unformatted_code) {\n",
       "                             nbb_cells[i].set_text(nbb_formatted_code);\n",
       "                        }\n",
       "                        break;\n",
       "                    }\n",
       "                }\n",
       "            }, 500);\n",
       "            "
      ],
      "text/plain": [
       "<IPython.core.display.Javascript object>"
      ]
     },
     "metadata": {},
     "output_type": "display_data"
    }
   ],
   "source": [
    "num_upper_outliers = df[df.LotArea > Q3 + 1.5 * IQR].shape[0]\n",
    "num_lower_outliers = df[df.LotArea < Q1 - 1.5 * IQR].shape[0]\n",
    "\n",
    "print(\"Number of upper outliers: \", num_upper_outliers)\n",
    "print(\"Number of lower outliers: \", num_lower_outliers)"
   ]
  },
  {
   "cell_type": "code",
   "execution_count": 111,
   "id": "c01e1b05",
   "metadata": {},
   "outputs": [
    {
     "name": "stdout",
     "output_type": "stream",
     "text": [
      "Percentage of ouliers 0.04726027397260274\n"
     ]
    },
    {
     "data": {
      "application/javascript": [
       "\n",
       "            setTimeout(function() {\n",
       "                var nbb_cell_id = 111;\n",
       "                var nbb_unformatted_code = \"# t\\u1ef7 l\\u1ec7 ph\\u1ea7n tr\\u0103m c\\u1ee7a outliers\\nprint(\\\"Percentage of ouliers\\\", (num_upper_outliers + num_lower_outliers) / df.shape[0])\";\n",
       "                var nbb_formatted_code = \"# t\\u1ef7 l\\u1ec7 ph\\u1ea7n tr\\u0103m c\\u1ee7a outliers\\nprint(\\\"Percentage of ouliers\\\", (num_upper_outliers + num_lower_outliers) / df.shape[0])\";\n",
       "                var nbb_cells = Jupyter.notebook.get_cells();\n",
       "                for (var i = 0; i < nbb_cells.length; ++i) {\n",
       "                    if (nbb_cells[i].input_prompt_number == nbb_cell_id) {\n",
       "                        if (nbb_cells[i].get_text() == nbb_unformatted_code) {\n",
       "                             nbb_cells[i].set_text(nbb_formatted_code);\n",
       "                        }\n",
       "                        break;\n",
       "                    }\n",
       "                }\n",
       "            }, 500);\n",
       "            "
      ],
      "text/plain": [
       "<IPython.core.display.Javascript object>"
      ]
     },
     "metadata": {},
     "output_type": "display_data"
    }
   ],
   "source": [
    "# tỷ lệ phần trăm của outliers\n",
    "print(\"Percentage of ouliers\", (num_upper_outliers + num_lower_outliers) / df.shape[0])"
   ]
  },
  {
   "cell_type": "code",
   "execution_count": 105,
   "id": "a7637fac",
   "metadata": {},
   "outputs": [
    {
     "data": {
      "text/plain": [
       "'\\nXem xét bỏ outliers hay ko \\n'"
      ]
     },
     "execution_count": 105,
     "metadata": {},
     "output_type": "execute_result"
    },
    {
     "data": {
      "application/javascript": [
       "\n",
       "            setTimeout(function() {\n",
       "                var nbb_cell_id = 105;\n",
       "                var nbb_unformatted_code = \"'''\\nXem x\\u00e9t b\\u1ecf outliers hay ko \\n'''\";\n",
       "                var nbb_formatted_code = \"\\\"\\\"\\\"\\nXem x\\u00e9t b\\u1ecf outliers hay ko \\n\\\"\\\"\\\"\";\n",
       "                var nbb_cells = Jupyter.notebook.get_cells();\n",
       "                for (var i = 0; i < nbb_cells.length; ++i) {\n",
       "                    if (nbb_cells[i].input_prompt_number == nbb_cell_id) {\n",
       "                        if (nbb_cells[i].get_text() == nbb_unformatted_code) {\n",
       "                             nbb_cells[i].set_text(nbb_formatted_code);\n",
       "                        }\n",
       "                        break;\n",
       "                    }\n",
       "                }\n",
       "            }, 500);\n",
       "            "
      ],
      "text/plain": [
       "<IPython.core.display.Javascript object>"
      ]
     },
     "metadata": {},
     "output_type": "display_data"
    }
   ],
   "source": [
    "\"\"\"\n",
    "Xem xét bỏ outliers hay ko \n",
    "\"\"\""
   ]
  },
  {
   "cell_type": "markdown",
   "id": "9c7cdf66",
   "metadata": {},
   "source": [
    "### Phân tích 1stFlrSF"
   ]
  },
  {
   "cell_type": "code",
   "execution_count": 9,
   "id": "45d46d36",
   "metadata": {},
   "outputs": [
    {
     "data": {
      "text/plain": [
       "count    1460.000000\n",
       "mean     1162.626712\n",
       "std       386.587738\n",
       "min       334.000000\n",
       "25%       882.000000\n",
       "50%      1087.000000\n",
       "75%      1391.250000\n",
       "max      4692.000000\n",
       "Name: 1stFlrSF, dtype: float64"
      ]
     },
     "execution_count": 9,
     "metadata": {},
     "output_type": "execute_result"
    },
    {
     "data": {
      "application/javascript": [
       "\n",
       "            setTimeout(function() {\n",
       "                var nbb_cell_id = 9;\n",
       "                var nbb_unformatted_code = \"df[\\\"1stFlrSF\\\"].describe()\";\n",
       "                var nbb_formatted_code = \"df[\\\"1stFlrSF\\\"].describe()\";\n",
       "                var nbb_cells = Jupyter.notebook.get_cells();\n",
       "                for (var i = 0; i < nbb_cells.length; ++i) {\n",
       "                    if (nbb_cells[i].input_prompt_number == nbb_cell_id) {\n",
       "                        if (nbb_cells[i].get_text() == nbb_unformatted_code) {\n",
       "                             nbb_cells[i].set_text(nbb_formatted_code);\n",
       "                        }\n",
       "                        break;\n",
       "                    }\n",
       "                }\n",
       "            }, 500);\n",
       "            "
      ],
      "text/plain": [
       "<IPython.core.display.Javascript object>"
      ]
     },
     "metadata": {},
     "output_type": "display_data"
    }
   ],
   "source": [
    "df[\"1stFlrSF\"].describe()"
   ]
  },
  {
   "cell_type": "code",
   "execution_count": 10,
   "id": "7d74d0d3",
   "metadata": {},
   "outputs": [
    {
     "data": {
      "text/plain": [
       "1087.0"
      ]
     },
     "execution_count": 10,
     "metadata": {},
     "output_type": "execute_result"
    },
    {
     "data": {
      "application/javascript": [
       "\n",
       "            setTimeout(function() {\n",
       "                var nbb_cell_id = 10;\n",
       "                var nbb_unformatted_code = \"df[\\\"1stFlrSF\\\"].median()\";\n",
       "                var nbb_formatted_code = \"df[\\\"1stFlrSF\\\"].median()\";\n",
       "                var nbb_cells = Jupyter.notebook.get_cells();\n",
       "                for (var i = 0; i < nbb_cells.length; ++i) {\n",
       "                    if (nbb_cells[i].input_prompt_number == nbb_cell_id) {\n",
       "                        if (nbb_cells[i].get_text() == nbb_unformatted_code) {\n",
       "                             nbb_cells[i].set_text(nbb_formatted_code);\n",
       "                        }\n",
       "                        break;\n",
       "                    }\n",
       "                }\n",
       "            }, 500);\n",
       "            "
      ],
      "text/plain": [
       "<IPython.core.display.Javascript object>"
      ]
     },
     "metadata": {},
     "output_type": "display_data"
    }
   ],
   "source": [
    "df[\"1stFlrSF\"].median()"
   ]
  },
  {
   "cell_type": "code",
   "execution_count": 11,
   "id": "f5faa90b",
   "metadata": {},
   "outputs": [
    {
     "data": {
      "text/plain": [
       "0    864\n",
       "dtype: int64"
      ]
     },
     "execution_count": 11,
     "metadata": {},
     "output_type": "execute_result"
    },
    {
     "data": {
      "application/javascript": [
       "\n",
       "            setTimeout(function() {\n",
       "                var nbb_cell_id = 11;\n",
       "                var nbb_unformatted_code = \"df[\\\"1stFlrSF\\\"].mode()\";\n",
       "                var nbb_formatted_code = \"df[\\\"1stFlrSF\\\"].mode()\";\n",
       "                var nbb_cells = Jupyter.notebook.get_cells();\n",
       "                for (var i = 0; i < nbb_cells.length; ++i) {\n",
       "                    if (nbb_cells[i].input_prompt_number == nbb_cell_id) {\n",
       "                        if (nbb_cells[i].get_text() == nbb_unformatted_code) {\n",
       "                             nbb_cells[i].set_text(nbb_formatted_code);\n",
       "                        }\n",
       "                        break;\n",
       "                    }\n",
       "                }\n",
       "            }, 500);\n",
       "            "
      ],
      "text/plain": [
       "<IPython.core.display.Javascript object>"
      ]
     },
     "metadata": {},
     "output_type": "display_data"
    }
   ],
   "source": [
    "df[\"1stFlrSF\"].mode()"
   ]
  },
  {
   "cell_type": "code",
   "execution_count": 15,
   "id": "7cf22394",
   "metadata": {},
   "outputs": [
    {
     "data": {
      "text/plain": [
       "4358"
      ]
     },
     "execution_count": 15,
     "metadata": {},
     "output_type": "execute_result"
    },
    {
     "data": {
      "application/javascript": [
       "\n",
       "            setTimeout(function() {\n",
       "                var nbb_cell_id = 15;\n",
       "                var nbb_unformatted_code = \"#t\\u00ednh range\\ndf[\\\"1stFlrSF\\\"].values.ptp()\";\n",
       "                var nbb_formatted_code = \"# t\\u00ednh range\\ndf[\\\"1stFlrSF\\\"].values.ptp()\";\n",
       "                var nbb_cells = Jupyter.notebook.get_cells();\n",
       "                for (var i = 0; i < nbb_cells.length; ++i) {\n",
       "                    if (nbb_cells[i].input_prompt_number == nbb_cell_id) {\n",
       "                        if (nbb_cells[i].get_text() == nbb_unformatted_code) {\n",
       "                             nbb_cells[i].set_text(nbb_formatted_code);\n",
       "                        }\n",
       "                        break;\n",
       "                    }\n",
       "                }\n",
       "            }, 500);\n",
       "            "
      ],
      "text/plain": [
       "<IPython.core.display.Javascript object>"
      ]
     },
     "metadata": {},
     "output_type": "display_data"
    }
   ],
   "source": [
    "# tính range\n",
    "df[\"1stFlrSF\"].values.ptp()"
   ]
  },
  {
   "cell_type": "markdown",
   "id": "32602eff",
   "metadata": {},
   "source": [
    "#### xét hình dạng phân phối"
   ]
  },
  {
   "cell_type": "code",
   "execution_count": 16,
   "id": "1097a445",
   "metadata": {},
   "outputs": [
    {
     "data": {
      "text/plain": [
       "1.3753417421837937"
      ]
     },
     "execution_count": 16,
     "metadata": {},
     "output_type": "execute_result"
    },
    {
     "data": {
      "application/javascript": [
       "\n",
       "            setTimeout(function() {\n",
       "                var nbb_cell_id = 16;\n",
       "                var nbb_unformatted_code = \"scipy.stats.skew(df[\\\"1stFlrSF\\\"])\";\n",
       "                var nbb_formatted_code = \"scipy.stats.skew(df[\\\"1stFlrSF\\\"])\";\n",
       "                var nbb_cells = Jupyter.notebook.get_cells();\n",
       "                for (var i = 0; i < nbb_cells.length; ++i) {\n",
       "                    if (nbb_cells[i].input_prompt_number == nbb_cell_id) {\n",
       "                        if (nbb_cells[i].get_text() == nbb_unformatted_code) {\n",
       "                             nbb_cells[i].set_text(nbb_formatted_code);\n",
       "                        }\n",
       "                        break;\n",
       "                    }\n",
       "                }\n",
       "            }, 500);\n",
       "            "
      ],
      "text/plain": [
       "<IPython.core.display.Javascript object>"
      ]
     },
     "metadata": {},
     "output_type": "display_data"
    }
   ],
   "source": [
    "scipy.stats.skew(df[\"1stFlrSF\"])"
   ]
  },
  {
   "cell_type": "code",
   "execution_count": 17,
   "id": "d06ce5de",
   "metadata": {},
   "outputs": [
    {
     "data": {
      "text/plain": [
       "'\\n=> phân phối lệch phải do skew > 0\\n'"
      ]
     },
     "execution_count": 17,
     "metadata": {},
     "output_type": "execute_result"
    },
    {
     "data": {
      "application/javascript": [
       "\n",
       "            setTimeout(function() {\n",
       "                var nbb_cell_id = 17;\n",
       "                var nbb_unformatted_code = \"'''\\n=> ph\\u00e2n ph\\u1ed1i l\\u1ec7ch ph\\u1ea3i do skew > 0\\n'''\";\n",
       "                var nbb_formatted_code = \"\\\"\\\"\\\"\\n=> ph\\u00e2n ph\\u1ed1i l\\u1ec7ch ph\\u1ea3i do skew > 0\\n\\\"\\\"\\\"\";\n",
       "                var nbb_cells = Jupyter.notebook.get_cells();\n",
       "                for (var i = 0; i < nbb_cells.length; ++i) {\n",
       "                    if (nbb_cells[i].input_prompt_number == nbb_cell_id) {\n",
       "                        if (nbb_cells[i].get_text() == nbb_unformatted_code) {\n",
       "                             nbb_cells[i].set_text(nbb_formatted_code);\n",
       "                        }\n",
       "                        break;\n",
       "                    }\n",
       "                }\n",
       "            }, 500);\n",
       "            "
      ],
      "text/plain": [
       "<IPython.core.display.Javascript object>"
      ]
     },
     "metadata": {},
     "output_type": "display_data"
    }
   ],
   "source": [
    "\"\"\"\n",
    "=> phân phối lệch phải do skew > 0\n",
    "\"\"\""
   ]
  },
  {
   "cell_type": "code",
   "execution_count": 18,
   "id": "fcffca4c",
   "metadata": {},
   "outputs": [
    {
     "data": {
      "text/plain": [
       "5.722076026587489"
      ]
     },
     "execution_count": 18,
     "metadata": {},
     "output_type": "execute_result"
    },
    {
     "data": {
      "application/javascript": [
       "\n",
       "            setTimeout(function() {\n",
       "                var nbb_cell_id = 18;\n",
       "                var nbb_unformatted_code = \"scipy.stats.kurtosis(df[\\\"1stFlrSF\\\"])\";\n",
       "                var nbb_formatted_code = \"scipy.stats.kurtosis(df[\\\"1stFlrSF\\\"])\";\n",
       "                var nbb_cells = Jupyter.notebook.get_cells();\n",
       "                for (var i = 0; i < nbb_cells.length; ++i) {\n",
       "                    if (nbb_cells[i].input_prompt_number == nbb_cell_id) {\n",
       "                        if (nbb_cells[i].get_text() == nbb_unformatted_code) {\n",
       "                             nbb_cells[i].set_text(nbb_formatted_code);\n",
       "                        }\n",
       "                        break;\n",
       "                    }\n",
       "                }\n",
       "            }, 500);\n",
       "            "
      ],
      "text/plain": [
       "<IPython.core.display.Javascript object>"
      ]
     },
     "metadata": {},
     "output_type": "display_data"
    }
   ],
   "source": [
    "scipy.stats.kurtosis(df[\"1stFlrSF\"])\n"
   ]
  },
  {
   "cell_type": "code",
   "execution_count": 19,
   "id": "a694305b",
   "metadata": {},
   "outputs": [
    {
     "data": {
      "text/plain": [
       "'\\n=> phân phôi nhọn hơn pp chuẩn do kutosis > 0\\n'"
      ]
     },
     "execution_count": 19,
     "metadata": {},
     "output_type": "execute_result"
    },
    {
     "data": {
      "application/javascript": [
       "\n",
       "            setTimeout(function() {\n",
       "                var nbb_cell_id = 19;\n",
       "                var nbb_unformatted_code = \"'''\\n=> ph\\u00e2n ph\\u00f4i nh\\u1ecdn h\\u01a1n pp chu\\u1ea9n do kutosis > 0\\n'''\";\n",
       "                var nbb_formatted_code = \"\\\"\\\"\\\"\\n=> ph\\u00e2n ph\\u00f4i nh\\u1ecdn h\\u01a1n pp chu\\u1ea9n do kutosis > 0\\n\\\"\\\"\\\"\";\n",
       "                var nbb_cells = Jupyter.notebook.get_cells();\n",
       "                for (var i = 0; i < nbb_cells.length; ++i) {\n",
       "                    if (nbb_cells[i].input_prompt_number == nbb_cell_id) {\n",
       "                        if (nbb_cells[i].get_text() == nbb_unformatted_code) {\n",
       "                             nbb_cells[i].set_text(nbb_formatted_code);\n",
       "                        }\n",
       "                        break;\n",
       "                    }\n",
       "                }\n",
       "            }, 500);\n",
       "            "
      ],
      "text/plain": [
       "<IPython.core.display.Javascript object>"
      ]
     },
     "metadata": {},
     "output_type": "display_data"
    }
   ],
   "source": [
    "'''\n",
    "=> phân phôi nhọn hơn pp chuẩn do kutosis > 0\n",
    "'''"
   ]
  },
  {
   "cell_type": "code",
   "execution_count": 24,
   "id": "ed2a7956",
   "metadata": {},
   "outputs": [
    {
     "data": {
      "text/plain": [
       "509.25"
      ]
     },
     "execution_count": 24,
     "metadata": {},
     "output_type": "execute_result"
    },
    {
     "data": {
      "application/javascript": [
       "\n",
       "            setTimeout(function() {\n",
       "                var nbb_cell_id = 24;\n",
       "                var nbb_unformatted_code = \"Q1 = np.quantile(df[\\\"1stFlrSF\\\"], 0.25)\\nQ3 = np.quantile(df[\\\"1stFlrSF\\\"], 0.75)\\nIQR = abs(Q3 - Q1)\\nIQR\";\n",
       "                var nbb_formatted_code = \"Q1 = np.quantile(df[\\\"1stFlrSF\\\"], 0.25)\\nQ3 = np.quantile(df[\\\"1stFlrSF\\\"], 0.75)\\nIQR = abs(Q3 - Q1)\\nIQR\";\n",
       "                var nbb_cells = Jupyter.notebook.get_cells();\n",
       "                for (var i = 0; i < nbb_cells.length; ++i) {\n",
       "                    if (nbb_cells[i].input_prompt_number == nbb_cell_id) {\n",
       "                        if (nbb_cells[i].get_text() == nbb_unformatted_code) {\n",
       "                             nbb_cells[i].set_text(nbb_formatted_code);\n",
       "                        }\n",
       "                        break;\n",
       "                    }\n",
       "                }\n",
       "            }, 500);\n",
       "            "
      ],
      "text/plain": [
       "<IPython.core.display.Javascript object>"
      ]
     },
     "metadata": {},
     "output_type": "display_data"
    }
   ],
   "source": [
    "Q1 = np.quantile(df[\"1stFlrSF\"], 0.25)\n",
    "Q3 = np.quantile(df[\"1stFlrSF\"], 0.75)\n",
    "IQR = abs(Q3 - Q1)\n",
    "IQR"
   ]
  },
  {
   "cell_type": "code",
   "execution_count": 26,
   "id": "928f5c7c",
   "metadata": {},
   "outputs": [
    {
     "data": {
      "text/plain": [
       "149450.07920371433"
      ]
     },
     "execution_count": 26,
     "metadata": {},
     "output_type": "execute_result"
    },
    {
     "data": {
      "application/javascript": [
       "\n",
       "            setTimeout(function() {\n",
       "                var nbb_cell_id = 26;\n",
       "                var nbb_unformatted_code = \"df[\\\"1stFlrSF\\\"].var()\";\n",
       "                var nbb_formatted_code = \"df[\\\"1stFlrSF\\\"].var()\";\n",
       "                var nbb_cells = Jupyter.notebook.get_cells();\n",
       "                for (var i = 0; i < nbb_cells.length; ++i) {\n",
       "                    if (nbb_cells[i].input_prompt_number == nbb_cell_id) {\n",
       "                        if (nbb_cells[i].get_text() == nbb_unformatted_code) {\n",
       "                             nbb_cells[i].set_text(nbb_formatted_code);\n",
       "                        }\n",
       "                        break;\n",
       "                    }\n",
       "                }\n",
       "            }, 500);\n",
       "            "
      ],
      "text/plain": [
       "<IPython.core.display.Javascript object>"
      ]
     },
     "metadata": {},
     "output_type": "display_data"
    }
   ],
   "source": [
    "df[\"1stFlrSF\"].var()"
   ]
  },
  {
   "cell_type": "markdown",
   "id": "ada73bf1",
   "metadata": {},
   "source": [
    "#### Visualization"
   ]
  },
  {
   "cell_type": "code",
   "execution_count": 28,
   "id": "62036aa4",
   "metadata": {},
   "outputs": [
    {
     "data": {
      "image/png": "[encoded data removed]",
      "text/plain": [
       "<Figure size 720x360 with 2 Axes>"
      ]
     },
     "metadata": {
      "needs_background": "light"
     },
     "output_type": "display_data"
    },
    {
     "data": {
      "application/javascript": [
       "\n",
       "            setTimeout(function() {\n",
       "                var nbb_cell_id = 28;\n",
       "                var nbb_unformatted_code = \"# Histogram\\nplt.figure(figsize=(10, 5))\\nplt.subplot(1, 2, 1)\\nsns.distplot(df['1stFlrSF'])\\nplt.subplot(1, 2, 2)\\nplt.hist(df['1stFlrSF'])\\nplt.show()\";\n",
       "                var nbb_formatted_code = \"# Histogram\\nplt.figure(figsize=(10, 5))\\nplt.subplot(1, 2, 1)\\nsns.distplot(df[\\\"1stFlrSF\\\"])\\nplt.subplot(1, 2, 2)\\nplt.hist(df[\\\"1stFlrSF\\\"])\\nplt.show()\";\n",
       "                var nbb_cells = Jupyter.notebook.get_cells();\n",
       "                for (var i = 0; i < nbb_cells.length; ++i) {\n",
       "                    if (nbb_cells[i].input_prompt_number == nbb_cell_id) {\n",
       "                        if (nbb_cells[i].get_text() == nbb_unformatted_code) {\n",
       "                             nbb_cells[i].set_text(nbb_formatted_code);\n",
       "                        }\n",
       "                        break;\n",
       "                    }\n",
       "                }\n",
       "            }, 500);\n",
       "            "
      ],
      "text/plain": [
       "<IPython.core.display.Javascript object>"
      ]
     },
     "metadata": {},
     "output_type": "display_data"
    }
   ],
   "source": [
    "# Histogram\n",
    "plt.figure(figsize=(10, 5))\n",
    "plt.subplot(1, 2, 1)\n",
    "sns.distplot(df[\"1stFlrSF\"])\n",
    "plt.subplot(1, 2, 2)\n",
    "plt.hist(df[\"1stFlrSF\"])\n",
    "plt.show()"
   ]
  },
  {
   "cell_type": "code",
   "execution_count": 29,
   "id": "15b46090",
   "metadata": {},
   "outputs": [
    {
     "data": {
      "image/png": "[encoded data removed]",
      "text/plain": [
       "<Figure size 432x288 with 1 Axes>"
      ]
     },
     "metadata": {
      "needs_background": "light"
     },
     "output_type": "display_data"
    },
    {
     "data": {
      "application/javascript": [
       "\n",
       "            setTimeout(function() {\n",
       "                var nbb_cell_id = 29;\n",
       "                var nbb_unformatted_code = \"plt.boxplot(df[\\\"1stFlrSF\\\"])\\nplt.show()\";\n",
       "                var nbb_formatted_code = \"plt.boxplot(df[\\\"1stFlrSF\\\"])\\nplt.show()\";\n",
       "                var nbb_cells = Jupyter.notebook.get_cells();\n",
       "                for (var i = 0; i < nbb_cells.length; ++i) {\n",
       "                    if (nbb_cells[i].input_prompt_number == nbb_cell_id) {\n",
       "                        if (nbb_cells[i].get_text() == nbb_unformatted_code) {\n",
       "                             nbb_cells[i].set_text(nbb_formatted_code);\n",
       "                        }\n",
       "                        break;\n",
       "                    }\n",
       "                }\n",
       "            }, 500);\n",
       "            "
      ],
      "text/plain": [
       "<IPython.core.display.Javascript object>"
      ]
     },
     "metadata": {},
     "output_type": "display_data"
    }
   ],
   "source": [
    "plt.boxplot(df[\"1stFlrSF\"])\n",
    "plt.show()"
   ]
  },
  {
   "cell_type": "code",
   "execution_count": 30,
   "id": "9ecaf4d4",
   "metadata": {},
   "outputs": [
    {
     "name": "stdout",
     "output_type": "stream",
     "text": [
      "Number of upper outliers:  1430\n",
      "Number of lower outliers:  0\n"
     ]
    },
    {
     "data": {
      "application/javascript": [
       "\n",
       "            setTimeout(function() {\n",
       "                var nbb_cell_id = 30;\n",
       "                var nbb_unformatted_code = \"num_upper_outliers = df[df.LotArea > Q3 + 1.5 * IQR].shape[0]\\nnum_lower_outliers = df[df.LotArea < Q1 - 1.5 * IQR].shape[0]\\n\\nprint(\\\"Number of upper outliers: \\\", num_upper_outliers)\\nprint(\\\"Number of lower outliers: \\\", num_lower_outliers)\";\n",
       "                var nbb_formatted_code = \"num_upper_outliers = df[df.LotArea > Q3 + 1.5 * IQR].shape[0]\\nnum_lower_outliers = df[df.LotArea < Q1 - 1.5 * IQR].shape[0]\\n\\nprint(\\\"Number of upper outliers: \\\", num_upper_outliers)\\nprint(\\\"Number of lower outliers: \\\", num_lower_outliers)\";\n",
       "                var nbb_cells = Jupyter.notebook.get_cells();\n",
       "                for (var i = 0; i < nbb_cells.length; ++i) {\n",
       "                    if (nbb_cells[i].input_prompt_number == nbb_cell_id) {\n",
       "                        if (nbb_cells[i].get_text() == nbb_unformatted_code) {\n",
       "                             nbb_cells[i].set_text(nbb_formatted_code);\n",
       "                        }\n",
       "                        break;\n",
       "                    }\n",
       "                }\n",
       "            }, 500);\n",
       "            "
      ],
      "text/plain": [
       "<IPython.core.display.Javascript object>"
      ]
     },
     "metadata": {},
     "output_type": "display_data"
    }
   ],
   "source": [
    "num_upper_outliers = df[df.LotArea > Q3 + 1.5 * IQR].shape[0]\n",
    "num_lower_outliers = df[df.LotArea < Q1 - 1.5 * IQR].shape[0]\n",
    "\n",
    "print(\"Number of upper outliers: \", num_upper_outliers)\n",
    "print(\"Number of lower outliers: \", num_lower_outliers)"
   ]
  },
  {
   "cell_type": "code",
   "execution_count": 31,
   "id": "0980e52e",
   "metadata": {},
   "outputs": [
    {
     "name": "stdout",
     "output_type": "stream",
     "text": [
      "Percentage of ouliers 0.9794520547945206\n"
     ]
    },
    {
     "data": {
      "application/javascript": [
       "\n",
       "            setTimeout(function() {\n",
       "                var nbb_cell_id = 31;\n",
       "                var nbb_unformatted_code = \"# t\\u1ef7 l\\u1ec7 ph\\u1ea7n tr\\u0103m c\\u1ee7a outliers\\nprint(\\\"Percentage of ouliers\\\", (num_upper_outliers + num_lower_outliers) / df.shape[0])\";\n",
       "                var nbb_formatted_code = \"# t\\u1ef7 l\\u1ec7 ph\\u1ea7n tr\\u0103m c\\u1ee7a outliers\\nprint(\\\"Percentage of ouliers\\\", (num_upper_outliers + num_lower_outliers) / df.shape[0])\";\n",
       "                var nbb_cells = Jupyter.notebook.get_cells();\n",
       "                for (var i = 0; i < nbb_cells.length; ++i) {\n",
       "                    if (nbb_cells[i].input_prompt_number == nbb_cell_id) {\n",
       "                        if (nbb_cells[i].get_text() == nbb_unformatted_code) {\n",
       "                             nbb_cells[i].set_text(nbb_formatted_code);\n",
       "                        }\n",
       "                        break;\n",
       "                    }\n",
       "                }\n",
       "            }, 500);\n",
       "            "
      ],
      "text/plain": [
       "<IPython.core.display.Javascript object>"
      ]
     },
     "metadata": {},
     "output_type": "display_data"
    }
   ],
   "source": [
    "# tỷ lệ phần trăm của outliers\n",
    "print(\"Percentage of ouliers\", (num_upper_outliers + num_lower_outliers) / df.shape[0])"
   ]
  },
  {
   "cell_type": "code",
   "execution_count": 32,
   "id": "fa67557c",
   "metadata": {},
   "outputs": [
    {
     "data": {
      "text/plain": [
       "'\\nXem xét bỏ outliers ???\\n'"
      ]
     },
     "execution_count": 32,
     "metadata": {},
     "output_type": "execute_result"
    },
    {
     "data": {
      "application/javascript": [
       "\n",
       "            setTimeout(function() {\n",
       "                var nbb_cell_id = 32;\n",
       "                var nbb_unformatted_code = \"'''\\nXem x\\u00e9t b\\u1ecf outliers ???\\n'''\";\n",
       "                var nbb_formatted_code = \"\\\"\\\"\\\"\\nXem x\\u00e9t b\\u1ecf outliers ???\\n\\\"\\\"\\\"\";\n",
       "                var nbb_cells = Jupyter.notebook.get_cells();\n",
       "                for (var i = 0; i < nbb_cells.length; ++i) {\n",
       "                    if (nbb_cells[i].input_prompt_number == nbb_cell_id) {\n",
       "                        if (nbb_cells[i].get_text() == nbb_unformatted_code) {\n",
       "                             nbb_cells[i].set_text(nbb_formatted_code);\n",
       "                        }\n",
       "                        break;\n",
       "                    }\n",
       "                }\n",
       "            }, 500);\n",
       "            "
      ],
      "text/plain": [
       "<IPython.core.display.Javascript object>"
      ]
     },
     "metadata": {},
     "output_type": "display_data"
    }
   ],
   "source": [
    "'''\n",
    "Xem xét bỏ outliers ???\n",
    "'''"
   ]
  },
  {
   "cell_type": "markdown",
   "id": "775db392",
   "metadata": {},
   "source": [
    "### tương tự phân tích cho 2stFlrSF"
   ]
  },
  {
   "cell_type": "markdown",
   "id": "16de548b",
   "metadata": {},
   "source": [
    "---\n",
    "---\n",
    "---"
   ]
  },
  {
   "cell_type": "markdown",
   "id": "463e7cd6",
   "metadata": {},
   "source": [
    "## B. Categorical Variables\n",
    "- FullBath\n",
    "- BedroomAbvGr\n",
    "- TotRmsAbvGrd"
   ]
  },
  {
   "cell_type": "markdown",
   "id": "6e072c59",
   "metadata": {},
   "source": [
    "### phân tích FullBath"
   ]
  },
  {
   "cell_type": "code",
   "execution_count": 48,
   "id": "ea6d9627",
   "metadata": {},
   "outputs": [
    {
     "name": "stdout",
     "output_type": "stream",
     "text": [
      "Mật độ phân phối: \n"
     ]
    },
    {
     "data": {
      "text/plain": [
       "2    768\n",
       "1    650\n",
       "3     33\n",
       "0      9\n",
       "Name: FullBath, dtype: int64"
      ]
     },
     "execution_count": 48,
     "metadata": {},
     "output_type": "execute_result"
    },
    {
     "data": {
      "application/javascript": [
       "\n",
       "            setTimeout(function() {\n",
       "                var nbb_cell_id = 48;\n",
       "                var nbb_unformatted_code = \"print('M\\u1eadt \\u0111\\u1ed9 ph\\u00e2n ph\\u1ed1i: ')\\ndf.FullBath.value_counts()\";\n",
       "                var nbb_formatted_code = \"print(\\\"M\\u1eadt \\u0111\\u1ed9 ph\\u00e2n ph\\u1ed1i: \\\")\\ndf.FullBath.value_counts()\";\n",
       "                var nbb_cells = Jupyter.notebook.get_cells();\n",
       "                for (var i = 0; i < nbb_cells.length; ++i) {\n",
       "                    if (nbb_cells[i].input_prompt_number == nbb_cell_id) {\n",
       "                        if (nbb_cells[i].get_text() == nbb_unformatted_code) {\n",
       "                             nbb_cells[i].set_text(nbb_formatted_code);\n",
       "                        }\n",
       "                        break;\n",
       "                    }\n",
       "                }\n",
       "            }, 500);\n",
       "            "
      ],
      "text/plain": [
       "<IPython.core.display.Javascript object>"
      ]
     },
     "metadata": {},
     "output_type": "display_data"
    }
   ],
   "source": [
    "print(\"Mật độ phân phối: \")\n",
    "df.FullBath.value_counts()"
   ]
  },
  {
   "cell_type": "code",
   "execution_count": 52,
   "id": "f0022190",
   "metadata": {},
   "outputs": [
    {
     "name": "stdout",
     "output_type": "stream",
     "text": [
      "Tỉ lệ mật độ phân phối:\n",
      " 2    0.526027\n",
      "1    0.445205\n",
      "3    0.022603\n",
      "0    0.006164\n",
      "Name: FullBath, dtype: float64\n"
     ]
    },
    {
     "data": {
      "application/javascript": [
       "\n",
       "            setTimeout(function() {\n",
       "                var nbb_cell_id = 52;\n",
       "                var nbb_unformatted_code = \"print('T\\u1ec9 l\\u1ec7 m\\u1eadt \\u0111\\u1ed9 ph\\u00e2n ph\\u1ed1i:\\\\n', df.FullBath.value_counts()/len(df.FullBath))\";\n",
       "                var nbb_formatted_code = \"print(\\\"T\\u1ec9 l\\u1ec7 m\\u1eadt \\u0111\\u1ed9 ph\\u00e2n ph\\u1ed1i:\\\\n\\\", df.FullBath.value_counts() / len(df.FullBath))\";\n",
       "                var nbb_cells = Jupyter.notebook.get_cells();\n",
       "                for (var i = 0; i < nbb_cells.length; ++i) {\n",
       "                    if (nbb_cells[i].input_prompt_number == nbb_cell_id) {\n",
       "                        if (nbb_cells[i].get_text() == nbb_unformatted_code) {\n",
       "                             nbb_cells[i].set_text(nbb_formatted_code);\n",
       "                        }\n",
       "                        break;\n",
       "                    }\n",
       "                }\n",
       "            }, 500);\n",
       "            "
      ],
      "text/plain": [
       "<IPython.core.display.Javascript object>"
      ]
     },
     "metadata": {},
     "output_type": "display_data"
    }
   ],
   "source": [
    "print('Tỉ lệ mật độ phân phối:\\n', df.FullBath.value_counts()/len(df.FullBath))\n"
   ]
  },
  {
   "cell_type": "markdown",
   "id": "355302df",
   "metadata": {},
   "source": [
    "#### Visualization"
   ]
  },
  {
   "cell_type": "code",
   "execution_count": 56,
   "id": "c556a98a",
   "metadata": {},
   "outputs": [
    {
     "data": {
      "image/png": "[encoded data removed]",
      "text/plain": [
       "<Figure size 432x288 with 1 Axes>"
      ]
     },
     "metadata": {},
     "output_type": "display_data"
    },
    {
     "data": {
      "application/javascript": [
       "\n",
       "            setTimeout(function() {\n",
       "                var nbb_cell_id = 56;\n",
       "                var nbb_unformatted_code = \"sns.set()\\ndf.FullBath.value_counts().plot.bar()\\nplt.show()\";\n",
       "                var nbb_formatted_code = \"sns.set()\\ndf.FullBath.value_counts().plot.bar()\\nplt.show()\";\n",
       "                var nbb_cells = Jupyter.notebook.get_cells();\n",
       "                for (var i = 0; i < nbb_cells.length; ++i) {\n",
       "                    if (nbb_cells[i].input_prompt_number == nbb_cell_id) {\n",
       "                        if (nbb_cells[i].get_text() == nbb_unformatted_code) {\n",
       "                             nbb_cells[i].set_text(nbb_formatted_code);\n",
       "                        }\n",
       "                        break;\n",
       "                    }\n",
       "                }\n",
       "            }, 500);\n",
       "            "
      ],
      "text/plain": [
       "<IPython.core.display.Javascript object>"
      ]
     },
     "metadata": {},
     "output_type": "display_data"
    }
   ],
   "source": [
    "sns.set()\n",
    "df.FullBath.value_counts().plot.bar()\n",
    "plt.show()"
   ]
  },
  {
   "cell_type": "markdown",
   "id": "557719da",
   "metadata": {},
   "source": [
    "#### Phân tích BedroomAbvGr"
   ]
  },
  {
   "cell_type": "code",
   "execution_count": 57,
   "id": "057819af",
   "metadata": {},
   "outputs": [
    {
     "data": {
      "text/plain": [
       "3    804\n",
       "2    358\n",
       "4    213\n",
       "1     50\n",
       "5     21\n",
       "6      7\n",
       "0      6\n",
       "8      1\n",
       "Name: BedroomAbvGr, dtype: int64"
      ]
     },
     "execution_count": 57,
     "metadata": {},
     "output_type": "execute_result"
    },
    {
     "data": {
      "application/javascript": [
       "\n",
       "            setTimeout(function() {\n",
       "                var nbb_cell_id = 57;\n",
       "                var nbb_unformatted_code = \"#m\\u1eadt \\u0111\\u1ed9 ph\\u00e2n ph\\u1ed1i:\\ndf.BedroomAbvGr.value_counts()\";\n",
       "                var nbb_formatted_code = \"# m\\u1eadt \\u0111\\u1ed9 ph\\u00e2n ph\\u1ed1i:\\ndf.BedroomAbvGr.value_counts()\";\n",
       "                var nbb_cells = Jupyter.notebook.get_cells();\n",
       "                for (var i = 0; i < nbb_cells.length; ++i) {\n",
       "                    if (nbb_cells[i].input_prompt_number == nbb_cell_id) {\n",
       "                        if (nbb_cells[i].get_text() == nbb_unformatted_code) {\n",
       "                             nbb_cells[i].set_text(nbb_formatted_code);\n",
       "                        }\n",
       "                        break;\n",
       "                    }\n",
       "                }\n",
       "            }, 500);\n",
       "            "
      ],
      "text/plain": [
       "<IPython.core.display.Javascript object>"
      ]
     },
     "metadata": {},
     "output_type": "display_data"
    }
   ],
   "source": [
    "# mật độ phân phối:\n",
    "df.BedroomAbvGr.value_counts()"
   ]
  },
  {
   "cell_type": "code",
   "execution_count": 58,
   "id": "8105b952",
   "metadata": {},
   "outputs": [
    {
     "data": {
      "text/plain": [
       "3    0.550685\n",
       "2    0.245205\n",
       "4    0.145890\n",
       "1    0.034247\n",
       "5    0.014384\n",
       "6    0.004795\n",
       "0    0.004110\n",
       "8    0.000685\n",
       "Name: BedroomAbvGr, dtype: float64"
      ]
     },
     "execution_count": 58,
     "metadata": {},
     "output_type": "execute_result"
    },
    {
     "data": {
      "application/javascript": [
       "\n",
       "            setTimeout(function() {\n",
       "                var nbb_cell_id = 58;\n",
       "                var nbb_unformatted_code = \"# t\\u1ec9 l\\u1ec7 m\\u1eadt \\u0111\\u1ed9 ph\\u00e2n ph\\u1ed1i\\ndf.BedroomAbvGr.value_counts() / len(df.BedroomAbvGr)\";\n",
       "                var nbb_formatted_code = \"# t\\u1ec9 l\\u1ec7 m\\u1eadt \\u0111\\u1ed9 ph\\u00e2n ph\\u1ed1i\\ndf.BedroomAbvGr.value_counts() / len(df.BedroomAbvGr)\";\n",
       "                var nbb_cells = Jupyter.notebook.get_cells();\n",
       "                for (var i = 0; i < nbb_cells.length; ++i) {\n",
       "                    if (nbb_cells[i].input_prompt_number == nbb_cell_id) {\n",
       "                        if (nbb_cells[i].get_text() == nbb_unformatted_code) {\n",
       "                             nbb_cells[i].set_text(nbb_formatted_code);\n",
       "                        }\n",
       "                        break;\n",
       "                    }\n",
       "                }\n",
       "            }, 500);\n",
       "            "
      ],
      "text/plain": [
       "<IPython.core.display.Javascript object>"
      ]
     },
     "metadata": {},
     "output_type": "display_data"
    }
   ],
   "source": [
    "# tỉ lệ mật độ phân phối\n",
    "df.BedroomAbvGr.value_counts() / len(df.BedroomAbvGr)"
   ]
  },
  {
   "cell_type": "markdown",
   "id": "02c99816",
   "metadata": {},
   "source": [
    "#### visualization"
   ]
  },
  {
   "cell_type": "code",
   "execution_count": 61,
   "id": "d97b5623",
   "metadata": {},
   "outputs": [
    {
     "data": {
      "image/png": "[encoded data removed]",
      "text/plain": [
       "<Figure size 432x288 with 1 Axes>"
      ]
     },
     "metadata": {},
     "output_type": "display_data"
    },
    {
     "data": {
      "application/javascript": [
       "\n",
       "            setTimeout(function() {\n",
       "                var nbb_cell_id = 61;\n",
       "                var nbb_unformatted_code = \"df.BedroomAbvGr.value_counts().plot.bar()\\nplt.show()\";\n",
       "                var nbb_formatted_code = \"df.BedroomAbvGr.value_counts().plot.bar()\\nplt.show()\";\n",
       "                var nbb_cells = Jupyter.notebook.get_cells();\n",
       "                for (var i = 0; i < nbb_cells.length; ++i) {\n",
       "                    if (nbb_cells[i].input_prompt_number == nbb_cell_id) {\n",
       "                        if (nbb_cells[i].get_text() == nbb_unformatted_code) {\n",
       "                             nbb_cells[i].set_text(nbb_formatted_code);\n",
       "                        }\n",
       "                        break;\n",
       "                    }\n",
       "                }\n",
       "            }, 500);\n",
       "            "
      ],
      "text/plain": [
       "<IPython.core.display.Javascript object>"
      ]
     },
     "metadata": {},
     "output_type": "display_data"
    }
   ],
   "source": [
    "df.BedroomAbvGr.value_counts().plot.bar()\n",
    "plt.show()"
   ]
  },
  {
   "cell_type": "markdown",
   "id": "e1c6e021",
   "metadata": {},
   "source": [
    "### phân tích cho đơn biến TotRmsAbvGrd tương tự"
   ]
  },
  {
   "cell_type": "markdown",
   "id": "fcc487ff",
   "metadata": {},
   "source": [
    "---\n",
    "## 3. Phân tích 2 biến\n",
    "- Continuous & Continous\n",
    "- Categorical & Categorical\n",
    "- Categorical & Continuous"
   ]
  },
  {
   "cell_type": "markdown",
   "id": "e6e08e4e",
   "metadata": {},
   "source": [
    "### Continuous & Continous"
   ]
  },
  {
   "cell_type": "markdown",
   "id": "9ea24899",
   "metadata": {},
   "source": [
    "#### 1. dùng trực quan hóa"
   ]
  },
  {
   "cell_type": "code",
   "execution_count": 64,
   "id": "12827106",
   "metadata": {},
   "outputs": [
    {
     "data": {
      "image/png": "[encoded data removed]",
      "text/plain": [
       "<Figure size 540x540 with 12 Axes>"
      ]
     },
     "metadata": {},
     "output_type": "display_data"
    },
    {
     "data": {
      "application/javascript": [
       "\n",
       "            setTimeout(function() {\n",
       "                var nbb_cell_id = 64;\n",
       "                var nbb_unformatted_code = \"sns.pairplot(df[['LotArea', '1stFlrSF', '2ndFlrSF']])\\nplt.show()\";\n",
       "                var nbb_formatted_code = \"sns.pairplot(df[[\\\"LotArea\\\", \\\"1stFlrSF\\\", \\\"2ndFlrSF\\\"]])\\nplt.show()\";\n",
       "                var nbb_cells = Jupyter.notebook.get_cells();\n",
       "                for (var i = 0; i < nbb_cells.length; ++i) {\n",
       "                    if (nbb_cells[i].input_prompt_number == nbb_cell_id) {\n",
       "                        if (nbb_cells[i].get_text() == nbb_unformatted_code) {\n",
       "                             nbb_cells[i].set_text(nbb_formatted_code);\n",
       "                        }\n",
       "                        break;\n",
       "                    }\n",
       "                }\n",
       "            }, 500);\n",
       "            "
      ],
      "text/plain": [
       "<IPython.core.display.Javascript object>"
      ]
     },
     "metadata": {},
     "output_type": "display_data"
    }
   ],
   "source": [
    "sns.pairplot(df[[\"LotArea\", \"1stFlrSF\", \"2ndFlrSF\"]])\n",
    "plt.show()"
   ]
  },
  {
   "cell_type": "code",
   "execution_count": 65,
   "id": "9fa5abb0",
   "metadata": {},
   "outputs": [
    {
     "data": {
      "text/html": [
       "<div>\n",
       "<style scoped>\n",
       "    .dataframe tbody tr th:only-of-type {\n",
       "        vertical-align: middle;\n",
       "    }\n",
       "\n",
       "    .dataframe tbody tr th {\n",
       "        vertical-align: top;\n",
       "    }\n",
       "\n",
       "    .dataframe thead th {\n",
       "        text-align: right;\n",
       "    }\n",
       "</style>\n",
       "<table border=\"1\" class=\"dataframe\">\n",
       "  <thead>\n",
       "    <tr style=\"text-align: right;\">\n",
       "      <th></th>\n",
       "      <th>LotArea</th>\n",
       "      <th>1stFlrSF</th>\n",
       "      <th>2ndFlrSF</th>\n",
       "    </tr>\n",
       "  </thead>\n",
       "  <tbody>\n",
       "    <tr>\n",
       "      <th>LotArea</th>\n",
       "      <td>1.000000</td>\n",
       "      <td>0.299475</td>\n",
       "      <td>0.050986</td>\n",
       "    </tr>\n",
       "    <tr>\n",
       "      <th>1stFlrSF</th>\n",
       "      <td>0.299475</td>\n",
       "      <td>1.000000</td>\n",
       "      <td>-0.202646</td>\n",
       "    </tr>\n",
       "    <tr>\n",
       "      <th>2ndFlrSF</th>\n",
       "      <td>0.050986</td>\n",
       "      <td>-0.202646</td>\n",
       "      <td>1.000000</td>\n",
       "    </tr>\n",
       "  </tbody>\n",
       "</table>\n",
       "</div>"
      ],
      "text/plain": [
       "           LotArea  1stFlrSF  2ndFlrSF\n",
       "LotArea   1.000000  0.299475  0.050986\n",
       "1stFlrSF  0.299475  1.000000 -0.202646\n",
       "2ndFlrSF  0.050986 -0.202646  1.000000"
      ]
     },
     "execution_count": 65,
     "metadata": {},
     "output_type": "execute_result"
    },
    {
     "data": {
      "application/javascript": [
       "\n",
       "            setTimeout(function() {\n",
       "                var nbb_cell_id = 65;\n",
       "                var nbb_unformatted_code = \"df[['LotArea', '1stFlrSF', '2ndFlrSF']].corr()\";\n",
       "                var nbb_formatted_code = \"df[[\\\"LotArea\\\", \\\"1stFlrSF\\\", \\\"2ndFlrSF\\\"]].corr()\";\n",
       "                var nbb_cells = Jupyter.notebook.get_cells();\n",
       "                for (var i = 0; i < nbb_cells.length; ++i) {\n",
       "                    if (nbb_cells[i].input_prompt_number == nbb_cell_id) {\n",
       "                        if (nbb_cells[i].get_text() == nbb_unformatted_code) {\n",
       "                             nbb_cells[i].set_text(nbb_formatted_code);\n",
       "                        }\n",
       "                        break;\n",
       "                    }\n",
       "                }\n",
       "            }, 500);\n",
       "            "
      ],
      "text/plain": [
       "<IPython.core.display.Javascript object>"
      ]
     },
     "metadata": {},
     "output_type": "display_data"
    }
   ],
   "source": [
    "df[[\"LotArea\", \"1stFlrSF\", \"2ndFlrSF\"]].corr()"
   ]
  },
  {
   "cell_type": "code",
   "execution_count": 66,
   "id": "65682163",
   "metadata": {},
   "outputs": [
    {
     "data": {
      "text/plain": [
       "'\\nTừ kết quả trên, ta thấy các biến LotArea, 1stFlrSF, 2ndFlrSF đều ko có quan hệ tuyến tính.\\n(corr phải >0.3 mới dc coi là có quan hệ tt)\\n'"
      ]
     },
     "execution_count": 66,
     "metadata": {},
     "output_type": "execute_result"
    },
    {
     "data": {
      "application/javascript": [
       "\n",
       "            setTimeout(function() {\n",
       "                var nbb_cell_id = 66;\n",
       "                var nbb_unformatted_code = \"'''\\nT\\u1eeb k\\u1ebft qu\\u1ea3 tr\\u00ean, ta th\\u1ea5y c\\u00e1c bi\\u1ebfn LotArea, 1stFlrSF, 2ndFlrSF \\u0111\\u1ec1u ko c\\u00f3 quan h\\u1ec7 tuy\\u1ebfn t\\u00ednh.\\n(corr ph\\u1ea3i >0.3 m\\u1edbi dc coi l\\u00e0 c\\u00f3 quan h\\u1ec7 tt)\\n'''\";\n",
       "                var nbb_formatted_code = \"\\\"\\\"\\\"\\nT\\u1eeb k\\u1ebft qu\\u1ea3 tr\\u00ean, ta th\\u1ea5y c\\u00e1c bi\\u1ebfn LotArea, 1stFlrSF, 2ndFlrSF \\u0111\\u1ec1u ko c\\u00f3 quan h\\u1ec7 tuy\\u1ebfn t\\u00ednh.\\n(corr ph\\u1ea3i >0.3 m\\u1edbi dc coi l\\u00e0 c\\u00f3 quan h\\u1ec7 tt)\\n\\\"\\\"\\\"\";\n",
       "                var nbb_cells = Jupyter.notebook.get_cells();\n",
       "                for (var i = 0; i < nbb_cells.length; ++i) {\n",
       "                    if (nbb_cells[i].input_prompt_number == nbb_cell_id) {\n",
       "                        if (nbb_cells[i].get_text() == nbb_unformatted_code) {\n",
       "                             nbb_cells[i].set_text(nbb_formatted_code);\n",
       "                        }\n",
       "                        break;\n",
       "                    }\n",
       "                }\n",
       "            }, 500);\n",
       "            "
      ],
      "text/plain": [
       "<IPython.core.display.Javascript object>"
      ]
     },
     "metadata": {},
     "output_type": "display_data"
    }
   ],
   "source": [
    "\"\"\"\n",
    "Từ kết quả trên, ta thấy các biến LotArea, 1stFlrSF, 2ndFlrSF đều ko có quan hệ tuyến tính.\n",
    "(corr phải >0.3 mới dc coi là có quan hệ tt)\n",
    "\"\"\""
   ]
  },
  {
   "cell_type": "markdown",
   "id": "72918b1a",
   "metadata": {},
   "source": [
    "### Categorical & Categorical"
   ]
  },
  {
   "cell_type": "markdown",
   "id": "c2313a5c",
   "metadata": {},
   "source": [
    "#### chuyển sang contigency table"
   ]
  },
  {
   "cell_type": "markdown",
   "id": "c92c35aa",
   "metadata": {},
   "source": [
    "#### Xét cặp giá trị FullBath và BedroomAbvGr"
   ]
  },
  {
   "cell_type": "code",
   "execution_count": 74,
   "id": "1eaad28f",
   "metadata": {},
   "outputs": [
    {
     "name": "stdout",
     "output_type": "stream",
     "text": [
      "Nhận xét, ta thấy \n"
     ]
    },
    {
     "data": {
      "text/html": [
       "<div>\n",
       "<style scoped>\n",
       "    .dataframe tbody tr th:only-of-type {\n",
       "        vertical-align: middle;\n",
       "    }\n",
       "\n",
       "    .dataframe tbody tr th {\n",
       "        vertical-align: top;\n",
       "    }\n",
       "\n",
       "    .dataframe thead th {\n",
       "        text-align: right;\n",
       "    }\n",
       "</style>\n",
       "<table border=\"1\" class=\"dataframe\">\n",
       "  <thead>\n",
       "    <tr style=\"text-align: right;\">\n",
       "      <th>BedroomAbvGr</th>\n",
       "      <th>0</th>\n",
       "      <th>1</th>\n",
       "      <th>2</th>\n",
       "      <th>3</th>\n",
       "      <th>4</th>\n",
       "      <th>5</th>\n",
       "      <th>6</th>\n",
       "      <th>8</th>\n",
       "    </tr>\n",
       "    <tr>\n",
       "      <th>FullBath</th>\n",
       "      <th></th>\n",
       "      <th></th>\n",
       "      <th></th>\n",
       "      <th></th>\n",
       "      <th></th>\n",
       "      <th></th>\n",
       "      <th></th>\n",
       "      <th></th>\n",
       "    </tr>\n",
       "  </thead>\n",
       "  <tbody>\n",
       "    <tr>\n",
       "      <th>0</th>\n",
       "      <td>5</td>\n",
       "      <td>2</td>\n",
       "      <td>2</td>\n",
       "      <td>0</td>\n",
       "      <td>0</td>\n",
       "      <td>0</td>\n",
       "      <td>0</td>\n",
       "      <td>0</td>\n",
       "    </tr>\n",
       "    <tr>\n",
       "      <th>1</th>\n",
       "      <td>1</td>\n",
       "      <td>42</td>\n",
       "      <td>213</td>\n",
       "      <td>352</td>\n",
       "      <td>37</td>\n",
       "      <td>5</td>\n",
       "      <td>0</td>\n",
       "      <td>0</td>\n",
       "    </tr>\n",
       "    <tr>\n",
       "      <th>2</th>\n",
       "      <td>0</td>\n",
       "      <td>6</td>\n",
       "      <td>143</td>\n",
       "      <td>443</td>\n",
       "      <td>156</td>\n",
       "      <td>12</td>\n",
       "      <td>7</td>\n",
       "      <td>1</td>\n",
       "    </tr>\n",
       "    <tr>\n",
       "      <th>3</th>\n",
       "      <td>0</td>\n",
       "      <td>0</td>\n",
       "      <td>0</td>\n",
       "      <td>9</td>\n",
       "      <td>20</td>\n",
       "      <td>4</td>\n",
       "      <td>0</td>\n",
       "      <td>0</td>\n",
       "    </tr>\n",
       "  </tbody>\n",
       "</table>\n",
       "</div>"
      ],
      "text/plain": [
       "BedroomAbvGr  0   1    2    3    4   5  6  8\n",
       "FullBath                                    \n",
       "0             5   2    2    0    0   0  0  0\n",
       "1             1  42  213  352   37   5  0  0\n",
       "2             0   6  143  443  156  12  7  1\n",
       "3             0   0    0    9   20   4  0  0"
      ]
     },
     "execution_count": 74,
     "metadata": {},
     "output_type": "execute_result"
    },
    {
     "data": {
      "application/javascript": [
       "\n",
       "            setTimeout(function() {\n",
       "                var nbb_cell_id = 74;\n",
       "                var nbb_unformatted_code = \"# ta c\\u00f3 contigency table\\nprint('Nh\\u1eadn x\\u00e9t, ta th\\u1ea5y ')\\n\\ntable_FB = pd.crosstab(df[\\\"FullBath\\\"], df[\\\"BedroomAbvGr\\\"])\\ntable_FB\";\n",
       "                var nbb_formatted_code = \"# ta c\\u00f3 contigency table\\nprint(\\\"Nh\\u1eadn x\\u00e9t, ta th\\u1ea5y \\\")\\n\\ntable_FB = pd.crosstab(df[\\\"FullBath\\\"], df[\\\"BedroomAbvGr\\\"])\\ntable_FB\";\n",
       "                var nbb_cells = Jupyter.notebook.get_cells();\n",
       "                for (var i = 0; i < nbb_cells.length; ++i) {\n",
       "                    if (nbb_cells[i].input_prompt_number == nbb_cell_id) {\n",
       "                        if (nbb_cells[i].get_text() == nbb_unformatted_code) {\n",
       "                             nbb_cells[i].set_text(nbb_formatted_code);\n",
       "                        }\n",
       "                        break;\n",
       "                    }\n",
       "                }\n",
       "            }, 500);\n",
       "            "
      ],
      "text/plain": [
       "<IPython.core.display.Javascript object>"
      ]
     },
     "metadata": {},
     "output_type": "display_data"
    }
   ],
   "source": [
    "# ta có contigency table\n",
    "print(\"Nhận xét, ta thấy \")\n",
    "\n",
    "table_FB = pd.crosstab(df[\"FullBath\"], df[\"BedroomAbvGr\"])\n",
    "table_FB"
   ]
  },
  {
   "cell_type": "markdown",
   "id": "53de1d95",
   "metadata": {},
   "source": [
    "#### dùng trực quan hóa"
   ]
  },
  {
   "cell_type": "code",
   "execution_count": 77,
   "id": "5d44cb8d",
   "metadata": {},
   "outputs": [
    {
     "data": {
      "text/plain": [
       "<Figure size 720x720 with 0 Axes>"
      ]
     },
     "metadata": {},
     "output_type": "display_data"
    },
    {
     "data": {
      "image/png": "[encoded data removed]",
      "text/plain": [
       "<Figure size 432x288 with 1 Axes>"
      ]
     },
     "metadata": {},
     "output_type": "display_data"
    },
    {
     "data": {
      "application/javascript": [
       "\n",
       "            setTimeout(function() {\n",
       "                var nbb_cell_id = 77;\n",
       "                var nbb_unformatted_code = \"plt.figure(figsize = (10, 10))\\ntable_FB.plot(kind=\\\"bar\\\", stacked=True)\\nplt.show()\";\n",
       "                var nbb_formatted_code = \"plt.figure(figsize=(10, 10))\\ntable_FB.plot(kind=\\\"bar\\\", stacked=True)\\nplt.show()\";\n",
       "                var nbb_cells = Jupyter.notebook.get_cells();\n",
       "                for (var i = 0; i < nbb_cells.length; ++i) {\n",
       "                    if (nbb_cells[i].input_prompt_number == nbb_cell_id) {\n",
       "                        if (nbb_cells[i].get_text() == nbb_unformatted_code) {\n",
       "                             nbb_cells[i].set_text(nbb_formatted_code);\n",
       "                        }\n",
       "                        break;\n",
       "                    }\n",
       "                }\n",
       "            }, 500);\n",
       "            "
      ],
      "text/plain": [
       "<IPython.core.display.Javascript object>"
      ]
     },
     "metadata": {},
     "output_type": "display_data"
    }
   ],
   "source": [
    "plt.figure(figsize=(10, 10))\n",
    "table_FB.plot(kind=\"bar\", stacked=True)\n",
    "plt.show()"
   ]
  },
  {
   "cell_type": "markdown",
   "id": "2bbff3bf",
   "metadata": {},
   "source": [
    "#### Kiểm định FullBath và BedroomAbvGr độc lập hay ko\n",
    "- H0: FullBath and BedroomAbvGr is independent\n",
    "- H1: FullBath and BedroomAbvGr is not independent"
   ]
  },
  {
   "cell_type": "markdown",
   "id": "c3f49340",
   "metadata": {},
   "source": [
    "**Dùng kiểm định chi bình phương**"
   ]
  },
  {
   "cell_type": "code",
   "execution_count": 86,
   "id": "8e88967b",
   "metadata": {},
   "outputs": [
    {
     "data": {
      "application/javascript": [
       "\n",
       "            setTimeout(function() {\n",
       "                var nbb_cell_id = 86;\n",
       "                var nbb_unformatted_code = \"# chi_square test\\nstat, p_value, dof, expected = scipy.stats.chi2_contingency(table_FB)\";\n",
       "                var nbb_formatted_code = \"# chi_square test\\nstat, p_value, dof, expected = scipy.stats.chi2_contingency(table_FB)\";\n",
       "                var nbb_cells = Jupyter.notebook.get_cells();\n",
       "                for (var i = 0; i < nbb_cells.length; ++i) {\n",
       "                    if (nbb_cells[i].input_prompt_number == nbb_cell_id) {\n",
       "                        if (nbb_cells[i].get_text() == nbb_unformatted_code) {\n",
       "                             nbb_cells[i].set_text(nbb_formatted_code);\n",
       "                        }\n",
       "                        break;\n",
       "                    }\n",
       "                }\n",
       "            }, 500);\n",
       "            "
      ],
      "text/plain": [
       "<IPython.core.display.Javascript object>"
      ]
     },
     "metadata": {},
     "output_type": "display_data"
    }
   ],
   "source": [
    "# chi_square test\n",
    "stat, p_value, dof, expected = scipy.stats.chi2_contingency(table_FB)\n"
   ]
  },
  {
   "cell_type": "code",
   "execution_count": 87,
   "id": "315be62a",
   "metadata": {},
   "outputs": [
    {
     "name": "stdout",
     "output_type": "stream",
     "text": [
      "Statistic:  898.9300586036229\n",
      "p-value:  9.022959522651409e-177\n",
      "Dof:  21\n"
     ]
    },
    {
     "data": {
      "application/javascript": [
       "\n",
       "            setTimeout(function() {\n",
       "                var nbb_cell_id = 87;\n",
       "                var nbb_unformatted_code = \"print('Statistic: ', stat)\\nprint('p-value: ', p_value)\\nprint('Dof: ', dof)\";\n",
       "                var nbb_formatted_code = \"print(\\\"Statistic: \\\", stat)\\nprint(\\\"p-value: \\\", p_value)\\nprint(\\\"Dof: \\\", dof)\";\n",
       "                var nbb_cells = Jupyter.notebook.get_cells();\n",
       "                for (var i = 0; i < nbb_cells.length; ++i) {\n",
       "                    if (nbb_cells[i].input_prompt_number == nbb_cell_id) {\n",
       "                        if (nbb_cells[i].get_text() == nbb_unformatted_code) {\n",
       "                             nbb_cells[i].set_text(nbb_formatted_code);\n",
       "                        }\n",
       "                        break;\n",
       "                    }\n",
       "                }\n",
       "            }, 500);\n",
       "            "
      ],
      "text/plain": [
       "<IPython.core.display.Javascript object>"
      ]
     },
     "metadata": {},
     "output_type": "display_data"
    }
   ],
   "source": [
    "print(\"Statistic: \", stat)\n",
    "print(\"p-value: \", p_value)\n",
    "print(\"Dof: \", dof)"
   ]
  },
  {
   "cell_type": "code",
   "execution_count": 91,
   "id": "ed35696d",
   "metadata": {},
   "outputs": [
    {
     "data": {
      "text/plain": [
       "32.670573340917315"
      ]
     },
     "execution_count": 91,
     "metadata": {},
     "output_type": "execute_result"
    },
    {
     "data": {
      "application/javascript": [
       "\n",
       "            setTimeout(function() {\n",
       "                var nbb_cell_id = 91;\n",
       "                var nbb_unformatted_code = \"prob = 0.95\\ncritical = scipy.stats.chi2.ppf(prob, dof)  #c\\u00e1i n\\u00e0y tra b\\u1ea3ng n\\u00e8\\ncritical\";\n",
       "                var nbb_formatted_code = \"prob = 0.95\\ncritical = scipy.stats.chi2.ppf(prob, dof)  # c\\u00e1i n\\u00e0y tra b\\u1ea3ng n\\u00e8\\ncritical\";\n",
       "                var nbb_cells = Jupyter.notebook.get_cells();\n",
       "                for (var i = 0; i < nbb_cells.length; ++i) {\n",
       "                    if (nbb_cells[i].input_prompt_number == nbb_cell_id) {\n",
       "                        if (nbb_cells[i].get_text() == nbb_unformatted_code) {\n",
       "                             nbb_cells[i].set_text(nbb_formatted_code);\n",
       "                        }\n",
       "                        break;\n",
       "                    }\n",
       "                }\n",
       "            }, 500);\n",
       "            "
      ],
      "text/plain": [
       "<IPython.core.display.Javascript object>"
      ]
     },
     "metadata": {},
     "output_type": "display_data"
    }
   ],
   "source": [
    "prob = 0.95\n",
    "critical = scipy.stats.chi2.ppf(prob, dof)  # cái này tra bảng nè\n",
    "critical"
   ]
  },
  {
   "cell_type": "markdown",
   "id": "3dadc30b",
   "metadata": {},
   "source": [
    "### Cách 1: so sánh giá trị statistic"
   ]
  },
  {
   "cell_type": "code",
   "execution_count": 92,
   "id": "89ce986e",
   "metadata": {},
   "outputs": [
    {
     "name": "stdout",
     "output_type": "stream",
     "text": [
      "Dependent (reject H0)\n"
     ]
    },
    {
     "data": {
      "application/javascript": [
       "\n",
       "            setTimeout(function() {\n",
       "                var nbb_cell_id = 92;\n",
       "                var nbb_unformatted_code = \"if abs(stat) >= critical:\\n    print('Dependent (reject H0)')\\nelse:\\n    print('Independent (fail to H0)')\";\n",
       "                var nbb_formatted_code = \"if abs(stat) >= critical:\\n    print(\\\"Dependent (reject H0)\\\")\\nelse:\\n    print(\\\"Independent (fail to H0)\\\")\";\n",
       "                var nbb_cells = Jupyter.notebook.get_cells();\n",
       "                for (var i = 0; i < nbb_cells.length; ++i) {\n",
       "                    if (nbb_cells[i].input_prompt_number == nbb_cell_id) {\n",
       "                        if (nbb_cells[i].get_text() == nbb_unformatted_code) {\n",
       "                             nbb_cells[i].set_text(nbb_formatted_code);\n",
       "                        }\n",
       "                        break;\n",
       "                    }\n",
       "                }\n",
       "            }, 500);\n",
       "            "
      ],
      "text/plain": [
       "<IPython.core.display.Javascript object>"
      ]
     },
     "metadata": {},
     "output_type": "display_data"
    }
   ],
   "source": [
    "if abs(stat) >= critical:\n",
    "    print(\"Dependent (reject H0)\")\n",
    "else:\n",
    "    print(\"Independent (fail to H0)\")"
   ]
  },
  {
   "cell_type": "markdown",
   "id": "cf73a250",
   "metadata": {},
   "source": [
    "#### Xét TotRmsAbvGrd và BedroomAbvGr"
   ]
  },
  {
   "cell_type": "code",
   "execution_count": 95,
   "id": "08cb7fc6",
   "metadata": {},
   "outputs": [
    {
     "data": {
      "text/html": [
       "<div>\n",
       "<style scoped>\n",
       "    .dataframe tbody tr th:only-of-type {\n",
       "        vertical-align: middle;\n",
       "    }\n",
       "\n",
       "    .dataframe tbody tr th {\n",
       "        vertical-align: top;\n",
       "    }\n",
       "\n",
       "    .dataframe thead th {\n",
       "        text-align: right;\n",
       "    }\n",
       "</style>\n",
       "<table border=\"1\" class=\"dataframe\">\n",
       "  <thead>\n",
       "    <tr style=\"text-align: right;\">\n",
       "      <th>BedroomAbvGr</th>\n",
       "      <th>0</th>\n",
       "      <th>1</th>\n",
       "      <th>2</th>\n",
       "      <th>3</th>\n",
       "      <th>4</th>\n",
       "      <th>5</th>\n",
       "      <th>6</th>\n",
       "      <th>8</th>\n",
       "    </tr>\n",
       "    <tr>\n",
       "      <th>TotRmsAbvGrd</th>\n",
       "      <th></th>\n",
       "      <th></th>\n",
       "      <th></th>\n",
       "      <th></th>\n",
       "      <th></th>\n",
       "      <th></th>\n",
       "      <th></th>\n",
       "      <th></th>\n",
       "    </tr>\n",
       "  </thead>\n",
       "  <tbody>\n",
       "    <tr>\n",
       "      <th>2</th>\n",
       "      <td>0</td>\n",
       "      <td>1</td>\n",
       "      <td>0</td>\n",
       "      <td>0</td>\n",
       "      <td>0</td>\n",
       "      <td>0</td>\n",
       "      <td>0</td>\n",
       "      <td>0</td>\n",
       "    </tr>\n",
       "    <tr>\n",
       "      <th>3</th>\n",
       "      <td>1</td>\n",
       "      <td>14</td>\n",
       "      <td>2</td>\n",
       "      <td>0</td>\n",
       "      <td>0</td>\n",
       "      <td>0</td>\n",
       "      <td>0</td>\n",
       "      <td>0</td>\n",
       "    </tr>\n",
       "    <tr>\n",
       "      <th>4</th>\n",
       "      <td>2</td>\n",
       "      <td>18</td>\n",
       "      <td>73</td>\n",
       "      <td>3</td>\n",
       "      <td>1</td>\n",
       "      <td>0</td>\n",
       "      <td>0</td>\n",
       "      <td>0</td>\n",
       "    </tr>\n",
       "    <tr>\n",
       "      <th>5</th>\n",
       "      <td>2</td>\n",
       "      <td>5</td>\n",
       "      <td>145</td>\n",
       "      <td>122</td>\n",
       "      <td>1</td>\n",
       "      <td>0</td>\n",
       "      <td>0</td>\n",
       "      <td>0</td>\n",
       "    </tr>\n",
       "    <tr>\n",
       "      <th>6</th>\n",
       "      <td>1</td>\n",
       "      <td>5</td>\n",
       "      <td>99</td>\n",
       "      <td>289</td>\n",
       "      <td>8</td>\n",
       "      <td>0</td>\n",
       "      <td>0</td>\n",
       "      <td>0</td>\n",
       "    </tr>\n",
       "    <tr>\n",
       "      <th>7</th>\n",
       "      <td>0</td>\n",
       "      <td>4</td>\n",
       "      <td>30</td>\n",
       "      <td>252</td>\n",
       "      <td>43</td>\n",
       "      <td>0</td>\n",
       "      <td>0</td>\n",
       "      <td>0</td>\n",
       "    </tr>\n",
       "    <tr>\n",
       "      <th>8</th>\n",
       "      <td>0</td>\n",
       "      <td>2</td>\n",
       "      <td>5</td>\n",
       "      <td>97</td>\n",
       "      <td>78</td>\n",
       "      <td>5</td>\n",
       "      <td>0</td>\n",
       "      <td>0</td>\n",
       "    </tr>\n",
       "    <tr>\n",
       "      <th>9</th>\n",
       "      <td>0</td>\n",
       "      <td>1</td>\n",
       "      <td>0</td>\n",
       "      <td>26</td>\n",
       "      <td>44</td>\n",
       "      <td>3</td>\n",
       "      <td>1</td>\n",
       "      <td>0</td>\n",
       "    </tr>\n",
       "    <tr>\n",
       "      <th>10</th>\n",
       "      <td>0</td>\n",
       "      <td>0</td>\n",
       "      <td>2</td>\n",
       "      <td>10</td>\n",
       "      <td>23</td>\n",
       "      <td>8</td>\n",
       "      <td>4</td>\n",
       "      <td>0</td>\n",
       "    </tr>\n",
       "    <tr>\n",
       "      <th>11</th>\n",
       "      <td>0</td>\n",
       "      <td>0</td>\n",
       "      <td>2</td>\n",
       "      <td>3</td>\n",
       "      <td>11</td>\n",
       "      <td>2</td>\n",
       "      <td>0</td>\n",
       "      <td>0</td>\n",
       "    </tr>\n",
       "    <tr>\n",
       "      <th>12</th>\n",
       "      <td>0</td>\n",
       "      <td>0</td>\n",
       "      <td>0</td>\n",
       "      <td>2</td>\n",
       "      <td>4</td>\n",
       "      <td>3</td>\n",
       "      <td>2</td>\n",
       "      <td>0</td>\n",
       "    </tr>\n",
       "    <tr>\n",
       "      <th>14</th>\n",
       "      <td>0</td>\n",
       "      <td>0</td>\n",
       "      <td>0</td>\n",
       "      <td>0</td>\n",
       "      <td>0</td>\n",
       "      <td>0</td>\n",
       "      <td>0</td>\n",
       "      <td>1</td>\n",
       "    </tr>\n",
       "  </tbody>\n",
       "</table>\n",
       "</div>"
      ],
      "text/plain": [
       "BedroomAbvGr  0   1    2    3   4  5  6  8\n",
       "TotRmsAbvGrd                              \n",
       "2             0   1    0    0   0  0  0  0\n",
       "3             1  14    2    0   0  0  0  0\n",
       "4             2  18   73    3   1  0  0  0\n",
       "5             2   5  145  122   1  0  0  0\n",
       "6             1   5   99  289   8  0  0  0\n",
       "7             0   4   30  252  43  0  0  0\n",
       "8             0   2    5   97  78  5  0  0\n",
       "9             0   1    0   26  44  3  1  0\n",
       "10            0   0    2   10  23  8  4  0\n",
       "11            0   0    2    3  11  2  0  0\n",
       "12            0   0    0    2   4  3  2  0\n",
       "14            0   0    0    0   0  0  0  1"
      ]
     },
     "execution_count": 95,
     "metadata": {},
     "output_type": "execute_result"
    },
    {
     "data": {
      "application/javascript": [
       "\n",
       "            setTimeout(function() {\n",
       "                var nbb_cell_id = 95;\n",
       "                var nbb_unformatted_code = \"table_TB = pd.crosstab(df.TotRmsAbvGrd, df.BedroomAbvGr)\\ntable_TB\";\n",
       "                var nbb_formatted_code = \"table_TB = pd.crosstab(df.TotRmsAbvGrd, df.BedroomAbvGr)\\ntable_TB\";\n",
       "                var nbb_cells = Jupyter.notebook.get_cells();\n",
       "                for (var i = 0; i < nbb_cells.length; ++i) {\n",
       "                    if (nbb_cells[i].input_prompt_number == nbb_cell_id) {\n",
       "                        if (nbb_cells[i].get_text() == nbb_unformatted_code) {\n",
       "                             nbb_cells[i].set_text(nbb_formatted_code);\n",
       "                        }\n",
       "                        break;\n",
       "                    }\n",
       "                }\n",
       "            }, 500);\n",
       "            "
      ],
      "text/plain": [
       "<IPython.core.display.Javascript object>"
      ]
     },
     "metadata": {},
     "output_type": "display_data"
    }
   ],
   "source": [
    "table_TB = pd.crosstab(df.TotRmsAbvGrd, df.BedroomAbvGr)\n",
    "table_TB"
   ]
  },
  {
   "cell_type": "markdown",
   "id": "2db73f2a",
   "metadata": {},
   "source": [
    "#### visualization"
   ]
  },
  {
   "cell_type": "code",
   "execution_count": 97,
   "id": "5559dfd6",
   "metadata": {},
   "outputs": [
    {
     "data": {
      "image/png": "[encoded data removed]",
      "text/plain": [
       "<Figure size 432x288 with 1 Axes>"
      ]
     },
     "metadata": {},
     "output_type": "display_data"
    },
    {
     "data": {
      "application/javascript": [
       "\n",
       "            setTimeout(function() {\n",
       "                var nbb_cell_id = 97;\n",
       "                var nbb_unformatted_code = \"table_TB.plot(kind = 'bar', stacked = True)\\nplt.show()\";\n",
       "                var nbb_formatted_code = \"table_TB.plot(kind=\\\"bar\\\", stacked=True)\\nplt.show()\";\n",
       "                var nbb_cells = Jupyter.notebook.get_cells();\n",
       "                for (var i = 0; i < nbb_cells.length; ++i) {\n",
       "                    if (nbb_cells[i].input_prompt_number == nbb_cell_id) {\n",
       "                        if (nbb_cells[i].get_text() == nbb_unformatted_code) {\n",
       "                             nbb_cells[i].set_text(nbb_formatted_code);\n",
       "                        }\n",
       "                        break;\n",
       "                    }\n",
       "                }\n",
       "            }, 500);\n",
       "            "
      ],
      "text/plain": [
       "<IPython.core.display.Javascript object>"
      ]
     },
     "metadata": {},
     "output_type": "display_data"
    }
   ],
   "source": [
    "table_TB.plot(kind=\"bar\", stacked=True)\n",
    "plt.show()"
   ]
  },
  {
   "cell_type": "markdown",
   "id": "bcfa1489",
   "metadata": {},
   "source": [
    "#### kiểm định chi bình phương cho 2 biến TotRmsAbvGrd và BedroomAbvGr\n",
    "- H0: TotRmsAbvGrd và BedroomAbvGr độc lập nhau\n",
    "- H1 TotRmsAbvGrd và BedroomAbvGr không độc lập với nhau"
   ]
  },
  {
   "cell_type": "code",
   "execution_count": 99,
   "id": "86c5bd33",
   "metadata": {},
   "outputs": [
    {
     "data": {
      "application/javascript": [
       "\n",
       "            setTimeout(function() {\n",
       "                var nbb_cell_id = 99;\n",
       "                var nbb_unformatted_code = \"stat, p_value, dof, expected = scipy.stats.chi2_contingency(table_TB)\";\n",
       "                var nbb_formatted_code = \"stat, p_value, dof, expected = scipy.stats.chi2_contingency(table_TB)\";\n",
       "                var nbb_cells = Jupyter.notebook.get_cells();\n",
       "                for (var i = 0; i < nbb_cells.length; ++i) {\n",
       "                    if (nbb_cells[i].input_prompt_number == nbb_cell_id) {\n",
       "                        if (nbb_cells[i].get_text() == nbb_unformatted_code) {\n",
       "                             nbb_cells[i].set_text(nbb_formatted_code);\n",
       "                        }\n",
       "                        break;\n",
       "                    }\n",
       "                }\n",
       "            }, 500);\n",
       "            "
      ],
      "text/plain": [
       "<IPython.core.display.Javascript object>"
      ]
     },
     "metadata": {},
     "output_type": "display_data"
    }
   ],
   "source": [
    "stat, p_value, dof, expected = scipy.stats.chi2_contingency(table_TB)"
   ]
  },
  {
   "cell_type": "code",
   "execution_count": 100,
   "id": "3bed0ca3",
   "metadata": {},
   "outputs": [
    {
     "name": "stdout",
     "output_type": "stream",
     "text": [
      "Statistic:  2994.5153380852435\n",
      "p-value:  0.0\n",
      "Dof:  77\n"
     ]
    },
    {
     "data": {
      "application/javascript": [
       "\n",
       "            setTimeout(function() {\n",
       "                var nbb_cell_id = 100;\n",
       "                var nbb_unformatted_code = \"print('Statistic: ', stat)\\nprint('p-value: ', p_value)\\nprint('Dof: ', dof)\";\n",
       "                var nbb_formatted_code = \"print(\\\"Statistic: \\\", stat)\\nprint(\\\"p-value: \\\", p_value)\\nprint(\\\"Dof: \\\", dof)\";\n",
       "                var nbb_cells = Jupyter.notebook.get_cells();\n",
       "                for (var i = 0; i < nbb_cells.length; ++i) {\n",
       "                    if (nbb_cells[i].input_prompt_number == nbb_cell_id) {\n",
       "                        if (nbb_cells[i].get_text() == nbb_unformatted_code) {\n",
       "                             nbb_cells[i].set_text(nbb_formatted_code);\n",
       "                        }\n",
       "                        break;\n",
       "                    }\n",
       "                }\n",
       "            }, 500);\n",
       "            "
      ],
      "text/plain": [
       "<IPython.core.display.Javascript object>"
      ]
     },
     "metadata": {},
     "output_type": "display_data"
    }
   ],
   "source": [
    "print('Statistic: ', stat)\n",
    "print('p-value: ', p_value)\n",
    "print('Dof: ', dof)\n"
   ]
  },
  {
   "cell_type": "markdown",
   "id": "b0541c0c",
   "metadata": {},
   "source": [
    "### Cách 2: so sánh p_value"
   ]
  },
  {
   "cell_type": "code",
   "execution_count": 102,
   "id": "fa052935",
   "metadata": {},
   "outputs": [
    {
     "name": "stdout",
     "output_type": "stream",
     "text": [
      "Dependent (reject H0)\n"
     ]
    },
    {
     "data": {
      "application/javascript": [
       "\n",
       "            setTimeout(function() {\n",
       "                var nbb_cell_id = 102;\n",
       "                var nbb_unformatted_code = \"prob = 0.95\\nalpha = 1 - prob\\nif p_value < alpha:\\n    print('Dependent (reject H0)')\\nelse:\\n    print('Independent (fail to reject H0)')\";\n",
       "                var nbb_formatted_code = \"prob = 0.95\\nalpha = 1 - prob\\nif p_value < alpha:\\n    print(\\\"Dependent (reject H0)\\\")\\nelse:\\n    print(\\\"Independent (fail to reject H0)\\\")\";\n",
       "                var nbb_cells = Jupyter.notebook.get_cells();\n",
       "                for (var i = 0; i < nbb_cells.length; ++i) {\n",
       "                    if (nbb_cells[i].input_prompt_number == nbb_cell_id) {\n",
       "                        if (nbb_cells[i].get_text() == nbb_unformatted_code) {\n",
       "                             nbb_cells[i].set_text(nbb_formatted_code);\n",
       "                        }\n",
       "                        break;\n",
       "                    }\n",
       "                }\n",
       "            }, 500);\n",
       "            "
      ],
      "text/plain": [
       "<IPython.core.display.Javascript object>"
      ]
     },
     "metadata": {},
     "output_type": "display_data"
    }
   ],
   "source": [
    "prob = 0.95\n",
    "alpha = 1 - prob\n",
    "if p_value < alpha:\n",
    "    print('Dependent (reject H0)')\n",
    "else:\n",
    "    print('Independent (fail to reject H0)')"
   ]
  },
  {
   "cell_type": "code",
   "execution_count": 103,
   "id": "222c2941",
   "metadata": {},
   "outputs": [
    {
     "data": {
      "text/plain": [
       "'\\n=> TotRmsAbvGrd và BedroomAbvGr phụ thuộc nhau\\n'"
      ]
     },
     "execution_count": 103,
     "metadata": {},
     "output_type": "execute_result"
    },
    {
     "data": {
      "application/javascript": [
       "\n",
       "            setTimeout(function() {\n",
       "                var nbb_cell_id = 103;\n",
       "                var nbb_unformatted_code = \"'''\\n=> TotRmsAbvGrd v\\u00e0 BedroomAbvGr ph\\u1ee5 thu\\u1ed9c nhau\\n'''\";\n",
       "                var nbb_formatted_code = \"\\\"\\\"\\\"\\n=> TotRmsAbvGrd v\\u00e0 BedroomAbvGr ph\\u1ee5 thu\\u1ed9c nhau\\n\\\"\\\"\\\"\";\n",
       "                var nbb_cells = Jupyter.notebook.get_cells();\n",
       "                for (var i = 0; i < nbb_cells.length; ++i) {\n",
       "                    if (nbb_cells[i].input_prompt_number == nbb_cell_id) {\n",
       "                        if (nbb_cells[i].get_text() == nbb_unformatted_code) {\n",
       "                             nbb_cells[i].set_text(nbb_formatted_code);\n",
       "                        }\n",
       "                        break;\n",
       "                    }\n",
       "                }\n",
       "            }, 500);\n",
       "            "
      ],
      "text/plain": [
       "<IPython.core.display.Javascript object>"
      ]
     },
     "metadata": {},
     "output_type": "display_data"
    }
   ],
   "source": [
    "\"\"\"\n",
    "=> TotRmsAbvGrd và BedroomAbvGr phụ thuộc nhau\n",
    "\"\"\""
   ]
  },
  {
   "cell_type": "markdown",
   "id": "4eadcc8f",
   "metadata": {},
   "source": [
    "#### xét 2 biến TotRmsAbvGrd và FullBath với H0 là 2 biến độc lập"
   ]
  },
  {
   "cell_type": "code",
   "execution_count": 104,
   "id": "a08f16f1",
   "metadata": {},
   "outputs": [
    {
     "data": {
      "text/html": [
       "<div>\n",
       "<style scoped>\n",
       "    .dataframe tbody tr th:only-of-type {\n",
       "        vertical-align: middle;\n",
       "    }\n",
       "\n",
       "    .dataframe tbody tr th {\n",
       "        vertical-align: top;\n",
       "    }\n",
       "\n",
       "    .dataframe thead th {\n",
       "        text-align: right;\n",
       "    }\n",
       "</style>\n",
       "<table border=\"1\" class=\"dataframe\">\n",
       "  <thead>\n",
       "    <tr style=\"text-align: right;\">\n",
       "      <th>FullBath</th>\n",
       "      <th>0</th>\n",
       "      <th>1</th>\n",
       "      <th>2</th>\n",
       "      <th>3</th>\n",
       "    </tr>\n",
       "    <tr>\n",
       "      <th>TotRmsAbvGrd</th>\n",
       "      <th></th>\n",
       "      <th></th>\n",
       "      <th></th>\n",
       "      <th></th>\n",
       "    </tr>\n",
       "  </thead>\n",
       "  <tbody>\n",
       "    <tr>\n",
       "      <th>2</th>\n",
       "      <td>0</td>\n",
       "      <td>1</td>\n",
       "      <td>0</td>\n",
       "      <td>0</td>\n",
       "    </tr>\n",
       "    <tr>\n",
       "      <th>3</th>\n",
       "      <td>1</td>\n",
       "      <td>16</td>\n",
       "      <td>0</td>\n",
       "      <td>0</td>\n",
       "    </tr>\n",
       "    <tr>\n",
       "      <th>4</th>\n",
       "      <td>4</td>\n",
       "      <td>79</td>\n",
       "      <td>14</td>\n",
       "      <td>0</td>\n",
       "    </tr>\n",
       "    <tr>\n",
       "      <th>5</th>\n",
       "      <td>1</td>\n",
       "      <td>210</td>\n",
       "      <td>63</td>\n",
       "      <td>1</td>\n",
       "    </tr>\n",
       "    <tr>\n",
       "      <th>6</th>\n",
       "      <td>2</td>\n",
       "      <td>226</td>\n",
       "      <td>174</td>\n",
       "      <td>0</td>\n",
       "    </tr>\n",
       "    <tr>\n",
       "      <th>7</th>\n",
       "      <td>1</td>\n",
       "      <td>80</td>\n",
       "      <td>245</td>\n",
       "      <td>3</td>\n",
       "    </tr>\n",
       "    <tr>\n",
       "      <th>8</th>\n",
       "      <td>0</td>\n",
       "      <td>29</td>\n",
       "      <td>154</td>\n",
       "      <td>4</td>\n",
       "    </tr>\n",
       "    <tr>\n",
       "      <th>9</th>\n",
       "      <td>0</td>\n",
       "      <td>8</td>\n",
       "      <td>61</td>\n",
       "      <td>6</td>\n",
       "    </tr>\n",
       "    <tr>\n",
       "      <th>10</th>\n",
       "      <td>0</td>\n",
       "      <td>1</td>\n",
       "      <td>39</td>\n",
       "      <td>7</td>\n",
       "    </tr>\n",
       "    <tr>\n",
       "      <th>11</th>\n",
       "      <td>0</td>\n",
       "      <td>0</td>\n",
       "      <td>10</td>\n",
       "      <td>8</td>\n",
       "    </tr>\n",
       "    <tr>\n",
       "      <th>12</th>\n",
       "      <td>0</td>\n",
       "      <td>0</td>\n",
       "      <td>7</td>\n",
       "      <td>4</td>\n",
       "    </tr>\n",
       "    <tr>\n",
       "      <th>14</th>\n",
       "      <td>0</td>\n",
       "      <td>0</td>\n",
       "      <td>1</td>\n",
       "      <td>0</td>\n",
       "    </tr>\n",
       "  </tbody>\n",
       "</table>\n",
       "</div>"
      ],
      "text/plain": [
       "FullBath      0    1    2  3\n",
       "TotRmsAbvGrd                \n",
       "2             0    1    0  0\n",
       "3             1   16    0  0\n",
       "4             4   79   14  0\n",
       "5             1  210   63  1\n",
       "6             2  226  174  0\n",
       "7             1   80  245  3\n",
       "8             0   29  154  4\n",
       "9             0    8   61  6\n",
       "10            0    1   39  7\n",
       "11            0    0   10  8\n",
       "12            0    0    7  4\n",
       "14            0    0    1  0"
      ]
     },
     "execution_count": 104,
     "metadata": {},
     "output_type": "execute_result"
    },
    {
     "data": {
      "application/javascript": [
       "\n",
       "            setTimeout(function() {\n",
       "                var nbb_cell_id = 104;\n",
       "                var nbb_unformatted_code = \"table_TF = pd.crosstab(df.TotRmsAbvGrd, df.FullBath)\\ntable_TF\";\n",
       "                var nbb_formatted_code = \"table_TF = pd.crosstab(df.TotRmsAbvGrd, df.FullBath)\\ntable_TF\";\n",
       "                var nbb_cells = Jupyter.notebook.get_cells();\n",
       "                for (var i = 0; i < nbb_cells.length; ++i) {\n",
       "                    if (nbb_cells[i].input_prompt_number == nbb_cell_id) {\n",
       "                        if (nbb_cells[i].get_text() == nbb_unformatted_code) {\n",
       "                             nbb_cells[i].set_text(nbb_formatted_code);\n",
       "                        }\n",
       "                        break;\n",
       "                    }\n",
       "                }\n",
       "            }, 500);\n",
       "            "
      ],
      "text/plain": [
       "<IPython.core.display.Javascript object>"
      ]
     },
     "metadata": {},
     "output_type": "display_data"
    }
   ],
   "source": [
    "table_TF = pd.crosstab(df.TotRmsAbvGrd, df.FullBath)\n",
    "table_TF"
   ]
  },
  {
   "cell_type": "code",
   "execution_count": 106,
   "id": "307d0d54",
   "metadata": {},
   "outputs": [
    {
     "data": {
      "application/javascript": [
       "\n",
       "            setTimeout(function() {\n",
       "                var nbb_cell_id = 106;\n",
       "                var nbb_unformatted_code = \"stat, p_value, dof, expected = scipy.stats.chi2_contingency(table_TF)\";\n",
       "                var nbb_formatted_code = \"stat, p_value, dof, expected = scipy.stats.chi2_contingency(table_TF)\";\n",
       "                var nbb_cells = Jupyter.notebook.get_cells();\n",
       "                for (var i = 0; i < nbb_cells.length; ++i) {\n",
       "                    if (nbb_cells[i].input_prompt_number == nbb_cell_id) {\n",
       "                        if (nbb_cells[i].get_text() == nbb_unformatted_code) {\n",
       "                             nbb_cells[i].set_text(nbb_formatted_code);\n",
       "                        }\n",
       "                        break;\n",
       "                    }\n",
       "                }\n",
       "            }, 500);\n",
       "            "
      ],
      "text/plain": [
       "<IPython.core.display.Javascript object>"
      ]
     },
     "metadata": {},
     "output_type": "display_data"
    }
   ],
   "source": [
    "stat, p_value, dof, expected = scipy.stats.chi2_contingency(table_TF)"
   ]
  },
  {
   "cell_type": "code",
   "execution_count": 107,
   "id": "5a36efe6",
   "metadata": {},
   "outputs": [
    {
     "name": "stdout",
     "output_type": "stream",
     "text": [
      "Statistic:  694.2666939982373\n",
      "p-value:  8.398586715893504e-125\n",
      "Dof:  33\n"
     ]
    },
    {
     "data": {
      "application/javascript": [
       "\n",
       "            setTimeout(function() {\n",
       "                var nbb_cell_id = 107;\n",
       "                var nbb_unformatted_code = \"print('Statistic: ', stat)\\nprint('p-value: ', p_value)\\nprint('Dof: ', dof)\";\n",
       "                var nbb_formatted_code = \"print(\\\"Statistic: \\\", stat)\\nprint(\\\"p-value: \\\", p_value)\\nprint(\\\"Dof: \\\", dof)\";\n",
       "                var nbb_cells = Jupyter.notebook.get_cells();\n",
       "                for (var i = 0; i < nbb_cells.length; ++i) {\n",
       "                    if (nbb_cells[i].input_prompt_number == nbb_cell_id) {\n",
       "                        if (nbb_cells[i].get_text() == nbb_unformatted_code) {\n",
       "                             nbb_cells[i].set_text(nbb_formatted_code);\n",
       "                        }\n",
       "                        break;\n",
       "                    }\n",
       "                }\n",
       "            }, 500);\n",
       "            "
      ],
      "text/plain": [
       "<IPython.core.display.Javascript object>"
      ]
     },
     "metadata": {},
     "output_type": "display_data"
    }
   ],
   "source": [
    "print(\"Statistic: \", stat)\n",
    "print(\"p-value: \", p_value)\n",
    "print(\"Dof: \", dof)"
   ]
  },
  {
   "cell_type": "code",
   "execution_count": 111,
   "id": "d4180d10",
   "metadata": {},
   "outputs": [
    {
     "data": {
      "text/plain": [
       "47.39988391908093"
      ]
     },
     "execution_count": 111,
     "metadata": {},
     "output_type": "execute_result"
    },
    {
     "data": {
      "application/javascript": [
       "\n",
       "            setTimeout(function() {\n",
       "                var nbb_cell_id = 111;\n",
       "                var nbb_unformatted_code = \"prob = 0.95\\ncritical = scipy.stats.chi2.ppf(prob, dof)\\ncritical\";\n",
       "                var nbb_formatted_code = \"prob = 0.95\\ncritical = scipy.stats.chi2.ppf(prob, dof)\\ncritical\";\n",
       "                var nbb_cells = Jupyter.notebook.get_cells();\n",
       "                for (var i = 0; i < nbb_cells.length; ++i) {\n",
       "                    if (nbb_cells[i].input_prompt_number == nbb_cell_id) {\n",
       "                        if (nbb_cells[i].get_text() == nbb_unformatted_code) {\n",
       "                             nbb_cells[i].set_text(nbb_formatted_code);\n",
       "                        }\n",
       "                        break;\n",
       "                    }\n",
       "                }\n",
       "            }, 500);\n",
       "            "
      ],
      "text/plain": [
       "<IPython.core.display.Javascript object>"
      ]
     },
     "metadata": {},
     "output_type": "display_data"
    }
   ],
   "source": [
    "prob = 0.95\n",
    "critical = scipy.stats.chi2.ppf(prob, dof)\n",
    "critical"
   ]
  },
  {
   "cell_type": "code",
   "execution_count": 112,
   "id": "67859b3e",
   "metadata": {},
   "outputs": [
    {
     "name": "stdout",
     "output_type": "stream",
     "text": [
      "Independent (fail to reject H0)\n"
     ]
    },
    {
     "data": {
      "application/javascript": [
       "\n",
       "            setTimeout(function() {\n",
       "                var nbb_cell_id = 112;\n",
       "                var nbb_unformatted_code = \"if abs(critical) >= stat:\\n    print('Dependent (reject H0)')\\nelse:\\n    print('Independent (fail to reject H0)')\";\n",
       "                var nbb_formatted_code = \"if abs(critical) >= stat:\\n    print(\\\"Dependent (reject H0)\\\")\\nelse:\\n    print(\\\"Independent (fail to reject H0)\\\")\";\n",
       "                var nbb_cells = Jupyter.notebook.get_cells();\n",
       "                for (var i = 0; i < nbb_cells.length; ++i) {\n",
       "                    if (nbb_cells[i].input_prompt_number == nbb_cell_id) {\n",
       "                        if (nbb_cells[i].get_text() == nbb_unformatted_code) {\n",
       "                             nbb_cells[i].set_text(nbb_formatted_code);\n",
       "                        }\n",
       "                        break;\n",
       "                    }\n",
       "                }\n",
       "            }, 500);\n",
       "            "
      ],
      "text/plain": [
       "<IPython.core.display.Javascript object>"
      ]
     },
     "metadata": {},
     "output_type": "display_data"
    }
   ],
   "source": [
    "if abs(critical) >= stat:\n",
    "    print(\"Dependent (reject H0)\")\n",
    "else:\n",
    "    print(\"Independent (fail to reject H0)\")"
   ]
  },
  {
   "cell_type": "code",
   "execution_count": 113,
   "id": "4781f5b7",
   "metadata": {},
   "outputs": [
    {
     "data": {
      "text/plain": [
       "'\\nTotRmsAbvGrd và FullBath với H0 là 2 biến độc lập\\n'"
      ]
     },
     "execution_count": 113,
     "metadata": {},
     "output_type": "execute_result"
    },
    {
     "data": {
      "application/javascript": [
       "\n",
       "            setTimeout(function() {\n",
       "                var nbb_cell_id = 113;\n",
       "                var nbb_unformatted_code = \"'''\\nTotRmsAbvGrd v\\u00e0 FullBath v\\u1edbi H0 l\\u00e0 2 bi\\u1ebfn \\u0111\\u1ed9c l\\u1eadp\\n'''\";\n",
       "                var nbb_formatted_code = \"\\\"\\\"\\\"\\nTotRmsAbvGrd v\\u00e0 FullBath v\\u1edbi H0 l\\u00e0 2 bi\\u1ebfn \\u0111\\u1ed9c l\\u1eadp\\n\\\"\\\"\\\"\";\n",
       "                var nbb_cells = Jupyter.notebook.get_cells();\n",
       "                for (var i = 0; i < nbb_cells.length; ++i) {\n",
       "                    if (nbb_cells[i].input_prompt_number == nbb_cell_id) {\n",
       "                        if (nbb_cells[i].get_text() == nbb_unformatted_code) {\n",
       "                             nbb_cells[i].set_text(nbb_formatted_code);\n",
       "                        }\n",
       "                        break;\n",
       "                    }\n",
       "                }\n",
       "            }, 500);\n",
       "            "
      ],
      "text/plain": [
       "<IPython.core.display.Javascript object>"
      ]
     },
     "metadata": {},
     "output_type": "display_data"
    }
   ],
   "source": [
    "\"\"\"\n",
    "TotRmsAbvGrd và FullBath với H0 là 2 biến độc lập\n",
    "\"\"\""
   ]
  },
  {
   "cell_type": "markdown",
   "id": "a577da8c",
   "metadata": {},
   "source": [
    "### Categorical & Continuous\n",
    "- Tìm hiểu 'FullBath' có bị ảnh hưởng bởi 'LotArea'? => ANOVA ONEWAY"
   ]
  },
  {
   "cell_type": "markdown",
   "id": "2388f556",
   "metadata": {},
   "source": [
    "#### Visualization"
   ]
  },
  {
   "cell_type": "code",
   "execution_count": 125,
   "id": "273e1b4b",
   "metadata": {},
   "outputs": [
    {
     "data": {
      "image/png": "[encoded data removed]",
      "text/plain": [
       "<Figure size 864x720 with 1 Axes>"
      ]
     },
     "metadata": {},
     "output_type": "display_data"
    },
    {
     "data": {
      "application/javascript": [
       "\n",
       "            setTimeout(function() {\n",
       "                var nbb_cell_id = 125;\n",
       "                var nbb_unformatted_code = \"plt.figure(figsize=(12, 10))\\nsns.boxplot(data=df, x=\\\"FullBath\\\", y=\\\"LotArea\\\", palette=\\\"Set3\\\")\\nplt.show()\";\n",
       "                var nbb_formatted_code = \"plt.figure(figsize=(12, 10))\\nsns.boxplot(data=df, x=\\\"FullBath\\\", y=\\\"LotArea\\\", palette=\\\"Set3\\\")\\nplt.show()\";\n",
       "                var nbb_cells = Jupyter.notebook.get_cells();\n",
       "                for (var i = 0; i < nbb_cells.length; ++i) {\n",
       "                    if (nbb_cells[i].input_prompt_number == nbb_cell_id) {\n",
       "                        if (nbb_cells[i].get_text() == nbb_unformatted_code) {\n",
       "                             nbb_cells[i].set_text(nbb_formatted_code);\n",
       "                        }\n",
       "                        break;\n",
       "                    }\n",
       "                }\n",
       "            }, 500);\n",
       "            "
      ],
      "text/plain": [
       "<IPython.core.display.Javascript object>"
      ]
     },
     "metadata": {},
     "output_type": "display_data"
    }
   ],
   "source": [
    "plt.figure(figsize=(12, 10))\n",
    "sns.boxplot(data=df, x=\"FullBath\", y=\"LotArea\", palette=\"Set3\")\n",
    "plt.show()"
   ]
  },
  {
   "cell_type": "code",
   "execution_count": 126,
   "id": "a3cb366e",
   "metadata": {},
   "outputs": [
    {
     "data": {
      "application/javascript": [
       "\n",
       "            setTimeout(function() {\n",
       "                var nbb_cell_id = 126;\n",
       "                var nbb_unformatted_code = \"model = ols('LotArea ~ C(FullBath)', data = df).fit()\";\n",
       "                var nbb_formatted_code = \"model = ols(\\\"LotArea ~ C(FullBath)\\\", data=df).fit()\";\n",
       "                var nbb_cells = Jupyter.notebook.get_cells();\n",
       "                for (var i = 0; i < nbb_cells.length; ++i) {\n",
       "                    if (nbb_cells[i].input_prompt_number == nbb_cell_id) {\n",
       "                        if (nbb_cells[i].get_text() == nbb_unformatted_code) {\n",
       "                             nbb_cells[i].set_text(nbb_formatted_code);\n",
       "                        }\n",
       "                        break;\n",
       "                    }\n",
       "                }\n",
       "            }, 500);\n",
       "            "
      ],
      "text/plain": [
       "<IPython.core.display.Javascript object>"
      ]
     },
     "metadata": {},
     "output_type": "display_data"
    }
   ],
   "source": [
    "model = ols(\"LotArea ~ C(FullBath)\", data=df).fit()"
   ]
  },
  {
   "cell_type": "code",
   "execution_count": 127,
   "id": "156cf9ea",
   "metadata": {},
   "outputs": [
    {
     "data": {
      "text/html": [
       "<div>\n",
       "<style scoped>\n",
       "    .dataframe tbody tr th:only-of-type {\n",
       "        vertical-align: middle;\n",
       "    }\n",
       "\n",
       "    .dataframe tbody tr th {\n",
       "        vertical-align: top;\n",
       "    }\n",
       "\n",
       "    .dataframe thead th {\n",
       "        text-align: right;\n",
       "    }\n",
       "</style>\n",
       "<table border=\"1\" class=\"dataframe\">\n",
       "  <thead>\n",
       "    <tr style=\"text-align: right;\">\n",
       "      <th></th>\n",
       "      <th>df</th>\n",
       "      <th>sum_sq</th>\n",
       "      <th>mean_sq</th>\n",
       "      <th>F</th>\n",
       "      <th>PR(&gt;F)</th>\n",
       "    </tr>\n",
       "  </thead>\n",
       "  <tbody>\n",
       "    <tr>\n",
       "      <th>C(FullBath)</th>\n",
       "      <td>3.0</td>\n",
       "      <td>3.332090e+09</td>\n",
       "      <td>1.110697e+09</td>\n",
       "      <td>11.386809</td>\n",
       "      <td>2.207543e-07</td>\n",
       "    </tr>\n",
       "    <tr>\n",
       "      <th>Residual</th>\n",
       "      <td>1456.0</td>\n",
       "      <td>1.420217e+11</td>\n",
       "      <td>9.754240e+07</td>\n",
       "      <td>NaN</td>\n",
       "      <td>NaN</td>\n",
       "    </tr>\n",
       "  </tbody>\n",
       "</table>\n",
       "</div>"
      ],
      "text/plain": [
       "                 df        sum_sq       mean_sq          F        PR(>F)\n",
       "C(FullBath)     3.0  3.332090e+09  1.110697e+09  11.386809  2.207543e-07\n",
       "Residual     1456.0  1.420217e+11  9.754240e+07        NaN           NaN"
      ]
     },
     "execution_count": 127,
     "metadata": {},
     "output_type": "execute_result"
    },
    {
     "data": {
      "application/javascript": [
       "\n",
       "            setTimeout(function() {\n",
       "                var nbb_cell_id = 127;\n",
       "                var nbb_unformatted_code = \"anova_table = sm.stats.anova_lm(model)\\nanova_table\";\n",
       "                var nbb_formatted_code = \"anova_table = sm.stats.anova_lm(model)\\nanova_table\";\n",
       "                var nbb_cells = Jupyter.notebook.get_cells();\n",
       "                for (var i = 0; i < nbb_cells.length; ++i) {\n",
       "                    if (nbb_cells[i].input_prompt_number == nbb_cell_id) {\n",
       "                        if (nbb_cells[i].get_text() == nbb_unformatted_code) {\n",
       "                             nbb_cells[i].set_text(nbb_formatted_code);\n",
       "                        }\n",
       "                        break;\n",
       "                    }\n",
       "                }\n",
       "            }, 500);\n",
       "            "
      ],
      "text/plain": [
       "<IPython.core.display.Javascript object>"
      ]
     },
     "metadata": {},
     "output_type": "display_data"
    }
   ],
   "source": [
    "anova_table = sm.stats.anova_lm(model)\n",
    "anova_table"
   ]
  },
  {
   "cell_type": "markdown",
   "id": "2fbfe30f",
   "metadata": {},
   "source": [
    "p value thu dc từ phân tích ANOVA có ý nghĩa thống kê (P < 5%)\n",
    "Kết luận: LotArea ảnh hưởng đáng kể đến FullBath"
   ]
  },
  {
   "cell_type": "code",
   "execution_count": 128,
   "id": "49af7cd7",
   "metadata": {},
   "outputs": [
    {
     "data": {
      "text/plain": [
       "'\\np value thu dc từ phân tích ANOVA có ý nghĩa thống kê (P < 5%)\\nKết luận: LotArea ảnh hưởng đáng kể đến FullBath\\n'"
      ]
     },
     "execution_count": 128,
     "metadata": {},
     "output_type": "execute_result"
    },
    {
     "data": {
      "application/javascript": [
       "\n",
       "            setTimeout(function() {\n",
       "                var nbb_cell_id = 128;\n",
       "                var nbb_unformatted_code = \"'''\\np value thu dc t\\u1eeb ph\\u00e2n t\\u00edch ANOVA c\\u00f3 \\u00fd ngh\\u0129a th\\u1ed1ng k\\u00ea (P < 5%)\\nK\\u1ebft lu\\u1eadn: LotArea \\u1ea3nh h\\u01b0\\u1edfng \\u0111\\u00e1ng k\\u1ec3 \\u0111\\u1ebfn FullBath\\n'''\";\n",
       "                var nbb_formatted_code = \"\\\"\\\"\\\"\\np value thu dc t\\u1eeb ph\\u00e2n t\\u00edch ANOVA c\\u00f3 \\u00fd ngh\\u0129a th\\u1ed1ng k\\u00ea (P < 5%)\\nK\\u1ebft lu\\u1eadn: LotArea \\u1ea3nh h\\u01b0\\u1edfng \\u0111\\u00e1ng k\\u1ec3 \\u0111\\u1ebfn FullBath\\n\\\"\\\"\\\"\";\n",
       "                var nbb_cells = Jupyter.notebook.get_cells();\n",
       "                for (var i = 0; i < nbb_cells.length; ++i) {\n",
       "                    if (nbb_cells[i].input_prompt_number == nbb_cell_id) {\n",
       "                        if (nbb_cells[i].get_text() == nbb_unformatted_code) {\n",
       "                             nbb_cells[i].set_text(nbb_formatted_code);\n",
       "                        }\n",
       "                        break;\n",
       "                    }\n",
       "                }\n",
       "            }, 500);\n",
       "            "
      ],
      "text/plain": [
       "<IPython.core.display.Javascript object>"
      ]
     },
     "metadata": {},
     "output_type": "display_data"
    }
   ],
   "source": [
    "\"\"\"\n",
    "p value thu dc từ phân tích ANOVA có ý nghĩa thống kê (P < 5%)\n",
    "Kết luận: LotArea ảnh hưởng đáng kể đến FullBath\n",
    "\"\"\""
   ]
  },
  {
   "cell_type": "code",
   "execution_count": 131,
   "id": "534c712d",
   "metadata": {},
   "outputs": [
    {
     "name": "stdout",
     "output_type": "stream",
     "text": [
      "     Multiple Comparison of Means - Tukey HSD, FWER=0.05     \n",
      "=============================================================\n",
      "group1 group2  meandiff  p-adj     lower      upper    reject\n",
      "-------------------------------------------------------------\n",
      "     0      1 -5695.6583 0.3146 -14221.4451  2830.1286  False\n",
      "     0      2 -3587.0109 0.6772  -12103.848  4929.8263  False\n",
      "     0      3  2477.0404    0.9  -7075.4392   12029.52  False\n",
      "     1      2  2108.6474  0.001    754.7975  3462.4974   True\n",
      "     1      3  8172.6987  0.001   3639.9003 12705.4971   True\n",
      "     2      3  6064.0513 0.0032   1548.1091 10579.9935   True\n",
      "-------------------------------------------------------------\n"
     ]
    },
    {
     "data": {
      "application/javascript": [
       "\n",
       "            setTimeout(function() {\n",
       "                var nbb_cell_id = 131;\n",
       "                var nbb_unformatted_code = \"# perform multiple pairwise comparison (Tukey HSD)\\nm_comp = pairwise_tukeyhsd(\\n    endog=df[\\\"LotArea\\\"], groups=df[\\\"FullBath\\\"], alpha=0.05\\n)\\n\\nprint(m_comp)\";\n",
       "                var nbb_formatted_code = \"# perform multiple pairwise comparison (Tukey HSD)\\nm_comp = pairwise_tukeyhsd(endog=df[\\\"LotArea\\\"], groups=df[\\\"FullBath\\\"], alpha=0.05)\\n\\nprint(m_comp)\";\n",
       "                var nbb_cells = Jupyter.notebook.get_cells();\n",
       "                for (var i = 0; i < nbb_cells.length; ++i) {\n",
       "                    if (nbb_cells[i].input_prompt_number == nbb_cell_id) {\n",
       "                        if (nbb_cells[i].get_text() == nbb_unformatted_code) {\n",
       "                             nbb_cells[i].set_text(nbb_formatted_code);\n",
       "                        }\n",
       "                        break;\n",
       "                    }\n",
       "                }\n",
       "            }, 500);\n",
       "            "
      ],
      "text/plain": [
       "<IPython.core.display.Javascript object>"
      ]
     },
     "metadata": {},
     "output_type": "display_data"
    }
   ],
   "source": [
    "# perform multiple pairwise comparison (Tukey HSD)\n",
    "m_comp = pairwise_tukeyhsd(endog=df[\"LotArea\"], groups=df[\"FullBath\"], alpha=0.05)\n",
    "\n",
    "print(m_comp)"
   ]
  },
  {
   "cell_type": "markdown",
   "id": "0daaa6a6",
   "metadata": {},
   "source": [
    "Các kết quả trên từ Tukey HSD cho thấy 0-1, 0-2, 0-3: chấp nhận Ho, các so sánh cặp khác\\\n",
    "về số phòng bác bỏ Ho và chỉ ra sự khác biệt đáng kể về mặt thống kê."
   ]
  },
  {
   "cell_type": "code",
   "execution_count": 132,
   "id": "586c40b6",
   "metadata": {},
   "outputs": [
    {
     "data": {
      "text/plain": [
       "'\\nCác kết quả trên từ Tukey HSD cho thấy 0-1, 0-2, 0-3: chấp nhận Ho, các so sánh cặp khác\\nvề số phòng bác bỏ Ho và chỉ ra sự khác biệt đáng kể về mặt thống kê.\\n'"
      ]
     },
     "execution_count": 132,
     "metadata": {},
     "output_type": "execute_result"
    },
    {
     "data": {
      "application/javascript": [
       "\n",
       "            setTimeout(function() {\n",
       "                var nbb_cell_id = 132;\n",
       "                var nbb_unformatted_code = \"'''\\nC\\u00e1c k\\u1ebft qu\\u1ea3 tr\\u00ean t\\u1eeb Tukey HSD cho th\\u1ea5y 0-1, 0-2, 0-3: ch\\u1ea5p nh\\u1eadn Ho, c\\u00e1c so s\\u00e1nh c\\u1eb7p kh\\u00e1c\\nv\\u1ec1 s\\u1ed1 ph\\u00f2ng b\\u00e1c b\\u1ecf Ho v\\u00e0 ch\\u1ec9 ra s\\u1ef1 kh\\u00e1c bi\\u1ec7t \\u0111\\u00e1ng k\\u1ec3 v\\u1ec1 m\\u1eb7t th\\u1ed1ng k\\u00ea.\\n'''\";\n",
       "                var nbb_formatted_code = \"\\\"\\\"\\\"\\nC\\u00e1c k\\u1ebft qu\\u1ea3 tr\\u00ean t\\u1eeb Tukey HSD cho th\\u1ea5y 0-1, 0-2, 0-3: ch\\u1ea5p nh\\u1eadn Ho, c\\u00e1c so s\\u00e1nh c\\u1eb7p kh\\u00e1c\\nv\\u1ec1 s\\u1ed1 ph\\u00f2ng b\\u00e1c b\\u1ecf Ho v\\u00e0 ch\\u1ec9 ra s\\u1ef1 kh\\u00e1c bi\\u1ec7t \\u0111\\u00e1ng k\\u1ec3 v\\u1ec1 m\\u1eb7t th\\u1ed1ng k\\u00ea.\\n\\\"\\\"\\\"\";\n",
       "                var nbb_cells = Jupyter.notebook.get_cells();\n",
       "                for (var i = 0; i < nbb_cells.length; ++i) {\n",
       "                    if (nbb_cells[i].input_prompt_number == nbb_cell_id) {\n",
       "                        if (nbb_cells[i].get_text() == nbb_unformatted_code) {\n",
       "                             nbb_cells[i].set_text(nbb_formatted_code);\n",
       "                        }\n",
       "                        break;\n",
       "                    }\n",
       "                }\n",
       "            }, 500);\n",
       "            "
      ],
      "text/plain": [
       "<IPython.core.display.Javascript object>"
      ]
     },
     "metadata": {},
     "output_type": "display_data"
    }
   ],
   "source": [
    "\"\"\"\n",
    "Các kết quả trên từ Tukey HSD cho thấy 0-1, 0-2, 0-3: chấp nhận Ho, các so sánh cặp khác\n",
    "về số phòng bác bỏ Ho và chỉ ra sự khác biệt đáng kể về mặt thống kê.\n",
    "\"\"\""
   ]
  },
  {
   "cell_type": "markdown",
   "id": "7a65a5cf",
   "metadata": {},
   "source": [
    "## C. Kiểm tra và thay thế dữ liệu bị thiếu"
   ]
  },
  {
   "cell_type": "code",
   "execution_count": 134,
   "id": "226730f3",
   "metadata": {},
   "outputs": [
    {
     "name": "stdout",
     "output_type": "stream",
     "text": [
      "<class 'pandas.core.frame.DataFrame'>\n",
      "RangeIndex: 1460 entries, 0 to 1459\n",
      "Data columns (total 7 columns):\n",
      " #   Column        Non-Null Count  Dtype\n",
      "---  ------        --------------  -----\n",
      " 0   LotArea       1460 non-null   int64\n",
      " 1   YearBuilt     1460 non-null   int64\n",
      " 2   1stFlrSF      1460 non-null   int64\n",
      " 3   2ndFlrSF      1460 non-null   int64\n",
      " 4   FullBath      1460 non-null   int64\n",
      " 5   BedroomAbvGr  1460 non-null   int64\n",
      " 6   TotRmsAbvGrd  1460 non-null   int64\n",
      "dtypes: int64(7)\n",
      "memory usage: 80.0 KB\n"
     ]
    },
    {
     "data": {
      "application/javascript": [
       "\n",
       "            setTimeout(function() {\n",
       "                var nbb_cell_id = 134;\n",
       "                var nbb_unformatted_code = \"df.info()\";\n",
       "                var nbb_formatted_code = \"df.info()\";\n",
       "                var nbb_cells = Jupyter.notebook.get_cells();\n",
       "                for (var i = 0; i < nbb_cells.length; ++i) {\n",
       "                    if (nbb_cells[i].input_prompt_number == nbb_cell_id) {\n",
       "                        if (nbb_cells[i].get_text() == nbb_unformatted_code) {\n",
       "                             nbb_cells[i].set_text(nbb_formatted_code);\n",
       "                        }\n",
       "                        break;\n",
       "                    }\n",
       "                }\n",
       "            }, 500);\n",
       "            "
      ],
      "text/plain": [
       "<IPython.core.display.Javascript object>"
      ]
     },
     "metadata": {},
     "output_type": "display_data"
    }
   ],
   "source": [
    "df.info()"
   ]
  },
  {
   "cell_type": "code",
   "execution_count": 137,
   "id": "ae3090e6",
   "metadata": {},
   "outputs": [
    {
     "data": {
      "text/plain": [
       "LotArea         0\n",
       "YearBuilt       0\n",
       "1stFlrSF        0\n",
       "2ndFlrSF        0\n",
       "FullBath        0\n",
       "BedroomAbvGr    0\n",
       "TotRmsAbvGrd    0\n",
       "dtype: int64"
      ]
     },
     "execution_count": 137,
     "metadata": {},
     "output_type": "execute_result"
    },
    {
     "data": {
      "application/javascript": [
       "\n",
       "            setTimeout(function() {\n",
       "                var nbb_cell_id = 137;\n",
       "                var nbb_unformatted_code = \"df.isnull().sum()\";\n",
       "                var nbb_formatted_code = \"df.isnull().sum()\";\n",
       "                var nbb_cells = Jupyter.notebook.get_cells();\n",
       "                for (var i = 0; i < nbb_cells.length; ++i) {\n",
       "                    if (nbb_cells[i].input_prompt_number == nbb_cell_id) {\n",
       "                        if (nbb_cells[i].get_text() == nbb_unformatted_code) {\n",
       "                             nbb_cells[i].set_text(nbb_formatted_code);\n",
       "                        }\n",
       "                        break;\n",
       "                    }\n",
       "                }\n",
       "            }, 500);\n",
       "            "
      ],
      "text/plain": [
       "<IPython.core.display.Javascript object>"
      ]
     },
     "metadata": {},
     "output_type": "display_data"
    }
   ],
   "source": [
    "df.isnull().sum()"
   ]
  },
  {
   "cell_type": "code",
   "execution_count": 138,
   "id": "6c43043a",
   "metadata": {},
   "outputs": [
    {
     "data": {
      "text/plain": [
       "'\\nquan sát bảng df.isnull().sum(), ta thấy ko có dữ liệu nào bị thiếu.\\n'"
      ]
     },
     "execution_count": 138,
     "metadata": {},
     "output_type": "execute_result"
    },
    {
     "data": {
      "application/javascript": [
       "\n",
       "            setTimeout(function() {\n",
       "                var nbb_cell_id = 138;\n",
       "                var nbb_unformatted_code = \"'''\\nquan s\\u00e1t b\\u1ea3ng df.isnull().sum(), ta th\\u1ea5y ko c\\u00f3 d\\u1eef li\\u1ec7u n\\u00e0o b\\u1ecb thi\\u1ebfu.\\n'''\";\n",
       "                var nbb_formatted_code = \"\\\"\\\"\\\"\\nquan s\\u00e1t b\\u1ea3ng df.isnull().sum(), ta th\\u1ea5y ko c\\u00f3 d\\u1eef li\\u1ec7u n\\u00e0o b\\u1ecb thi\\u1ebfu.\\n\\\"\\\"\\\"\";\n",
       "                var nbb_cells = Jupyter.notebook.get_cells();\n",
       "                for (var i = 0; i < nbb_cells.length; ++i) {\n",
       "                    if (nbb_cells[i].input_prompt_number == nbb_cell_id) {\n",
       "                        if (nbb_cells[i].get_text() == nbb_unformatted_code) {\n",
       "                             nbb_cells[i].set_text(nbb_formatted_code);\n",
       "                        }\n",
       "                        break;\n",
       "                    }\n",
       "                }\n",
       "            }, 500);\n",
       "            "
      ],
      "text/plain": [
       "<IPython.core.display.Javascript object>"
      ]
     },
     "metadata": {},
     "output_type": "display_data"
    }
   ],
   "source": [
    "\"\"\"\n",
    "quan sát bảng df.isnull().sum(), ta thấy ko có dữ liệu nào bị thiếu.\n",
    "\"\"\""
   ]
  },
  {
   "cell_type": "markdown",
   "id": "926dd243",
   "metadata": {},
   "source": [
    "## D. Phát hiện và xử lý outliers"
   ]
  },
  {
   "cell_type": "code",
   "execution_count": 141,
   "id": "e5125973",
   "metadata": {},
   "outputs": [
    {
     "data": {
      "application/javascript": [
       "\n",
       "            setTimeout(function() {\n",
       "                var nbb_cell_id = 141;\n",
       "                var nbb_unformatted_code = \"fetures = ['LotArea', 'YearBuilt', '1stFlrSF', '2ndFlrSF', 'FullBath', 'BedroomAbvGr', 'TotRmsAbvGrd']\";\n",
       "                var nbb_formatted_code = \"fetures = [\\n    \\\"LotArea\\\",\\n    \\\"YearBuilt\\\",\\n    \\\"1stFlrSF\\\",\\n    \\\"2ndFlrSF\\\",\\n    \\\"FullBath\\\",\\n    \\\"BedroomAbvGr\\\",\\n    \\\"TotRmsAbvGrd\\\",\\n]\";\n",
       "                var nbb_cells = Jupyter.notebook.get_cells();\n",
       "                for (var i = 0; i < nbb_cells.length; ++i) {\n",
       "                    if (nbb_cells[i].input_prompt_number == nbb_cell_id) {\n",
       "                        if (nbb_cells[i].get_text() == nbb_unformatted_code) {\n",
       "                             nbb_cells[i].set_text(nbb_formatted_code);\n",
       "                        }\n",
       "                        break;\n",
       "                    }\n",
       "                }\n",
       "            }, 500);\n",
       "            "
      ],
      "text/plain": [
       "<IPython.core.display.Javascript object>"
      ]
     },
     "metadata": {},
     "output_type": "display_data"
    }
   ],
   "source": [
    "fetures = [\n",
    "    \"LotArea\",\n",
    "    \"YearBuilt\",\n",
    "    \"1stFlrSF\",\n",
    "    \"2ndFlrSF\",\n",
    "    \"FullBath\",\n",
    "    \"BedroomAbvGr\",\n",
    "    \"TotRmsAbvGrd\",\n",
    "]"
   ]
  },
  {
   "cell_type": "code",
   "execution_count": 145,
   "id": "66cf8717",
   "metadata": {},
   "outputs": [
    {
     "data": {
      "image/png": "[encoded data removed]",
      "text/plain": [
       "<Figure size 1260x1260 with 56 Axes>"
      ]
     },
     "metadata": {},
     "output_type": "display_data"
    },
    {
     "data": {
      "application/javascript": [
       "\n",
       "            setTimeout(function() {\n",
       "                var nbb_cell_id = 145;\n",
       "                var nbb_unformatted_code = \"sns.pairplot(df[fetures])\\nplt.show()\";\n",
       "                var nbb_formatted_code = \"sns.pairplot(df[fetures])\\nplt.show()\";\n",
       "                var nbb_cells = Jupyter.notebook.get_cells();\n",
       "                for (var i = 0; i < nbb_cells.length; ++i) {\n",
       "                    if (nbb_cells[i].input_prompt_number == nbb_cell_id) {\n",
       "                        if (nbb_cells[i].get_text() == nbb_unformatted_code) {\n",
       "                             nbb_cells[i].set_text(nbb_formatted_code);\n",
       "                        }\n",
       "                        break;\n",
       "                    }\n",
       "                }\n",
       "            }, 500);\n",
       "            "
      ],
      "text/plain": [
       "<IPython.core.display.Javascript object>"
      ]
     },
     "metadata": {},
     "output_type": "display_data"
    }
   ],
   "source": [
    "sns.pairplot(df[fetures])\n",
    "plt.show()"
   ]
  },
  {
   "cell_type": "markdown",
   "id": "f8c1c07a",
   "metadata": {},
   "source": [
    "### Xét biến 1stFlrSF"
   ]
  },
  {
   "cell_type": "code",
   "execution_count": 146,
   "id": "9a31f5fd",
   "metadata": {},
   "outputs": [
    {
     "data": {
      "image/png": "[encoded data removed]",
      "text/plain": [
       "<Figure size 432x288 with 1 Axes>"
      ]
     },
     "metadata": {},
     "output_type": "display_data"
    },
    {
     "data": {
      "application/javascript": [
       "\n",
       "            setTimeout(function() {\n",
       "                var nbb_cell_id = 146;\n",
       "                var nbb_unformatted_code = \"plt.boxplot(df['1stFlrSF'])\\nplt.show()\";\n",
       "                var nbb_formatted_code = \"plt.boxplot(df[\\\"1stFlrSF\\\"])\\nplt.show()\";\n",
       "                var nbb_cells = Jupyter.notebook.get_cells();\n",
       "                for (var i = 0; i < nbb_cells.length; ++i) {\n",
       "                    if (nbb_cells[i].input_prompt_number == nbb_cell_id) {\n",
       "                        if (nbb_cells[i].get_text() == nbb_unformatted_code) {\n",
       "                             nbb_cells[i].set_text(nbb_formatted_code);\n",
       "                        }\n",
       "                        break;\n",
       "                    }\n",
       "                }\n",
       "            }, 500);\n",
       "            "
      ],
      "text/plain": [
       "<IPython.core.display.Javascript object>"
      ]
     },
     "metadata": {},
     "output_type": "display_data"
    }
   ],
   "source": [
    "plt.boxplot(df[\"1stFlrSF\"])\n",
    "plt.show()"
   ]
  },
  {
   "cell_type": "code",
   "execution_count": 159,
   "id": "0de08124",
   "metadata": {},
   "outputs": [
    {
     "data": {
      "application/javascript": [
       "\n",
       "            setTimeout(function() {\n",
       "                var nbb_cell_id = 159;\n",
       "                var nbb_unformatted_code = \"Q11 = np.percentile(df['1stFlrSF'], 25)\\nQ31 = np.percentile(df['1stFlrSF'], 75)\\nIQR1 = scipy.stats.iqr(df['1stFlrSF'])\";\n",
       "                var nbb_formatted_code = \"Q11 = np.percentile(df[\\\"1stFlrSF\\\"], 25)\\nQ31 = np.percentile(df[\\\"1stFlrSF\\\"], 75)\\nIQR1 = scipy.stats.iqr(df[\\\"1stFlrSF\\\"])\";\n",
       "                var nbb_cells = Jupyter.notebook.get_cells();\n",
       "                for (var i = 0; i < nbb_cells.length; ++i) {\n",
       "                    if (nbb_cells[i].input_prompt_number == nbb_cell_id) {\n",
       "                        if (nbb_cells[i].get_text() == nbb_unformatted_code) {\n",
       "                             nbb_cells[i].set_text(nbb_formatted_code);\n",
       "                        }\n",
       "                        break;\n",
       "                    }\n",
       "                }\n",
       "            }, 500);\n",
       "            "
      ],
      "text/plain": [
       "<IPython.core.display.Javascript object>"
      ]
     },
     "metadata": {},
     "output_type": "display_data"
    }
   ],
   "source": [
    "Q11 = np.percentile(df[\"1stFlrSF\"], 25)\n",
    "Q31 = np.percentile(df[\"1stFlrSF\"], 75)\n",
    "IQR1 = scipy.stats.iqr(df[\"1stFlrSF\"])"
   ]
  },
  {
   "cell_type": "code",
   "execution_count": 160,
   "id": "2fc0ca30",
   "metadata": {},
   "outputs": [
    {
     "data": {
      "text/plain": [
       "20"
      ]
     },
     "execution_count": 160,
     "metadata": {},
     "output_type": "execute_result"
    },
    {
     "data": {
      "application/javascript": [
       "\n",
       "            setTimeout(function() {\n",
       "                var nbb_cell_id = 160;\n",
       "                var nbb_unformatted_code = \"# Number of upper outliers (x\\u00e9t upper outliers v\\u00ec d\\u1ef1a v\\u00e0o bi\\u1ec3u \\u0111\\u1ed3 boxplot, ko c\\u00f3 lower outliers)\\nn_O_upper1 = df[df['1stFlrSF'] > (Q31 + 1.5*IQR1)].shape[0]\\nn_O_upper1\";\n",
       "                var nbb_formatted_code = \"# Number of upper outliers (x\\u00e9t upper outliers v\\u00ec d\\u1ef1a v\\u00e0o bi\\u1ec3u \\u0111\\u1ed3 boxplot, ko c\\u00f3 lower outliers)\\nn_O_upper1 = df[df[\\\"1stFlrSF\\\"] > (Q31 + 1.5 * IQR1)].shape[0]\\nn_O_upper1\";\n",
       "                var nbb_cells = Jupyter.notebook.get_cells();\n",
       "                for (var i = 0; i < nbb_cells.length; ++i) {\n",
       "                    if (nbb_cells[i].input_prompt_number == nbb_cell_id) {\n",
       "                        if (nbb_cells[i].get_text() == nbb_unformatted_code) {\n",
       "                             nbb_cells[i].set_text(nbb_formatted_code);\n",
       "                        }\n",
       "                        break;\n",
       "                    }\n",
       "                }\n",
       "            }, 500);\n",
       "            "
      ],
      "text/plain": [
       "<IPython.core.display.Javascript object>"
      ]
     },
     "metadata": {},
     "output_type": "display_data"
    }
   ],
   "source": [
    "# Number of upper outliers (xét upper outliers vì dựa vào biểu đồ boxplot, ko có lower outliers)\n",
    "n_O_upper1 = df[df[\"1stFlrSF\"] > (Q31 + 1.5 * IQR1)].shape[0]\n",
    "n_O_upper1"
   ]
  },
  {
   "cell_type": "markdown",
   "id": "8da2f1f7",
   "metadata": {},
   "source": [
    "### Xét biến 2stFlrSF"
   ]
  },
  {
   "cell_type": "code",
   "execution_count": 161,
   "id": "64458aff",
   "metadata": {},
   "outputs": [
    {
     "data": {
      "image/png": "[encoded data removed]",
      "text/plain": [
       "<Figure size 432x288 with 1 Axes>"
      ]
     },
     "metadata": {},
     "output_type": "display_data"
    },
    {
     "data": {
      "application/javascript": [
       "\n",
       "            setTimeout(function() {\n",
       "                var nbb_cell_id = 161;\n",
       "                var nbb_unformatted_code = \"plt.boxplot(df['2ndFlrSF'])\\nplt.show()\";\n",
       "                var nbb_formatted_code = \"plt.boxplot(df[\\\"2ndFlrSF\\\"])\\nplt.show()\";\n",
       "                var nbb_cells = Jupyter.notebook.get_cells();\n",
       "                for (var i = 0; i < nbb_cells.length; ++i) {\n",
       "                    if (nbb_cells[i].input_prompt_number == nbb_cell_id) {\n",
       "                        if (nbb_cells[i].get_text() == nbb_unformatted_code) {\n",
       "                             nbb_cells[i].set_text(nbb_formatted_code);\n",
       "                        }\n",
       "                        break;\n",
       "                    }\n",
       "                }\n",
       "            }, 500);\n",
       "            "
      ],
      "text/plain": [
       "<IPython.core.display.Javascript object>"
      ]
     },
     "metadata": {},
     "output_type": "display_data"
    }
   ],
   "source": [
    "plt.boxplot(df[\"2ndFlrSF\"])\n",
    "plt.show()"
   ]
  },
  {
   "cell_type": "code",
   "execution_count": 162,
   "id": "0c700dab",
   "metadata": {},
   "outputs": [
    {
     "data": {
      "application/javascript": [
       "\n",
       "            setTimeout(function() {\n",
       "                var nbb_cell_id = 162;\n",
       "                var nbb_unformatted_code = \"Q12 = np.percentile(df['2ndFlrSF'], 25)\\nQ32 = np.percentile(df['2ndFlrSF'], 75)\\nIQR2 = scipy.stats.iqr(df['2ndFlrSF'])\";\n",
       "                var nbb_formatted_code = \"Q12 = np.percentile(df[\\\"2ndFlrSF\\\"], 25)\\nQ32 = np.percentile(df[\\\"2ndFlrSF\\\"], 75)\\nIQR2 = scipy.stats.iqr(df[\\\"2ndFlrSF\\\"])\";\n",
       "                var nbb_cells = Jupyter.notebook.get_cells();\n",
       "                for (var i = 0; i < nbb_cells.length; ++i) {\n",
       "                    if (nbb_cells[i].input_prompt_number == nbb_cell_id) {\n",
       "                        if (nbb_cells[i].get_text() == nbb_unformatted_code) {\n",
       "                             nbb_cells[i].set_text(nbb_formatted_code);\n",
       "                        }\n",
       "                        break;\n",
       "                    }\n",
       "                }\n",
       "            }, 500);\n",
       "            "
      ],
      "text/plain": [
       "<IPython.core.display.Javascript object>"
      ]
     },
     "metadata": {},
     "output_type": "display_data"
    }
   ],
   "source": [
    "Q12 = np.percentile(df[\"2ndFlrSF\"], 25)\n",
    "Q32 = np.percentile(df[\"2ndFlrSF\"], 75)\n",
    "IQR2 = scipy.stats.iqr(df[\"2ndFlrSF\"])"
   ]
  },
  {
   "cell_type": "code",
   "execution_count": 163,
   "id": "b037045f",
   "metadata": {},
   "outputs": [
    {
     "data": {
      "text/plain": [
       "2"
      ]
     },
     "execution_count": 163,
     "metadata": {},
     "output_type": "execute_result"
    },
    {
     "data": {
      "application/javascript": [
       "\n",
       "            setTimeout(function() {\n",
       "                var nbb_cell_id = 163;\n",
       "                var nbb_unformatted_code = \"# Number of upper outliers\\nn_O_upper2 = df[df['2ndFlrSF'] > (Q32 + 1.5*IQR2)].shape[0]\\nn_O_upper2\";\n",
       "                var nbb_formatted_code = \"# Number of upper outliers\\nn_O_upper2 = df[df[\\\"2ndFlrSF\\\"] > (Q32 + 1.5 * IQR2)].shape[0]\\nn_O_upper2\";\n",
       "                var nbb_cells = Jupyter.notebook.get_cells();\n",
       "                for (var i = 0; i < nbb_cells.length; ++i) {\n",
       "                    if (nbb_cells[i].input_prompt_number == nbb_cell_id) {\n",
       "                        if (nbb_cells[i].get_text() == nbb_unformatted_code) {\n",
       "                             nbb_cells[i].set_text(nbb_formatted_code);\n",
       "                        }\n",
       "                        break;\n",
       "                    }\n",
       "                }\n",
       "            }, 500);\n",
       "            "
      ],
      "text/plain": [
       "<IPython.core.display.Javascript object>"
      ]
     },
     "metadata": {},
     "output_type": "display_data"
    }
   ],
   "source": [
    "# Number of upper outliers\n",
    "n_O_upper2 = df[df[\"2ndFlrSF\"] > (Q32 + 1.5 * IQR2)].shape[0]\n",
    "n_O_upper2"
   ]
  },
  {
   "cell_type": "markdown",
   "id": "590469e6",
   "metadata": {},
   "source": [
    "## Xét LotArea"
   ]
  },
  {
   "cell_type": "code",
   "execution_count": 165,
   "id": "4bfe9945",
   "metadata": {},
   "outputs": [
    {
     "data": {
      "text/plain": [
       "4048.0"
      ]
     },
     "execution_count": 165,
     "metadata": {},
     "output_type": "execute_result"
    },
    {
     "data": {
      "application/javascript": [
       "\n",
       "            setTimeout(function() {\n",
       "                var nbb_cell_id = 165;\n",
       "                var nbb_unformatted_code = \"Q1_lot = np.quantile(df.LotArea.dropna(), 0.25)\\nQ3_lot = np.quantile(df.LotArea.dropna(), 0.75)\\n\\n\\nIQR_lot = scipy.stats.iqr(df.LotArea.dropna())\\nIQR_lot\";\n",
       "                var nbb_formatted_code = \"Q1_lot = np.quantile(df.LotArea.dropna(), 0.25)\\nQ3_lot = np.quantile(df.LotArea.dropna(), 0.75)\\n\\n\\nIQR_lot = scipy.stats.iqr(df.LotArea.dropna())\\nIQR_lot\";\n",
       "                var nbb_cells = Jupyter.notebook.get_cells();\n",
       "                for (var i = 0; i < nbb_cells.length; ++i) {\n",
       "                    if (nbb_cells[i].input_prompt_number == nbb_cell_id) {\n",
       "                        if (nbb_cells[i].get_text() == nbb_unformatted_code) {\n",
       "                             nbb_cells[i].set_text(nbb_formatted_code);\n",
       "                        }\n",
       "                        break;\n",
       "                    }\n",
       "                }\n",
       "            }, 500);\n",
       "            "
      ],
      "text/plain": [
       "<IPython.core.display.Javascript object>"
      ]
     },
     "metadata": {},
     "output_type": "display_data"
    }
   ],
   "source": [
    "Q1_lot = np.quantile(df.LotArea.dropna(), 0.25)\n",
    "Q3_lot = np.quantile(df.LotArea.dropna(), 0.75)\n",
    "\n",
    "\n",
    "IQR_lot = scipy.stats.iqr(df.LotArea.dropna())\n",
    "IQR_lot"
   ]
  },
  {
   "cell_type": "code",
   "execution_count": 166,
   "id": "f5b27b8e",
   "metadata": {},
   "outputs": [
    {
     "data": {
      "image/png": "[encoded data removed]",
      "text/plain": [
       "<Figure size 432x288 with 1 Axes>"
      ]
     },
     "metadata": {},
     "output_type": "display_data"
    },
    {
     "data": {
      "application/javascript": [
       "\n",
       "            setTimeout(function() {\n",
       "                var nbb_cell_id = 166;\n",
       "                var nbb_unformatted_code = \"plt.boxplot(df[\\\"LotArea\\\"])\\nplt.show()\";\n",
       "                var nbb_formatted_code = \"plt.boxplot(df[\\\"LotArea\\\"])\\nplt.show()\";\n",
       "                var nbb_cells = Jupyter.notebook.get_cells();\n",
       "                for (var i = 0; i < nbb_cells.length; ++i) {\n",
       "                    if (nbb_cells[i].input_prompt_number == nbb_cell_id) {\n",
       "                        if (nbb_cells[i].get_text() == nbb_unformatted_code) {\n",
       "                             nbb_cells[i].set_text(nbb_formatted_code);\n",
       "                        }\n",
       "                        break;\n",
       "                    }\n",
       "                }\n",
       "            }, 500);\n",
       "            "
      ],
      "text/plain": [
       "<IPython.core.display.Javascript object>"
      ]
     },
     "metadata": {},
     "output_type": "display_data"
    }
   ],
   "source": [
    "plt.boxplot(df[\"LotArea\"])\n",
    "plt.show()"
   ]
  },
  {
   "cell_type": "code",
   "execution_count": 171,
   "id": "3375626b",
   "metadata": {},
   "outputs": [
    {
     "data": {
      "application/javascript": [
       "\n",
       "            setTimeout(function() {\n",
       "                var nbb_cell_id = 171;\n",
       "                var nbb_unformatted_code = \"n_O_upper = df[df.LotArea > Q3_lot + 1.5 * IQR_lot].shape[0]\\nn_O_lower = df[df.LotArea < Q1_lot - 1.5 * IQR_lot].shape[0]\";\n",
       "                var nbb_formatted_code = \"n_O_upper = df[df.LotArea > Q3_lot + 1.5 * IQR_lot].shape[0]\\nn_O_lower = df[df.LotArea < Q1_lot - 1.5 * IQR_lot].shape[0]\";\n",
       "                var nbb_cells = Jupyter.notebook.get_cells();\n",
       "                for (var i = 0; i < nbb_cells.length; ++i) {\n",
       "                    if (nbb_cells[i].input_prompt_number == nbb_cell_id) {\n",
       "                        if (nbb_cells[i].get_text() == nbb_unformatted_code) {\n",
       "                             nbb_cells[i].set_text(nbb_formatted_code);\n",
       "                        }\n",
       "                        break;\n",
       "                    }\n",
       "                }\n",
       "            }, 500);\n",
       "            "
      ],
      "text/plain": [
       "<IPython.core.display.Javascript object>"
      ]
     },
     "metadata": {},
     "output_type": "display_data"
    }
   ],
   "source": [
    "n_O_upper = df[df.LotArea > Q3_lot + 1.5 * IQR_lot].shape[0]\n",
    "n_O_lower = df[df.LotArea < Q1_lot - 1.5 * IQR_lot].shape[0]\n"
   ]
  },
  {
   "cell_type": "code",
   "execution_count": 172,
   "id": "135a2f4e",
   "metadata": {},
   "outputs": [
    {
     "data": {
      "text/plain": [
       "0.06232876712328767"
      ]
     },
     "execution_count": 172,
     "metadata": {},
     "output_type": "execute_result"
    },
    {
     "data": {
      "application/javascript": [
       "\n",
       "            setTimeout(function() {\n",
       "                var nbb_cell_id = 172;\n",
       "                var nbb_unformatted_code = \"# Percentage of ouliers\\noutliers_per = (n_O_lower + n_O_upper + n_O_upper1 + n_O_upper2) / df.shape[0]\\noutliers_per\";\n",
       "                var nbb_formatted_code = \"# Percentage of ouliers\\noutliers_per = (n_O_lower + n_O_upper + n_O_upper1 + n_O_upper2) / df.shape[0]\\noutliers_per\";\n",
       "                var nbb_cells = Jupyter.notebook.get_cells();\n",
       "                for (var i = 0; i < nbb_cells.length; ++i) {\n",
       "                    if (nbb_cells[i].input_prompt_number == nbb_cell_id) {\n",
       "                        if (nbb_cells[i].get_text() == nbb_unformatted_code) {\n",
       "                             nbb_cells[i].set_text(nbb_formatted_code);\n",
       "                        }\n",
       "                        break;\n",
       "                    }\n",
       "                }\n",
       "            }, 500);\n",
       "            "
      ],
      "text/plain": [
       "<IPython.core.display.Javascript object>"
      ]
     },
     "metadata": {},
     "output_type": "display_data"
    }
   ],
   "source": [
    "# Percentage of ouliers\n",
    "outliers_per = (n_O_lower + n_O_upper + n_O_upper1 + n_O_upper2) / df.shape[0]\n",
    "outliers_per"
   ]
  },
  {
   "cell_type": "markdown",
   "id": "b892b619",
   "metadata": {},
   "source": [
    "- Có thể drop doutliers của '2ndFlrSF', '1stFlrSF', 'LotArea': vì tổng số outliers là 6% dữ liệu\n",
    "- Cũng có thể không cần drop thay vào đó khi áp dụng Machine Learning thì dùng thuật toán\n",
    "Decision Tree/ Random Forest (LDS6)"
   ]
  },
  {
   "cell_type": "code",
   "execution_count": 173,
   "id": "e800f16f",
   "metadata": {},
   "outputs": [
    {
     "data": {
      "text/plain": [
       "\"\\nCó thể drop doutliers của '2ndFlrSF', '1stFlrSF', 'LotArea': vì tổng số outliers là 6% dữ liệu\\nCũng có thể không cần drop thay vào đó khi áp dụng Machine Learning thì dùng thuật toán\\nDecision Tree/ Random Forest (LDS6)\\n\""
      ]
     },
     "execution_count": 173,
     "metadata": {},
     "output_type": "execute_result"
    },
    {
     "data": {
      "application/javascript": [
       "\n",
       "            setTimeout(function() {\n",
       "                var nbb_cell_id = 173;\n",
       "                var nbb_unformatted_code = \"'''\\nC\\u00f3 th\\u1ec3 drop doutliers c\\u1ee7a '2ndFlrSF', '1stFlrSF', 'LotArea': v\\u00ec t\\u1ed5ng s\\u1ed1 outliers l\\u00e0 6% d\\u1eef li\\u1ec7u\\nC\\u0169ng c\\u00f3 th\\u1ec3 kh\\u00f4ng c\\u1ea7n drop thay v\\u00e0o \\u0111\\u00f3 khi \\u00e1p d\\u1ee5ng Machine Learning th\\u00ec d\\u00f9ng thu\\u1eadt to\\u00e1n\\nDecision Tree/ Random Forest (LDS6)\\n'''\";\n",
       "                var nbb_formatted_code = \"\\\"\\\"\\\"\\nC\\u00f3 th\\u1ec3 drop doutliers c\\u1ee7a '2ndFlrSF', '1stFlrSF', 'LotArea': v\\u00ec t\\u1ed5ng s\\u1ed1 outliers l\\u00e0 6% d\\u1eef li\\u1ec7u\\nC\\u0169ng c\\u00f3 th\\u1ec3 kh\\u00f4ng c\\u1ea7n drop thay v\\u00e0o \\u0111\\u00f3 khi \\u00e1p d\\u1ee5ng Machine Learning th\\u00ec d\\u00f9ng thu\\u1eadt to\\u00e1n\\nDecision Tree/ Random Forest (LDS6)\\n\\\"\\\"\\\"\";\n",
       "                var nbb_cells = Jupyter.notebook.get_cells();\n",
       "                for (var i = 0; i < nbb_cells.length; ++i) {\n",
       "                    if (nbb_cells[i].input_prompt_number == nbb_cell_id) {\n",
       "                        if (nbb_cells[i].get_text() == nbb_unformatted_code) {\n",
       "                             nbb_cells[i].set_text(nbb_formatted_code);\n",
       "                        }\n",
       "                        break;\n",
       "                    }\n",
       "                }\n",
       "            }, 500);\n",
       "            "
      ],
      "text/plain": [
       "<IPython.core.display.Javascript object>"
      ]
     },
     "metadata": {},
     "output_type": "display_data"
    }
   ],
   "source": [
    "\"\"\"\n",
    "Có thể drop doutliers của '2ndFlrSF', '1stFlrSF', 'LotArea': vì tổng số outliers là 6% dữ liệu\n",
    "Cũng có thể không cần drop thay vào đó khi áp dụng Machine Learning thì dùng thuật toán\n",
    "Decision Tree/ Random Forest (LDS6)\n",
    "\"\"\""
   ]
  },
  {
   "cell_type": "code",
   "execution_count": 218,
   "id": "044ec8ce",
   "metadata": {},
   "outputs": [
    {
     "data": {
      "application/javascript": [
       "\n",
       "            setTimeout(function() {\n",
       "                var nbb_cell_id = 218;\n",
       "                var nbb_unformatted_code = \"# IQR1 l\\u00e0 IQR c\\u1ee7a 1stFlrSF\\ndf_now = df[(df[\\\"1stFlrSF\\\"] <= (Q31 + 1.5 * IQR1))]\";\n",
       "                var nbb_formatted_code = \"# IQR1 l\\u00e0 IQR c\\u1ee7a 1stFlrSF\\ndf_now = df[(df[\\\"1stFlrSF\\\"] <= (Q31 + 1.5 * IQR1))]\";\n",
       "                var nbb_cells = Jupyter.notebook.get_cells();\n",
       "                for (var i = 0; i < nbb_cells.length; ++i) {\n",
       "                    if (nbb_cells[i].input_prompt_number == nbb_cell_id) {\n",
       "                        if (nbb_cells[i].get_text() == nbb_unformatted_code) {\n",
       "                             nbb_cells[i].set_text(nbb_formatted_code);\n",
       "                        }\n",
       "                        break;\n",
       "                    }\n",
       "                }\n",
       "            }, 500);\n",
       "            "
      ],
      "text/plain": [
       "<IPython.core.display.Javascript object>"
      ]
     },
     "metadata": {},
     "output_type": "display_data"
    }
   ],
   "source": [
    "# IQR1 là IQR của 1stFlrSF\n",
    "df_now = df[(df[\"1stFlrSF\"] <= (Q31 + 1.5 * IQR1))]"
   ]
  },
  {
   "cell_type": "code",
   "execution_count": 219,
   "id": "e7eb37cb",
   "metadata": {},
   "outputs": [
    {
     "data": {
      "application/javascript": [
       "\n",
       "            setTimeout(function() {\n",
       "                var nbb_cell_id = 219;\n",
       "                var nbb_unformatted_code = \"# IQR2 l\\u00e0 IQR c\\u1ee7a 2stFlrSF\\ndf_now = df_now[(df_now[\\\"2ndFlrSF\\\"] <= (Q32 + 1.5 * IQR2))]\";\n",
       "                var nbb_formatted_code = \"# IQR2 l\\u00e0 IQR c\\u1ee7a 2stFlrSF\\ndf_now = df_now[(df_now[\\\"2ndFlrSF\\\"] <= (Q32 + 1.5 * IQR2))]\";\n",
       "                var nbb_cells = Jupyter.notebook.get_cells();\n",
       "                for (var i = 0; i < nbb_cells.length; ++i) {\n",
       "                    if (nbb_cells[i].input_prompt_number == nbb_cell_id) {\n",
       "                        if (nbb_cells[i].get_text() == nbb_unformatted_code) {\n",
       "                             nbb_cells[i].set_text(nbb_formatted_code);\n",
       "                        }\n",
       "                        break;\n",
       "                    }\n",
       "                }\n",
       "            }, 500);\n",
       "            "
      ],
      "text/plain": [
       "<IPython.core.display.Javascript object>"
      ]
     },
     "metadata": {},
     "output_type": "display_data"
    }
   ],
   "source": [
    "# IQR2 là IQR của 2stFlrSF\n",
    "df_now = df_now[(df_now[\"2ndFlrSF\"] <= (Q32 + 1.5 * IQR2))]"
   ]
  },
  {
   "cell_type": "code",
   "execution_count": 220,
   "id": "0c5f18fd",
   "metadata": {},
   "outputs": [
    {
     "data": {
      "application/javascript": [
       "\n",
       "            setTimeout(function() {\n",
       "                var nbb_cell_id = 220;\n",
       "                var nbb_unformatted_code = \"# Q1_lot, Q3_lot, IQRlot l\\u00e0 c\\u1ee7a LotArea\\n\\ndf_now = df_now[\\n    (df_now.LotArea >= (Q1_lot - 1.5 * IQR_lot)) & (df_now.LotArea <= (Q3_lot + 1.5 * IQR_lot))\\n]\";\n",
       "                var nbb_formatted_code = \"# Q1_lot, Q3_lot, IQRlot l\\u00e0 c\\u1ee7a LotArea\\n\\ndf_now = df_now[\\n    (df_now.LotArea >= (Q1_lot - 1.5 * IQR_lot))\\n    & (df_now.LotArea <= (Q3_lot + 1.5 * IQR_lot))\\n]\";\n",
       "                var nbb_cells = Jupyter.notebook.get_cells();\n",
       "                for (var i = 0; i < nbb_cells.length; ++i) {\n",
       "                    if (nbb_cells[i].input_prompt_number == nbb_cell_id) {\n",
       "                        if (nbb_cells[i].get_text() == nbb_unformatted_code) {\n",
       "                             nbb_cells[i].set_text(nbb_formatted_code);\n",
       "                        }\n",
       "                        break;\n",
       "                    }\n",
       "                }\n",
       "            }, 500);\n",
       "            "
      ],
      "text/plain": [
       "<IPython.core.display.Javascript object>"
      ]
     },
     "metadata": {},
     "output_type": "display_data"
    }
   ],
   "source": [
    "# Q1_lot, Q3_lot, IQRlot là của LotArea\n",
    "\n",
    "df_now = df_now[\n",
    "    (df_now.LotArea >= (Q1_lot - 1.5 * IQR_lot))\n",
    "    & (df_now.LotArea <= (Q3_lot + 1.5 * IQR_lot))\n",
    "]"
   ]
  },
  {
   "cell_type": "code",
   "execution_count": 221,
   "id": "84dae53e",
   "metadata": {},
   "outputs": [
    {
     "data": {
      "image/png": "[encoded data removed]",
      "text/plain": [
       "<Figure size 432x288 with 1 Axes>"
      ]
     },
     "metadata": {},
     "output_type": "display_data"
    },
    {
     "data": {
      "application/javascript": [
       "\n",
       "            setTimeout(function() {\n",
       "                var nbb_cell_id = 221;\n",
       "                var nbb_unformatted_code = \"plt.boxplot(df_now[\\\"LotArea\\\"])\\nplt.show()\";\n",
       "                var nbb_formatted_code = \"plt.boxplot(df_now[\\\"LotArea\\\"])\\nplt.show()\";\n",
       "                var nbb_cells = Jupyter.notebook.get_cells();\n",
       "                for (var i = 0; i < nbb_cells.length; ++i) {\n",
       "                    if (nbb_cells[i].input_prompt_number == nbb_cell_id) {\n",
       "                        if (nbb_cells[i].get_text() == nbb_unformatted_code) {\n",
       "                             nbb_cells[i].set_text(nbb_formatted_code);\n",
       "                        }\n",
       "                        break;\n",
       "                    }\n",
       "                }\n",
       "            }, 500);\n",
       "            "
      ],
      "text/plain": [
       "<IPython.core.display.Javascript object>"
      ]
     },
     "metadata": {},
     "output_type": "display_data"
    }
   ],
   "source": [
    "plt.boxplot(df_now[\"LotArea\"])\n",
    "plt.show()"
   ]
  },
  {
   "cell_type": "code",
   "execution_count": 222,
   "id": "ef982071",
   "metadata": {},
   "outputs": [
    {
     "data": {
      "image/png": "[encoded data removed]",
      "text/plain": [
       "<Figure size 432x288 with 1 Axes>"
      ]
     },
     "metadata": {},
     "output_type": "display_data"
    },
    {
     "data": {
      "application/javascript": [
       "\n",
       "            setTimeout(function() {\n",
       "                var nbb_cell_id = 222;\n",
       "                var nbb_unformatted_code = \"plt.boxplot(df_now[\\\"1stFlrSF\\\"])\\nplt.show()\";\n",
       "                var nbb_formatted_code = \"plt.boxplot(df_now[\\\"1stFlrSF\\\"])\\nplt.show()\";\n",
       "                var nbb_cells = Jupyter.notebook.get_cells();\n",
       "                for (var i = 0; i < nbb_cells.length; ++i) {\n",
       "                    if (nbb_cells[i].input_prompt_number == nbb_cell_id) {\n",
       "                        if (nbb_cells[i].get_text() == nbb_unformatted_code) {\n",
       "                             nbb_cells[i].set_text(nbb_formatted_code);\n",
       "                        }\n",
       "                        break;\n",
       "                    }\n",
       "                }\n",
       "            }, 500);\n",
       "            "
      ],
      "text/plain": [
       "<IPython.core.display.Javascript object>"
      ]
     },
     "metadata": {},
     "output_type": "display_data"
    }
   ],
   "source": [
    "plt.boxplot(df_now[\"1stFlrSF\"])\n",
    "plt.show()"
   ]
  },
  {
   "cell_type": "code",
   "execution_count": 223,
   "id": "8ce827de",
   "metadata": {},
   "outputs": [
    {
     "data": {
      "image/png": "[encoded data removed]",
      "text/plain": [
       "<Figure size 432x288 with 1 Axes>"
      ]
     },
     "metadata": {},
     "output_type": "display_data"
    },
    {
     "data": {
      "application/javascript": [
       "\n",
       "            setTimeout(function() {\n",
       "                var nbb_cell_id = 223;\n",
       "                var nbb_unformatted_code = \"plt.boxplot(df_now[\\\"2ndFlrSF\\\"])\\nplt.show()\";\n",
       "                var nbb_formatted_code = \"plt.boxplot(df_now[\\\"2ndFlrSF\\\"])\\nplt.show()\";\n",
       "                var nbb_cells = Jupyter.notebook.get_cells();\n",
       "                for (var i = 0; i < nbb_cells.length; ++i) {\n",
       "                    if (nbb_cells[i].input_prompt_number == nbb_cell_id) {\n",
       "                        if (nbb_cells[i].get_text() == nbb_unformatted_code) {\n",
       "                             nbb_cells[i].set_text(nbb_formatted_code);\n",
       "                        }\n",
       "                        break;\n",
       "                    }\n",
       "                }\n",
       "            }, 500);\n",
       "            "
      ],
      "text/plain": [
       "<IPython.core.display.Javascript object>"
      ]
     },
     "metadata": {},
     "output_type": "display_data"
    }
   ],
   "source": [
    "plt.boxplot(df_now[\"2ndFlrSF\"])\n",
    "plt.show()"
   ]
  },
  {
   "cell_type": "code",
   "execution_count": 224,
   "id": "b28519a0",
   "metadata": {},
   "outputs": [
    {
     "data": {
      "application/javascript": [
       "\n",
       "            setTimeout(function() {\n",
       "                var nbb_cell_id = 224;\n",
       "                var nbb_unformatted_code = \"# Xem x\\u00e9t th\\u00eam bi\\u00ean ngo\\u00e0i: major\\n# https://m.wikihow.com/Calculate-Outliers\\n# C\\u00f4ng th\\u1ee9c: O_u = Q3 + 3*IQR, O_l = Q1 - 3*IQR\\n# ho\\u1eb7c t\\u00ednh trung b\\u00ecnh tr\\u01b0\\u1edbc v\\u00e0 sau khi lo\\u1ea1i b\\u1ecf outlier\";\n",
       "                var nbb_formatted_code = \"# Xem x\\u00e9t th\\u00eam bi\\u00ean ngo\\u00e0i: major\\n# https://m.wikihow.com/Calculate-Outliers\\n# C\\u00f4ng th\\u1ee9c: O_u = Q3 + 3*IQR, O_l = Q1 - 3*IQR\\n# ho\\u1eb7c t\\u00ednh trung b\\u00ecnh tr\\u01b0\\u1edbc v\\u00e0 sau khi lo\\u1ea1i b\\u1ecf outlier\";\n",
       "                var nbb_cells = Jupyter.notebook.get_cells();\n",
       "                for (var i = 0; i < nbb_cells.length; ++i) {\n",
       "                    if (nbb_cells[i].input_prompt_number == nbb_cell_id) {\n",
       "                        if (nbb_cells[i].get_text() == nbb_unformatted_code) {\n",
       "                             nbb_cells[i].set_text(nbb_formatted_code);\n",
       "                        }\n",
       "                        break;\n",
       "                    }\n",
       "                }\n",
       "            }, 500);\n",
       "            "
      ],
      "text/plain": [
       "<IPython.core.display.Javascript object>"
      ]
     },
     "metadata": {},
     "output_type": "display_data"
    }
   ],
   "source": [
    "# Xem xét thêm biên ngoài: major\n",
    "# https://m.wikihow.com/Calculate-Outliers\n",
    "# Công thức: O_u = Q3 + 3*IQR, O_l = Q1 - 3*IQR\n",
    "# hoặc tính trung bình trước và sau khi loại bỏ outlier"
   ]
  },
  {
   "cell_type": "markdown",
   "id": "54858b5e",
   "metadata": {},
   "source": [
    "### Với LotArea"
   ]
  },
  {
   "cell_type": "code",
   "execution_count": 225,
   "id": "af90024c",
   "metadata": {},
   "outputs": [
    {
     "data": {
      "text/plain": [
       "9228.756168359942"
      ]
     },
     "execution_count": 225,
     "metadata": {},
     "output_type": "execute_result"
    },
    {
     "data": {
      "application/javascript": [
       "\n",
       "            setTimeout(function() {\n",
       "                var nbb_cell_id = 225;\n",
       "                var nbb_unformatted_code = \"df_now.LotArea.mean()\";\n",
       "                var nbb_formatted_code = \"df_now.LotArea.mean()\";\n",
       "                var nbb_cells = Jupyter.notebook.get_cells();\n",
       "                for (var i = 0; i < nbb_cells.length; ++i) {\n",
       "                    if (nbb_cells[i].input_prompt_number == nbb_cell_id) {\n",
       "                        if (nbb_cells[i].get_text() == nbb_unformatted_code) {\n",
       "                             nbb_cells[i].set_text(nbb_formatted_code);\n",
       "                        }\n",
       "                        break;\n",
       "                    }\n",
       "                }\n",
       "            }, 500);\n",
       "            "
      ],
      "text/plain": [
       "<IPython.core.display.Javascript object>"
      ]
     },
     "metadata": {},
     "output_type": "display_data"
    }
   ],
   "source": [
    "df_now.LotArea.mean()"
   ]
  },
  {
   "cell_type": "code",
   "execution_count": 202,
   "id": "43bf5b3e",
   "metadata": {},
   "outputs": [
    {
     "data": {
      "text/plain": [
       "10516.828082191782"
      ]
     },
     "execution_count": 202,
     "metadata": {},
     "output_type": "execute_result"
    },
    {
     "data": {
      "application/javascript": [
       "\n",
       "            setTimeout(function() {\n",
       "                var nbb_cell_id = 202;\n",
       "                var nbb_unformatted_code = \"df.LotArea.mean()\";\n",
       "                var nbb_formatted_code = \"df.LotArea.mean()\";\n",
       "                var nbb_cells = Jupyter.notebook.get_cells();\n",
       "                for (var i = 0; i < nbb_cells.length; ++i) {\n",
       "                    if (nbb_cells[i].input_prompt_number == nbb_cell_id) {\n",
       "                        if (nbb_cells[i].get_text() == nbb_unformatted_code) {\n",
       "                             nbb_cells[i].set_text(nbb_formatted_code);\n",
       "                        }\n",
       "                        break;\n",
       "                    }\n",
       "                }\n",
       "            }, 500);\n",
       "            "
      ],
      "text/plain": [
       "<IPython.core.display.Javascript object>"
      ]
     },
     "metadata": {},
     "output_type": "display_data"
    }
   ],
   "source": [
    "df.LotArea.mean()"
   ]
  },
  {
   "cell_type": "code",
   "execution_count": 211,
   "id": "53dfac9b",
   "metadata": {},
   "outputs": [
    {
     "data": {
      "application/javascript": [
       "\n",
       "            setTimeout(function() {\n",
       "                var nbb_cell_id = 211;\n",
       "                var nbb_unformatted_code = \"# =>  N\\u00ean lo\\u1ea1i b\\u1ecf ngo\\u1ea1i l\\u1ec7 v\\u00ec ch\\u00eanh l\\u1ec7ch l\\u1edbn\";\n",
       "                var nbb_formatted_code = \"# =>  N\\u00ean lo\\u1ea1i b\\u1ecf ngo\\u1ea1i l\\u1ec7 v\\u00ec ch\\u00eanh l\\u1ec7ch l\\u1edbn\";\n",
       "                var nbb_cells = Jupyter.notebook.get_cells();\n",
       "                for (var i = 0; i < nbb_cells.length; ++i) {\n",
       "                    if (nbb_cells[i].input_prompt_number == nbb_cell_id) {\n",
       "                        if (nbb_cells[i].get_text() == nbb_unformatted_code) {\n",
       "                             nbb_cells[i].set_text(nbb_formatted_code);\n",
       "                        }\n",
       "                        break;\n",
       "                    }\n",
       "                }\n",
       "            }, 500);\n",
       "            "
      ],
      "text/plain": [
       "<IPython.core.display.Javascript object>"
      ]
     },
     "metadata": {},
     "output_type": "display_data"
    }
   ],
   "source": [
    "# =>  Nên loại bỏ ngoại lệ vì chênh lệch lớn"
   ]
  },
  {
   "cell_type": "markdown",
   "id": "b28c3f79",
   "metadata": {},
   "source": [
    "### Với 1stFlrSF"
   ]
  },
  {
   "cell_type": "code",
   "execution_count": 212,
   "id": "02605153",
   "metadata": {},
   "outputs": [
    {
     "data": {
      "text/plain": [
       "959.1784702549575"
      ]
     },
     "execution_count": 212,
     "metadata": {},
     "output_type": "execute_result"
    },
    {
     "data": {
      "application/javascript": [
       "\n",
       "            setTimeout(function() {\n",
       "                var nbb_cell_id = 212;\n",
       "                var nbb_unformatted_code = \"df_now['1stFlrSF'].mean()\";\n",
       "                var nbb_formatted_code = \"df_now[\\\"1stFlrSF\\\"].mean()\";\n",
       "                var nbb_cells = Jupyter.notebook.get_cells();\n",
       "                for (var i = 0; i < nbb_cells.length; ++i) {\n",
       "                    if (nbb_cells[i].input_prompt_number == nbb_cell_id) {\n",
       "                        if (nbb_cells[i].get_text() == nbb_unformatted_code) {\n",
       "                             nbb_cells[i].set_text(nbb_formatted_code);\n",
       "                        }\n",
       "                        break;\n",
       "                    }\n",
       "                }\n",
       "            }, 500);\n",
       "            "
      ],
      "text/plain": [
       "<IPython.core.display.Javascript object>"
      ]
     },
     "metadata": {},
     "output_type": "display_data"
    }
   ],
   "source": [
    "df_now[\"1stFlrSF\"].mean()"
   ]
  },
  {
   "cell_type": "code",
   "execution_count": 213,
   "id": "490b3eb5",
   "metadata": {},
   "outputs": [
    {
     "data": {
      "text/plain": [
       "1162.626712328767"
      ]
     },
     "execution_count": 213,
     "metadata": {},
     "output_type": "execute_result"
    },
    {
     "data": {
      "application/javascript": [
       "\n",
       "            setTimeout(function() {\n",
       "                var nbb_cell_id = 213;\n",
       "                var nbb_unformatted_code = \"df['1stFlrSF'].mean()\";\n",
       "                var nbb_formatted_code = \"df[\\\"1stFlrSF\\\"].mean()\";\n",
       "                var nbb_cells = Jupyter.notebook.get_cells();\n",
       "                for (var i = 0; i < nbb_cells.length; ++i) {\n",
       "                    if (nbb_cells[i].input_prompt_number == nbb_cell_id) {\n",
       "                        if (nbb_cells[i].get_text() == nbb_unformatted_code) {\n",
       "                             nbb_cells[i].set_text(nbb_formatted_code);\n",
       "                        }\n",
       "                        break;\n",
       "                    }\n",
       "                }\n",
       "            }, 500);\n",
       "            "
      ],
      "text/plain": [
       "<IPython.core.display.Javascript object>"
      ]
     },
     "metadata": {},
     "output_type": "display_data"
    }
   ],
   "source": [
    "df[\"1stFlrSF\"].mean()"
   ]
  },
  {
   "cell_type": "code",
   "execution_count": 214,
   "id": "5aa8cef7",
   "metadata": {},
   "outputs": [
    {
     "data": {
      "application/javascript": [
       "\n",
       "            setTimeout(function() {\n",
       "                var nbb_cell_id = 214;\n",
       "                var nbb_unformatted_code = \"# Kh\\u00f4ng nh\\u1ea5t thi\\u1ebft ph\\u1ea3i lo\\u1ea1i b\\u1ecf ngo\\u1ea1i l\\u1ec7 v\\u00ec ch\\u00eanh l\\u1ec7ch nh\\u1ecf\";\n",
       "                var nbb_formatted_code = \"# Kh\\u00f4ng nh\\u1ea5t thi\\u1ebft ph\\u1ea3i lo\\u1ea1i b\\u1ecf ngo\\u1ea1i l\\u1ec7 v\\u00ec ch\\u00eanh l\\u1ec7ch nh\\u1ecf\";\n",
       "                var nbb_cells = Jupyter.notebook.get_cells();\n",
       "                for (var i = 0; i < nbb_cells.length; ++i) {\n",
       "                    if (nbb_cells[i].input_prompt_number == nbb_cell_id) {\n",
       "                        if (nbb_cells[i].get_text() == nbb_unformatted_code) {\n",
       "                             nbb_cells[i].set_text(nbb_formatted_code);\n",
       "                        }\n",
       "                        break;\n",
       "                    }\n",
       "                }\n",
       "            }, 500);\n",
       "            "
      ],
      "text/plain": [
       "<IPython.core.display.Javascript object>"
      ]
     },
     "metadata": {},
     "output_type": "display_data"
    }
   ],
   "source": [
    "# Không nhất thiết phải loại bỏ ngoại lệ vì chênh lệch nhỏ"
   ]
  },
  {
   "cell_type": "markdown",
   "id": "1b3f619f",
   "metadata": {},
   "source": [
    "### Với 1stFlrSF"
   ]
  },
  {
   "cell_type": "code",
   "execution_count": 215,
   "id": "254743e8",
   "metadata": {},
   "outputs": [
    {
     "data": {
      "text/plain": [
       "270.4617563739377"
      ]
     },
     "execution_count": 215,
     "metadata": {},
     "output_type": "execute_result"
    },
    {
     "data": {
      "application/javascript": [
       "\n",
       "            setTimeout(function() {\n",
       "                var nbb_cell_id = 215;\n",
       "                var nbb_unformatted_code = \"df_now['2ndFlrSF'].mean()\";\n",
       "                var nbb_formatted_code = \"df_now[\\\"2ndFlrSF\\\"].mean()\";\n",
       "                var nbb_cells = Jupyter.notebook.get_cells();\n",
       "                for (var i = 0; i < nbb_cells.length; ++i) {\n",
       "                    if (nbb_cells[i].input_prompt_number == nbb_cell_id) {\n",
       "                        if (nbb_cells[i].get_text() == nbb_unformatted_code) {\n",
       "                             nbb_cells[i].set_text(nbb_formatted_code);\n",
       "                        }\n",
       "                        break;\n",
       "                    }\n",
       "                }\n",
       "            }, 500);\n",
       "            "
      ],
      "text/plain": [
       "<IPython.core.display.Javascript object>"
      ]
     },
     "metadata": {},
     "output_type": "display_data"
    }
   ],
   "source": [
    "df_now[\"2ndFlrSF\"].mean()"
   ]
  },
  {
   "cell_type": "code",
   "execution_count": 216,
   "id": "909cad5e",
   "metadata": {},
   "outputs": [
    {
     "data": {
      "text/plain": [
       "346.99246575342465"
      ]
     },
     "execution_count": 216,
     "metadata": {},
     "output_type": "execute_result"
    },
    {
     "data": {
      "application/javascript": [
       "\n",
       "            setTimeout(function() {\n",
       "                var nbb_cell_id = 216;\n",
       "                var nbb_unformatted_code = \"df['2ndFlrSF'].mean()\";\n",
       "                var nbb_formatted_code = \"df[\\\"2ndFlrSF\\\"].mean()\";\n",
       "                var nbb_cells = Jupyter.notebook.get_cells();\n",
       "                for (var i = 0; i < nbb_cells.length; ++i) {\n",
       "                    if (nbb_cells[i].input_prompt_number == nbb_cell_id) {\n",
       "                        if (nbb_cells[i].get_text() == nbb_unformatted_code) {\n",
       "                             nbb_cells[i].set_text(nbb_formatted_code);\n",
       "                        }\n",
       "                        break;\n",
       "                    }\n",
       "                }\n",
       "            }, 500);\n",
       "            "
      ],
      "text/plain": [
       "<IPython.core.display.Javascript object>"
      ]
     },
     "metadata": {},
     "output_type": "display_data"
    }
   ],
   "source": [
    "df[\"2ndFlrSF\"].mean()"
   ]
  },
  {
   "cell_type": "code",
   "execution_count": 217,
   "id": "854b9f5b",
   "metadata": {},
   "outputs": [
    {
     "data": {
      "application/javascript": [
       "\n",
       "            setTimeout(function() {\n",
       "                var nbb_cell_id = 217;\n",
       "                var nbb_unformatted_code = \"# => # Kh\\u00f4ng nh\\u1ea5t thi\\u1ebft ph\\u1ea3i lo\\u1ea1i b\\u1ecf ngo\\u1ea1i l\\u1ec7 v\\u00ec ch\\u00eanh l\\u1ec7ch nh\\u1ecf\";\n",
       "                var nbb_formatted_code = \"# => # Kh\\u00f4ng nh\\u1ea5t thi\\u1ebft ph\\u1ea3i lo\\u1ea1i b\\u1ecf ngo\\u1ea1i l\\u1ec7 v\\u00ec ch\\u00eanh l\\u1ec7ch nh\\u1ecf\";\n",
       "                var nbb_cells = Jupyter.notebook.get_cells();\n",
       "                for (var i = 0; i < nbb_cells.length; ++i) {\n",
       "                    if (nbb_cells[i].input_prompt_number == nbb_cell_id) {\n",
       "                        if (nbb_cells[i].get_text() == nbb_unformatted_code) {\n",
       "                             nbb_cells[i].set_text(nbb_formatted_code);\n",
       "                        }\n",
       "                        break;\n",
       "                    }\n",
       "                }\n",
       "            }, 500);\n",
       "            "
      ],
      "text/plain": [
       "<IPython.core.display.Javascript object>"
      ]
     },
     "metadata": {},
     "output_type": "display_data"
    }
   ],
   "source": [
    "# => # Không nhất thiết phải loại bỏ ngoại lệ vì chênh lệch nhỏ"
   ]
  },
  {
   "cell_type": "markdown",
   "id": "41105837",
   "metadata": {},
   "source": [
    "### Kết luận về 3 biến này\n",
    "- Vì 3 phân phối này đều không là phân phối chuẩn => không drop theo z-score\n",
    "- Hoặc có thể xem xét chỉnh dữ liệu log(cột)"
   ]
  },
  {
   "cell_type": "code",
   "execution_count": null,
   "id": "8cae5cef",
   "metadata": {},
   "outputs": [],
   "source": []
  }
 ],
 "metadata": {
  "kernelspec": {
   "display_name": "Python 3 (ipykernel)",
   "language": "python",
   "name": "python3"
  },
  "language_info": {
   "codemirror_mode": {
    "name": "ipython",
    "version": 3
   },
   "file_extension": ".py",
   "mimetype": "text/x-python",
   "name": "python",
   "nbconvert_exporter": "python",
   "pygments_lexer": "ipython3",
   "version": "3.9.7"
  }
 },
 "nbformat": 4,
 "nbformat_minor": 5
}
