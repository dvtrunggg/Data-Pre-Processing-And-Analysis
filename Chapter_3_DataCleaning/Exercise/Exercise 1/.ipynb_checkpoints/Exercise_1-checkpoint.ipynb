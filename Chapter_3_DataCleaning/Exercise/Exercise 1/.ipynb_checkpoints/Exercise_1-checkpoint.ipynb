{
 "cells": [
  {
   "cell_type": "markdown",
   "id": "df1f0de5",
   "metadata": {},
   "source": [
    "# Câu 1: \n",
    "Cho dữ liệu BMI.xlsx. Bộ dữ liệu này ghi lại BMI của một số quốc gia trong một số năm. \\\n",
    "Đọc dữ liệu \\\n",
    "Xem xét vấn đề về dữ liệu cần khắc phục. \\\n",
    "Chuẩn lại dữ liệu để khắc phục vấn dề trên\n",
    "\n",
    "Đặt yêu cầu ngược lại là cần phải tạo pivot table để xem thống kê theo country, year. \\\n",
    "Hãy chuyển dữ liệu mới làm ở trên về dạng thống kê \n"
   ]
  },
  {
   "cell_type": "code",
   "execution_count": 2,
   "id": "24241e68",
   "metadata": {},
   "outputs": [
    {
     "name": "stdout",
     "output_type": "stream",
     "text": [
      "The nb_black extension is already loaded. To reload it, use:\n",
      "  %reload_ext nb_black\n"
     ]
    },
    {
     "data": {
      "application/javascript": [
       "\n",
       "            setTimeout(function() {\n",
       "                var nbb_cell_id = 2;\n",
       "                var nbb_unformatted_code = \"import pandas as pd\\nimport numpy as np\\nimport matplotlib.pyplot as plt\\nimport seaborn as sns\\n\\nimport warnings\\nwarnings.filterwarnings(\\\"ignore\\\")\\n\\n%load_ext nb_black \";\n",
       "                var nbb_formatted_code = \"import pandas as pd\\nimport numpy as np\\nimport matplotlib.pyplot as plt\\nimport seaborn as sns\\n\\nimport warnings\\n\\nwarnings.filterwarnings(\\\"ignore\\\")\\n\\n%load_ext nb_black\";\n",
       "                var nbb_cells = Jupyter.notebook.get_cells();\n",
       "                for (var i = 0; i < nbb_cells.length; ++i) {\n",
       "                    if (nbb_cells[i].input_prompt_number == nbb_cell_id) {\n",
       "                        if (nbb_cells[i].get_text() == nbb_unformatted_code) {\n",
       "                             nbb_cells[i].set_text(nbb_formatted_code);\n",
       "                        }\n",
       "                        break;\n",
       "                    }\n",
       "                }\n",
       "            }, 500);\n",
       "            "
      ],
      "text/plain": [
       "<IPython.core.display.Javascript object>"
      ]
     },
     "metadata": {},
     "output_type": "display_data"
    }
   ],
   "source": [
    "import pandas as pd\n",
    "import numpy as np\n",
    "import matplotlib.pyplot as plt\n",
    "import seaborn as sns\n",
    "\n",
    "import warnings\n",
    "\n",
    "warnings.filterwarnings(\"ignore\")\n",
    "\n",
    "%load_ext nb_black"
   ]
  },
  {
   "cell_type": "code",
   "execution_count": 7,
   "id": "213660dc",
   "metadata": {},
   "outputs": [
    {
     "data": {
      "application/javascript": [
       "\n",
       "            setTimeout(function() {\n",
       "                var nbb_cell_id = 7;\n",
       "                var nbb_unformatted_code = \"df = pd.read_excel(\\\"BMI.xlsx\\\")\";\n",
       "                var nbb_formatted_code = \"df = pd.read_excel(\\\"BMI.xlsx\\\")\";\n",
       "                var nbb_cells = Jupyter.notebook.get_cells();\n",
       "                for (var i = 0; i < nbb_cells.length; ++i) {\n",
       "                    if (nbb_cells[i].input_prompt_number == nbb_cell_id) {\n",
       "                        if (nbb_cells[i].get_text() == nbb_unformatted_code) {\n",
       "                             nbb_cells[i].set_text(nbb_formatted_code);\n",
       "                        }\n",
       "                        break;\n",
       "                    }\n",
       "                }\n",
       "            }, 500);\n",
       "            "
      ],
      "text/plain": [
       "<IPython.core.display.Javascript object>"
      ]
     },
     "metadata": {},
     "output_type": "display_data"
    }
   ],
   "source": [
    "df = pd.read_excel(\"BMI.xlsx\")"
   ]
  },
  {
   "cell_type": "code",
   "execution_count": 32,
   "id": "6d087037",
   "metadata": {},
   "outputs": [
    {
     "data": {
      "text/html": [
       "<div>\n",
       "<style scoped>\n",
       "    .dataframe tbody tr th:only-of-type {\n",
       "        vertical-align: middle;\n",
       "    }\n",
       "\n",
       "    .dataframe tbody tr th {\n",
       "        vertical-align: top;\n",
       "    }\n",
       "\n",
       "    .dataframe thead th {\n",
       "        text-align: right;\n",
       "    }\n",
       "</style>\n",
       "<table border=\"1\" class=\"dataframe\">\n",
       "  <thead>\n",
       "    <tr style=\"text-align: right;\">\n",
       "      <th></th>\n",
       "      <th>Country</th>\n",
       "      <th>Y1980</th>\n",
       "      <th>Y1981</th>\n",
       "      <th>Y1982</th>\n",
       "      <th>Y1983</th>\n",
       "    </tr>\n",
       "  </thead>\n",
       "  <tbody>\n",
       "    <tr>\n",
       "      <th>0</th>\n",
       "      <td>Afghanistan</td>\n",
       "      <td>21.48</td>\n",
       "      <td>21.46</td>\n",
       "      <td>21.45</td>\n",
       "      <td>21.44</td>\n",
       "    </tr>\n",
       "    <tr>\n",
       "      <th>1</th>\n",
       "      <td>Albania</td>\n",
       "      <td>25.22</td>\n",
       "      <td>25.24</td>\n",
       "      <td>25.26</td>\n",
       "      <td>25.27</td>\n",
       "    </tr>\n",
       "    <tr>\n",
       "      <th>2</th>\n",
       "      <td>Algeria</td>\n",
       "      <td>22.26</td>\n",
       "      <td>22.35</td>\n",
       "      <td>22.44</td>\n",
       "      <td>22.52</td>\n",
       "    </tr>\n",
       "  </tbody>\n",
       "</table>\n",
       "</div>"
      ],
      "text/plain": [
       "       Country  Y1980  Y1981  Y1982  Y1983\n",
       "0  Afghanistan  21.48  21.46  21.45  21.44\n",
       "1      Albania  25.22  25.24  25.26  25.27\n",
       "2      Algeria  22.26  22.35  22.44  22.52"
      ]
     },
     "execution_count": 32,
     "metadata": {},
     "output_type": "execute_result"
    },
    {
     "data": {
      "application/javascript": [
       "\n",
       "            setTimeout(function() {\n",
       "                var nbb_cell_id = 32;\n",
       "                var nbb_unformatted_code = \"df\";\n",
       "                var nbb_formatted_code = \"df\";\n",
       "                var nbb_cells = Jupyter.notebook.get_cells();\n",
       "                for (var i = 0; i < nbb_cells.length; ++i) {\n",
       "                    if (nbb_cells[i].input_prompt_number == nbb_cell_id) {\n",
       "                        if (nbb_cells[i].get_text() == nbb_unformatted_code) {\n",
       "                             nbb_cells[i].set_text(nbb_formatted_code);\n",
       "                        }\n",
       "                        break;\n",
       "                    }\n",
       "                }\n",
       "            }, 500);\n",
       "            "
      ],
      "text/plain": [
       "<IPython.core.display.Javascript object>"
      ]
     },
     "metadata": {},
     "output_type": "display_data"
    }
   ],
   "source": [
    "df"
   ]
  },
  {
   "cell_type": "code",
   "execution_count": 9,
   "id": "86581546",
   "metadata": {},
   "outputs": [
    {
     "data": {
      "text/plain": [
       "'\\n=> vấn đề: tên cột chứa giá trị thay vì chứa biến\\n'"
      ]
     },
     "execution_count": 9,
     "metadata": {},
     "output_type": "execute_result"
    },
    {
     "data": {
      "application/javascript": [
       "\n",
       "            setTimeout(function() {\n",
       "                var nbb_cell_id = 9;\n",
       "                var nbb_unformatted_code = \"'''\\n=> v\\u1ea5n \\u0111\\u1ec1: t\\u00ean c\\u1ed9t ch\\u1ee9a gi\\u00e1 tr\\u1ecb thay v\\u00ec ch\\u1ee9a bi\\u1ebfn\\n'''\";\n",
       "                var nbb_formatted_code = \"\\\"\\\"\\\"\\n=> v\\u1ea5n \\u0111\\u1ec1: t\\u00ean c\\u1ed9t ch\\u1ee9a gi\\u00e1 tr\\u1ecb thay v\\u00ec ch\\u1ee9a bi\\u1ebfn\\n\\\"\\\"\\\"\";\n",
       "                var nbb_cells = Jupyter.notebook.get_cells();\n",
       "                for (var i = 0; i < nbb_cells.length; ++i) {\n",
       "                    if (nbb_cells[i].input_prompt_number == nbb_cell_id) {\n",
       "                        if (nbb_cells[i].get_text() == nbb_unformatted_code) {\n",
       "                             nbb_cells[i].set_text(nbb_formatted_code);\n",
       "                        }\n",
       "                        break;\n",
       "                    }\n",
       "                }\n",
       "            }, 500);\n",
       "            "
      ],
      "text/plain": [
       "<IPython.core.display.Javascript object>"
      ]
     },
     "metadata": {},
     "output_type": "display_data"
    }
   ],
   "source": [
    "\"\"\"\n",
    "=> vấn đề: tên cột chứa giá trị thay vì chứa biến\n",
    "\"\"\""
   ]
  },
  {
   "cell_type": "markdown",
   "id": "0d7f3ce0",
   "metadata": {},
   "source": [
    "### Melt df thành Tidy data"
   ]
  },
  {
   "cell_type": "code",
   "execution_count": 35,
   "id": "b22f6830",
   "metadata": {},
   "outputs": [
    {
     "data": {
      "application/javascript": [
       "\n",
       "            setTimeout(function() {\n",
       "                var nbb_cell_id = 35;\n",
       "                var nbb_unformatted_code = \"\\\"\\\"\\\"\\nid_vars = country: c\\u1ed9t contry gi\\u1eef nguy\\u00ean\\nvar_name = \\\"Year\\\", value_name = \\\"bmi\\\": chuy\\u1ec3n t\\u00ean c\\u00e1c c\\u1ed9t c\\u00f2n l\\u1ea1i (tr\\u1eeb id_vars) th\\u00e0nh 1 column\\nv\\u00e0 c\\u00e1c gi\\u00e1 tr\\u1ecb c\\u1ee7a c\\u1ed9t c\\u0169 th\\u00e0nh c\\u00e1c gi\\u00e1 tr\\u1ecb t\\u01b0\\u01a1ng \\u1ee9ng\\n\\n\\\"\\\"\\\"\\n\\ndf1 = pd.melt(df, id_vars=[\\\"Country\\\"], var_name=\\\"Year\\\", value_name=\\\"bmi\\\")\";\n",
       "                var nbb_formatted_code = \"\\\"\\\"\\\"\\nid_vars = country: c\\u1ed9t contry gi\\u1eef nguy\\u00ean\\nvar_name = \\\"Year\\\", value_name = \\\"bmi\\\": chuy\\u1ec3n t\\u00ean c\\u00e1c c\\u1ed9t c\\u00f2n l\\u1ea1i (tr\\u1eeb id_vars) th\\u00e0nh 1 column\\nv\\u00e0 c\\u00e1c gi\\u00e1 tr\\u1ecb c\\u1ee7a c\\u1ed9t c\\u0169 th\\u00e0nh c\\u00e1c gi\\u00e1 tr\\u1ecb t\\u01b0\\u01a1ng \\u1ee9ng\\n\\n\\\"\\\"\\\"\\n\\ndf1 = pd.melt(df, id_vars=[\\\"Country\\\"], var_name=\\\"Year\\\", value_name=\\\"bmi\\\")\";\n",
       "                var nbb_cells = Jupyter.notebook.get_cells();\n",
       "                for (var i = 0; i < nbb_cells.length; ++i) {\n",
       "                    if (nbb_cells[i].input_prompt_number == nbb_cell_id) {\n",
       "                        if (nbb_cells[i].get_text() == nbb_unformatted_code) {\n",
       "                             nbb_cells[i].set_text(nbb_formatted_code);\n",
       "                        }\n",
       "                        break;\n",
       "                    }\n",
       "                }\n",
       "            }, 500);\n",
       "            "
      ],
      "text/plain": [
       "<IPython.core.display.Javascript object>"
      ]
     },
     "metadata": {},
     "output_type": "display_data"
    }
   ],
   "source": [
    "\"\"\"\n",
    "id_vars = country: cột contry giữ nguyên\n",
    "var_name = \"Year\", value_name = \"bmi\": chuyển tên các cột còn lại (trừ id_vars) thành 1 column\n",
    "và các giá trị của cột cũ thành các giá trị tương ứng\n",
    "\n",
    "\"\"\"\n",
    "\n",
    "df1 = pd.melt(df, id_vars=[\"Country\"], var_name=\"Year\", value_name=\"bmi\")"
   ]
  },
  {
   "cell_type": "code",
   "execution_count": 11,
   "id": "4ce2c691",
   "metadata": {},
   "outputs": [
    {
     "data": {
      "text/html": [
       "<div>\n",
       "<style scoped>\n",
       "    .dataframe tbody tr th:only-of-type {\n",
       "        vertical-align: middle;\n",
       "    }\n",
       "\n",
       "    .dataframe tbody tr th {\n",
       "        vertical-align: top;\n",
       "    }\n",
       "\n",
       "    .dataframe thead th {\n",
       "        text-align: right;\n",
       "    }\n",
       "</style>\n",
       "<table border=\"1\" class=\"dataframe\">\n",
       "  <thead>\n",
       "    <tr style=\"text-align: right;\">\n",
       "      <th></th>\n",
       "      <th>Country</th>\n",
       "      <th>Year</th>\n",
       "      <th>bmi</th>\n",
       "    </tr>\n",
       "  </thead>\n",
       "  <tbody>\n",
       "    <tr>\n",
       "      <th>0</th>\n",
       "      <td>Afghanistan</td>\n",
       "      <td>Y1980</td>\n",
       "      <td>21.48</td>\n",
       "    </tr>\n",
       "    <tr>\n",
       "      <th>1</th>\n",
       "      <td>Albania</td>\n",
       "      <td>Y1980</td>\n",
       "      <td>25.22</td>\n",
       "    </tr>\n",
       "    <tr>\n",
       "      <th>2</th>\n",
       "      <td>Algeria</td>\n",
       "      <td>Y1980</td>\n",
       "      <td>22.26</td>\n",
       "    </tr>\n",
       "    <tr>\n",
       "      <th>3</th>\n",
       "      <td>Afghanistan</td>\n",
       "      <td>Y1981</td>\n",
       "      <td>21.46</td>\n",
       "    </tr>\n",
       "    <tr>\n",
       "      <th>4</th>\n",
       "      <td>Albania</td>\n",
       "      <td>Y1981</td>\n",
       "      <td>25.24</td>\n",
       "    </tr>\n",
       "  </tbody>\n",
       "</table>\n",
       "</div>"
      ],
      "text/plain": [
       "       Country   Year    bmi\n",
       "0  Afghanistan  Y1980  21.48\n",
       "1      Albania  Y1980  25.22\n",
       "2      Algeria  Y1980  22.26\n",
       "3  Afghanistan  Y1981  21.46\n",
       "4      Albania  Y1981  25.24"
      ]
     },
     "execution_count": 11,
     "metadata": {},
     "output_type": "execute_result"
    },
    {
     "data": {
      "application/javascript": [
       "\n",
       "            setTimeout(function() {\n",
       "                var nbb_cell_id = 11;\n",
       "                var nbb_unformatted_code = \"df1.head()\";\n",
       "                var nbb_formatted_code = \"df1.head()\";\n",
       "                var nbb_cells = Jupyter.notebook.get_cells();\n",
       "                for (var i = 0; i < nbb_cells.length; ++i) {\n",
       "                    if (nbb_cells[i].input_prompt_number == nbb_cell_id) {\n",
       "                        if (nbb_cells[i].get_text() == nbb_unformatted_code) {\n",
       "                             nbb_cells[i].set_text(nbb_formatted_code);\n",
       "                        }\n",
       "                        break;\n",
       "                    }\n",
       "                }\n",
       "            }, 500);\n",
       "            "
      ],
      "text/plain": [
       "<IPython.core.display.Javascript object>"
      ]
     },
     "metadata": {},
     "output_type": "display_data"
    }
   ],
   "source": [
    "df1.head()"
   ]
  },
  {
   "cell_type": "code",
   "execution_count": 18,
   "id": "de843c9f",
   "metadata": {},
   "outputs": [
    {
     "name": "stdout",
     "output_type": "stream",
     "text": [
      "<class 'pandas.core.frame.DataFrame'>\n",
      "RangeIndex: 12 entries, 0 to 11\n",
      "Data columns (total 3 columns):\n",
      " #   Column   Non-Null Count  Dtype  \n",
      "---  ------   --------------  -----  \n",
      " 0   Country  12 non-null     object \n",
      " 1   Year     12 non-null     object \n",
      " 2   bmi      12 non-null     float64\n",
      "dtypes: float64(1), object(2)\n",
      "memory usage: 416.0+ bytes\n"
     ]
    },
    {
     "data": {
      "application/javascript": [
       "\n",
       "            setTimeout(function() {\n",
       "                var nbb_cell_id = 18;\n",
       "                var nbb_unformatted_code = \"df1.info()\";\n",
       "                var nbb_formatted_code = \"df1.info()\";\n",
       "                var nbb_cells = Jupyter.notebook.get_cells();\n",
       "                for (var i = 0; i < nbb_cells.length; ++i) {\n",
       "                    if (nbb_cells[i].input_prompt_number == nbb_cell_id) {\n",
       "                        if (nbb_cells[i].get_text() == nbb_unformatted_code) {\n",
       "                             nbb_cells[i].set_text(nbb_formatted_code);\n",
       "                        }\n",
       "                        break;\n",
       "                    }\n",
       "                }\n",
       "            }, 500);\n",
       "            "
      ],
      "text/plain": [
       "<IPython.core.display.Javascript object>"
      ]
     },
     "metadata": {},
     "output_type": "display_data"
    }
   ],
   "source": [
    "df1.info()"
   ]
  },
  {
   "cell_type": "code",
   "execution_count": 13,
   "id": "13d0ccc8",
   "metadata": {},
   "outputs": [
    {
     "data": {
      "text/plain": [
       "'\\nCột bmi chứa kiểu str => chuyển về kiểu numeric\\n'"
      ]
     },
     "execution_count": 13,
     "metadata": {},
     "output_type": "execute_result"
    },
    {
     "data": {
      "application/javascript": [
       "\n",
       "            setTimeout(function() {\n",
       "                var nbb_cell_id = 13;\n",
       "                var nbb_unformatted_code = \"'''\\nC\\u1ed9t bmi ch\\u1ee9a ki\\u1ec3u str => chuy\\u1ec3n v\\u1ec1 ki\\u1ec3u numeric\\n'''\";\n",
       "                var nbb_formatted_code = \"\\\"\\\"\\\"\\nC\\u1ed9t bmi ch\\u1ee9a ki\\u1ec3u str => chuy\\u1ec3n v\\u1ec1 ki\\u1ec3u numeric\\n\\\"\\\"\\\"\";\n",
       "                var nbb_cells = Jupyter.notebook.get_cells();\n",
       "                for (var i = 0; i < nbb_cells.length; ++i) {\n",
       "                    if (nbb_cells[i].input_prompt_number == nbb_cell_id) {\n",
       "                        if (nbb_cells[i].get_text() == nbb_unformatted_code) {\n",
       "                             nbb_cells[i].set_text(nbb_formatted_code);\n",
       "                        }\n",
       "                        break;\n",
       "                    }\n",
       "                }\n",
       "            }, 500);\n",
       "            "
      ],
      "text/plain": [
       "<IPython.core.display.Javascript object>"
      ]
     },
     "metadata": {},
     "output_type": "display_data"
    }
   ],
   "source": [
    "\"\"\"\n",
    "Cột Year chứa kiểu str => chuyển về kiểu numeric\n",
    "\"\"\""
   ]
  },
  {
   "cell_type": "code",
   "execution_count": 26,
   "id": "0808ff37",
   "metadata": {},
   "outputs": [
    {
     "data": {
      "application/javascript": [
       "\n",
       "            setTimeout(function() {\n",
       "                var nbb_cell_id = 26;\n",
       "                var nbb_unformatted_code = \"df1.Year = df1.Year.str.extract(\\\"(\\\\d+)\\\")\";\n",
       "                var nbb_formatted_code = \"df1.Year = df1.Year.str.extract(\\\"(\\\\d+)\\\")\";\n",
       "                var nbb_cells = Jupyter.notebook.get_cells();\n",
       "                for (var i = 0; i < nbb_cells.length; ++i) {\n",
       "                    if (nbb_cells[i].input_prompt_number == nbb_cell_id) {\n",
       "                        if (nbb_cells[i].get_text() == nbb_unformatted_code) {\n",
       "                             nbb_cells[i].set_text(nbb_formatted_code);\n",
       "                        }\n",
       "                        break;\n",
       "                    }\n",
       "                }\n",
       "            }, 500);\n",
       "            "
      ],
      "text/plain": [
       "<IPython.core.display.Javascript object>"
      ]
     },
     "metadata": {},
     "output_type": "display_data"
    }
   ],
   "source": [
    "df1.Year = df1.Year.str.extract(\"(\\d+)\")"
   ]
  },
  {
   "cell_type": "markdown",
   "id": "48bd2fcc",
   "metadata": {},
   "source": [
    "### chuyển sang dạng dữ liệu thống kê:"
   ]
  },
  {
   "cell_type": "code",
   "execution_count": 33,
   "id": "987ec1b5",
   "metadata": {},
   "outputs": [
    {
     "data": {
      "text/html": [
       "<div>\n",
       "<style scoped>\n",
       "    .dataframe tbody tr th:only-of-type {\n",
       "        vertical-align: middle;\n",
       "    }\n",
       "\n",
       "    .dataframe tbody tr th {\n",
       "        vertical-align: top;\n",
       "    }\n",
       "\n",
       "    .dataframe thead th {\n",
       "        text-align: right;\n",
       "    }\n",
       "</style>\n",
       "<table border=\"1\" class=\"dataframe\">\n",
       "  <thead>\n",
       "    <tr style=\"text-align: right;\">\n",
       "      <th>Year</th>\n",
       "      <th>1980</th>\n",
       "      <th>1981</th>\n",
       "      <th>1982</th>\n",
       "      <th>1983</th>\n",
       "    </tr>\n",
       "    <tr>\n",
       "      <th>Country</th>\n",
       "      <th></th>\n",
       "      <th></th>\n",
       "      <th></th>\n",
       "      <th></th>\n",
       "    </tr>\n",
       "  </thead>\n",
       "  <tbody>\n",
       "    <tr>\n",
       "      <th>Afghanistan</th>\n",
       "      <td>21.48</td>\n",
       "      <td>21.46</td>\n",
       "      <td>21.45</td>\n",
       "      <td>21.44</td>\n",
       "    </tr>\n",
       "    <tr>\n",
       "      <th>Albania</th>\n",
       "      <td>25.22</td>\n",
       "      <td>25.24</td>\n",
       "      <td>25.26</td>\n",
       "      <td>25.27</td>\n",
       "    </tr>\n",
       "    <tr>\n",
       "      <th>Algeria</th>\n",
       "      <td>22.26</td>\n",
       "      <td>22.35</td>\n",
       "      <td>22.44</td>\n",
       "      <td>22.52</td>\n",
       "    </tr>\n",
       "  </tbody>\n",
       "</table>\n",
       "</div>"
      ],
      "text/plain": [
       "Year          1980   1981   1982   1983\n",
       "Country                                \n",
       "Afghanistan  21.48  21.46  21.45  21.44\n",
       "Albania      25.22  25.24  25.26  25.27\n",
       "Algeria      22.26  22.35  22.44  22.52"
      ]
     },
     "execution_count": 33,
     "metadata": {},
     "output_type": "execute_result"
    },
    {
     "data": {
      "application/javascript": [
       "\n",
       "            setTimeout(function() {\n",
       "                var nbb_cell_id = 33;\n",
       "                var nbb_unformatted_code = \"'''\\nindex = Country: gi\\u1eef l\\u1ea1i c\\u1ed9t Country (ko \\u0111\\u1ed5i)\\ncolumns=\\\"Year\\\", values=\\\"bmi\\\": chuy\\u1ec3n year th\\u00e0nh c\\u00e1c field v\\u1edbi c\\u00e1c gi\\u00e1 tr\\u1ecb l\\u00e0 field bmi \\n'''\\ndf2 = df1.pivot(index=[\\\"Country\\\"], columns=\\\"Year\\\", values=\\\"bmi\\\")\\ndf2\";\n",
       "                var nbb_formatted_code = \"\\\"\\\"\\\"\\nindex = Country: gi\\u1eef l\\u1ea1i c\\u1ed9t Country (ko \\u0111\\u1ed5i)\\ncolumns=\\\"Year\\\", values=\\\"bmi\\\": chuy\\u1ec3n year th\\u00e0nh c\\u00e1c field v\\u1edbi c\\u00e1c gi\\u00e1 tr\\u1ecb l\\u00e0 field bmi \\n\\\"\\\"\\\"\\ndf2 = df1.pivot(index=[\\\"Country\\\"], columns=\\\"Year\\\", values=\\\"bmi\\\")\\ndf2\";\n",
       "                var nbb_cells = Jupyter.notebook.get_cells();\n",
       "                for (var i = 0; i < nbb_cells.length; ++i) {\n",
       "                    if (nbb_cells[i].input_prompt_number == nbb_cell_id) {\n",
       "                        if (nbb_cells[i].get_text() == nbb_unformatted_code) {\n",
       "                             nbb_cells[i].set_text(nbb_formatted_code);\n",
       "                        }\n",
       "                        break;\n",
       "                    }\n",
       "                }\n",
       "            }, 500);\n",
       "            "
      ],
      "text/plain": [
       "<IPython.core.display.Javascript object>"
      ]
     },
     "metadata": {},
     "output_type": "display_data"
    }
   ],
   "source": [
    "\"\"\"\n",
    "index = Country: giữ lại cột Country (ko đổi)\n",
    "columns=\"Year\", values=\"bmi\": chuyển year thành các field với các giá trị là field bmi \n",
    "\"\"\"\n",
    "df2 = df1.pivot(index=[\"Country\"], columns=\"Year\", values=\"bmi\")\n",
    "df2"
   ]
  },
  {
   "cell_type": "markdown",
   "id": "c8cc623c",
   "metadata": {},
   "source": [
    "# Câu 2: \n",
    "Cho dữ liệu student.xlsx. Bộ dữ liệu này ghi lại điểm các môn của sinh viên \\\n",
    "Đọc dữ liệu \\\n",
    "Xem xét vấn đề về dữ liệu cần khắc phục \\\n",
    "Chuẩn lại dữ liệu để khắc phục vấn dề trên \n",
    "\n",
    "Đặt yêu cầu ngược lại là cần phải tạo pivot table để xem thống kê theo từng student và các subject. \\\n",
    "Hãy chuyển dữ liệu mới làm ở trên về dạng thống kê"
   ]
  },
  {
   "cell_type": "code",
   "execution_count": 37,
   "id": "0eacc80c",
   "metadata": {},
   "outputs": [
    {
     "data": {
      "text/html": [
       "<div>\n",
       "<style scoped>\n",
       "    .dataframe tbody tr th:only-of-type {\n",
       "        vertical-align: middle;\n",
       "    }\n",
       "\n",
       "    .dataframe tbody tr th {\n",
       "        vertical-align: top;\n",
       "    }\n",
       "\n",
       "    .dataframe thead th {\n",
       "        text-align: right;\n",
       "    }\n",
       "</style>\n",
       "<table border=\"1\" class=\"dataframe\">\n",
       "  <thead>\n",
       "    <tr style=\"text-align: right;\">\n",
       "      <th></th>\n",
       "      <th>Student</th>\n",
       "      <th>Physics</th>\n",
       "      <th>Chemistry</th>\n",
       "      <th>English</th>\n",
       "      <th>Math</th>\n",
       "    </tr>\n",
       "  </thead>\n",
       "  <tbody>\n",
       "    <tr>\n",
       "      <th>0</th>\n",
       "      <td>John</td>\n",
       "      <td>78</td>\n",
       "      <td>79</td>\n",
       "      <td>56</td>\n",
       "      <td>95</td>\n",
       "    </tr>\n",
       "    <tr>\n",
       "      <th>1</th>\n",
       "      <td>Alice</td>\n",
       "      <td>58</td>\n",
       "      <td>72</td>\n",
       "      <td>91</td>\n",
       "      <td>81</td>\n",
       "    </tr>\n",
       "    <tr>\n",
       "      <th>2</th>\n",
       "      <td>Rachel</td>\n",
       "      <td>22</td>\n",
       "      <td>61</td>\n",
       "      <td>88</td>\n",
       "      <td>64</td>\n",
       "    </tr>\n",
       "    <tr>\n",
       "      <th>3</th>\n",
       "      <td>Tom</td>\n",
       "      <td>78</td>\n",
       "      <td>89</td>\n",
       "      <td>56</td>\n",
       "      <td>83</td>\n",
       "    </tr>\n",
       "  </tbody>\n",
       "</table>\n",
       "</div>"
      ],
      "text/plain": [
       "  Student  Physics  Chemistry  English  Math\n",
       "0    John       78         79       56    95\n",
       "1   Alice       58         72       91    81\n",
       "2  Rachel       22         61       88    64\n",
       "3     Tom       78         89       56    83"
      ]
     },
     "execution_count": 37,
     "metadata": {},
     "output_type": "execute_result"
    },
    {
     "data": {
      "application/javascript": [
       "\n",
       "            setTimeout(function() {\n",
       "                var nbb_cell_id = 37;\n",
       "                var nbb_unformatted_code = \"df_student = pd.read_excel(\\\"student.xlsx\\\")\\ndf_student.head()\";\n",
       "                var nbb_formatted_code = \"df_student = pd.read_excel(\\\"student.xlsx\\\")\\ndf_student.head()\";\n",
       "                var nbb_cells = Jupyter.notebook.get_cells();\n",
       "                for (var i = 0; i < nbb_cells.length; ++i) {\n",
       "                    if (nbb_cells[i].input_prompt_number == nbb_cell_id) {\n",
       "                        if (nbb_cells[i].get_text() == nbb_unformatted_code) {\n",
       "                             nbb_cells[i].set_text(nbb_formatted_code);\n",
       "                        }\n",
       "                        break;\n",
       "                    }\n",
       "                }\n",
       "            }, 500);\n",
       "            "
      ],
      "text/plain": [
       "<IPython.core.display.Javascript object>"
      ]
     },
     "metadata": {},
     "output_type": "display_data"
    }
   ],
   "source": [
    "df_student = pd.read_excel(\"student.xlsx\")\n",
    "df_student.head()"
   ]
  },
  {
   "cell_type": "code",
   "execution_count": 38,
   "id": "e4c67264",
   "metadata": {},
   "outputs": [
    {
     "data": {
      "text/plain": [
       "'\\nvấn đề: tên cột chưa giá trị (Physics, Chemistry, English, Math)\\n'"
      ]
     },
     "execution_count": 38,
     "metadata": {},
     "output_type": "execute_result"
    },
    {
     "data": {
      "application/javascript": [
       "\n",
       "            setTimeout(function() {\n",
       "                var nbb_cell_id = 38;\n",
       "                var nbb_unformatted_code = \"'''\\nv\\u1ea5n \\u0111\\u1ec1: t\\u00ean c\\u1ed9t ch\\u01b0a gi\\u00e1 tr\\u1ecb (Physics, Chemistry, English, Math)\\n'''\";\n",
       "                var nbb_formatted_code = \"\\\"\\\"\\\"\\nv\\u1ea5n \\u0111\\u1ec1: t\\u00ean c\\u1ed9t ch\\u01b0a gi\\u00e1 tr\\u1ecb (Physics, Chemistry, English, Math)\\n\\\"\\\"\\\"\";\n",
       "                var nbb_cells = Jupyter.notebook.get_cells();\n",
       "                for (var i = 0; i < nbb_cells.length; ++i) {\n",
       "                    if (nbb_cells[i].input_prompt_number == nbb_cell_id) {\n",
       "                        if (nbb_cells[i].get_text() == nbb_unformatted_code) {\n",
       "                             nbb_cells[i].set_text(nbb_formatted_code);\n",
       "                        }\n",
       "                        break;\n",
       "                    }\n",
       "                }\n",
       "            }, 500);\n",
       "            "
      ],
      "text/plain": [
       "<IPython.core.display.Javascript object>"
      ]
     },
     "metadata": {},
     "output_type": "display_data"
    }
   ],
   "source": [
    "\"\"\"\n",
    "vấn đề: tên cột chưa giá trị (Physics, Chemistry, English, Math)\n",
    "\"\"\""
   ]
  },
  {
   "cell_type": "code",
   "execution_count": 44,
   "id": "7b7c232d",
   "metadata": {},
   "outputs": [
    {
     "data": {
      "text/html": [
       "<div>\n",
       "<style scoped>\n",
       "    .dataframe tbody tr th:only-of-type {\n",
       "        vertical-align: middle;\n",
       "    }\n",
       "\n",
       "    .dataframe tbody tr th {\n",
       "        vertical-align: top;\n",
       "    }\n",
       "\n",
       "    .dataframe thead th {\n",
       "        text-align: right;\n",
       "    }\n",
       "</style>\n",
       "<table border=\"1\" class=\"dataframe\">\n",
       "  <thead>\n",
       "    <tr style=\"text-align: right;\">\n",
       "      <th></th>\n",
       "      <th>Student</th>\n",
       "      <th>Subject</th>\n",
       "      <th>Grade</th>\n",
       "    </tr>\n",
       "  </thead>\n",
       "  <tbody>\n",
       "    <tr>\n",
       "      <th>0</th>\n",
       "      <td>John</td>\n",
       "      <td>Physics</td>\n",
       "      <td>78</td>\n",
       "    </tr>\n",
       "    <tr>\n",
       "      <th>1</th>\n",
       "      <td>Alice</td>\n",
       "      <td>Physics</td>\n",
       "      <td>58</td>\n",
       "    </tr>\n",
       "    <tr>\n",
       "      <th>2</th>\n",
       "      <td>Rachel</td>\n",
       "      <td>Physics</td>\n",
       "      <td>22</td>\n",
       "    </tr>\n",
       "    <tr>\n",
       "      <th>3</th>\n",
       "      <td>Tom</td>\n",
       "      <td>Physics</td>\n",
       "      <td>78</td>\n",
       "    </tr>\n",
       "    <tr>\n",
       "      <th>4</th>\n",
       "      <td>John</td>\n",
       "      <td>Chemistry</td>\n",
       "      <td>79</td>\n",
       "    </tr>\n",
       "  </tbody>\n",
       "</table>\n",
       "</div>"
      ],
      "text/plain": [
       "  Student    Subject  Grade\n",
       "0    John    Physics     78\n",
       "1   Alice    Physics     58\n",
       "2  Rachel    Physics     22\n",
       "3     Tom    Physics     78\n",
       "4    John  Chemistry     79"
      ]
     },
     "execution_count": 44,
     "metadata": {},
     "output_type": "execute_result"
    },
    {
     "data": {
      "application/javascript": [
       "\n",
       "            setTimeout(function() {\n",
       "                var nbb_cell_id = 44;\n",
       "                var nbb_unformatted_code = \"df_student_melt = df_student.melt(\\n    id_vars=\\\"Student\\\", var_name=\\\"Subject\\\", value_name=\\\"Grade\\\"\\n)\\n\\ndf_student_melt.head()\";\n",
       "                var nbb_formatted_code = \"df_student_melt = df_student.melt(\\n    id_vars=\\\"Student\\\", var_name=\\\"Subject\\\", value_name=\\\"Grade\\\"\\n)\\n\\ndf_student_melt.head()\";\n",
       "                var nbb_cells = Jupyter.notebook.get_cells();\n",
       "                for (var i = 0; i < nbb_cells.length; ++i) {\n",
       "                    if (nbb_cells[i].input_prompt_number == nbb_cell_id) {\n",
       "                        if (nbb_cells[i].get_text() == nbb_unformatted_code) {\n",
       "                             nbb_cells[i].set_text(nbb_formatted_code);\n",
       "                        }\n",
       "                        break;\n",
       "                    }\n",
       "                }\n",
       "            }, 500);\n",
       "            "
      ],
      "text/plain": [
       "<IPython.core.display.Javascript object>"
      ]
     },
     "metadata": {},
     "output_type": "display_data"
    }
   ],
   "source": [
    "df_student_melt = df_student.melt(\n",
    "    id_vars=\"Student\", var_name=\"Subject\", value_name=\"Grade\"\n",
    ")\n",
    "\n",
    "df_student_melt.head()"
   ]
  },
  {
   "cell_type": "code",
   "execution_count": 45,
   "id": "2486d8c3",
   "metadata": {},
   "outputs": [
    {
     "name": "stdout",
     "output_type": "stream",
     "text": [
      "<class 'pandas.core.frame.DataFrame'>\n",
      "RangeIndex: 16 entries, 0 to 15\n",
      "Data columns (total 3 columns):\n",
      " #   Column   Non-Null Count  Dtype \n",
      "---  ------   --------------  ----- \n",
      " 0   Student  16 non-null     object\n",
      " 1   Subject  16 non-null     object\n",
      " 2   Grade    16 non-null     int64 \n",
      "dtypes: int64(1), object(2)\n",
      "memory usage: 512.0+ bytes\n"
     ]
    },
    {
     "data": {
      "application/javascript": [
       "\n",
       "            setTimeout(function() {\n",
       "                var nbb_cell_id = 45;\n",
       "                var nbb_unformatted_code = \"df_student_melt.info()\";\n",
       "                var nbb_formatted_code = \"df_student_melt.info()\";\n",
       "                var nbb_cells = Jupyter.notebook.get_cells();\n",
       "                for (var i = 0; i < nbb_cells.length; ++i) {\n",
       "                    if (nbb_cells[i].input_prompt_number == nbb_cell_id) {\n",
       "                        if (nbb_cells[i].get_text() == nbb_unformatted_code) {\n",
       "                             nbb_cells[i].set_text(nbb_formatted_code);\n",
       "                        }\n",
       "                        break;\n",
       "                    }\n",
       "                }\n",
       "            }, 500);\n",
       "            "
      ],
      "text/plain": [
       "<IPython.core.display.Javascript object>"
      ]
     },
     "metadata": {},
     "output_type": "display_data"
    }
   ],
   "source": [
    "df_student_melt.info()"
   ]
  },
  {
   "cell_type": "code",
   "execution_count": 46,
   "id": "5e3ca39e",
   "metadata": {},
   "outputs": [
    {
     "data": {
      "text/plain": [
       "'\\nSubject là biến phân loại (categorical variable)\\n'"
      ]
     },
     "execution_count": 46,
     "metadata": {},
     "output_type": "execute_result"
    },
    {
     "data": {
      "application/javascript": [
       "\n",
       "            setTimeout(function() {\n",
       "                var nbb_cell_id = 46;\n",
       "                var nbb_unformatted_code = \"'''\\nSubject l\\u00e0 bi\\u1ebfn ph\\u00e2n lo\\u1ea1i (categorical variable)\\n'''\";\n",
       "                var nbb_formatted_code = \"\\\"\\\"\\\"\\nSubject l\\u00e0 bi\\u1ebfn ph\\u00e2n lo\\u1ea1i (categorical variable)\\n\\\"\\\"\\\"\";\n",
       "                var nbb_cells = Jupyter.notebook.get_cells();\n",
       "                for (var i = 0; i < nbb_cells.length; ++i) {\n",
       "                    if (nbb_cells[i].input_prompt_number == nbb_cell_id) {\n",
       "                        if (nbb_cells[i].get_text() == nbb_unformatted_code) {\n",
       "                             nbb_cells[i].set_text(nbb_formatted_code);\n",
       "                        }\n",
       "                        break;\n",
       "                    }\n",
       "                }\n",
       "            }, 500);\n",
       "            "
      ],
      "text/plain": [
       "<IPython.core.display.Javascript object>"
      ]
     },
     "metadata": {},
     "output_type": "display_data"
    }
   ],
   "source": [
    "\"\"\"\n",
    "Subject là biến phân loại (categorical variable)\n",
    "\"\"\""
   ]
  },
  {
   "cell_type": "code",
   "execution_count": 51,
   "id": "6d4d4c75",
   "metadata": {},
   "outputs": [
    {
     "name": "stdout",
     "output_type": "stream",
     "text": [
      "<class 'pandas.core.frame.DataFrame'>\n",
      "RangeIndex: 16 entries, 0 to 15\n",
      "Data columns (total 3 columns):\n",
      " #   Column   Non-Null Count  Dtype   \n",
      "---  ------   --------------  -----   \n",
      " 0   Student  16 non-null     object  \n",
      " 1   Subject  16 non-null     category\n",
      " 2   Grade    16 non-null     int64   \n",
      "dtypes: category(1), int64(1), object(1)\n",
      "memory usage: 604.0+ bytes\n"
     ]
    },
    {
     "data": {
      "application/javascript": [
       "\n",
       "            setTimeout(function() {\n",
       "                var nbb_cell_id = 51;\n",
       "                var nbb_unformatted_code = \"df_student_melt.Subject = df_student_melt.Subject.astype(\\\"category\\\")\\ndf_student_melt.info()\";\n",
       "                var nbb_formatted_code = \"df_student_melt.Subject = df_student_melt.Subject.astype(\\\"category\\\")\\ndf_student_melt.info()\";\n",
       "                var nbb_cells = Jupyter.notebook.get_cells();\n",
       "                for (var i = 0; i < nbb_cells.length; ++i) {\n",
       "                    if (nbb_cells[i].input_prompt_number == nbb_cell_id) {\n",
       "                        if (nbb_cells[i].get_text() == nbb_unformatted_code) {\n",
       "                             nbb_cells[i].set_text(nbb_formatted_code);\n",
       "                        }\n",
       "                        break;\n",
       "                    }\n",
       "                }\n",
       "            }, 500);\n",
       "            "
      ],
      "text/plain": [
       "<IPython.core.display.Javascript object>"
      ]
     },
     "metadata": {},
     "output_type": "display_data"
    }
   ],
   "source": [
    "df_student_melt.Subject = df_student_melt.Subject.astype(\"category\")\n",
    "df_student_melt.info()"
   ]
  },
  {
   "cell_type": "code",
   "execution_count": null,
   "id": "cdbaa78f",
   "metadata": {},
   "outputs": [],
   "source": []
  }
 ],
 "metadata": {
  "kernelspec": {
   "display_name": "Python 3 (ipykernel)",
   "language": "python",
   "name": "python3"
  },
  "language_info": {
   "codemirror_mode": {
    "name": "ipython",
    "version": 3
   },
   "file_extension": ".py",
   "mimetype": "text/x-python",
   "name": "python",
   "nbconvert_exporter": "python",
   "pygments_lexer": "ipython3",
   "version": "3.9.7"
  }
 },
 "nbformat": 4,
 "nbformat_minor": 5
}
