{
 "cells": [
  {
   "cell_type": "code",
   "execution_count": 1,
   "id": "0870c02d",
   "metadata": {},
   "outputs": [],
   "source": [
    "import pandas as pd\n",
    "import glob as gb"
   ]
  },
  {
   "cell_type": "code",
   "execution_count": 4,
   "id": "fe5ee4dd",
   "metadata": {},
   "outputs": [],
   "source": [
    "# tạo chuỗi mẫu\n",
    "file_pattern = 'data/ds*nv*.csv'"
   ]
  },
  {
   "cell_type": "code",
   "execution_count": 5,
   "id": "36ad3b06",
   "metadata": {},
   "outputs": [
    {
     "data": {
      "text/plain": [
       "['data\\\\dsnv_03.csv', 'data\\\\dsnv_1.csv', 'data\\\\ds_nv_2.csv']"
      ]
     },
     "execution_count": 5,
     "metadata": {},
     "output_type": "execute_result"
    }
   ],
   "source": [
    "# sử dụng hàm glob để lấy danh sách file theo mẫu\n",
    "list_files = gb.glob(file_pattern)\n",
    "list_files"
   ]
  },
  {
   "cell_type": "code",
   "execution_count": 6,
   "id": "73c92a04",
   "metadata": {},
   "outputs": [],
   "source": [
    "# khai báo list chứa các DataFrame\n",
    "list_data = []\n",
    "#duyệt qua từng tên file trong list_files để đọc dữ liệu\n",
    "for filename in list_files:\n",
    "    #đọc dữ liệu\n",
    "    df_temp = pd.read_csv(filename)\n",
    "    #gắn dataframe vào list_data\n",
    "    list_data.append(df_temp)"
   ]
  },
  {
   "cell_type": "code",
   "execution_count": 10,
   "id": "62f8a8eb",
   "metadata": {},
   "outputs": [
    {
     "data": {
      "text/html": [
       "<div>\n",
       "<style scoped>\n",
       "    .dataframe tbody tr th:only-of-type {\n",
       "        vertical-align: middle;\n",
       "    }\n",
       "\n",
       "    .dataframe tbody tr th {\n",
       "        vertical-align: top;\n",
       "    }\n",
       "\n",
       "    .dataframe thead th {\n",
       "        text-align: right;\n",
       "    }\n",
       "</style>\n",
       "<table border=\"1\" class=\"dataframe\">\n",
       "  <thead>\n",
       "    <tr style=\"text-align: right;\">\n",
       "      <th></th>\n",
       "      <th>hoten</th>\n",
       "      <th>gioitinh</th>\n",
       "      <th>tuoi</th>\n",
       "    </tr>\n",
       "  </thead>\n",
       "  <tbody>\n",
       "    <tr>\n",
       "      <th>0</th>\n",
       "      <td>ltd</td>\n",
       "      <td>nu</td>\n",
       "      <td>29</td>\n",
       "    </tr>\n",
       "    <tr>\n",
       "      <th>1</th>\n",
       "      <td>nva</td>\n",
       "      <td>nam</td>\n",
       "      <td>25</td>\n",
       "    </tr>\n",
       "    <tr>\n",
       "      <th>2</th>\n",
       "      <td>ltb</td>\n",
       "      <td>nu</td>\n",
       "      <td>22</td>\n",
       "    </tr>\n",
       "    <tr>\n",
       "      <th>3</th>\n",
       "      <td>nvc</td>\n",
       "      <td>nam</td>\n",
       "      <td>28</td>\n",
       "    </tr>\n",
       "  </tbody>\n",
       "</table>\n",
       "</div>"
      ],
      "text/plain": [
       "  hoten gioitinh  tuoi\n",
       "0   ltd       nu    29\n",
       "1   nva      nam    25\n",
       "2   ltb       nu    22\n",
       "3   nvc      nam    28"
      ]
     },
     "execution_count": 10,
     "metadata": {},
     "output_type": "execute_result"
    }
   ],
   "source": [
    "# nối các DataFrame trong list_data\n",
    "df_all = pd.concat(list_data, ignore_index = True)\n",
    "df_all"
   ]
  },
  {
   "cell_type": "code",
   "execution_count": null,
   "id": "76f794aa",
   "metadata": {},
   "outputs": [],
   "source": []
  },
  {
   "cell_type": "code",
   "execution_count": null,
   "id": "795ddcbc",
   "metadata": {},
   "outputs": [],
   "source": []
  }
 ],
 "metadata": {
  "kernelspec": {
   "display_name": "Python 3",
   "language": "python",
   "name": "python3"
  },
  "language_info": {
   "codemirror_mode": {
    "name": "ipython",
    "version": 3
   },
   "file_extension": ".py",
   "mimetype": "text/x-python",
   "name": "python",
   "nbconvert_exporter": "python",
   "pygments_lexer": "ipython3",
   "version": "3.6.8"
  }
 },
 "nbformat": 4,
 "nbformat_minor": 5
}
