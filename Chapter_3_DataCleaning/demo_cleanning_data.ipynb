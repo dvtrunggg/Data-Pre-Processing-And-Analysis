{
 "cells": [
  {
   "cell_type": "code",
   "execution_count": 2,
   "id": "9eb54d47",
   "metadata": {},
   "outputs": [
    {
     "data": {
      "application/javascript": [
       "\n",
       "            setTimeout(function() {\n",
       "                var nbb_cell_id = 2;\n",
       "                var nbb_unformatted_code = \"import pandas as pd\\nimport numpy as np\\nimport warnings\\n\\n%load_ext nb_black\\n\\nwarnings.filterwarnings(\\\"ignore\\\")\";\n",
       "                var nbb_formatted_code = \"import pandas as pd\\nimport numpy as np\\nimport warnings\\n\\n%load_ext nb_black\\n\\nwarnings.filterwarnings(\\\"ignore\\\")\";\n",
       "                var nbb_cells = Jupyter.notebook.get_cells();\n",
       "                for (var i = 0; i < nbb_cells.length; ++i) {\n",
       "                    if (nbb_cells[i].input_prompt_number == nbb_cell_id) {\n",
       "                        if (nbb_cells[i].get_text() == nbb_unformatted_code) {\n",
       "                             nbb_cells[i].set_text(nbb_formatted_code);\n",
       "                        }\n",
       "                        break;\n",
       "                    }\n",
       "                }\n",
       "            }, 500);\n",
       "            "
      ],
      "text/plain": [
       "<IPython.core.display.Javascript object>"
      ]
     },
     "metadata": {},
     "output_type": "display_data"
    }
   ],
   "source": [
    "import pandas as pd\n",
    "import numpy as np\n",
    "import warnings\n",
    "\n",
    "%load_ext nb_black\n",
    "\n",
    "warnings.filterwarnings(\"ignore\")"
   ]
  },
  {
   "cell_type": "code",
   "execution_count": 3,
   "id": "8553dd3c",
   "metadata": {},
   "outputs": [
    {
     "data": {
      "text/html": [
       "<div>\n",
       "<style scoped>\n",
       "    .dataframe tbody tr th:only-of-type {\n",
       "        vertical-align: middle;\n",
       "    }\n",
       "\n",
       "    .dataframe tbody tr th {\n",
       "        vertical-align: top;\n",
       "    }\n",
       "\n",
       "    .dataframe thead th {\n",
       "        text-align: right;\n",
       "    }\n",
       "</style>\n",
       "<table border=\"1\" class=\"dataframe\">\n",
       "  <thead>\n",
       "    <tr style=\"text-align: right;\">\n",
       "      <th></th>\n",
       "      <th>phong</th>\n",
       "      <th>luong</th>\n",
       "    </tr>\n",
       "  </thead>\n",
       "  <tbody>\n",
       "    <tr>\n",
       "      <th>0</th>\n",
       "      <td>kt</td>\n",
       "      <td>20,000,000vnđ</td>\n",
       "    </tr>\n",
       "    <tr>\n",
       "      <th>1</th>\n",
       "      <td>ns</td>\n",
       "      <td>18,000,000đ</td>\n",
       "    </tr>\n",
       "    <tr>\n",
       "      <th>2</th>\n",
       "      <td>bh</td>\n",
       "      <td>18500000</td>\n",
       "    </tr>\n",
       "    <tr>\n",
       "      <th>3</th>\n",
       "      <td>mk</td>\n",
       "      <td>12,000,000VNĐ</td>\n",
       "    </tr>\n",
       "  </tbody>\n",
       "</table>\n",
       "</div>"
      ],
      "text/plain": [
       "  phong          luong\n",
       "0    kt  20,000,000vnđ\n",
       "1    ns    18,000,000đ\n",
       "2    bh       18500000\n",
       "3    mk  12,000,000VNĐ"
      ]
     },
     "execution_count": 3,
     "metadata": {},
     "output_type": "execute_result"
    },
    {
     "data": {
      "application/javascript": [
       "\n",
       "            setTimeout(function() {\n",
       "                var nbb_cell_id = 3;\n",
       "                var nbb_unformatted_code = \"df = pd.DataFrame({\\n    'phong': ['kt', 'ns', 'bh', 'mk'],\\n    'luong': ['20,000,000vn\\u0111', '18,000,000\\u0111', '18500000', '12,000,000VN\\u0110']\\n})\\ndf\";\n",
       "                var nbb_formatted_code = \"df = pd.DataFrame(\\n    {\\n        \\\"phong\\\": [\\\"kt\\\", \\\"ns\\\", \\\"bh\\\", \\\"mk\\\"],\\n        \\\"luong\\\": [\\\"20,000,000vn\\u0111\\\", \\\"18,000,000\\u0111\\\", \\\"18500000\\\", \\\"12,000,000VN\\u0110\\\"],\\n    }\\n)\\ndf\";\n",
       "                var nbb_cells = Jupyter.notebook.get_cells();\n",
       "                for (var i = 0; i < nbb_cells.length; ++i) {\n",
       "                    if (nbb_cells[i].input_prompt_number == nbb_cell_id) {\n",
       "                        if (nbb_cells[i].get_text() == nbb_unformatted_code) {\n",
       "                             nbb_cells[i].set_text(nbb_formatted_code);\n",
       "                        }\n",
       "                        break;\n",
       "                    }\n",
       "                }\n",
       "            }, 500);\n",
       "            "
      ],
      "text/plain": [
       "<IPython.core.display.Javascript object>"
      ]
     },
     "metadata": {},
     "output_type": "display_data"
    }
   ],
   "source": [
    "df = pd.DataFrame(\n",
    "    {\n",
    "        \"phong\": [\"kt\", \"ns\", \"bh\", \"mk\"],\n",
    "        \"luong\": [\"20,000,000vnđ\", \"18,000,000đ\", \"18500000\", \"12,000,000VNĐ\"],\n",
    "    }\n",
    ")\n",
    "df"
   ]
  },
  {
   "cell_type": "code",
   "execution_count": 4,
   "id": "7262984c",
   "metadata": {},
   "outputs": [
    {
     "name": "stdout",
     "output_type": "stream",
     "text": [
      "<class 'pandas.core.frame.DataFrame'>\n",
      "RangeIndex: 4 entries, 0 to 3\n",
      "Data columns (total 2 columns):\n",
      " #   Column  Non-Null Count  Dtype \n",
      "---  ------  --------------  ----- \n",
      " 0   phong   4 non-null      object\n",
      " 1   luong   4 non-null      object\n",
      "dtypes: object(2)\n",
      "memory usage: 192.0+ bytes\n"
     ]
    },
    {
     "data": {
      "application/javascript": [
       "\n",
       "            setTimeout(function() {\n",
       "                var nbb_cell_id = 4;\n",
       "                var nbb_unformatted_code = \"df.info()\";\n",
       "                var nbb_formatted_code = \"df.info()\";\n",
       "                var nbb_cells = Jupyter.notebook.get_cells();\n",
       "                for (var i = 0; i < nbb_cells.length; ++i) {\n",
       "                    if (nbb_cells[i].input_prompt_number == nbb_cell_id) {\n",
       "                        if (nbb_cells[i].get_text() == nbb_unformatted_code) {\n",
       "                             nbb_cells[i].set_text(nbb_formatted_code);\n",
       "                        }\n",
       "                        break;\n",
       "                    }\n",
       "                }\n",
       "            }, 500);\n",
       "            "
      ],
      "text/plain": [
       "<IPython.core.display.Javascript object>"
      ]
     },
     "metadata": {},
     "output_type": "display_data"
    }
   ],
   "source": [
    "df.info()"
   ]
  },
  {
   "cell_type": "markdown",
   "id": "a4e1de3d",
   "metadata": {},
   "source": [
    "### Cách 1: dùng kiểu xử lý string"
   ]
  },
  {
   "cell_type": "code",
   "execution_count": 5,
   "id": "235c6f02",
   "metadata": {},
   "outputs": [
    {
     "name": "stdout",
     "output_type": "stream",
     "text": [
      "<class 'pandas.core.frame.DataFrame'>\n",
      "RangeIndex: 4 entries, 0 to 3\n",
      "Data columns (total 2 columns):\n",
      " #   Column  Non-Null Count  Dtype \n",
      "---  ------  --------------  ----- \n",
      " 0   phong   4 non-null      object\n",
      " 1   luong   4 non-null      int32 \n",
      "dtypes: int32(1), object(1)\n",
      "memory usage: 176.0+ bytes\n"
     ]
    },
    {
     "data": {
      "application/javascript": [
       "\n",
       "            setTimeout(function() {\n",
       "                var nbb_cell_id = 5;\n",
       "                var nbb_unformatted_code = \"df['luong'] = df['luong'].str.lower()\\ndf['luong'] = df['luong'].str.replace(',', '')\\ndf['luong'] = df['luong'].str.replace('vn\\u0111', '')\\ndf['luong'] = df['luong'].str.replace('\\u0111', '')\\ndf['luong'] = df['luong'].astype(int) # chuy\\u1ec3n nguy\\u00ean c\\u00e1i df sang int (kh\\u1ecfi ph\\u1ea3i x\\u00e0i apply - lambda:))\\ndf.info()\";\n",
       "                var nbb_formatted_code = \"df[\\\"luong\\\"] = df[\\\"luong\\\"].str.lower()\\ndf[\\\"luong\\\"] = df[\\\"luong\\\"].str.replace(\\\",\\\", \\\"\\\")\\ndf[\\\"luong\\\"] = df[\\\"luong\\\"].str.replace(\\\"vn\\u0111\\\", \\\"\\\")\\ndf[\\\"luong\\\"] = df[\\\"luong\\\"].str.replace(\\\"\\u0111\\\", \\\"\\\")\\ndf[\\\"luong\\\"] = df[\\\"luong\\\"].astype(\\n    int\\n)  # chuy\\u1ec3n nguy\\u00ean c\\u00e1i df sang int (kh\\u1ecfi ph\\u1ea3i x\\u00e0i apply - lambda:))\\ndf.info()\";\n",
       "                var nbb_cells = Jupyter.notebook.get_cells();\n",
       "                for (var i = 0; i < nbb_cells.length; ++i) {\n",
       "                    if (nbb_cells[i].input_prompt_number == nbb_cell_id) {\n",
       "                        if (nbb_cells[i].get_text() == nbb_unformatted_code) {\n",
       "                             nbb_cells[i].set_text(nbb_formatted_code);\n",
       "                        }\n",
       "                        break;\n",
       "                    }\n",
       "                }\n",
       "            }, 500);\n",
       "            "
      ],
      "text/plain": [
       "<IPython.core.display.Javascript object>"
      ]
     },
     "metadata": {},
     "output_type": "display_data"
    }
   ],
   "source": [
    "df[\"luong\"] = df[\"luong\"].str.lower()\n",
    "df[\"luong\"] = df[\"luong\"].str.replace(\",\", \"\")\n",
    "df[\"luong\"] = df[\"luong\"].str.replace(\"vnđ\", \"\")\n",
    "df[\"luong\"] = df[\"luong\"].str.replace(\"đ\", \"\")\n",
    "df[\"luong\"] = df[\"luong\"].astype(\n",
    "    int\n",
    ")  # chuyển nguyên cái df sang int (khỏi phải xài apply - lambda:))\n",
    "df.info()"
   ]
  },
  {
   "cell_type": "code",
   "execution_count": 6,
   "id": "81a89463",
   "metadata": {},
   "outputs": [
    {
     "data": {
      "text/html": [
       "<div>\n",
       "<style scoped>\n",
       "    .dataframe tbody tr th:only-of-type {\n",
       "        vertical-align: middle;\n",
       "    }\n",
       "\n",
       "    .dataframe tbody tr th {\n",
       "        vertical-align: top;\n",
       "    }\n",
       "\n",
       "    .dataframe thead th {\n",
       "        text-align: right;\n",
       "    }\n",
       "</style>\n",
       "<table border=\"1\" class=\"dataframe\">\n",
       "  <thead>\n",
       "    <tr style=\"text-align: right;\">\n",
       "      <th></th>\n",
       "      <th>phong</th>\n",
       "      <th>luong</th>\n",
       "    </tr>\n",
       "  </thead>\n",
       "  <tbody>\n",
       "    <tr>\n",
       "      <th>0</th>\n",
       "      <td>kt</td>\n",
       "      <td>20000000</td>\n",
       "    </tr>\n",
       "    <tr>\n",
       "      <th>1</th>\n",
       "      <td>ns</td>\n",
       "      <td>18000000</td>\n",
       "    </tr>\n",
       "    <tr>\n",
       "      <th>2</th>\n",
       "      <td>bh</td>\n",
       "      <td>18500000</td>\n",
       "    </tr>\n",
       "    <tr>\n",
       "      <th>3</th>\n",
       "      <td>mk</td>\n",
       "      <td>12000000</td>\n",
       "    </tr>\n",
       "  </tbody>\n",
       "</table>\n",
       "</div>"
      ],
      "text/plain": [
       "  phong     luong\n",
       "0    kt  20000000\n",
       "1    ns  18000000\n",
       "2    bh  18500000\n",
       "3    mk  12000000"
      ]
     },
     "execution_count": 6,
     "metadata": {},
     "output_type": "execute_result"
    },
    {
     "data": {
      "application/javascript": [
       "\n",
       "            setTimeout(function() {\n",
       "                var nbb_cell_id = 6;\n",
       "                var nbb_unformatted_code = \"df\";\n",
       "                var nbb_formatted_code = \"df\";\n",
       "                var nbb_cells = Jupyter.notebook.get_cells();\n",
       "                for (var i = 0; i < nbb_cells.length; ++i) {\n",
       "                    if (nbb_cells[i].input_prompt_number == nbb_cell_id) {\n",
       "                        if (nbb_cells[i].get_text() == nbb_unformatted_code) {\n",
       "                             nbb_cells[i].set_text(nbb_formatted_code);\n",
       "                        }\n",
       "                        break;\n",
       "                    }\n",
       "                }\n",
       "            }, 500);\n",
       "            "
      ],
      "text/plain": [
       "<IPython.core.display.Javascript object>"
      ]
     },
     "metadata": {},
     "output_type": "display_data"
    }
   ],
   "source": [
    "df"
   ]
  },
  {
   "cell_type": "code",
   "execution_count": 7,
   "id": "4d278de7",
   "metadata": {},
   "outputs": [
    {
     "data": {
      "text/html": [
       "<div>\n",
       "<style scoped>\n",
       "    .dataframe tbody tr th:only-of-type {\n",
       "        vertical-align: middle;\n",
       "    }\n",
       "\n",
       "    .dataframe tbody tr th {\n",
       "        vertical-align: top;\n",
       "    }\n",
       "\n",
       "    .dataframe thead th {\n",
       "        text-align: right;\n",
       "    }\n",
       "</style>\n",
       "<table border=\"1\" class=\"dataframe\">\n",
       "  <thead>\n",
       "    <tr style=\"text-align: right;\">\n",
       "      <th></th>\n",
       "      <th>phong</th>\n",
       "      <th>luong</th>\n",
       "    </tr>\n",
       "  </thead>\n",
       "  <tbody>\n",
       "    <tr>\n",
       "      <th>0</th>\n",
       "      <td>kt</td>\n",
       "      <td>20,000,000vnđ</td>\n",
       "    </tr>\n",
       "    <tr>\n",
       "      <th>1</th>\n",
       "      <td>ns</td>\n",
       "      <td>18,000,000đ</td>\n",
       "    </tr>\n",
       "    <tr>\n",
       "      <th>2</th>\n",
       "      <td>bh</td>\n",
       "      <td>18500000</td>\n",
       "    </tr>\n",
       "    <tr>\n",
       "      <th>3</th>\n",
       "      <td>mk</td>\n",
       "      <td>12,000,000VNĐ</td>\n",
       "    </tr>\n",
       "  </tbody>\n",
       "</table>\n",
       "</div>"
      ],
      "text/plain": [
       "  phong          luong\n",
       "0    kt  20,000,000vnđ\n",
       "1    ns    18,000,000đ\n",
       "2    bh       18500000\n",
       "3    mk  12,000,000VNĐ"
      ]
     },
     "execution_count": 7,
     "metadata": {},
     "output_type": "execute_result"
    },
    {
     "data": {
      "application/javascript": [
       "\n",
       "            setTimeout(function() {\n",
       "                var nbb_cell_id = 7;\n",
       "                var nbb_unformatted_code = \"df2 = pd.DataFrame(\\n    {\\n        \\\"phong\\\": [\\\"kt\\\", \\\"ns\\\", \\\"bh\\\", \\\"mk\\\"],\\n        \\\"luong\\\": [\\\"20,000,000vn\\u0111\\\", \\\"18,000,000\\u0111\\\", \\\"18500000\\\", \\\"12,000,000VN\\u0110\\\"],\\n    }\\n)\\ndf2\";\n",
       "                var nbb_formatted_code = \"df2 = pd.DataFrame(\\n    {\\n        \\\"phong\\\": [\\\"kt\\\", \\\"ns\\\", \\\"bh\\\", \\\"mk\\\"],\\n        \\\"luong\\\": [\\\"20,000,000vn\\u0111\\\", \\\"18,000,000\\u0111\\\", \\\"18500000\\\", \\\"12,000,000VN\\u0110\\\"],\\n    }\\n)\\ndf2\";\n",
       "                var nbb_cells = Jupyter.notebook.get_cells();\n",
       "                for (var i = 0; i < nbb_cells.length; ++i) {\n",
       "                    if (nbb_cells[i].input_prompt_number == nbb_cell_id) {\n",
       "                        if (nbb_cells[i].get_text() == nbb_unformatted_code) {\n",
       "                             nbb_cells[i].set_text(nbb_formatted_code);\n",
       "                        }\n",
       "                        break;\n",
       "                    }\n",
       "                }\n",
       "            }, 500);\n",
       "            "
      ],
      "text/plain": [
       "<IPython.core.display.Javascript object>"
      ]
     },
     "metadata": {},
     "output_type": "display_data"
    }
   ],
   "source": [
    "df2 = pd.DataFrame(\n",
    "    {\n",
    "        \"phong\": [\"kt\", \"ns\", \"bh\", \"mk\"],\n",
    "        \"luong\": [\"20,000,000vnđ\", \"18,000,000đ\", \"18500000\", \"12,000,000VNĐ\"],\n",
    "    }\n",
    ")\n",
    "df2"
   ]
  },
  {
   "cell_type": "markdown",
   "id": "8d25fc71",
   "metadata": {},
   "source": [
    "### Cách 2: dùng re"
   ]
  },
  {
   "cell_type": "code",
   "execution_count": 8,
   "id": "5a966577",
   "metadata": {},
   "outputs": [
    {
     "data": {
      "text/html": [
       "<div>\n",
       "<style scoped>\n",
       "    .dataframe tbody tr th:only-of-type {\n",
       "        vertical-align: middle;\n",
       "    }\n",
       "\n",
       "    .dataframe tbody tr th {\n",
       "        vertical-align: top;\n",
       "    }\n",
       "\n",
       "    .dataframe thead th {\n",
       "        text-align: right;\n",
       "    }\n",
       "</style>\n",
       "<table border=\"1\" class=\"dataframe\">\n",
       "  <thead>\n",
       "    <tr style=\"text-align: right;\">\n",
       "      <th></th>\n",
       "      <th>phong</th>\n",
       "      <th>luong</th>\n",
       "    </tr>\n",
       "  </thead>\n",
       "  <tbody>\n",
       "    <tr>\n",
       "      <th>0</th>\n",
       "      <td>kt</td>\n",
       "      <td>20000000</td>\n",
       "    </tr>\n",
       "    <tr>\n",
       "      <th>1</th>\n",
       "      <td>ns</td>\n",
       "      <td>18000000</td>\n",
       "    </tr>\n",
       "    <tr>\n",
       "      <th>2</th>\n",
       "      <td>bh</td>\n",
       "      <td>18500000</td>\n",
       "    </tr>\n",
       "    <tr>\n",
       "      <th>3</th>\n",
       "      <td>mk</td>\n",
       "      <td>12000000</td>\n",
       "    </tr>\n",
       "  </tbody>\n",
       "</table>\n",
       "</div>"
      ],
      "text/plain": [
       "  phong     luong\n",
       "0    kt  20000000\n",
       "1    ns  18000000\n",
       "2    bh  18500000\n",
       "3    mk  12000000"
      ]
     },
     "execution_count": 8,
     "metadata": {},
     "output_type": "execute_result"
    },
    {
     "data": {
      "application/javascript": [
       "\n",
       "            setTimeout(function() {\n",
       "                var nbb_cell_id = 8;\n",
       "                var nbb_unformatted_code = \"# thay th\\u1ebf nh\\u1eefng k\\u00fd t\\u1ef1 ko ph\\u1ea3i l\\u00e0 s\\u1ed1 (\\\\D) th\\u00e0nh ''\\ndf2[\\\"luong\\\"] = df2[\\\"luong\\\"].str.replace(\\\"\\\\D\\\", \\\"\\\").astype(int)\\ndf2\";\n",
       "                var nbb_formatted_code = \"# thay th\\u1ebf nh\\u1eefng k\\u00fd t\\u1ef1 ko ph\\u1ea3i l\\u00e0 s\\u1ed1 (\\\\D) th\\u00e0nh ''\\ndf2[\\\"luong\\\"] = df2[\\\"luong\\\"].str.replace(\\\"\\\\D\\\", \\\"\\\").astype(int)\\ndf2\";\n",
       "                var nbb_cells = Jupyter.notebook.get_cells();\n",
       "                for (var i = 0; i < nbb_cells.length; ++i) {\n",
       "                    if (nbb_cells[i].input_prompt_number == nbb_cell_id) {\n",
       "                        if (nbb_cells[i].get_text() == nbb_unformatted_code) {\n",
       "                             nbb_cells[i].set_text(nbb_formatted_code);\n",
       "                        }\n",
       "                        break;\n",
       "                    }\n",
       "                }\n",
       "            }, 500);\n",
       "            "
      ],
      "text/plain": [
       "<IPython.core.display.Javascript object>"
      ]
     },
     "metadata": {},
     "output_type": "display_data"
    }
   ],
   "source": [
    "# thay thế những ký tự ko phải là số (\\D) thành ''\n",
    "df2[\"luong\"] = df2[\"luong\"].str.replace(\"\\D\", \"\").astype(int)\n",
    "df2"
   ]
  },
  {
   "cell_type": "code",
   "execution_count": 9,
   "id": "3ee2f506",
   "metadata": {},
   "outputs": [
    {
     "data": {
      "text/html": [
       "<div>\n",
       "<style scoped>\n",
       "    .dataframe tbody tr th:only-of-type {\n",
       "        vertical-align: middle;\n",
       "    }\n",
       "\n",
       "    .dataframe tbody tr th {\n",
       "        vertical-align: top;\n",
       "    }\n",
       "\n",
       "    .dataframe thead th {\n",
       "        text-align: right;\n",
       "    }\n",
       "</style>\n",
       "<table border=\"1\" class=\"dataframe\">\n",
       "  <thead>\n",
       "    <tr style=\"text-align: right;\">\n",
       "      <th></th>\n",
       "      <th>phong</th>\n",
       "      <th>luong</th>\n",
       "    </tr>\n",
       "  </thead>\n",
       "  <tbody>\n",
       "    <tr>\n",
       "      <th>0</th>\n",
       "      <td>kt</td>\n",
       "      <td>20,000,000vnđ</td>\n",
       "    </tr>\n",
       "    <tr>\n",
       "      <th>1</th>\n",
       "      <td>ns</td>\n",
       "      <td>18,000,000đ</td>\n",
       "    </tr>\n",
       "    <tr>\n",
       "      <th>2</th>\n",
       "      <td>bh</td>\n",
       "      <td>18500000</td>\n",
       "    </tr>\n",
       "    <tr>\n",
       "      <th>3</th>\n",
       "      <td>mk</td>\n",
       "      <td>12,000,000VNĐ</td>\n",
       "    </tr>\n",
       "  </tbody>\n",
       "</table>\n",
       "</div>"
      ],
      "text/plain": [
       "  phong          luong\n",
       "0    kt  20,000,000vnđ\n",
       "1    ns    18,000,000đ\n",
       "2    bh       18500000\n",
       "3    mk  12,000,000VNĐ"
      ]
     },
     "execution_count": 9,
     "metadata": {},
     "output_type": "execute_result"
    },
    {
     "data": {
      "application/javascript": [
       "\n",
       "            setTimeout(function() {\n",
       "                var nbb_cell_id = 9;\n",
       "                var nbb_unformatted_code = \"df3 = pd.DataFrame({\\n    'phong': ['kt', 'ns', 'bh', 'mk'],\\n    'luong': ['20,000,000vn\\u0111', '18,000,000\\u0111', '18500000', '12,000,000VN\\u0110']\\n})\\ndf3\";\n",
       "                var nbb_formatted_code = \"df3 = pd.DataFrame(\\n    {\\n        \\\"phong\\\": [\\\"kt\\\", \\\"ns\\\", \\\"bh\\\", \\\"mk\\\"],\\n        \\\"luong\\\": [\\\"20,000,000vn\\u0111\\\", \\\"18,000,000\\u0111\\\", \\\"18500000\\\", \\\"12,000,000VN\\u0110\\\"],\\n    }\\n)\\ndf3\";\n",
       "                var nbb_cells = Jupyter.notebook.get_cells();\n",
       "                for (var i = 0; i < nbb_cells.length; ++i) {\n",
       "                    if (nbb_cells[i].input_prompt_number == nbb_cell_id) {\n",
       "                        if (nbb_cells[i].get_text() == nbb_unformatted_code) {\n",
       "                             nbb_cells[i].set_text(nbb_formatted_code);\n",
       "                        }\n",
       "                        break;\n",
       "                    }\n",
       "                }\n",
       "            }, 500);\n",
       "            "
      ],
      "text/plain": [
       "<IPython.core.display.Javascript object>"
      ]
     },
     "metadata": {},
     "output_type": "display_data"
    }
   ],
   "source": [
    "df3 = pd.DataFrame(\n",
    "    {\n",
    "        \"phong\": [\"kt\", \"ns\", \"bh\", \"mk\"],\n",
    "        \"luong\": [\"20,000,000vnđ\", \"18,000,000đ\", \"18500000\", \"12,000,000VNĐ\"],\n",
    "    }\n",
    ")\n",
    "df3"
   ]
  },
  {
   "cell_type": "code",
   "execution_count": 10,
   "id": "e4a0249a",
   "metadata": {},
   "outputs": [
    {
     "data": {
      "text/html": [
       "<div>\n",
       "<style scoped>\n",
       "    .dataframe tbody tr th:only-of-type {\n",
       "        vertical-align: middle;\n",
       "    }\n",
       "\n",
       "    .dataframe tbody tr th {\n",
       "        vertical-align: top;\n",
       "    }\n",
       "\n",
       "    .dataframe thead th {\n",
       "        text-align: right;\n",
       "    }\n",
       "</style>\n",
       "<table border=\"1\" class=\"dataframe\">\n",
       "  <thead>\n",
       "    <tr style=\"text-align: right;\">\n",
       "      <th></th>\n",
       "      <th>phong</th>\n",
       "      <th>luong</th>\n",
       "    </tr>\n",
       "  </thead>\n",
       "  <tbody>\n",
       "    <tr>\n",
       "      <th>0</th>\n",
       "      <td>kt</td>\n",
       "      <td>20000000</td>\n",
       "    </tr>\n",
       "    <tr>\n",
       "      <th>1</th>\n",
       "      <td>ns</td>\n",
       "      <td>18000000</td>\n",
       "    </tr>\n",
       "    <tr>\n",
       "      <th>2</th>\n",
       "      <td>bh</td>\n",
       "      <td>18500000</td>\n",
       "    </tr>\n",
       "    <tr>\n",
       "      <th>3</th>\n",
       "      <td>mk</td>\n",
       "      <td>12000000</td>\n",
       "    </tr>\n",
       "  </tbody>\n",
       "</table>\n",
       "</div>"
      ],
      "text/plain": [
       "  phong     luong\n",
       "0    kt  20000000\n",
       "1    ns  18000000\n",
       "2    bh  18500000\n",
       "3    mk  12000000"
      ]
     },
     "execution_count": 10,
     "metadata": {},
     "output_type": "execute_result"
    },
    {
     "data": {
      "application/javascript": [
       "\n",
       "            setTimeout(function() {\n",
       "                var nbb_cell_id = 10;\n",
       "                var nbb_unformatted_code = \"df3['luong'] = df3['luong'].str.replace('\\\\D', '')\\ndf3['luong'] = pd.to_numeric(df3['luong'])\\ndf3\";\n",
       "                var nbb_formatted_code = \"df3[\\\"luong\\\"] = df3[\\\"luong\\\"].str.replace(\\\"\\\\D\\\", \\\"\\\")\\ndf3[\\\"luong\\\"] = pd.to_numeric(df3[\\\"luong\\\"])\\ndf3\";\n",
       "                var nbb_cells = Jupyter.notebook.get_cells();\n",
       "                for (var i = 0; i < nbb_cells.length; ++i) {\n",
       "                    if (nbb_cells[i].input_prompt_number == nbb_cell_id) {\n",
       "                        if (nbb_cells[i].get_text() == nbb_unformatted_code) {\n",
       "                             nbb_cells[i].set_text(nbb_formatted_code);\n",
       "                        }\n",
       "                        break;\n",
       "                    }\n",
       "                }\n",
       "            }, 500);\n",
       "            "
      ],
      "text/plain": [
       "<IPython.core.display.Javascript object>"
      ]
     },
     "metadata": {},
     "output_type": "display_data"
    }
   ],
   "source": [
    "df3[\"luong\"] = df3[\"luong\"].str.replace(\"\\D\", \"\")\n",
    "df3[\"luong\"] = pd.to_numeric(df3[\"luong\"])\n",
    "df3"
   ]
  },
  {
   "cell_type": "code",
   "execution_count": 11,
   "id": "91136f39",
   "metadata": {},
   "outputs": [
    {
     "data": {
      "text/html": [
       "<div>\n",
       "<style scoped>\n",
       "    .dataframe tbody tr th:only-of-type {\n",
       "        vertical-align: middle;\n",
       "    }\n",
       "\n",
       "    .dataframe tbody tr th {\n",
       "        vertical-align: top;\n",
       "    }\n",
       "\n",
       "    .dataframe thead th {\n",
       "        text-align: right;\n",
       "    }\n",
       "</style>\n",
       "<table border=\"1\" class=\"dataframe\">\n",
       "  <thead>\n",
       "    <tr style=\"text-align: right;\">\n",
       "      <th></th>\n",
       "      <th>phong</th>\n",
       "      <th>luong</th>\n",
       "    </tr>\n",
       "  </thead>\n",
       "  <tbody>\n",
       "    <tr>\n",
       "      <th>0</th>\n",
       "      <td>kt</td>\n",
       "      <td>20,000,000vnđ</td>\n",
       "    </tr>\n",
       "    <tr>\n",
       "      <th>1</th>\n",
       "      <td>ns</td>\n",
       "      <td>18,000,000đ</td>\n",
       "    </tr>\n",
       "    <tr>\n",
       "      <th>2</th>\n",
       "      <td>bh</td>\n",
       "      <td>18500000</td>\n",
       "    </tr>\n",
       "    <tr>\n",
       "      <th>3</th>\n",
       "      <td>mk</td>\n",
       "      <td>12,000,000VNĐ</td>\n",
       "    </tr>\n",
       "  </tbody>\n",
       "</table>\n",
       "</div>"
      ],
      "text/plain": [
       "  phong          luong\n",
       "0    kt  20,000,000vnđ\n",
       "1    ns    18,000,000đ\n",
       "2    bh       18500000\n",
       "3    mk  12,000,000VNĐ"
      ]
     },
     "execution_count": 11,
     "metadata": {},
     "output_type": "execute_result"
    },
    {
     "data": {
      "application/javascript": [
       "\n",
       "            setTimeout(function() {\n",
       "                var nbb_cell_id = 11;\n",
       "                var nbb_unformatted_code = \"df4 = pd.DataFrame(\\n    {\\n        \\\"phong\\\": [\\\"kt\\\", \\\"ns\\\", \\\"bh\\\", \\\"mk\\\"],\\n        \\\"luong\\\": [\\\"20,000,000vn\\u0111\\\", \\\"18,000,000\\u0111\\\", \\\"18500000\\\", \\\"12,000,000VN\\u0110\\\"],\\n    }\\n)\\ndf4\";\n",
       "                var nbb_formatted_code = \"df4 = pd.DataFrame(\\n    {\\n        \\\"phong\\\": [\\\"kt\\\", \\\"ns\\\", \\\"bh\\\", \\\"mk\\\"],\\n        \\\"luong\\\": [\\\"20,000,000vn\\u0111\\\", \\\"18,000,000\\u0111\\\", \\\"18500000\\\", \\\"12,000,000VN\\u0110\\\"],\\n    }\\n)\\ndf4\";\n",
       "                var nbb_cells = Jupyter.notebook.get_cells();\n",
       "                for (var i = 0; i < nbb_cells.length; ++i) {\n",
       "                    if (nbb_cells[i].input_prompt_number == nbb_cell_id) {\n",
       "                        if (nbb_cells[i].get_text() == nbb_unformatted_code) {\n",
       "                             nbb_cells[i].set_text(nbb_formatted_code);\n",
       "                        }\n",
       "                        break;\n",
       "                    }\n",
       "                }\n",
       "            }, 500);\n",
       "            "
      ],
      "text/plain": [
       "<IPython.core.display.Javascript object>"
      ]
     },
     "metadata": {},
     "output_type": "display_data"
    }
   ],
   "source": [
    "df4 = pd.DataFrame(\n",
    "    {\n",
    "        \"phong\": [\"kt\", \"ns\", \"bh\", \"mk\"],\n",
    "        \"luong\": [\"20,000,000vnđ\", \"18,000,000đ\", \"18500000\", \"12,000,000VNĐ\"],\n",
    "    }\n",
    ")\n",
    "df4"
   ]
  },
  {
   "cell_type": "code",
   "execution_count": 12,
   "id": "9e66a469",
   "metadata": {},
   "outputs": [
    {
     "data": {
      "text/html": [
       "<div>\n",
       "<style scoped>\n",
       "    .dataframe tbody tr th:only-of-type {\n",
       "        vertical-align: middle;\n",
       "    }\n",
       "\n",
       "    .dataframe tbody tr th {\n",
       "        vertical-align: top;\n",
       "    }\n",
       "\n",
       "    .dataframe thead th {\n",
       "        text-align: right;\n",
       "    }\n",
       "</style>\n",
       "<table border=\"1\" class=\"dataframe\">\n",
       "  <thead>\n",
       "    <tr style=\"text-align: right;\">\n",
       "      <th></th>\n",
       "      <th>phong</th>\n",
       "      <th>luong</th>\n",
       "      <th>luong_num</th>\n",
       "    </tr>\n",
       "  </thead>\n",
       "  <tbody>\n",
       "    <tr>\n",
       "      <th>0</th>\n",
       "      <td>kt</td>\n",
       "      <td>20,000,000vnđ</td>\n",
       "      <td>NaN</td>\n",
       "    </tr>\n",
       "    <tr>\n",
       "      <th>1</th>\n",
       "      <td>ns</td>\n",
       "      <td>18,000,000đ</td>\n",
       "      <td>NaN</td>\n",
       "    </tr>\n",
       "    <tr>\n",
       "      <th>2</th>\n",
       "      <td>bh</td>\n",
       "      <td>18500000</td>\n",
       "      <td>18500000.0</td>\n",
       "    </tr>\n",
       "    <tr>\n",
       "      <th>3</th>\n",
       "      <td>mk</td>\n",
       "      <td>12,000,000VNĐ</td>\n",
       "      <td>NaN</td>\n",
       "    </tr>\n",
       "  </tbody>\n",
       "</table>\n",
       "</div>"
      ],
      "text/plain": [
       "  phong          luong   luong_num\n",
       "0    kt  20,000,000vnđ         NaN\n",
       "1    ns    18,000,000đ         NaN\n",
       "2    bh       18500000  18500000.0\n",
       "3    mk  12,000,000VNĐ         NaN"
      ]
     },
     "execution_count": 12,
     "metadata": {},
     "output_type": "execute_result"
    },
    {
     "data": {
      "application/javascript": [
       "\n",
       "            setTimeout(function() {\n",
       "                var nbb_cell_id = 12;\n",
       "                var nbb_unformatted_code = \"# errors='coerce' n\\u1ebfu g\\u1eb7p l\\u1ed7i th\\u00ec tr\\u1ea3 v\\u1ec1 null\\n#\\ndf4[\\\"luong_num\\\"] = pd.to_numeric(df4[\\\"luong\\\"], errors=\\\"coerce\\\")\\ndf4\";\n",
       "                var nbb_formatted_code = \"# errors='coerce' n\\u1ebfu g\\u1eb7p l\\u1ed7i th\\u00ec tr\\u1ea3 v\\u1ec1 null\\n#\\ndf4[\\\"luong_num\\\"] = pd.to_numeric(df4[\\\"luong\\\"], errors=\\\"coerce\\\")\\ndf4\";\n",
       "                var nbb_cells = Jupyter.notebook.get_cells();\n",
       "                for (var i = 0; i < nbb_cells.length; ++i) {\n",
       "                    if (nbb_cells[i].input_prompt_number == nbb_cell_id) {\n",
       "                        if (nbb_cells[i].get_text() == nbb_unformatted_code) {\n",
       "                             nbb_cells[i].set_text(nbb_formatted_code);\n",
       "                        }\n",
       "                        break;\n",
       "                    }\n",
       "                }\n",
       "            }, 500);\n",
       "            "
      ],
      "text/plain": [
       "<IPython.core.display.Javascript object>"
      ]
     },
     "metadata": {},
     "output_type": "display_data"
    }
   ],
   "source": [
    "# errors='coerce' nếu gặp lỗi thì trả về null\n",
    "#\n",
    "df4[\"luong_num\"] = pd.to_numeric(df4[\"luong\"], errors=\"coerce\")\n",
    "df4"
   ]
  },
  {
   "cell_type": "markdown",
   "id": "39c525f9",
   "metadata": {},
   "source": [
    "## category type"
   ]
  },
  {
   "cell_type": "code",
   "execution_count": 13,
   "id": "599ab8d8",
   "metadata": {},
   "outputs": [
    {
     "data": {
      "application/javascript": [
       "\n",
       "            setTimeout(function() {\n",
       "                var nbb_cell_id = 13;\n",
       "                var nbb_unformatted_code = \"import seaborn as sns\";\n",
       "                var nbb_formatted_code = \"import seaborn as sns\";\n",
       "                var nbb_cells = Jupyter.notebook.get_cells();\n",
       "                for (var i = 0; i < nbb_cells.length; ++i) {\n",
       "                    if (nbb_cells[i].input_prompt_number == nbb_cell_id) {\n",
       "                        if (nbb_cells[i].get_text() == nbb_unformatted_code) {\n",
       "                             nbb_cells[i].set_text(nbb_formatted_code);\n",
       "                        }\n",
       "                        break;\n",
       "                    }\n",
       "                }\n",
       "            }, 500);\n",
       "            "
      ],
      "text/plain": [
       "<IPython.core.display.Javascript object>"
      ]
     },
     "metadata": {},
     "output_type": "display_data"
    }
   ],
   "source": [
    "import seaborn as sns"
   ]
  },
  {
   "cell_type": "code",
   "execution_count": 14,
   "id": "d21c178d",
   "metadata": {},
   "outputs": [
    {
     "name": "stdout",
     "output_type": "stream",
     "text": [
      "<class 'pandas.core.frame.DataFrame'>\n",
      "RangeIndex: 891 entries, 0 to 890\n",
      "Data columns (total 15 columns):\n",
      " #   Column       Non-Null Count  Dtype   \n",
      "---  ------       --------------  -----   \n",
      " 0   survived     891 non-null    int64   \n",
      " 1   pclass       891 non-null    int64   \n",
      " 2   sex          891 non-null    object  \n",
      " 3   age          714 non-null    float64 \n",
      " 4   sibsp        891 non-null    int64   \n",
      " 5   parch        891 non-null    int64   \n",
      " 6   fare         891 non-null    float64 \n",
      " 7   embarked     889 non-null    object  \n",
      " 8   class        891 non-null    category\n",
      " 9   who          891 non-null    object  \n",
      " 10  adult_male   891 non-null    bool    \n",
      " 11  deck         203 non-null    category\n",
      " 12  embark_town  889 non-null    object  \n",
      " 13  alive        891 non-null    object  \n",
      " 14  alone        891 non-null    bool    \n",
      "dtypes: bool(2), category(2), float64(2), int64(4), object(5)\n",
      "memory usage: 80.7+ KB\n"
     ]
    },
    {
     "data": {
      "application/javascript": [
       "\n",
       "            setTimeout(function() {\n",
       "                var nbb_cell_id = 14;\n",
       "                var nbb_unformatted_code = \"df5 = sns.load_dataset('titanic')\\ndf5.info()\";\n",
       "                var nbb_formatted_code = \"df5 = sns.load_dataset(\\\"titanic\\\")\\ndf5.info()\";\n",
       "                var nbb_cells = Jupyter.notebook.get_cells();\n",
       "                for (var i = 0; i < nbb_cells.length; ++i) {\n",
       "                    if (nbb_cells[i].input_prompt_number == nbb_cell_id) {\n",
       "                        if (nbb_cells[i].get_text() == nbb_unformatted_code) {\n",
       "                             nbb_cells[i].set_text(nbb_formatted_code);\n",
       "                        }\n",
       "                        break;\n",
       "                    }\n",
       "                }\n",
       "            }, 500);\n",
       "            "
      ],
      "text/plain": [
       "<IPython.core.display.Javascript object>"
      ]
     },
     "metadata": {},
     "output_type": "display_data"
    }
   ],
   "source": [
    "df5 = sns.load_dataset(\"titanic\")\n",
    "df5.info()"
   ]
  },
  {
   "cell_type": "code",
   "execution_count": 15,
   "id": "f8614008",
   "metadata": {},
   "outputs": [
    {
     "data": {
      "text/plain": [
       "array(['male', 'female'], dtype=object)"
      ]
     },
     "execution_count": 15,
     "metadata": {},
     "output_type": "execute_result"
    },
    {
     "data": {
      "application/javascript": [
       "\n",
       "            setTimeout(function() {\n",
       "                var nbb_cell_id = 15;\n",
       "                var nbb_unformatted_code = \"df5['sex'].unique()\";\n",
       "                var nbb_formatted_code = \"df5[\\\"sex\\\"].unique()\";\n",
       "                var nbb_cells = Jupyter.notebook.get_cells();\n",
       "                for (var i = 0; i < nbb_cells.length; ++i) {\n",
       "                    if (nbb_cells[i].input_prompt_number == nbb_cell_id) {\n",
       "                        if (nbb_cells[i].get_text() == nbb_unformatted_code) {\n",
       "                             nbb_cells[i].set_text(nbb_formatted_code);\n",
       "                        }\n",
       "                        break;\n",
       "                    }\n",
       "                }\n",
       "            }, 500);\n",
       "            "
      ],
      "text/plain": [
       "<IPython.core.display.Javascript object>"
      ]
     },
     "metadata": {},
     "output_type": "display_data"
    }
   ],
   "source": [
    "df5[\"sex\"].unique()"
   ]
  },
  {
   "cell_type": "code",
   "execution_count": 16,
   "id": "93929c65",
   "metadata": {},
   "outputs": [
    {
     "name": "stdout",
     "output_type": "stream",
     "text": [
      "<class 'pandas.core.frame.DataFrame'>\n",
      "RangeIndex: 891 entries, 0 to 890\n",
      "Data columns (total 15 columns):\n",
      " #   Column       Non-Null Count  Dtype   \n",
      "---  ------       --------------  -----   \n",
      " 0   survived     891 non-null    int64   \n",
      " 1   pclass       891 non-null    int64   \n",
      " 2   sex          891 non-null    category\n",
      " 3   age          714 non-null    float64 \n",
      " 4   sibsp        891 non-null    int64   \n",
      " 5   parch        891 non-null    int64   \n",
      " 6   fare         891 non-null    float64 \n",
      " 7   embarked     889 non-null    object  \n",
      " 8   class        891 non-null    category\n",
      " 9   who          891 non-null    object  \n",
      " 10  adult_male   891 non-null    bool    \n",
      " 11  deck         203 non-null    category\n",
      " 12  embark_town  889 non-null    object  \n",
      " 13  alive        891 non-null    object  \n",
      " 14  alone        891 non-null    bool    \n",
      "dtypes: bool(2), category(3), float64(2), int64(4), object(4)\n",
      "memory usage: 74.7+ KB\n"
     ]
    },
    {
     "data": {
      "application/javascript": [
       "\n",
       "            setTimeout(function() {\n",
       "                var nbb_cell_id = 16;\n",
       "                var nbb_unformatted_code = \"df5['sex'] = df5['sex'].astype('category')\\ndf5.info()\";\n",
       "                var nbb_formatted_code = \"df5[\\\"sex\\\"] = df5[\\\"sex\\\"].astype(\\\"category\\\")\\ndf5.info()\";\n",
       "                var nbb_cells = Jupyter.notebook.get_cells();\n",
       "                for (var i = 0; i < nbb_cells.length; ++i) {\n",
       "                    if (nbb_cells[i].input_prompt_number == nbb_cell_id) {\n",
       "                        if (nbb_cells[i].get_text() == nbb_unformatted_code) {\n",
       "                             nbb_cells[i].set_text(nbb_formatted_code);\n",
       "                        }\n",
       "                        break;\n",
       "                    }\n",
       "                }\n",
       "            }, 500);\n",
       "            "
      ],
      "text/plain": [
       "<IPython.core.display.Javascript object>"
      ]
     },
     "metadata": {},
     "output_type": "display_data"
    }
   ],
   "source": [
    "df5[\"sex\"] = df5[\"sex\"].astype(\"category\")\n",
    "df5.info()"
   ]
  },
  {
   "cell_type": "code",
   "execution_count": 17,
   "id": "d75a4e2a",
   "metadata": {},
   "outputs": [
    {
     "name": "stdout",
     "output_type": "stream",
     "text": [
      "<class 'pandas.core.frame.DataFrame'>\n",
      "RangeIndex: 891 entries, 0 to 890\n",
      "Data columns (total 15 columns):\n",
      " #   Column       Non-Null Count  Dtype   \n",
      "---  ------       --------------  -----   \n",
      " 0   survived     891 non-null    int64   \n",
      " 1   pclass       891 non-null    category\n",
      " 2   sex          891 non-null    category\n",
      " 3   age          714 non-null    float64 \n",
      " 4   sibsp        891 non-null    int64   \n",
      " 5   parch        891 non-null    int64   \n",
      " 6   fare         891 non-null    float64 \n",
      " 7   embarked     889 non-null    object  \n",
      " 8   class        891 non-null    category\n",
      " 9   who          891 non-null    object  \n",
      " 10  adult_male   891 non-null    bool    \n",
      " 11  deck         203 non-null    category\n",
      " 12  embark_town  889 non-null    object  \n",
      " 13  alive        891 non-null    object  \n",
      " 14  alone        891 non-null    bool    \n",
      "dtypes: bool(2), category(4), float64(2), int64(3), object(4)\n",
      "memory usage: 68.7+ KB\n"
     ]
    },
    {
     "data": {
      "application/javascript": [
       "\n",
       "            setTimeout(function() {\n",
       "                var nbb_cell_id = 17;\n",
       "                var nbb_unformatted_code = \"df5['pclass'] = df5['pclass'].astype('category')\\ndf5.info()\";\n",
       "                var nbb_formatted_code = \"df5[\\\"pclass\\\"] = df5[\\\"pclass\\\"].astype(\\\"category\\\")\\ndf5.info()\";\n",
       "                var nbb_cells = Jupyter.notebook.get_cells();\n",
       "                for (var i = 0; i < nbb_cells.length; ++i) {\n",
       "                    if (nbb_cells[i].input_prompt_number == nbb_cell_id) {\n",
       "                        if (nbb_cells[i].get_text() == nbb_unformatted_code) {\n",
       "                             nbb_cells[i].set_text(nbb_formatted_code);\n",
       "                        }\n",
       "                        break;\n",
       "                    }\n",
       "                }\n",
       "            }, 500);\n",
       "            "
      ],
      "text/plain": [
       "<IPython.core.display.Javascript object>"
      ]
     },
     "metadata": {},
     "output_type": "display_data"
    }
   ],
   "source": [
    "df5[\"pclass\"] = df5[\"pclass\"].astype(\"category\")\n",
    "df5.info()"
   ]
  },
  {
   "cell_type": "code",
   "execution_count": 18,
   "id": "a209c230",
   "metadata": {},
   "outputs": [
    {
     "data": {
      "text/plain": [
       "'\\nChuyển categorical data sang category type sẽ làm giảm kích thước bộ nhớ và thuật toán machine learning cũng làm việc tốt hơn\\n'"
      ]
     },
     "execution_count": 18,
     "metadata": {},
     "output_type": "execute_result"
    },
    {
     "data": {
      "application/javascript": [
       "\n",
       "            setTimeout(function() {\n",
       "                var nbb_cell_id = 18;\n",
       "                var nbb_unformatted_code = \"\\\"\\\"\\\"\\nChuy\\u1ec3n categorical data sang category type s\\u1ebd l\\u00e0m gi\\u1ea3m k\\u00edch th\\u01b0\\u1edbc b\\u1ed9 nh\\u1edb v\\u00e0 thu\\u1eadt to\\u00e1n machine learning c\\u0169ng l\\u00e0m vi\\u1ec7c t\\u1ed1t h\\u01a1n\\n\\\"\\\"\\\"\";\n",
       "                var nbb_formatted_code = \"\\\"\\\"\\\"\\nChuy\\u1ec3n categorical data sang category type s\\u1ebd l\\u00e0m gi\\u1ea3m k\\u00edch th\\u01b0\\u1edbc b\\u1ed9 nh\\u1edb v\\u00e0 thu\\u1eadt to\\u00e1n machine learning c\\u0169ng l\\u00e0m vi\\u1ec7c t\\u1ed1t h\\u01a1n\\n\\\"\\\"\\\"\";\n",
       "                var nbb_cells = Jupyter.notebook.get_cells();\n",
       "                for (var i = 0; i < nbb_cells.length; ++i) {\n",
       "                    if (nbb_cells[i].input_prompt_number == nbb_cell_id) {\n",
       "                        if (nbb_cells[i].get_text() == nbb_unformatted_code) {\n",
       "                             nbb_cells[i].set_text(nbb_formatted_code);\n",
       "                        }\n",
       "                        break;\n",
       "                    }\n",
       "                }\n",
       "            }, 500);\n",
       "            "
      ],
      "text/plain": [
       "<IPython.core.display.Javascript object>"
      ]
     },
     "metadata": {},
     "output_type": "display_data"
    }
   ],
   "source": [
    "\"\"\"\n",
    "Chuyển categorical data sang category type sẽ làm giảm kích thước bộ nhớ và thuật toán machine learning cũng làm việc tốt hơn\n",
    "\"\"\""
   ]
  },
  {
   "cell_type": "markdown",
   "id": "52606ee0",
   "metadata": {},
   "source": [
    "## dùng extract kết hợp regular expression\n",
    "## extract dùng để tách chuỗi"
   ]
  },
  {
   "cell_type": "code",
   "execution_count": 19,
   "id": "5faedb0b",
   "metadata": {},
   "outputs": [
    {
     "data": {
      "text/html": [
       "<div>\n",
       "<style scoped>\n",
       "    .dataframe tbody tr th:only-of-type {\n",
       "        vertical-align: middle;\n",
       "    }\n",
       "\n",
       "    .dataframe tbody tr th {\n",
       "        vertical-align: top;\n",
       "    }\n",
       "\n",
       "    .dataframe thead th {\n",
       "        text-align: right;\n",
       "    }\n",
       "</style>\n",
       "<table border=\"1\" class=\"dataframe\">\n",
       "  <thead>\n",
       "    <tr style=\"text-align: right;\">\n",
       "      <th></th>\n",
       "      <th>info</th>\n",
       "    </tr>\n",
       "  </thead>\n",
       "  <tbody>\n",
       "    <tr>\n",
       "      <th>0</th>\n",
       "      <td>kt-2-20000000</td>\n",
       "    </tr>\n",
       "    <tr>\n",
       "      <th>1</th>\n",
       "      <td>ns-4-24000000</td>\n",
       "    </tr>\n",
       "    <tr>\n",
       "      <th>2</th>\n",
       "      <td>bh-10-30000000</td>\n",
       "    </tr>\n",
       "  </tbody>\n",
       "</table>\n",
       "</div>"
      ],
      "text/plain": [
       "             info\n",
       "0   kt-2-20000000\n",
       "1   ns-4-24000000\n",
       "2  bh-10-30000000"
      ]
     },
     "execution_count": 19,
     "metadata": {},
     "output_type": "execute_result"
    },
    {
     "data": {
      "application/javascript": [
       "\n",
       "            setTimeout(function() {\n",
       "                var nbb_cell_id = 19;\n",
       "                var nbb_unformatted_code = \"df6 = pd.DataFrame({\\\"info\\\": [\\\"kt-2-20000000\\\", \\\"ns-4-24000000\\\", \\\"bh-10-30000000\\\"]})\\ndf6\";\n",
       "                var nbb_formatted_code = \"df6 = pd.DataFrame({\\\"info\\\": [\\\"kt-2-20000000\\\", \\\"ns-4-24000000\\\", \\\"bh-10-30000000\\\"]})\\ndf6\";\n",
       "                var nbb_cells = Jupyter.notebook.get_cells();\n",
       "                for (var i = 0; i < nbb_cells.length; ++i) {\n",
       "                    if (nbb_cells[i].input_prompt_number == nbb_cell_id) {\n",
       "                        if (nbb_cells[i].get_text() == nbb_unformatted_code) {\n",
       "                             nbb_cells[i].set_text(nbb_formatted_code);\n",
       "                        }\n",
       "                        break;\n",
       "                    }\n",
       "                }\n",
       "            }, 500);\n",
       "            "
      ],
      "text/plain": [
       "<IPython.core.display.Javascript object>"
      ]
     },
     "metadata": {},
     "output_type": "display_data"
    }
   ],
   "source": [
    "df6 = pd.DataFrame({\"info\": [\"kt-2-20000000\", \"ns-4-24000000\", \"bh-10-30000000\"]})\n",
    "df6"
   ]
  },
  {
   "cell_type": "code",
   "execution_count": 20,
   "id": "4097ff62",
   "metadata": {},
   "outputs": [
    {
     "data": {
      "text/html": [
       "<div>\n",
       "<style scoped>\n",
       "    .dataframe tbody tr th:only-of-type {\n",
       "        vertical-align: middle;\n",
       "    }\n",
       "\n",
       "    .dataframe tbody tr th {\n",
       "        vertical-align: top;\n",
       "    }\n",
       "\n",
       "    .dataframe thead th {\n",
       "        text-align: right;\n",
       "    }\n",
       "</style>\n",
       "<table border=\"1\" class=\"dataframe\">\n",
       "  <thead>\n",
       "    <tr style=\"text-align: right;\">\n",
       "      <th></th>\n",
       "      <th>info</th>\n",
       "      <th>phong</th>\n",
       "    </tr>\n",
       "  </thead>\n",
       "  <tbody>\n",
       "    <tr>\n",
       "      <th>0</th>\n",
       "      <td>kt-2-20000000</td>\n",
       "      <td>kt</td>\n",
       "    </tr>\n",
       "    <tr>\n",
       "      <th>1</th>\n",
       "      <td>ns-4-24000000</td>\n",
       "      <td>ns</td>\n",
       "    </tr>\n",
       "    <tr>\n",
       "      <th>2</th>\n",
       "      <td>bh-10-30000000</td>\n",
       "      <td>bh</td>\n",
       "    </tr>\n",
       "  </tbody>\n",
       "</table>\n",
       "</div>"
      ],
      "text/plain": [
       "             info phong\n",
       "0   kt-2-20000000    kt\n",
       "1   ns-4-24000000    ns\n",
       "2  bh-10-30000000    bh"
      ]
     },
     "execution_count": 20,
     "metadata": {},
     "output_type": "execute_result"
    },
    {
     "data": {
      "application/javascript": [
       "\n",
       "            setTimeout(function() {\n",
       "                var nbb_cell_id = 20;\n",
       "                var nbb_unformatted_code = \"# extract: l\\u1ea5y chu\\u1ed7i con\\n# (\\\\w{2}): l\\u1ea5y 2 k\\u00fd t\\u1ef1 chu\\u1ed7i\\n# expand=true th\\u00ec return v\\u1ec1 dataframe, false th\\u00ec return v\\u1ec1 series\\n\\ndf6[\\\"phong\\\"] = df6[\\\"info\\\"].str.extract(\\\"(\\\\w{2})\\\", expand=False)\\ndf6\";\n",
       "                var nbb_formatted_code = \"# extract: l\\u1ea5y chu\\u1ed7i con\\n# (\\\\w{2}): l\\u1ea5y 2 k\\u00fd t\\u1ef1 chu\\u1ed7i\\n# expand=true th\\u00ec return v\\u1ec1 dataframe, false th\\u00ec return v\\u1ec1 series\\n\\ndf6[\\\"phong\\\"] = df6[\\\"info\\\"].str.extract(\\\"(\\\\w{2})\\\", expand=False)\\ndf6\";\n",
       "                var nbb_cells = Jupyter.notebook.get_cells();\n",
       "                for (var i = 0; i < nbb_cells.length; ++i) {\n",
       "                    if (nbb_cells[i].input_prompt_number == nbb_cell_id) {\n",
       "                        if (nbb_cells[i].get_text() == nbb_unformatted_code) {\n",
       "                             nbb_cells[i].set_text(nbb_formatted_code);\n",
       "                        }\n",
       "                        break;\n",
       "                    }\n",
       "                }\n",
       "            }, 500);\n",
       "            "
      ],
      "text/plain": [
       "<IPython.core.display.Javascript object>"
      ]
     },
     "metadata": {},
     "output_type": "display_data"
    }
   ],
   "source": [
    "# extract: lấy chuỗi con\n",
    "# (\\w{2}): lấy 2 ký tự chuỗi\n",
    "# expand=true thì return về dataframe, false thì return về series\n",
    "\n",
    "df6[\"phong\"] = df6[\"info\"].str.extract(\"(\\w{2})\", expand=False)\n",
    "df6"
   ]
  },
  {
   "cell_type": "code",
   "execution_count": 21,
   "id": "c3ce18d9",
   "metadata": {},
   "outputs": [
    {
     "data": {
      "text/html": [
       "<div>\n",
       "<style scoped>\n",
       "    .dataframe tbody tr th:only-of-type {\n",
       "        vertical-align: middle;\n",
       "    }\n",
       "\n",
       "    .dataframe tbody tr th {\n",
       "        vertical-align: top;\n",
       "    }\n",
       "\n",
       "    .dataframe thead th {\n",
       "        text-align: right;\n",
       "    }\n",
       "</style>\n",
       "<table border=\"1\" class=\"dataframe\">\n",
       "  <thead>\n",
       "    <tr style=\"text-align: right;\">\n",
       "      <th></th>\n",
       "      <th>info</th>\n",
       "      <th>phong</th>\n",
       "      <th>sonv</th>\n",
       "    </tr>\n",
       "  </thead>\n",
       "  <tbody>\n",
       "    <tr>\n",
       "      <th>0</th>\n",
       "      <td>kt-2-20000000</td>\n",
       "      <td>kt</td>\n",
       "      <td>2</td>\n",
       "    </tr>\n",
       "    <tr>\n",
       "      <th>1</th>\n",
       "      <td>ns-4-24000000</td>\n",
       "      <td>ns</td>\n",
       "      <td>4</td>\n",
       "    </tr>\n",
       "    <tr>\n",
       "      <th>2</th>\n",
       "      <td>bh-10-30000000</td>\n",
       "      <td>bh</td>\n",
       "      <td>10</td>\n",
       "    </tr>\n",
       "  </tbody>\n",
       "</table>\n",
       "</div>"
      ],
      "text/plain": [
       "             info phong sonv\n",
       "0   kt-2-20000000    kt    2\n",
       "1   ns-4-24000000    ns    4\n",
       "2  bh-10-30000000    bh   10"
      ]
     },
     "execution_count": 21,
     "metadata": {},
     "output_type": "execute_result"
    },
    {
     "data": {
      "application/javascript": [
       "\n",
       "            setTimeout(function() {\n",
       "                var nbb_cell_id = 21;\n",
       "                var nbb_unformatted_code = \"# l\\u1ea5y 1 ho\\u1eb7c 2 s\\u1ed1 \\u0111\\u1ea7u ti\\u00ean ...\\ndf6[\\\"sonv\\\"] = df6[\\\"info\\\"].str.extract(\\\"(\\\\d{1,2})\\\", expand=False)\\ndf6\";\n",
       "                var nbb_formatted_code = \"# l\\u1ea5y 1 ho\\u1eb7c 2 s\\u1ed1 \\u0111\\u1ea7u ti\\u00ean ...\\ndf6[\\\"sonv\\\"] = df6[\\\"info\\\"].str.extract(\\\"(\\\\d{1,2})\\\", expand=False)\\ndf6\";\n",
       "                var nbb_cells = Jupyter.notebook.get_cells();\n",
       "                for (var i = 0; i < nbb_cells.length; ++i) {\n",
       "                    if (nbb_cells[i].input_prompt_number == nbb_cell_id) {\n",
       "                        if (nbb_cells[i].get_text() == nbb_unformatted_code) {\n",
       "                             nbb_cells[i].set_text(nbb_formatted_code);\n",
       "                        }\n",
       "                        break;\n",
       "                    }\n",
       "                }\n",
       "            }, 500);\n",
       "            "
      ],
      "text/plain": [
       "<IPython.core.display.Javascript object>"
      ]
     },
     "metadata": {},
     "output_type": "display_data"
    }
   ],
   "source": [
    "# lấy 1 hoặc 2 số đầu tiên ...\n",
    "df6[\"sonv\"] = df6[\"info\"].str.extract(\"(\\d{1,2})\", expand=False)\n",
    "df6"
   ]
  },
  {
   "cell_type": "code",
   "execution_count": 22,
   "id": "3fac89f7",
   "metadata": {},
   "outputs": [
    {
     "data": {
      "text/html": [
       "<div>\n",
       "<style scoped>\n",
       "    .dataframe tbody tr th:only-of-type {\n",
       "        vertical-align: middle;\n",
       "    }\n",
       "\n",
       "    .dataframe tbody tr th {\n",
       "        vertical-align: top;\n",
       "    }\n",
       "\n",
       "    .dataframe thead th {\n",
       "        text-align: right;\n",
       "    }\n",
       "</style>\n",
       "<table border=\"1\" class=\"dataframe\">\n",
       "  <thead>\n",
       "    <tr style=\"text-align: right;\">\n",
       "      <th></th>\n",
       "      <th>info</th>\n",
       "      <th>phong</th>\n",
       "      <th>sonv</th>\n",
       "      <th>doanhthu</th>\n",
       "    </tr>\n",
       "  </thead>\n",
       "  <tbody>\n",
       "    <tr>\n",
       "      <th>0</th>\n",
       "      <td>kt-2-20000000</td>\n",
       "      <td>kt</td>\n",
       "      <td>2</td>\n",
       "      <td>20000000</td>\n",
       "    </tr>\n",
       "    <tr>\n",
       "      <th>1</th>\n",
       "      <td>ns-4-24000000</td>\n",
       "      <td>ns</td>\n",
       "      <td>4</td>\n",
       "      <td>24000000</td>\n",
       "    </tr>\n",
       "    <tr>\n",
       "      <th>2</th>\n",
       "      <td>bh-10-30000000</td>\n",
       "      <td>bh</td>\n",
       "      <td>10</td>\n",
       "      <td>30000000</td>\n",
       "    </tr>\n",
       "  </tbody>\n",
       "</table>\n",
       "</div>"
      ],
      "text/plain": [
       "             info phong sonv  doanhthu\n",
       "0   kt-2-20000000    kt    2  20000000\n",
       "1   ns-4-24000000    ns    4  24000000\n",
       "2  bh-10-30000000    bh   10  30000000"
      ]
     },
     "execution_count": 22,
     "metadata": {},
     "output_type": "execute_result"
    },
    {
     "data": {
      "application/javascript": [
       "\n",
       "            setTimeout(function() {\n",
       "                var nbb_cell_id = 22;\n",
       "                var nbb_unformatted_code = \"# l\\u1ea5y 8 s\\u1ed1 tr\\u1edf l\\u00ean\\ndf6['doanhthu'] = df6['info'].str.extract('(\\\\d{8})', expand=False)\\ndf6\";\n",
       "                var nbb_formatted_code = \"# l\\u1ea5y 8 s\\u1ed1 tr\\u1edf l\\u00ean\\ndf6[\\\"doanhthu\\\"] = df6[\\\"info\\\"].str.extract(\\\"(\\\\d{8})\\\", expand=False)\\ndf6\";\n",
       "                var nbb_cells = Jupyter.notebook.get_cells();\n",
       "                for (var i = 0; i < nbb_cells.length; ++i) {\n",
       "                    if (nbb_cells[i].input_prompt_number == nbb_cell_id) {\n",
       "                        if (nbb_cells[i].get_text() == nbb_unformatted_code) {\n",
       "                             nbb_cells[i].set_text(nbb_formatted_code);\n",
       "                        }\n",
       "                        break;\n",
       "                    }\n",
       "                }\n",
       "            }, 500);\n",
       "            "
      ],
      "text/plain": [
       "<IPython.core.display.Javascript object>"
      ]
     },
     "metadata": {},
     "output_type": "display_data"
    }
   ],
   "source": [
    "# lấy 8 số trở lên\n",
    "df6[\"doanhthu\"] = df6[\"info\"].str.extract(\"(\\d{8})\", expand=False)\n",
    "df6"
   ]
  },
  {
   "cell_type": "markdown",
   "id": "38a8f091",
   "metadata": {},
   "source": [
    "## chuỗi phương thức"
   ]
  },
  {
   "cell_type": "code",
   "execution_count": 23,
   "id": "0ca15227",
   "metadata": {
    "scrolled": true
   },
   "outputs": [
    {
     "data": {
      "text/html": [
       "<div>\n",
       "<style scoped>\n",
       "    .dataframe tbody tr th:only-of-type {\n",
       "        vertical-align: middle;\n",
       "    }\n",
       "\n",
       "    .dataframe tbody tr th {\n",
       "        vertical-align: top;\n",
       "    }\n",
       "\n",
       "    .dataframe thead th {\n",
       "        text-align: right;\n",
       "    }\n",
       "</style>\n",
       "<table border=\"1\" class=\"dataframe\">\n",
       "  <thead>\n",
       "    <tr style=\"text-align: right;\">\n",
       "      <th></th>\n",
       "      <th>phong</th>\n",
       "      <th>luong</th>\n",
       "    </tr>\n",
       "  </thead>\n",
       "  <tbody>\n",
       "    <tr>\n",
       "      <th>0</th>\n",
       "      <td>kt</td>\n",
       "      <td>20,000,000vnđ</td>\n",
       "    </tr>\n",
       "    <tr>\n",
       "      <th>1</th>\n",
       "      <td>ns</td>\n",
       "      <td>18,000,000đ</td>\n",
       "    </tr>\n",
       "    <tr>\n",
       "      <th>2</th>\n",
       "      <td>bh</td>\n",
       "      <td>18500000</td>\n",
       "    </tr>\n",
       "    <tr>\n",
       "      <th>3</th>\n",
       "      <td>mk</td>\n",
       "      <td>12,000,000VNĐ</td>\n",
       "    </tr>\n",
       "  </tbody>\n",
       "</table>\n",
       "</div>"
      ],
      "text/plain": [
       "  phong          luong\n",
       "0    kt  20,000,000vnđ\n",
       "1    ns    18,000,000đ\n",
       "2    bh       18500000\n",
       "3    mk  12,000,000VNĐ"
      ]
     },
     "execution_count": 23,
     "metadata": {},
     "output_type": "execute_result"
    },
    {
     "data": {
      "application/javascript": [
       "\n",
       "            setTimeout(function() {\n",
       "                var nbb_cell_id = 23;\n",
       "                var nbb_unformatted_code = \"df7 = pd.DataFrame(\\n    {\\n        \\\"phong\\\": [\\\"kt\\\", \\\"ns\\\", \\\"bh\\\", \\\"mk\\\"],\\n        \\\"luong\\\": [\\\"20,000,000vn\\u0111\\\", \\\"18,000,000\\u0111\\\", \\\"18500000\\\", \\\"12,000,000VN\\u0110\\\"],\\n    }\\n)\\ndf7\";\n",
       "                var nbb_formatted_code = \"df7 = pd.DataFrame(\\n    {\\n        \\\"phong\\\": [\\\"kt\\\", \\\"ns\\\", \\\"bh\\\", \\\"mk\\\"],\\n        \\\"luong\\\": [\\\"20,000,000vn\\u0111\\\", \\\"18,000,000\\u0111\\\", \\\"18500000\\\", \\\"12,000,000VN\\u0110\\\"],\\n    }\\n)\\ndf7\";\n",
       "                var nbb_cells = Jupyter.notebook.get_cells();\n",
       "                for (var i = 0; i < nbb_cells.length; ++i) {\n",
       "                    if (nbb_cells[i].input_prompt_number == nbb_cell_id) {\n",
       "                        if (nbb_cells[i].get_text() == nbb_unformatted_code) {\n",
       "                             nbb_cells[i].set_text(nbb_formatted_code);\n",
       "                        }\n",
       "                        break;\n",
       "                    }\n",
       "                }\n",
       "            }, 500);\n",
       "            "
      ],
      "text/plain": [
       "<IPython.core.display.Javascript object>"
      ]
     },
     "metadata": {},
     "output_type": "display_data"
    }
   ],
   "source": [
    "df7 = pd.DataFrame(\n",
    "    {\n",
    "        \"phong\": [\"kt\", \"ns\", \"bh\", \"mk\"],\n",
    "        \"luong\": [\"20,000,000vnđ\", \"18,000,000đ\", \"18500000\", \"12,000,000VNĐ\"],\n",
    "    }\n",
    ")\n",
    "df7"
   ]
  },
  {
   "cell_type": "code",
   "execution_count": 24,
   "id": "689dc9d7",
   "metadata": {},
   "outputs": [
    {
     "data": {
      "text/html": [
       "<div>\n",
       "<style scoped>\n",
       "    .dataframe tbody tr th:only-of-type {\n",
       "        vertical-align: middle;\n",
       "    }\n",
       "\n",
       "    .dataframe tbody tr th {\n",
       "        vertical-align: top;\n",
       "    }\n",
       "\n",
       "    .dataframe thead th {\n",
       "        text-align: right;\n",
       "    }\n",
       "</style>\n",
       "<table border=\"1\" class=\"dataframe\">\n",
       "  <thead>\n",
       "    <tr style=\"text-align: right;\">\n",
       "      <th></th>\n",
       "      <th>phong</th>\n",
       "      <th>luong</th>\n",
       "    </tr>\n",
       "  </thead>\n",
       "  <tbody>\n",
       "    <tr>\n",
       "      <th>0</th>\n",
       "      <td>kt</td>\n",
       "      <td>20000000</td>\n",
       "    </tr>\n",
       "    <tr>\n",
       "      <th>1</th>\n",
       "      <td>ns</td>\n",
       "      <td>18000000</td>\n",
       "    </tr>\n",
       "    <tr>\n",
       "      <th>2</th>\n",
       "      <td>bh</td>\n",
       "      <td>18500000</td>\n",
       "    </tr>\n",
       "    <tr>\n",
       "      <th>3</th>\n",
       "      <td>mk</td>\n",
       "      <td>12000000</td>\n",
       "    </tr>\n",
       "  </tbody>\n",
       "</table>\n",
       "</div>"
      ],
      "text/plain": [
       "  phong     luong\n",
       "0    kt  20000000\n",
       "1    ns  18000000\n",
       "2    bh  18500000\n",
       "3    mk  12000000"
      ]
     },
     "execution_count": 24,
     "metadata": {},
     "output_type": "execute_result"
    },
    {
     "data": {
      "application/javascript": [
       "\n",
       "            setTimeout(function() {\n",
       "                var nbb_cell_id = 24;\n",
       "                var nbb_unformatted_code = \"df7[\\\"luong\\\"] = df7[\\\"luong\\\"].str.lower()\\ndf7[\\\"luong\\\"] = df7[\\\"luong\\\"].str.replace(\\\",\\\", \\\"\\\")\\ndf7[\\\"luong\\\"] = df7[\\\"luong\\\"].str.replace(\\\"vn\\u0111\\\", \\\"\\\")\\ndf7[\\\"luong\\\"] = df7[\\\"luong\\\"].str.replace(\\\"\\u0111\\\", \\\"\\\")\\ndf7[\\\"luong\\\"] = df7[\\\"luong\\\"].astype(int)\\ndf7\";\n",
       "                var nbb_formatted_code = \"df7[\\\"luong\\\"] = df7[\\\"luong\\\"].str.lower()\\ndf7[\\\"luong\\\"] = df7[\\\"luong\\\"].str.replace(\\\",\\\", \\\"\\\")\\ndf7[\\\"luong\\\"] = df7[\\\"luong\\\"].str.replace(\\\"vn\\u0111\\\", \\\"\\\")\\ndf7[\\\"luong\\\"] = df7[\\\"luong\\\"].str.replace(\\\"\\u0111\\\", \\\"\\\")\\ndf7[\\\"luong\\\"] = df7[\\\"luong\\\"].astype(int)\\ndf7\";\n",
       "                var nbb_cells = Jupyter.notebook.get_cells();\n",
       "                for (var i = 0; i < nbb_cells.length; ++i) {\n",
       "                    if (nbb_cells[i].input_prompt_number == nbb_cell_id) {\n",
       "                        if (nbb_cells[i].get_text() == nbb_unformatted_code) {\n",
       "                             nbb_cells[i].set_text(nbb_formatted_code);\n",
       "                        }\n",
       "                        break;\n",
       "                    }\n",
       "                }\n",
       "            }, 500);\n",
       "            "
      ],
      "text/plain": [
       "<IPython.core.display.Javascript object>"
      ]
     },
     "metadata": {},
     "output_type": "display_data"
    }
   ],
   "source": [
    "df7[\"luong\"] = df7[\"luong\"].str.lower()\n",
    "df7[\"luong\"] = df7[\"luong\"].str.replace(\",\", \"\")\n",
    "df7[\"luong\"] = df7[\"luong\"].str.replace(\"vnđ\", \"\")\n",
    "df7[\"luong\"] = df7[\"luong\"].str.replace(\"đ\", \"\")\n",
    "df7[\"luong\"] = df7[\"luong\"].astype(int)\n",
    "df7"
   ]
  },
  {
   "cell_type": "code",
   "execution_count": 25,
   "id": "17f8919f",
   "metadata": {},
   "outputs": [
    {
     "data": {
      "text/html": [
       "<div>\n",
       "<style scoped>\n",
       "    .dataframe tbody tr th:only-of-type {\n",
       "        vertical-align: middle;\n",
       "    }\n",
       "\n",
       "    .dataframe tbody tr th {\n",
       "        vertical-align: top;\n",
       "    }\n",
       "\n",
       "    .dataframe thead th {\n",
       "        text-align: right;\n",
       "    }\n",
       "</style>\n",
       "<table border=\"1\" class=\"dataframe\">\n",
       "  <thead>\n",
       "    <tr style=\"text-align: right;\">\n",
       "      <th></th>\n",
       "      <th>phong</th>\n",
       "      <th>luong</th>\n",
       "    </tr>\n",
       "  </thead>\n",
       "  <tbody>\n",
       "    <tr>\n",
       "      <th>0</th>\n",
       "      <td>kt</td>\n",
       "      <td>20,000,000vnđ</td>\n",
       "    </tr>\n",
       "    <tr>\n",
       "      <th>1</th>\n",
       "      <td>ns</td>\n",
       "      <td>18,000,000đ</td>\n",
       "    </tr>\n",
       "    <tr>\n",
       "      <th>2</th>\n",
       "      <td>bh</td>\n",
       "      <td>18500000</td>\n",
       "    </tr>\n",
       "    <tr>\n",
       "      <th>3</th>\n",
       "      <td>mk</td>\n",
       "      <td>12,000,000VNĐ</td>\n",
       "    </tr>\n",
       "  </tbody>\n",
       "</table>\n",
       "</div>"
      ],
      "text/plain": [
       "  phong          luong\n",
       "0    kt  20,000,000vnđ\n",
       "1    ns    18,000,000đ\n",
       "2    bh       18500000\n",
       "3    mk  12,000,000VNĐ"
      ]
     },
     "execution_count": 25,
     "metadata": {},
     "output_type": "execute_result"
    },
    {
     "data": {
      "application/javascript": [
       "\n",
       "            setTimeout(function() {\n",
       "                var nbb_cell_id = 25;\n",
       "                var nbb_unformatted_code = \"df7 = pd.DataFrame(\\n    {\\n        \\\"phong\\\": [\\\"kt\\\", \\\"ns\\\", \\\"bh\\\", \\\"mk\\\"],\\n        \\\"luong\\\": [\\\"20,000,000vn\\u0111\\\", \\\"18,000,000\\u0111\\\", \\\"18500000\\\", \\\"12,000,000VN\\u0110\\\"],\\n    }\\n)\\ndf7\";\n",
       "                var nbb_formatted_code = \"df7 = pd.DataFrame(\\n    {\\n        \\\"phong\\\": [\\\"kt\\\", \\\"ns\\\", \\\"bh\\\", \\\"mk\\\"],\\n        \\\"luong\\\": [\\\"20,000,000vn\\u0111\\\", \\\"18,000,000\\u0111\\\", \\\"18500000\\\", \\\"12,000,000VN\\u0110\\\"],\\n    }\\n)\\ndf7\";\n",
       "                var nbb_cells = Jupyter.notebook.get_cells();\n",
       "                for (var i = 0; i < nbb_cells.length; ++i) {\n",
       "                    if (nbb_cells[i].input_prompt_number == nbb_cell_id) {\n",
       "                        if (nbb_cells[i].get_text() == nbb_unformatted_code) {\n",
       "                             nbb_cells[i].set_text(nbb_formatted_code);\n",
       "                        }\n",
       "                        break;\n",
       "                    }\n",
       "                }\n",
       "            }, 500);\n",
       "            "
      ],
      "text/plain": [
       "<IPython.core.display.Javascript object>"
      ]
     },
     "metadata": {},
     "output_type": "display_data"
    }
   ],
   "source": [
    "df7 = pd.DataFrame(\n",
    "    {\n",
    "        \"phong\": [\"kt\", \"ns\", \"bh\", \"mk\"],\n",
    "        \"luong\": [\"20,000,000vnđ\", \"18,000,000đ\", \"18500000\", \"12,000,000VNĐ\"],\n",
    "    }\n",
    ")\n",
    "df7"
   ]
  },
  {
   "cell_type": "code",
   "execution_count": 26,
   "id": "27f90546",
   "metadata": {},
   "outputs": [
    {
     "data": {
      "text/html": [
       "<div>\n",
       "<style scoped>\n",
       "    .dataframe tbody tr th:only-of-type {\n",
       "        vertical-align: middle;\n",
       "    }\n",
       "\n",
       "    .dataframe tbody tr th {\n",
       "        vertical-align: top;\n",
       "    }\n",
       "\n",
       "    .dataframe thead th {\n",
       "        text-align: right;\n",
       "    }\n",
       "</style>\n",
       "<table border=\"1\" class=\"dataframe\">\n",
       "  <thead>\n",
       "    <tr style=\"text-align: right;\">\n",
       "      <th></th>\n",
       "      <th>phong</th>\n",
       "      <th>luong</th>\n",
       "    </tr>\n",
       "  </thead>\n",
       "  <tbody>\n",
       "    <tr>\n",
       "      <th>0</th>\n",
       "      <td>kt</td>\n",
       "      <td>20000000</td>\n",
       "    </tr>\n",
       "    <tr>\n",
       "      <th>1</th>\n",
       "      <td>ns</td>\n",
       "      <td>18000000</td>\n",
       "    </tr>\n",
       "    <tr>\n",
       "      <th>2</th>\n",
       "      <td>bh</td>\n",
       "      <td>18500000</td>\n",
       "    </tr>\n",
       "    <tr>\n",
       "      <th>3</th>\n",
       "      <td>mk</td>\n",
       "      <td>12000000</td>\n",
       "    </tr>\n",
       "  </tbody>\n",
       "</table>\n",
       "</div>"
      ],
      "text/plain": [
       "  phong     luong\n",
       "0    kt  20000000\n",
       "1    ns  18000000\n",
       "2    bh  18500000\n",
       "3    mk  12000000"
      ]
     },
     "execution_count": 26,
     "metadata": {},
     "output_type": "execute_result"
    },
    {
     "data": {
      "application/javascript": [
       "\n",
       "            setTimeout(function() {\n",
       "                var nbb_cell_id = 26;\n",
       "                var nbb_unformatted_code = \"# chu\\u1ed7i c\\u00e1c ph\\u01b0\\u01a1ng th\\u1ee9c cho l\\u1eb9:))\\ndf7[\\\"luong\\\"] = (\\n    df7[\\\"luong\\\"]\\n    .str.lower()\\n    .str.replace(\\\",\\\", \\\"\\\")\\n    .str.replace(\\\"vn\\u0111\\\", \\\"\\\")\\n    .str.replace(\\\"\\u0111\\\", \\\"\\\")\\n    .astype(int)\\n)\\ndf7\";\n",
       "                var nbb_formatted_code = \"# chu\\u1ed7i c\\u00e1c ph\\u01b0\\u01a1ng th\\u1ee9c cho l\\u1eb9:))\\ndf7[\\\"luong\\\"] = (\\n    df7[\\\"luong\\\"]\\n    .str.lower()\\n    .str.replace(\\\",\\\", \\\"\\\")\\n    .str.replace(\\\"vn\\u0111\\\", \\\"\\\")\\n    .str.replace(\\\"\\u0111\\\", \\\"\\\")\\n    .astype(int)\\n)\\ndf7\";\n",
       "                var nbb_cells = Jupyter.notebook.get_cells();\n",
       "                for (var i = 0; i < nbb_cells.length; ++i) {\n",
       "                    if (nbb_cells[i].input_prompt_number == nbb_cell_id) {\n",
       "                        if (nbb_cells[i].get_text() == nbb_unformatted_code) {\n",
       "                             nbb_cells[i].set_text(nbb_formatted_code);\n",
       "                        }\n",
       "                        break;\n",
       "                    }\n",
       "                }\n",
       "            }, 500);\n",
       "            "
      ],
      "text/plain": [
       "<IPython.core.display.Javascript object>"
      ]
     },
     "metadata": {},
     "output_type": "display_data"
    }
   ],
   "source": [
    "# chuỗi các phương thức cho lẹ:))\n",
    "df7[\"luong\"] = (\n",
    "    df7[\"luong\"]\n",
    "    .str.lower()\n",
    "    .str.replace(\",\", \"\")\n",
    "    .str.replace(\"vnđ\", \"\")\n",
    "    .str.replace(\"đ\", \"\")\n",
    "    .astype(int)\n",
    ")\n",
    "df7"
   ]
  },
  {
   "cell_type": "markdown",
   "id": "a453118d",
   "metadata": {},
   "source": [
    "## remove duplicate"
   ]
  },
  {
   "cell_type": "code",
   "execution_count": 27,
   "id": "63973421",
   "metadata": {},
   "outputs": [
    {
     "data": {
      "text/html": [
       "<div>\n",
       "<style scoped>\n",
       "    .dataframe tbody tr th:only-of-type {\n",
       "        vertical-align: middle;\n",
       "    }\n",
       "\n",
       "    .dataframe tbody tr th {\n",
       "        vertical-align: top;\n",
       "    }\n",
       "\n",
       "    .dataframe thead th {\n",
       "        text-align: right;\n",
       "    }\n",
       "</style>\n",
       "<table border=\"1\" class=\"dataframe\">\n",
       "  <thead>\n",
       "    <tr style=\"text-align: right;\">\n",
       "      <th></th>\n",
       "      <th>A</th>\n",
       "      <th>B</th>\n",
       "      <th>C</th>\n",
       "    </tr>\n",
       "  </thead>\n",
       "  <tbody>\n",
       "    <tr>\n",
       "      <th>0</th>\n",
       "      <td>foo</td>\n",
       "      <td>0</td>\n",
       "      <td>A</td>\n",
       "    </tr>\n",
       "    <tr>\n",
       "      <th>1</th>\n",
       "      <td>foo</td>\n",
       "      <td>1</td>\n",
       "      <td>A</td>\n",
       "    </tr>\n",
       "    <tr>\n",
       "      <th>2</th>\n",
       "      <td>foo</td>\n",
       "      <td>1</td>\n",
       "      <td>B</td>\n",
       "    </tr>\n",
       "    <tr>\n",
       "      <th>3</th>\n",
       "      <td>bar</td>\n",
       "      <td>1</td>\n",
       "      <td>A</td>\n",
       "    </tr>\n",
       "  </tbody>\n",
       "</table>\n",
       "</div>"
      ],
      "text/plain": [
       "     A  B  C\n",
       "0  foo  0  A\n",
       "1  foo  1  A\n",
       "2  foo  1  B\n",
       "3  bar  1  A"
      ]
     },
     "execution_count": 27,
     "metadata": {},
     "output_type": "execute_result"
    },
    {
     "data": {
      "application/javascript": [
       "\n",
       "            setTimeout(function() {\n",
       "                var nbb_cell_id = 27;\n",
       "                var nbb_unformatted_code = \"df8 = pd.DataFrame(\\n    {\\\"A\\\": [\\\"foo\\\", \\\"foo\\\", \\\"foo\\\", \\\"bar\\\"], \\\"B\\\": [0, 1, 1, 1], \\\"C\\\": [\\\"A\\\", \\\"A\\\", \\\"B\\\", \\\"A\\\"]}\\n)\\ndf8\";\n",
       "                var nbb_formatted_code = \"df8 = pd.DataFrame(\\n    {\\\"A\\\": [\\\"foo\\\", \\\"foo\\\", \\\"foo\\\", \\\"bar\\\"], \\\"B\\\": [0, 1, 1, 1], \\\"C\\\": [\\\"A\\\", \\\"A\\\", \\\"B\\\", \\\"A\\\"]}\\n)\\ndf8\";\n",
       "                var nbb_cells = Jupyter.notebook.get_cells();\n",
       "                for (var i = 0; i < nbb_cells.length; ++i) {\n",
       "                    if (nbb_cells[i].input_prompt_number == nbb_cell_id) {\n",
       "                        if (nbb_cells[i].get_text() == nbb_unformatted_code) {\n",
       "                             nbb_cells[i].set_text(nbb_formatted_code);\n",
       "                        }\n",
       "                        break;\n",
       "                    }\n",
       "                }\n",
       "            }, 500);\n",
       "            "
      ],
      "text/plain": [
       "<IPython.core.display.Javascript object>"
      ]
     },
     "metadata": {},
     "output_type": "display_data"
    }
   ],
   "source": [
    "df8 = pd.DataFrame(\n",
    "    {\"A\": [\"foo\", \"foo\", \"foo\", \"bar\"], \"B\": [0, 1, 1, 1], \"C\": [\"A\", \"A\", \"B\", \"A\"]}\n",
    ")\n",
    "df8"
   ]
  },
  {
   "cell_type": "code",
   "execution_count": 28,
   "id": "c5d8e9c7",
   "metadata": {},
   "outputs": [
    {
     "data": {
      "text/html": [
       "<div>\n",
       "<style scoped>\n",
       "    .dataframe tbody tr th:only-of-type {\n",
       "        vertical-align: middle;\n",
       "    }\n",
       "\n",
       "    .dataframe tbody tr th {\n",
       "        vertical-align: top;\n",
       "    }\n",
       "\n",
       "    .dataframe thead th {\n",
       "        text-align: right;\n",
       "    }\n",
       "</style>\n",
       "<table border=\"1\" class=\"dataframe\">\n",
       "  <thead>\n",
       "    <tr style=\"text-align: right;\">\n",
       "      <th></th>\n",
       "      <th>A</th>\n",
       "      <th>B</th>\n",
       "      <th>C</th>\n",
       "    </tr>\n",
       "  </thead>\n",
       "  <tbody>\n",
       "    <tr>\n",
       "      <th>0</th>\n",
       "      <td>foo</td>\n",
       "      <td>0</td>\n",
       "      <td>A</td>\n",
       "    </tr>\n",
       "    <tr>\n",
       "      <th>1</th>\n",
       "      <td>foo</td>\n",
       "      <td>1</td>\n",
       "      <td>A</td>\n",
       "    </tr>\n",
       "    <tr>\n",
       "      <th>2</th>\n",
       "      <td>foo</td>\n",
       "      <td>1</td>\n",
       "      <td>B</td>\n",
       "    </tr>\n",
       "    <tr>\n",
       "      <th>3</th>\n",
       "      <td>bar</td>\n",
       "      <td>1</td>\n",
       "      <td>A</td>\n",
       "    </tr>\n",
       "  </tbody>\n",
       "</table>\n",
       "</div>"
      ],
      "text/plain": [
       "     A  B  C\n",
       "0  foo  0  A\n",
       "1  foo  1  A\n",
       "2  foo  1  B\n",
       "3  bar  1  A"
      ]
     },
     "execution_count": 28,
     "metadata": {},
     "output_type": "execute_result"
    },
    {
     "data": {
      "application/javascript": [
       "\n",
       "            setTimeout(function() {\n",
       "                var nbb_cell_id = 28;\n",
       "                var nbb_unformatted_code = \"# x\\u00f3a c\\u00e1c d\\u1eef li\\u1ec7u tr\\u00f9ng\\ndf8_new1 = df8.drop_duplicates()\\ndf8_new1\";\n",
       "                var nbb_formatted_code = \"# x\\u00f3a c\\u00e1c d\\u1eef li\\u1ec7u tr\\u00f9ng\\ndf8_new1 = df8.drop_duplicates()\\ndf8_new1\";\n",
       "                var nbb_cells = Jupyter.notebook.get_cells();\n",
       "                for (var i = 0; i < nbb_cells.length; ++i) {\n",
       "                    if (nbb_cells[i].input_prompt_number == nbb_cell_id) {\n",
       "                        if (nbb_cells[i].get_text() == nbb_unformatted_code) {\n",
       "                             nbb_cells[i].set_text(nbb_formatted_code);\n",
       "                        }\n",
       "                        break;\n",
       "                    }\n",
       "                }\n",
       "            }, 500);\n",
       "            "
      ],
      "text/plain": [
       "<IPython.core.display.Javascript object>"
      ]
     },
     "metadata": {},
     "output_type": "display_data"
    }
   ],
   "source": [
    "# xóa các dữ liệu trùng\n",
    "df8_new1 = df8.drop_duplicates()\n",
    "df8_new1"
   ]
  },
  {
   "cell_type": "code",
   "execution_count": 29,
   "id": "273eaea3",
   "metadata": {},
   "outputs": [
    {
     "data": {
      "text/plain": [
       "'\\nko có dòng nào trùng (do có index) nên nó ko xóa gì hết\\n'"
      ]
     },
     "execution_count": 29,
     "metadata": {},
     "output_type": "execute_result"
    },
    {
     "data": {
      "application/javascript": [
       "\n",
       "            setTimeout(function() {\n",
       "                var nbb_cell_id = 29;\n",
       "                var nbb_unformatted_code = \"\\\"\\\"\\\"\\nko c\\u00f3 d\\u00f2ng n\\u00e0o tr\\u00f9ng (do c\\u00f3 index) n\\u00ean n\\u00f3 ko x\\u00f3a g\\u00ec h\\u1ebft\\n\\\"\\\"\\\"\";\n",
       "                var nbb_formatted_code = \"\\\"\\\"\\\"\\nko c\\u00f3 d\\u00f2ng n\\u00e0o tr\\u00f9ng (do c\\u00f3 index) n\\u00ean n\\u00f3 ko x\\u00f3a g\\u00ec h\\u1ebft\\n\\\"\\\"\\\"\";\n",
       "                var nbb_cells = Jupyter.notebook.get_cells();\n",
       "                for (var i = 0; i < nbb_cells.length; ++i) {\n",
       "                    if (nbb_cells[i].input_prompt_number == nbb_cell_id) {\n",
       "                        if (nbb_cells[i].get_text() == nbb_unformatted_code) {\n",
       "                             nbb_cells[i].set_text(nbb_formatted_code);\n",
       "                        }\n",
       "                        break;\n",
       "                    }\n",
       "                }\n",
       "            }, 500);\n",
       "            "
      ],
      "text/plain": [
       "<IPython.core.display.Javascript object>"
      ]
     },
     "metadata": {},
     "output_type": "display_data"
    }
   ],
   "source": [
    "\"\"\"\n",
    "ko có dòng nào trùng (do có index) nên nó ko xóa gì hết\n",
    "\"\"\""
   ]
  },
  {
   "cell_type": "code",
   "execution_count": 30,
   "id": "4b6faaa1",
   "metadata": {},
   "outputs": [
    {
     "data": {
      "text/html": [
       "<div>\n",
       "<style scoped>\n",
       "    .dataframe tbody tr th:only-of-type {\n",
       "        vertical-align: middle;\n",
       "    }\n",
       "\n",
       "    .dataframe tbody tr th {\n",
       "        vertical-align: top;\n",
       "    }\n",
       "\n",
       "    .dataframe thead th {\n",
       "        text-align: right;\n",
       "    }\n",
       "</style>\n",
       "<table border=\"1\" class=\"dataframe\">\n",
       "  <thead>\n",
       "    <tr style=\"text-align: right;\">\n",
       "      <th></th>\n",
       "      <th>A</th>\n",
       "      <th>B</th>\n",
       "      <th>C</th>\n",
       "    </tr>\n",
       "  </thead>\n",
       "  <tbody>\n",
       "    <tr>\n",
       "      <th>0</th>\n",
       "      <td>foo</td>\n",
       "      <td>0</td>\n",
       "      <td>A</td>\n",
       "    </tr>\n",
       "    <tr>\n",
       "      <th>2</th>\n",
       "      <td>foo</td>\n",
       "      <td>1</td>\n",
       "      <td>B</td>\n",
       "    </tr>\n",
       "    <tr>\n",
       "      <th>3</th>\n",
       "      <td>bar</td>\n",
       "      <td>1</td>\n",
       "      <td>A</td>\n",
       "    </tr>\n",
       "  </tbody>\n",
       "</table>\n",
       "</div>"
      ],
      "text/plain": [
       "     A  B  C\n",
       "0  foo  0  A\n",
       "2  foo  1  B\n",
       "3  bar  1  A"
      ]
     },
     "execution_count": 30,
     "metadata": {},
     "output_type": "execute_result"
    },
    {
     "data": {
      "application/javascript": [
       "\n",
       "            setTimeout(function() {\n",
       "                var nbb_cell_id = 30;\n",
       "                var nbb_unformatted_code = \"# x\\u00f3a c\\u00e1c d\\u1eef li\\u1ec7u tr\\u00f9ng d\\u1ef1a tr\\u00ean subset\\n\\ndf8_new2 = df8.drop_duplicates(subset=[\\\"A\\\", \\\"C\\\"])\\ndf8_new2\";\n",
       "                var nbb_formatted_code = \"# x\\u00f3a c\\u00e1c d\\u1eef li\\u1ec7u tr\\u00f9ng d\\u1ef1a tr\\u00ean subset\\n\\ndf8_new2 = df8.drop_duplicates(subset=[\\\"A\\\", \\\"C\\\"])\\ndf8_new2\";\n",
       "                var nbb_cells = Jupyter.notebook.get_cells();\n",
       "                for (var i = 0; i < nbb_cells.length; ++i) {\n",
       "                    if (nbb_cells[i].input_prompt_number == nbb_cell_id) {\n",
       "                        if (nbb_cells[i].get_text() == nbb_unformatted_code) {\n",
       "                             nbb_cells[i].set_text(nbb_formatted_code);\n",
       "                        }\n",
       "                        break;\n",
       "                    }\n",
       "                }\n",
       "            }, 500);\n",
       "            "
      ],
      "text/plain": [
       "<IPython.core.display.Javascript object>"
      ]
     },
     "metadata": {},
     "output_type": "display_data"
    }
   ],
   "source": [
    "# xóa các dữ liệu trùng dựa trên subset\n",
    "\n",
    "df8_new2 = df8.drop_duplicates(subset=[\"A\", \"C\"])\n",
    "df8_new2"
   ]
  },
  {
   "cell_type": "code",
   "execution_count": 31,
   "id": "e0cc850e",
   "metadata": {},
   "outputs": [
    {
     "data": {
      "text/html": [
       "<div>\n",
       "<style scoped>\n",
       "    .dataframe tbody tr th:only-of-type {\n",
       "        vertical-align: middle;\n",
       "    }\n",
       "\n",
       "    .dataframe tbody tr th {\n",
       "        vertical-align: top;\n",
       "    }\n",
       "\n",
       "    .dataframe thead th {\n",
       "        text-align: right;\n",
       "    }\n",
       "</style>\n",
       "<table border=\"1\" class=\"dataframe\">\n",
       "  <thead>\n",
       "    <tr style=\"text-align: right;\">\n",
       "      <th></th>\n",
       "      <th>A</th>\n",
       "      <th>B</th>\n",
       "      <th>C</th>\n",
       "    </tr>\n",
       "  </thead>\n",
       "  <tbody>\n",
       "    <tr>\n",
       "      <th>1</th>\n",
       "      <td>foo</td>\n",
       "      <td>1</td>\n",
       "      <td>A</td>\n",
       "    </tr>\n",
       "    <tr>\n",
       "      <th>2</th>\n",
       "      <td>foo</td>\n",
       "      <td>1</td>\n",
       "      <td>B</td>\n",
       "    </tr>\n",
       "    <tr>\n",
       "      <th>3</th>\n",
       "      <td>bar</td>\n",
       "      <td>1</td>\n",
       "      <td>A</td>\n",
       "    </tr>\n",
       "  </tbody>\n",
       "</table>\n",
       "</div>"
      ],
      "text/plain": [
       "     A  B  C\n",
       "1  foo  1  A\n",
       "2  foo  1  B\n",
       "3  bar  1  A"
      ]
     },
     "execution_count": 31,
     "metadata": {},
     "output_type": "execute_result"
    },
    {
     "data": {
      "application/javascript": [
       "\n",
       "            setTimeout(function() {\n",
       "                var nbb_cell_id = 31;\n",
       "                var nbb_unformatted_code = \"# gi\\u1eef l\\u1ea1i 1 d\\u00f2ng cu\\u1ed1i\\ndf8_new3 = df8.drop_duplicates(subset=[\\\"A\\\", \\\"C\\\"], keep=\\\"last\\\")\\ndf8_new3\";\n",
       "                var nbb_formatted_code = \"# gi\\u1eef l\\u1ea1i 1 d\\u00f2ng cu\\u1ed1i\\ndf8_new3 = df8.drop_duplicates(subset=[\\\"A\\\", \\\"C\\\"], keep=\\\"last\\\")\\ndf8_new3\";\n",
       "                var nbb_cells = Jupyter.notebook.get_cells();\n",
       "                for (var i = 0; i < nbb_cells.length; ++i) {\n",
       "                    if (nbb_cells[i].input_prompt_number == nbb_cell_id) {\n",
       "                        if (nbb_cells[i].get_text() == nbb_unformatted_code) {\n",
       "                             nbb_cells[i].set_text(nbb_formatted_code);\n",
       "                        }\n",
       "                        break;\n",
       "                    }\n",
       "                }\n",
       "            }, 500);\n",
       "            "
      ],
      "text/plain": [
       "<IPython.core.display.Javascript object>"
      ]
     },
     "metadata": {},
     "output_type": "display_data"
    }
   ],
   "source": [
    "# giữ lại 1 dòng cuối\n",
    "df8_new3 = df8.drop_duplicates(subset=[\"A\", \"C\"], keep=\"last\")\n",
    "df8_new3"
   ]
  },
  {
   "cell_type": "code",
   "execution_count": 32,
   "id": "9504c218",
   "metadata": {},
   "outputs": [
    {
     "data": {
      "text/html": [
       "<div>\n",
       "<style scoped>\n",
       "    .dataframe tbody tr th:only-of-type {\n",
       "        vertical-align: middle;\n",
       "    }\n",
       "\n",
       "    .dataframe tbody tr th {\n",
       "        vertical-align: top;\n",
       "    }\n",
       "\n",
       "    .dataframe thead th {\n",
       "        text-align: right;\n",
       "    }\n",
       "</style>\n",
       "<table border=\"1\" class=\"dataframe\">\n",
       "  <thead>\n",
       "    <tr style=\"text-align: right;\">\n",
       "      <th></th>\n",
       "      <th>A</th>\n",
       "      <th>B</th>\n",
       "      <th>C</th>\n",
       "    </tr>\n",
       "  </thead>\n",
       "  <tbody>\n",
       "    <tr>\n",
       "      <th>2</th>\n",
       "      <td>foo</td>\n",
       "      <td>1</td>\n",
       "      <td>B</td>\n",
       "    </tr>\n",
       "    <tr>\n",
       "      <th>3</th>\n",
       "      <td>bar</td>\n",
       "      <td>1</td>\n",
       "      <td>A</td>\n",
       "    </tr>\n",
       "  </tbody>\n",
       "</table>\n",
       "</div>"
      ],
      "text/plain": [
       "     A  B  C\n",
       "2  foo  1  B\n",
       "3  bar  1  A"
      ]
     },
     "execution_count": 32,
     "metadata": {},
     "output_type": "execute_result"
    },
    {
     "data": {
      "application/javascript": [
       "\n",
       "            setTimeout(function() {\n",
       "                var nbb_cell_id = 32;\n",
       "                var nbb_unformatted_code = \"# x\\u00f3a tr\\u00f9ng h\\u1ebft, ch\\u1ec9 \\u0111\\u1ec3 l\\u1ea1i 1 d\\u00f2ng duy nh\\u1ea5tttt\\ndf8_new4 = df8.drop_duplicates(subset=[\\\"A\\\", \\\"C\\\"], keep=False)\\ndf8_new4\";\n",
       "                var nbb_formatted_code = \"# x\\u00f3a tr\\u00f9ng h\\u1ebft, ch\\u1ec9 \\u0111\\u1ec3 l\\u1ea1i 1 d\\u00f2ng duy nh\\u1ea5tttt\\ndf8_new4 = df8.drop_duplicates(subset=[\\\"A\\\", \\\"C\\\"], keep=False)\\ndf8_new4\";\n",
       "                var nbb_cells = Jupyter.notebook.get_cells();\n",
       "                for (var i = 0; i < nbb_cells.length; ++i) {\n",
       "                    if (nbb_cells[i].input_prompt_number == nbb_cell_id) {\n",
       "                        if (nbb_cells[i].get_text() == nbb_unformatted_code) {\n",
       "                             nbb_cells[i].set_text(nbb_formatted_code);\n",
       "                        }\n",
       "                        break;\n",
       "                    }\n",
       "                }\n",
       "            }, 500);\n",
       "            "
      ],
      "text/plain": [
       "<IPython.core.display.Javascript object>"
      ]
     },
     "metadata": {},
     "output_type": "display_data"
    }
   ],
   "source": [
    "# xóa trùng hết, chỉ để lại 1 dòng duy nhấtttt\n",
    "df8_new4 = df8.drop_duplicates(subset=[\"A\", \"C\"], keep=False)\n",
    "df8_new4"
   ]
  },
  {
   "cell_type": "markdown",
   "id": "cdfb00d8",
   "metadata": {},
   "source": [
    "## xử lý giá trị null"
   ]
  },
  {
   "cell_type": "code",
   "execution_count": 33,
   "id": "a87f4ec8",
   "metadata": {},
   "outputs": [
    {
     "data": {
      "text/html": [
       "<div>\n",
       "<style scoped>\n",
       "    .dataframe tbody tr th:only-of-type {\n",
       "        vertical-align: middle;\n",
       "    }\n",
       "\n",
       "    .dataframe tbody tr th {\n",
       "        vertical-align: top;\n",
       "    }\n",
       "\n",
       "    .dataframe thead th {\n",
       "        text-align: right;\n",
       "    }\n",
       "</style>\n",
       "<table border=\"1\" class=\"dataframe\">\n",
       "  <thead>\n",
       "    <tr style=\"text-align: right;\">\n",
       "      <th></th>\n",
       "      <th>A</th>\n",
       "      <th>B</th>\n",
       "      <th>C</th>\n",
       "      <th>D</th>\n",
       "      <th>E</th>\n",
       "    </tr>\n",
       "  </thead>\n",
       "  <tbody>\n",
       "    <tr>\n",
       "      <th>0</th>\n",
       "      <td>foo</td>\n",
       "      <td>0.0</td>\n",
       "      <td>A</td>\n",
       "      <td>30.0</td>\n",
       "      <td>NaN</td>\n",
       "    </tr>\n",
       "    <tr>\n",
       "      <th>1</th>\n",
       "      <td>foo</td>\n",
       "      <td>1.0</td>\n",
       "      <td>A</td>\n",
       "      <td>NaN</td>\n",
       "      <td>NaN</td>\n",
       "    </tr>\n",
       "    <tr>\n",
       "      <th>2</th>\n",
       "      <td>foo</td>\n",
       "      <td>1.0</td>\n",
       "      <td>B</td>\n",
       "      <td>22.0</td>\n",
       "      <td>NaN</td>\n",
       "    </tr>\n",
       "    <tr>\n",
       "      <th>3</th>\n",
       "      <td>NaN</td>\n",
       "      <td>NaN</td>\n",
       "      <td>NaN</td>\n",
       "      <td>NaN</td>\n",
       "      <td>NaN</td>\n",
       "    </tr>\n",
       "    <tr>\n",
       "      <th>4</th>\n",
       "      <td>bar</td>\n",
       "      <td>NaN</td>\n",
       "      <td>A</td>\n",
       "      <td>29.5</td>\n",
       "      <td>NaN</td>\n",
       "    </tr>\n",
       "  </tbody>\n",
       "</table>\n",
       "</div>"
      ],
      "text/plain": [
       "     A    B    C     D   E\n",
       "0  foo  0.0    A  30.0 NaN\n",
       "1  foo  1.0    A   NaN NaN\n",
       "2  foo  1.0    B  22.0 NaN\n",
       "3  NaN  NaN  NaN   NaN NaN\n",
       "4  bar  NaN    A  29.5 NaN"
      ]
     },
     "execution_count": 33,
     "metadata": {},
     "output_type": "execute_result"
    },
    {
     "data": {
      "application/javascript": [
       "\n",
       "            setTimeout(function() {\n",
       "                var nbb_cell_id = 33;\n",
       "                var nbb_unformatted_code = \"df8 = pd.DataFrame(\\n    {\\n        \\\"A\\\": [\\\"foo\\\", \\\"foo\\\", \\\"foo\\\", np.nan, \\\"bar\\\"],\\n        \\\"B\\\": [0, 1, 1, np.nan, np.nan],\\n        \\\"C\\\": [\\\"A\\\", \\\"A\\\", \\\"B\\\", np.nan, \\\"A\\\"],\\n        \\\"D\\\": [30, np.nan, 22, np.nan, 29.5],\\n        \\\"E\\\": [np.nan, np.nan, np.nan, np.nan, np.nan],\\n    }\\n)\\ndf8\";\n",
       "                var nbb_formatted_code = \"df8 = pd.DataFrame(\\n    {\\n        \\\"A\\\": [\\\"foo\\\", \\\"foo\\\", \\\"foo\\\", np.nan, \\\"bar\\\"],\\n        \\\"B\\\": [0, 1, 1, np.nan, np.nan],\\n        \\\"C\\\": [\\\"A\\\", \\\"A\\\", \\\"B\\\", np.nan, \\\"A\\\"],\\n        \\\"D\\\": [30, np.nan, 22, np.nan, 29.5],\\n        \\\"E\\\": [np.nan, np.nan, np.nan, np.nan, np.nan],\\n    }\\n)\\ndf8\";\n",
       "                var nbb_cells = Jupyter.notebook.get_cells();\n",
       "                for (var i = 0; i < nbb_cells.length; ++i) {\n",
       "                    if (nbb_cells[i].input_prompt_number == nbb_cell_id) {\n",
       "                        if (nbb_cells[i].get_text() == nbb_unformatted_code) {\n",
       "                             nbb_cells[i].set_text(nbb_formatted_code);\n",
       "                        }\n",
       "                        break;\n",
       "                    }\n",
       "                }\n",
       "            }, 500);\n",
       "            "
      ],
      "text/plain": [
       "<IPython.core.display.Javascript object>"
      ]
     },
     "metadata": {},
     "output_type": "display_data"
    }
   ],
   "source": [
    "df8 = pd.DataFrame(\n",
    "    {\n",
    "        \"A\": [\"foo\", \"foo\", \"foo\", np.nan, \"bar\"],\n",
    "        \"B\": [0, 1, 1, np.nan, np.nan],\n",
    "        \"C\": [\"A\", \"A\", \"B\", np.nan, \"A\"],\n",
    "        \"D\": [30, np.nan, 22, np.nan, 29.5],\n",
    "        \"E\": [np.nan, np.nan, np.nan, np.nan, np.nan],\n",
    "    }\n",
    ")\n",
    "df8"
   ]
  },
  {
   "cell_type": "code",
   "execution_count": 34,
   "id": "b6d7048a",
   "metadata": {},
   "outputs": [
    {
     "data": {
      "text/html": [
       "<div>\n",
       "<style scoped>\n",
       "    .dataframe tbody tr th:only-of-type {\n",
       "        vertical-align: middle;\n",
       "    }\n",
       "\n",
       "    .dataframe tbody tr th {\n",
       "        vertical-align: top;\n",
       "    }\n",
       "\n",
       "    .dataframe thead th {\n",
       "        text-align: right;\n",
       "    }\n",
       "</style>\n",
       "<table border=\"1\" class=\"dataframe\">\n",
       "  <thead>\n",
       "    <tr style=\"text-align: right;\">\n",
       "      <th></th>\n",
       "      <th>A</th>\n",
       "      <th>B</th>\n",
       "      <th>C</th>\n",
       "      <th>D</th>\n",
       "      <th>E</th>\n",
       "    </tr>\n",
       "  </thead>\n",
       "  <tbody>\n",
       "    <tr>\n",
       "      <th>0</th>\n",
       "      <td>foo</td>\n",
       "      <td>0.0</td>\n",
       "      <td>A</td>\n",
       "      <td>30.0</td>\n",
       "      <td>NaN</td>\n",
       "    </tr>\n",
       "    <tr>\n",
       "      <th>1</th>\n",
       "      <td>foo</td>\n",
       "      <td>1.0</td>\n",
       "      <td>A</td>\n",
       "      <td>NaN</td>\n",
       "      <td>NaN</td>\n",
       "    </tr>\n",
       "    <tr>\n",
       "      <th>2</th>\n",
       "      <td>foo</td>\n",
       "      <td>1.0</td>\n",
       "      <td>B</td>\n",
       "      <td>22.0</td>\n",
       "      <td>NaN</td>\n",
       "    </tr>\n",
       "    <tr>\n",
       "      <th>3</th>\n",
       "      <td>NaN</td>\n",
       "      <td>NaN</td>\n",
       "      <td>NaN</td>\n",
       "      <td>NaN</td>\n",
       "      <td>NaN</td>\n",
       "    </tr>\n",
       "    <tr>\n",
       "      <th>4</th>\n",
       "      <td>bar</td>\n",
       "      <td>NaN</td>\n",
       "      <td>A</td>\n",
       "      <td>29.5</td>\n",
       "      <td>NaN</td>\n",
       "    </tr>\n",
       "  </tbody>\n",
       "</table>\n",
       "</div>"
      ],
      "text/plain": [
       "     A    B    C     D   E\n",
       "0  foo  0.0    A  30.0 NaN\n",
       "1  foo  1.0    A   NaN NaN\n",
       "2  foo  1.0    B  22.0 NaN\n",
       "3  NaN  NaN  NaN   NaN NaN\n",
       "4  bar  NaN    A  29.5 NaN"
      ]
     },
     "execution_count": 34,
     "metadata": {},
     "output_type": "execute_result"
    },
    {
     "data": {
      "application/javascript": [
       "\n",
       "            setTimeout(function() {\n",
       "                var nbb_cell_id = 34;\n",
       "                var nbb_unformatted_code = \"# x\\u00f3a c\\u00e1c c\\u1ed9t m\\u00e0 t\\u1ea5t c\\u1ea3 c\\u00e1c gi\\u00e1 tr\\u1ecb \\u0111\\u1ec1u l\\u00e0 NaN\\n# df8 = df8.dropna(axis = 1, how='all')\\ndf8.dropna(axis=1, how=\\\"any\\\")\\ndf8\";\n",
       "                var nbb_formatted_code = \"# x\\u00f3a c\\u00e1c c\\u1ed9t m\\u00e0 t\\u1ea5t c\\u1ea3 c\\u00e1c gi\\u00e1 tr\\u1ecb \\u0111\\u1ec1u l\\u00e0 NaN\\n# df8 = df8.dropna(axis = 1, how='all')\\ndf8.dropna(axis=1, how=\\\"any\\\")\\ndf8\";\n",
       "                var nbb_cells = Jupyter.notebook.get_cells();\n",
       "                for (var i = 0; i < nbb_cells.length; ++i) {\n",
       "                    if (nbb_cells[i].input_prompt_number == nbb_cell_id) {\n",
       "                        if (nbb_cells[i].get_text() == nbb_unformatted_code) {\n",
       "                             nbb_cells[i].set_text(nbb_formatted_code);\n",
       "                        }\n",
       "                        break;\n",
       "                    }\n",
       "                }\n",
       "            }, 500);\n",
       "            "
      ],
      "text/plain": [
       "<IPython.core.display.Javascript object>"
      ]
     },
     "metadata": {},
     "output_type": "display_data"
    }
   ],
   "source": [
    "# xóa các cột mà tất cả các giá trị đều là NaN\n",
    "# df8 = df8.dropna(axis = 1, how='all')\n",
    "df8.dropna(axis=1, how=\"any\")\n",
    "df8"
   ]
  },
  {
   "cell_type": "code",
   "execution_count": 35,
   "id": "2a4a8e34",
   "metadata": {},
   "outputs": [
    {
     "data": {
      "text/html": [
       "<div>\n",
       "<style scoped>\n",
       "    .dataframe tbody tr th:only-of-type {\n",
       "        vertical-align: middle;\n",
       "    }\n",
       "\n",
       "    .dataframe tbody tr th {\n",
       "        vertical-align: top;\n",
       "    }\n",
       "\n",
       "    .dataframe thead th {\n",
       "        text-align: right;\n",
       "    }\n",
       "</style>\n",
       "<table border=\"1\" class=\"dataframe\">\n",
       "  <thead>\n",
       "    <tr style=\"text-align: right;\">\n",
       "      <th></th>\n",
       "      <th>A</th>\n",
       "      <th>B</th>\n",
       "      <th>C</th>\n",
       "      <th>D</th>\n",
       "    </tr>\n",
       "  </thead>\n",
       "  <tbody>\n",
       "    <tr>\n",
       "      <th>0</th>\n",
       "      <td>foo</td>\n",
       "      <td>0.0</td>\n",
       "      <td>A</td>\n",
       "      <td>30.0</td>\n",
       "    </tr>\n",
       "    <tr>\n",
       "      <th>1</th>\n",
       "      <td>foo</td>\n",
       "      <td>1.0</td>\n",
       "      <td>A</td>\n",
       "      <td>NaN</td>\n",
       "    </tr>\n",
       "    <tr>\n",
       "      <th>2</th>\n",
       "      <td>foo</td>\n",
       "      <td>1.0</td>\n",
       "      <td>B</td>\n",
       "      <td>22.0</td>\n",
       "    </tr>\n",
       "    <tr>\n",
       "      <th>3</th>\n",
       "      <td>NaN</td>\n",
       "      <td>NaN</td>\n",
       "      <td>NaN</td>\n",
       "      <td>NaN</td>\n",
       "    </tr>\n",
       "    <tr>\n",
       "      <th>4</th>\n",
       "      <td>bar</td>\n",
       "      <td>NaN</td>\n",
       "      <td>A</td>\n",
       "      <td>29.5</td>\n",
       "    </tr>\n",
       "  </tbody>\n",
       "</table>\n",
       "</div>"
      ],
      "text/plain": [
       "     A    B    C     D\n",
       "0  foo  0.0    A  30.0\n",
       "1  foo  1.0    A   NaN\n",
       "2  foo  1.0    B  22.0\n",
       "3  NaN  NaN  NaN   NaN\n",
       "4  bar  NaN    A  29.5"
      ]
     },
     "execution_count": 35,
     "metadata": {},
     "output_type": "execute_result"
    },
    {
     "data": {
      "application/javascript": [
       "\n",
       "            setTimeout(function() {\n",
       "                var nbb_cell_id = 35;\n",
       "                var nbb_unformatted_code = \"# x\\u00f3a c\\u00e1c c\\u1ed9t m\\u00e0 t\\u1ea5t c\\u1ea3 c\\u00e1c gi\\u00e1 tr\\u1ecb \\u0111\\u1ec1u l\\u00e0 NaN\\n# df8 = df8.dropna(axis = 1, how='all')\\ndf8.dropna(axis = 1, how='all', inplace=True)\\ndf8\";\n",
       "                var nbb_formatted_code = \"# x\\u00f3a c\\u00e1c c\\u1ed9t m\\u00e0 t\\u1ea5t c\\u1ea3 c\\u00e1c gi\\u00e1 tr\\u1ecb \\u0111\\u1ec1u l\\u00e0 NaN\\n# df8 = df8.dropna(axis = 1, how='all')\\ndf8.dropna(axis=1, how=\\\"all\\\", inplace=True)\\ndf8\";\n",
       "                var nbb_cells = Jupyter.notebook.get_cells();\n",
       "                for (var i = 0; i < nbb_cells.length; ++i) {\n",
       "                    if (nbb_cells[i].input_prompt_number == nbb_cell_id) {\n",
       "                        if (nbb_cells[i].get_text() == nbb_unformatted_code) {\n",
       "                             nbb_cells[i].set_text(nbb_formatted_code);\n",
       "                        }\n",
       "                        break;\n",
       "                    }\n",
       "                }\n",
       "            }, 500);\n",
       "            "
      ],
      "text/plain": [
       "<IPython.core.display.Javascript object>"
      ]
     },
     "metadata": {},
     "output_type": "display_data"
    }
   ],
   "source": [
    "# xóa các cột mà tất cả các giá trị đều là NaN\n",
    "# df8 = df8.dropna(axis = 1, how='all')\n",
    "df8.dropna(axis=1, how=\"all\", inplace=True)\n",
    "df8"
   ]
  },
  {
   "cell_type": "code",
   "execution_count": 36,
   "id": "74e30b82",
   "metadata": {},
   "outputs": [
    {
     "data": {
      "text/html": [
       "<div>\n",
       "<style scoped>\n",
       "    .dataframe tbody tr th:only-of-type {\n",
       "        vertical-align: middle;\n",
       "    }\n",
       "\n",
       "    .dataframe tbody tr th {\n",
       "        vertical-align: top;\n",
       "    }\n",
       "\n",
       "    .dataframe thead th {\n",
       "        text-align: right;\n",
       "    }\n",
       "</style>\n",
       "<table border=\"1\" class=\"dataframe\">\n",
       "  <thead>\n",
       "    <tr style=\"text-align: right;\">\n",
       "      <th></th>\n",
       "      <th>A</th>\n",
       "      <th>B</th>\n",
       "      <th>C</th>\n",
       "      <th>D</th>\n",
       "    </tr>\n",
       "  </thead>\n",
       "  <tbody>\n",
       "    <tr>\n",
       "      <th>0</th>\n",
       "      <td>foo</td>\n",
       "      <td>0.0</td>\n",
       "      <td>A</td>\n",
       "      <td>30.0</td>\n",
       "    </tr>\n",
       "    <tr>\n",
       "      <th>1</th>\n",
       "      <td>foo</td>\n",
       "      <td>1.0</td>\n",
       "      <td>A</td>\n",
       "      <td>NaN</td>\n",
       "    </tr>\n",
       "    <tr>\n",
       "      <th>2</th>\n",
       "      <td>foo</td>\n",
       "      <td>1.0</td>\n",
       "      <td>B</td>\n",
       "      <td>22.0</td>\n",
       "    </tr>\n",
       "    <tr>\n",
       "      <th>4</th>\n",
       "      <td>bar</td>\n",
       "      <td>NaN</td>\n",
       "      <td>A</td>\n",
       "      <td>29.5</td>\n",
       "    </tr>\n",
       "  </tbody>\n",
       "</table>\n",
       "</div>"
      ],
      "text/plain": [
       "     A    B  C     D\n",
       "0  foo  0.0  A  30.0\n",
       "1  foo  1.0  A   NaN\n",
       "2  foo  1.0  B  22.0\n",
       "4  bar  NaN  A  29.5"
      ]
     },
     "execution_count": 36,
     "metadata": {},
     "output_type": "execute_result"
    },
    {
     "data": {
      "application/javascript": [
       "\n",
       "            setTimeout(function() {\n",
       "                var nbb_cell_id = 36;\n",
       "                var nbb_unformatted_code = \"# x\\u00f3a c\\u00e1c d\\u00f2ng m\\u00e0 t\\u1ea5t c\\u1ea3 c\\u00e1c gi\\u00e1 tr\\u1ecb \\u0111\\u1ec1u l\\u00e0 NaN\\n# df8 = df8.dropna(axis = 0, how='all')\\ndf8.dropna(axis = 0, how='all', inplace=True)\\ndf8\";\n",
       "                var nbb_formatted_code = \"# x\\u00f3a c\\u00e1c d\\u00f2ng m\\u00e0 t\\u1ea5t c\\u1ea3 c\\u00e1c gi\\u00e1 tr\\u1ecb \\u0111\\u1ec1u l\\u00e0 NaN\\n# df8 = df8.dropna(axis = 0, how='all')\\ndf8.dropna(axis=0, how=\\\"all\\\", inplace=True)\\ndf8\";\n",
       "                var nbb_cells = Jupyter.notebook.get_cells();\n",
       "                for (var i = 0; i < nbb_cells.length; ++i) {\n",
       "                    if (nbb_cells[i].input_prompt_number == nbb_cell_id) {\n",
       "                        if (nbb_cells[i].get_text() == nbb_unformatted_code) {\n",
       "                             nbb_cells[i].set_text(nbb_formatted_code);\n",
       "                        }\n",
       "                        break;\n",
       "                    }\n",
       "                }\n",
       "            }, 500);\n",
       "            "
      ],
      "text/plain": [
       "<IPython.core.display.Javascript object>"
      ]
     },
     "metadata": {},
     "output_type": "display_data"
    }
   ],
   "source": [
    "# xóa các dòng mà tất cả các giá trị đều là NaN\n",
    "# df8 = df8.dropna(axis = 0, how='all')\n",
    "df8.dropna(axis=0, how=\"all\", inplace=True)\n",
    "df8"
   ]
  },
  {
   "cell_type": "code",
   "execution_count": 37,
   "id": "febe7bec",
   "metadata": {},
   "outputs": [
    {
     "data": {
      "text/html": [
       "<div>\n",
       "<style scoped>\n",
       "    .dataframe tbody tr th:only-of-type {\n",
       "        vertical-align: middle;\n",
       "    }\n",
       "\n",
       "    .dataframe tbody tr th {\n",
       "        vertical-align: top;\n",
       "    }\n",
       "\n",
       "    .dataframe thead th {\n",
       "        text-align: right;\n",
       "    }\n",
       "</style>\n",
       "<table border=\"1\" class=\"dataframe\">\n",
       "  <thead>\n",
       "    <tr style=\"text-align: right;\">\n",
       "      <th></th>\n",
       "      <th>A</th>\n",
       "      <th>B</th>\n",
       "      <th>C</th>\n",
       "      <th>D</th>\n",
       "    </tr>\n",
       "  </thead>\n",
       "  <tbody>\n",
       "    <tr>\n",
       "      <th>0</th>\n",
       "      <td>foo</td>\n",
       "      <td>0.0</td>\n",
       "      <td>A</td>\n",
       "      <td>30.0</td>\n",
       "    </tr>\n",
       "    <tr>\n",
       "      <th>1</th>\n",
       "      <td>foo</td>\n",
       "      <td>1.0</td>\n",
       "      <td>A</td>\n",
       "      <td>0.0</td>\n",
       "    </tr>\n",
       "    <tr>\n",
       "      <th>2</th>\n",
       "      <td>foo</td>\n",
       "      <td>1.0</td>\n",
       "      <td>B</td>\n",
       "      <td>22.0</td>\n",
       "    </tr>\n",
       "    <tr>\n",
       "      <th>4</th>\n",
       "      <td>bar</td>\n",
       "      <td>0.0</td>\n",
       "      <td>A</td>\n",
       "      <td>29.5</td>\n",
       "    </tr>\n",
       "  </tbody>\n",
       "</table>\n",
       "</div>"
      ],
      "text/plain": [
       "     A    B  C     D\n",
       "0  foo  0.0  A  30.0\n",
       "1  foo  1.0  A   0.0\n",
       "2  foo  1.0  B  22.0\n",
       "4  bar  0.0  A  29.5"
      ]
     },
     "execution_count": 37,
     "metadata": {},
     "output_type": "execute_result"
    },
    {
     "data": {
      "application/javascript": [
       "\n",
       "            setTimeout(function() {\n",
       "                var nbb_cell_id = 37;\n",
       "                var nbb_unformatted_code = \"df8_a = df8.fillna(0)\\ndf8_a\";\n",
       "                var nbb_formatted_code = \"df8_a = df8.fillna(0)\\ndf8_a\";\n",
       "                var nbb_cells = Jupyter.notebook.get_cells();\n",
       "                for (var i = 0; i < nbb_cells.length; ++i) {\n",
       "                    if (nbb_cells[i].input_prompt_number == nbb_cell_id) {\n",
       "                        if (nbb_cells[i].get_text() == nbb_unformatted_code) {\n",
       "                             nbb_cells[i].set_text(nbb_formatted_code);\n",
       "                        }\n",
       "                        break;\n",
       "                    }\n",
       "                }\n",
       "            }, 500);\n",
       "            "
      ],
      "text/plain": [
       "<IPython.core.display.Javascript object>"
      ]
     },
     "metadata": {},
     "output_type": "display_data"
    }
   ],
   "source": [
    "df8_a = df8.fillna(0)\n",
    "df8_a"
   ]
  },
  {
   "cell_type": "code",
   "execution_count": 38,
   "id": "7d15970a",
   "metadata": {},
   "outputs": [
    {
     "data": {
      "text/plain": [
       "1.0"
      ]
     },
     "execution_count": 38,
     "metadata": {},
     "output_type": "execute_result"
    },
    {
     "data": {
      "application/javascript": [
       "\n",
       "            setTimeout(function() {\n",
       "                var nbb_cell_id = 38;\n",
       "                var nbb_unformatted_code = \"df8['B'].mode()[0]\";\n",
       "                var nbb_formatted_code = \"df8[\\\"B\\\"].mode()[0]\";\n",
       "                var nbb_cells = Jupyter.notebook.get_cells();\n",
       "                for (var i = 0; i < nbb_cells.length; ++i) {\n",
       "                    if (nbb_cells[i].input_prompt_number == nbb_cell_id) {\n",
       "                        if (nbb_cells[i].get_text() == nbb_unformatted_code) {\n",
       "                             nbb_cells[i].set_text(nbb_formatted_code);\n",
       "                        }\n",
       "                        break;\n",
       "                    }\n",
       "                }\n",
       "            }, 500);\n",
       "            "
      ],
      "text/plain": [
       "<IPython.core.display.Javascript object>"
      ]
     },
     "metadata": {},
     "output_type": "display_data"
    }
   ],
   "source": [
    "df8[\"B\"].mode()[0]"
   ]
  },
  {
   "cell_type": "code",
   "execution_count": 39,
   "id": "0afbae1c",
   "metadata": {},
   "outputs": [
    {
     "data": {
      "text/html": [
       "<div>\n",
       "<style scoped>\n",
       "    .dataframe tbody tr th:only-of-type {\n",
       "        vertical-align: middle;\n",
       "    }\n",
       "\n",
       "    .dataframe tbody tr th {\n",
       "        vertical-align: top;\n",
       "    }\n",
       "\n",
       "    .dataframe thead th {\n",
       "        text-align: right;\n",
       "    }\n",
       "</style>\n",
       "<table border=\"1\" class=\"dataframe\">\n",
       "  <thead>\n",
       "    <tr style=\"text-align: right;\">\n",
       "      <th></th>\n",
       "      <th>A</th>\n",
       "      <th>B</th>\n",
       "      <th>C</th>\n",
       "      <th>D</th>\n",
       "    </tr>\n",
       "  </thead>\n",
       "  <tbody>\n",
       "    <tr>\n",
       "      <th>0</th>\n",
       "      <td>foo</td>\n",
       "      <td>0.0</td>\n",
       "      <td>A</td>\n",
       "      <td>30.0</td>\n",
       "    </tr>\n",
       "    <tr>\n",
       "      <th>1</th>\n",
       "      <td>foo</td>\n",
       "      <td>1.0</td>\n",
       "      <td>A</td>\n",
       "      <td>NaN</td>\n",
       "    </tr>\n",
       "    <tr>\n",
       "      <th>2</th>\n",
       "      <td>foo</td>\n",
       "      <td>1.0</td>\n",
       "      <td>B</td>\n",
       "      <td>22.0</td>\n",
       "    </tr>\n",
       "    <tr>\n",
       "      <th>4</th>\n",
       "      <td>bar</td>\n",
       "      <td>1.0</td>\n",
       "      <td>A</td>\n",
       "      <td>29.5</td>\n",
       "    </tr>\n",
       "  </tbody>\n",
       "</table>\n",
       "</div>"
      ],
      "text/plain": [
       "     A    B  C     D\n",
       "0  foo  0.0  A  30.0\n",
       "1  foo  1.0  A   NaN\n",
       "2  foo  1.0  B  22.0\n",
       "4  bar  1.0  A  29.5"
      ]
     },
     "execution_count": 39,
     "metadata": {},
     "output_type": "execute_result"
    },
    {
     "data": {
      "application/javascript": [
       "\n",
       "            setTimeout(function() {\n",
       "                var nbb_cell_id = 39;\n",
       "                var nbb_unformatted_code = \"df8_b = df8\\ndf8_b['B'] = df8_b['B'].fillna(df8_b['B'].mode()[0])\\ndf8_b\";\n",
       "                var nbb_formatted_code = \"df8_b = df8\\ndf8_b[\\\"B\\\"] = df8_b[\\\"B\\\"].fillna(df8_b[\\\"B\\\"].mode()[0])\\ndf8_b\";\n",
       "                var nbb_cells = Jupyter.notebook.get_cells();\n",
       "                for (var i = 0; i < nbb_cells.length; ++i) {\n",
       "                    if (nbb_cells[i].input_prompt_number == nbb_cell_id) {\n",
       "                        if (nbb_cells[i].get_text() == nbb_unformatted_code) {\n",
       "                             nbb_cells[i].set_text(nbb_formatted_code);\n",
       "                        }\n",
       "                        break;\n",
       "                    }\n",
       "                }\n",
       "            }, 500);\n",
       "            "
      ],
      "text/plain": [
       "<IPython.core.display.Javascript object>"
      ]
     },
     "metadata": {},
     "output_type": "display_data"
    }
   ],
   "source": [
    "df8_b = df8\n",
    "df8_b[\"B\"] = df8_b[\"B\"].fillna(df8_b[\"B\"].mode()[0])\n",
    "df8_b"
   ]
  },
  {
   "cell_type": "code",
   "execution_count": 40,
   "id": "22978f56",
   "metadata": {},
   "outputs": [
    {
     "data": {
      "text/html": [
       "<div>\n",
       "<style scoped>\n",
       "    .dataframe tbody tr th:only-of-type {\n",
       "        vertical-align: middle;\n",
       "    }\n",
       "\n",
       "    .dataframe tbody tr th {\n",
       "        vertical-align: top;\n",
       "    }\n",
       "\n",
       "    .dataframe thead th {\n",
       "        text-align: right;\n",
       "    }\n",
       "</style>\n",
       "<table border=\"1\" class=\"dataframe\">\n",
       "  <thead>\n",
       "    <tr style=\"text-align: right;\">\n",
       "      <th></th>\n",
       "      <th>A</th>\n",
       "      <th>B</th>\n",
       "      <th>C</th>\n",
       "      <th>D</th>\n",
       "    </tr>\n",
       "  </thead>\n",
       "  <tbody>\n",
       "    <tr>\n",
       "      <th>0</th>\n",
       "      <td>foo</td>\n",
       "      <td>0.0</td>\n",
       "      <td>A</td>\n",
       "      <td>30.000000</td>\n",
       "    </tr>\n",
       "    <tr>\n",
       "      <th>1</th>\n",
       "      <td>foo</td>\n",
       "      <td>1.0</td>\n",
       "      <td>A</td>\n",
       "      <td>27.166667</td>\n",
       "    </tr>\n",
       "    <tr>\n",
       "      <th>2</th>\n",
       "      <td>foo</td>\n",
       "      <td>1.0</td>\n",
       "      <td>B</td>\n",
       "      <td>22.000000</td>\n",
       "    </tr>\n",
       "    <tr>\n",
       "      <th>4</th>\n",
       "      <td>bar</td>\n",
       "      <td>1.0</td>\n",
       "      <td>A</td>\n",
       "      <td>29.500000</td>\n",
       "    </tr>\n",
       "  </tbody>\n",
       "</table>\n",
       "</div>"
      ],
      "text/plain": [
       "     A    B  C          D\n",
       "0  foo  0.0  A  30.000000\n",
       "1  foo  1.0  A  27.166667\n",
       "2  foo  1.0  B  22.000000\n",
       "4  bar  1.0  A  29.500000"
      ]
     },
     "execution_count": 40,
     "metadata": {},
     "output_type": "execute_result"
    },
    {
     "data": {
      "application/javascript": [
       "\n",
       "            setTimeout(function() {\n",
       "                var nbb_cell_id = 40;\n",
       "                var nbb_unformatted_code = \"df8_b['D'] = df8_b['D'].fillna(df8_b['D'].mean())\\ndf8_b\";\n",
       "                var nbb_formatted_code = \"df8_b[\\\"D\\\"] = df8_b[\\\"D\\\"].fillna(df8_b[\\\"D\\\"].mean())\\ndf8_b\";\n",
       "                var nbb_cells = Jupyter.notebook.get_cells();\n",
       "                for (var i = 0; i < nbb_cells.length; ++i) {\n",
       "                    if (nbb_cells[i].input_prompt_number == nbb_cell_id) {\n",
       "                        if (nbb_cells[i].get_text() == nbb_unformatted_code) {\n",
       "                             nbb_cells[i].set_text(nbb_formatted_code);\n",
       "                        }\n",
       "                        break;\n",
       "                    }\n",
       "                }\n",
       "            }, 500);\n",
       "            "
      ],
      "text/plain": [
       "<IPython.core.display.Javascript object>"
      ]
     },
     "metadata": {},
     "output_type": "display_data"
    }
   ],
   "source": [
    "df8_b[\"D\"] = df8_b[\"D\"].fillna(df8_b[\"D\"].mean())\n",
    "df8_b"
   ]
  },
  {
   "cell_type": "code",
   "execution_count": 41,
   "id": "1af3f2d7",
   "metadata": {},
   "outputs": [
    {
     "data": {
      "text/html": [
       "<div>\n",
       "<style scoped>\n",
       "    .dataframe tbody tr th:only-of-type {\n",
       "        vertical-align: middle;\n",
       "    }\n",
       "\n",
       "    .dataframe tbody tr th {\n",
       "        vertical-align: top;\n",
       "    }\n",
       "\n",
       "    .dataframe thead th {\n",
       "        text-align: right;\n",
       "    }\n",
       "</style>\n",
       "<table border=\"1\" class=\"dataframe\">\n",
       "  <thead>\n",
       "    <tr style=\"text-align: right;\">\n",
       "      <th></th>\n",
       "      <th>A</th>\n",
       "      <th>B</th>\n",
       "      <th>C</th>\n",
       "      <th>D</th>\n",
       "    </tr>\n",
       "  </thead>\n",
       "  <tbody>\n",
       "    <tr>\n",
       "      <th>0</th>\n",
       "      <td>foo</td>\n",
       "      <td>0.0</td>\n",
       "      <td>A</td>\n",
       "      <td>30.000000</td>\n",
       "    </tr>\n",
       "    <tr>\n",
       "      <th>1</th>\n",
       "      <td>foo</td>\n",
       "      <td>1.0</td>\n",
       "      <td>A</td>\n",
       "      <td>27.166667</td>\n",
       "    </tr>\n",
       "    <tr>\n",
       "      <th>2</th>\n",
       "      <td>foo</td>\n",
       "      <td>1.0</td>\n",
       "      <td>B</td>\n",
       "      <td>22.000000</td>\n",
       "    </tr>\n",
       "    <tr>\n",
       "      <th>4</th>\n",
       "      <td>bar</td>\n",
       "      <td>1.0</td>\n",
       "      <td>A</td>\n",
       "      <td>29.500000</td>\n",
       "    </tr>\n",
       "  </tbody>\n",
       "</table>\n",
       "</div>"
      ],
      "text/plain": [
       "     A    B  C          D\n",
       "0  foo  0.0  A  30.000000\n",
       "1  foo  1.0  A  27.166667\n",
       "2  foo  1.0  B  22.000000\n",
       "4  bar  1.0  A  29.500000"
      ]
     },
     "execution_count": 41,
     "metadata": {},
     "output_type": "execute_result"
    },
    {
     "data": {
      "application/javascript": [
       "\n",
       "            setTimeout(function() {\n",
       "                var nbb_cell_id = 41;\n",
       "                var nbb_unformatted_code = \"df8\";\n",
       "                var nbb_formatted_code = \"df8\";\n",
       "                var nbb_cells = Jupyter.notebook.get_cells();\n",
       "                for (var i = 0; i < nbb_cells.length; ++i) {\n",
       "                    if (nbb_cells[i].input_prompt_number == nbb_cell_id) {\n",
       "                        if (nbb_cells[i].get_text() == nbb_unformatted_code) {\n",
       "                             nbb_cells[i].set_text(nbb_formatted_code);\n",
       "                        }\n",
       "                        break;\n",
       "                    }\n",
       "                }\n",
       "            }, 500);\n",
       "            "
      ],
      "text/plain": [
       "<IPython.core.display.Javascript object>"
      ]
     },
     "metadata": {},
     "output_type": "display_data"
    }
   ],
   "source": [
    "df8"
   ]
  },
  {
   "cell_type": "code",
   "execution_count": 42,
   "id": "434c60a3",
   "metadata": {},
   "outputs": [
    {
     "data": {
      "text/html": [
       "<div>\n",
       "<style scoped>\n",
       "    .dataframe tbody tr th:only-of-type {\n",
       "        vertical-align: middle;\n",
       "    }\n",
       "\n",
       "    .dataframe tbody tr th {\n",
       "        vertical-align: top;\n",
       "    }\n",
       "\n",
       "    .dataframe thead th {\n",
       "        text-align: right;\n",
       "    }\n",
       "</style>\n",
       "<table border=\"1\" class=\"dataframe\">\n",
       "  <thead>\n",
       "    <tr style=\"text-align: right;\">\n",
       "      <th></th>\n",
       "      <th>A</th>\n",
       "      <th>B</th>\n",
       "      <th>C</th>\n",
       "      <th>D</th>\n",
       "    </tr>\n",
       "  </thead>\n",
       "  <tbody>\n",
       "    <tr>\n",
       "      <th>0</th>\n",
       "      <td>foo</td>\n",
       "      <td>0.0</td>\n",
       "      <td>A</td>\n",
       "      <td>30.000000</td>\n",
       "    </tr>\n",
       "    <tr>\n",
       "      <th>1</th>\n",
       "      <td>foo</td>\n",
       "      <td>1.0</td>\n",
       "      <td>A</td>\n",
       "      <td>27.166667</td>\n",
       "    </tr>\n",
       "    <tr>\n",
       "      <th>2</th>\n",
       "      <td>foo</td>\n",
       "      <td>1.0</td>\n",
       "      <td>B</td>\n",
       "      <td>22.000000</td>\n",
       "    </tr>\n",
       "    <tr>\n",
       "      <th>4</th>\n",
       "      <td>bar</td>\n",
       "      <td>1.0</td>\n",
       "      <td>A</td>\n",
       "      <td>29.500000</td>\n",
       "    </tr>\n",
       "  </tbody>\n",
       "</table>\n",
       "</div>"
      ],
      "text/plain": [
       "     A    B  C          D\n",
       "0  foo  0.0  A  30.000000\n",
       "1  foo  1.0  A  27.166667\n",
       "2  foo  1.0  B  22.000000\n",
       "4  bar  1.0  A  29.500000"
      ]
     },
     "execution_count": 42,
     "metadata": {},
     "output_type": "execute_result"
    },
    {
     "data": {
      "application/javascript": [
       "\n",
       "            setTimeout(function() {\n",
       "                var nbb_cell_id = 42;\n",
       "                var nbb_unformatted_code = \"mode_B = df8['B'].mode()[0]\\nmean_D = df8['D'].mean()\\ndf8 = df8.fillna(value={'B': mode_B, 'D': mean_D})\\ndf8\";\n",
       "                var nbb_formatted_code = \"mode_B = df8[\\\"B\\\"].mode()[0]\\nmean_D = df8[\\\"D\\\"].mean()\\ndf8 = df8.fillna(value={\\\"B\\\": mode_B, \\\"D\\\": mean_D})\\ndf8\";\n",
       "                var nbb_cells = Jupyter.notebook.get_cells();\n",
       "                for (var i = 0; i < nbb_cells.length; ++i) {\n",
       "                    if (nbb_cells[i].input_prompt_number == nbb_cell_id) {\n",
       "                        if (nbb_cells[i].get_text() == nbb_unformatted_code) {\n",
       "                             nbb_cells[i].set_text(nbb_formatted_code);\n",
       "                        }\n",
       "                        break;\n",
       "                    }\n",
       "                }\n",
       "            }, 500);\n",
       "            "
      ],
      "text/plain": [
       "<IPython.core.display.Javascript object>"
      ]
     },
     "metadata": {},
     "output_type": "display_data"
    }
   ],
   "source": [
    "mode_B = df8[\"B\"].mode()[0]\n",
    "mean_D = df8[\"D\"].mean()\n",
    "df8 = df8.fillna(value={\"B\": mode_B, \"D\": mean_D})\n",
    "df8"
   ]
  },
  {
   "cell_type": "code",
   "execution_count": null,
   "id": "f0e76814",
   "metadata": {},
   "outputs": [],
   "source": []
  },
  {
   "cell_type": "code",
   "execution_count": null,
   "id": "5ff87ddb",
   "metadata": {},
   "outputs": [],
   "source": []
  }
 ],
 "metadata": {
  "kernelspec": {
   "display_name": "Python 3 (ipykernel)",
   "language": "python",
   "name": "python3"
  },
  "language_info": {
   "codemirror_mode": {
    "name": "ipython",
    "version": 3
   },
   "file_extension": ".py",
   "mimetype": "text/x-python",
   "name": "python",
   "nbconvert_exporter": "python",
   "pygments_lexer": "ipython3",
   "version": "3.9.7"
  }
 },
 "nbformat": 4,
 "nbformat_minor": 5
}
