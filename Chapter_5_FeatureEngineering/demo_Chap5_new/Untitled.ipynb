{
 "cells": [
  {
   "cell_type": "code",
   "execution_count": 1,
   "id": "efa2203d",
   "metadata": {},
   "outputs": [],
   "source": [
    "import pandas as pd\n",
    "import numpy as np\n",
    "import matplotlib.pyplot as plt\n",
    "import seaborn as sns"
   ]
  },
  {
   "cell_type": "code",
   "execution_count": 2,
   "id": "0483a658",
   "metadata": {},
   "outputs": [
    {
     "name": "stdout",
     "output_type": "stream",
     "text": [
      "<class 'pandas.core.frame.DataFrame'>\n",
      "RangeIndex: 999 entries, 0 to 998\n",
      "Data columns (total 11 columns):\n",
      " #   Column                      Non-Null Count  Dtype  \n",
      "---  ------                      --------------  -----  \n",
      " 0   SurveyDate                  999 non-null    object \n",
      " 1   FormalEducation             999 non-null    object \n",
      " 2   ConvertedSalary             665 non-null    float64\n",
      " 3   Hobby                       999 non-null    object \n",
      " 4   Country                     999 non-null    object \n",
      " 5   StackOverflowJobsRecommend  487 non-null    float64\n",
      " 6   VersionControl              999 non-null    object \n",
      " 7   Age                         999 non-null    int64  \n",
      " 8   Years Experience            999 non-null    int64  \n",
      " 9   Gender                      693 non-null    object \n",
      " 10  RawSalary                   665 non-null    object \n",
      "dtypes: float64(2), int64(2), object(7)\n",
      "memory usage: 86.0+ KB\n"
     ]
    }
   ],
   "source": [
    "df = pd.read_csv('data/Combined_DS_v10.csv')\n",
    "df.info()"
   ]
  },
  {
   "cell_type": "code",
   "execution_count": 3,
   "id": "d31daf7d",
   "metadata": {},
   "outputs": [
    {
     "data": {
      "text/plain": [
       "SurveyDate                     object\n",
       "FormalEducation                object\n",
       "ConvertedSalary               float64\n",
       "Hobby                          object\n",
       "Country                        object\n",
       "StackOverflowJobsRecommend    float64\n",
       "VersionControl                 object\n",
       "Age                             int64\n",
       "Years Experience                int64\n",
       "Gender                         object\n",
       "RawSalary                      object\n",
       "dtype: object"
      ]
     },
     "execution_count": 3,
     "metadata": {},
     "output_type": "execute_result"
    }
   ],
   "source": [
    "df.dtypes"
   ]
  },
  {
   "cell_type": "code",
   "execution_count": 5,
   "id": "dca051ad",
   "metadata": {},
   "outputs": [
    {
     "data": {
      "text/plain": [
       "Index(['ConvertedSalary', 'StackOverflowJobsRecommend', 'Age',\n",
       "       'Years Experience'],\n",
       "      dtype='object')"
      ]
     },
     "execution_count": 5,
     "metadata": {},
     "output_type": "execute_result"
    }
   ],
   "source": [
    "df_numbers = df.select_dtypes(include=['int64', 'float'])\n",
    "df_numbers.columns"
   ]
  },
  {
   "cell_type": "code",
   "execution_count": 6,
   "id": "6f1a66fe",
   "metadata": {},
   "outputs": [
    {
     "data": {
      "text/plain": [
       "Index(['ConvertedSalary', 'StackOverflowJobsRecommend', 'Age',\n",
       "       'Years Experience'],\n",
       "      dtype='object')"
      ]
     },
     "execution_count": 6,
     "metadata": {},
     "output_type": "execute_result"
    }
   ],
   "source": [
    "df_numbers = df.select_dtypes(exclude=['object'])\n",
    "df_numbers.columns"
   ]
  },
  {
   "cell_type": "code",
   "execution_count": null,
   "id": "719f5199",
   "metadata": {},
   "outputs": [],
   "source": []
  }
 ],
 "metadata": {
  "kernelspec": {
   "display_name": "Python 3 (ipykernel)",
   "language": "python",
   "name": "python3"
  },
  "language_info": {
   "codemirror_mode": {
    "name": "ipython",
    "version": 3
   },
   "file_extension": ".py",
   "mimetype": "text/x-python",
   "name": "python",
   "nbconvert_exporter": "python",
   "pygments_lexer": "ipython3",
   "version": "3.9.7"
  }
 },
 "nbformat": 4,
 "nbformat_minor": 5
}
