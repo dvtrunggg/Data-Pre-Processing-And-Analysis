{
 "cells": [
  {
   "cell_type": "code",
   "execution_count": 1,
   "id": "70b7b106",
   "metadata": {},
   "outputs": [],
   "source": [
    "import pandas as pd\n",
    "import numpy as np\n",
    "import matplotlib.pyplot as plt\n",
    "import seaborn as sns"
   ]
  },
  {
   "cell_type": "code",
   "execution_count": 2,
   "id": "8247a709",
   "metadata": {},
   "outputs": [
    {
     "data": {
      "text/html": [
       "<div>\n",
       "<style scoped>\n",
       "    .dataframe tbody tr th:only-of-type {\n",
       "        vertical-align: middle;\n",
       "    }\n",
       "\n",
       "    .dataframe tbody tr th {\n",
       "        vertical-align: top;\n",
       "    }\n",
       "\n",
       "    .dataframe thead th {\n",
       "        text-align: right;\n",
       "    }\n",
       "</style>\n",
       "<table border=\"1\" class=\"dataframe\">\n",
       "  <thead>\n",
       "    <tr style=\"text-align: right;\">\n",
       "      <th></th>\n",
       "      <th>Name</th>\n",
       "      <th>Inaugural Address</th>\n",
       "      <th>Date</th>\n",
       "      <th>text</th>\n",
       "    </tr>\n",
       "  </thead>\n",
       "  <tbody>\n",
       "    <tr>\n",
       "      <th>0</th>\n",
       "      <td>George Washington</td>\n",
       "      <td>First Inaugural Address</td>\n",
       "      <td>Thursday, April 30, 1789</td>\n",
       "      <td>Fellow-Citizens of the Senate and of the House...</td>\n",
       "    </tr>\n",
       "    <tr>\n",
       "      <th>1</th>\n",
       "      <td>George Washington</td>\n",
       "      <td>Second Inaugural Address</td>\n",
       "      <td>Monday, March 4, 1793</td>\n",
       "      <td>Fellow Citizens:  I AM again called upon by th...</td>\n",
       "    </tr>\n",
       "    <tr>\n",
       "      <th>2</th>\n",
       "      <td>John Adams</td>\n",
       "      <td>Inaugural Address</td>\n",
       "      <td>Saturday, March 4, 1797</td>\n",
       "      <td>WHEN it was first perceived, in early times, t...</td>\n",
       "    </tr>\n",
       "    <tr>\n",
       "      <th>3</th>\n",
       "      <td>Thomas Jefferson</td>\n",
       "      <td>First Inaugural Address</td>\n",
       "      <td>Wednesday, March 4, 1801</td>\n",
       "      <td>Friends and Fellow-Citizens:  CALLED upon to u...</td>\n",
       "    </tr>\n",
       "    <tr>\n",
       "      <th>4</th>\n",
       "      <td>Thomas Jefferson</td>\n",
       "      <td>Second Inaugural Address</td>\n",
       "      <td>Monday, March 4, 1805</td>\n",
       "      <td>PROCEEDING, fellow-citizens, to that qualifica...</td>\n",
       "    </tr>\n",
       "  </tbody>\n",
       "</table>\n",
       "</div>"
      ],
      "text/plain": [
       "                Name         Inaugural Address                      Date  \\\n",
       "0  George Washington   First Inaugural Address  Thursday, April 30, 1789   \n",
       "1  George Washington  Second Inaugural Address     Monday, March 4, 1793   \n",
       "2         John Adams         Inaugural Address   Saturday, March 4, 1797   \n",
       "3   Thomas Jefferson   First Inaugural Address  Wednesday, March 4, 1801   \n",
       "4   Thomas Jefferson  Second Inaugural Address     Monday, March 4, 1805   \n",
       "\n",
       "                                                text  \n",
       "0  Fellow-Citizens of the Senate and of the House...  \n",
       "1  Fellow Citizens:  I AM again called upon by th...  \n",
       "2  WHEN it was first perceived, in early times, t...  \n",
       "3  Friends and Fellow-Citizens:  CALLED upon to u...  \n",
       "4  PROCEEDING, fellow-citizens, to that qualifica...  "
      ]
     },
     "execution_count": 2,
     "metadata": {},
     "output_type": "execute_result"
    }
   ],
   "source": [
    "df = pd.read_csv('data/inaugural_speeches.csv')\n",
    "df.head()"
   ]
  },
  {
   "cell_type": "code",
   "execution_count": 3,
   "id": "bbe5133d",
   "metadata": {},
   "outputs": [
    {
     "data": {
      "text/plain": [
       "'Fellow Citizens:  I AM again called upon by the voice of my country to execute the functions of its Chief Magistrate. When the occasion proper for it shall arrive, I shall endeavor to express the high sense I entertain of this distinguished honor, and of the confidence which has been reposed in me by the people of united America. Previous to the execution of any official act of the President the Constitution requires an oath of office. This oath I am now about to take, and in your presence: That if it shall be found during my administration of the Government I have in any instance violated willingly or knowingly the injunctions thereof, I may (besides incurring constitutional punishment) be subject to the upbraidings of all who are now witnesses of the present solemn ceremony.'"
      ]
     },
     "execution_count": 3,
     "metadata": {},
     "output_type": "execute_result"
    }
   ],
   "source": [
    "df.loc[1, 'text']"
   ]
  },
  {
   "cell_type": "code",
   "execution_count": 4,
   "id": "9be2beb4",
   "metadata": {},
   "outputs": [],
   "source": [
    "df['text_clean'] = df['text'].str.replace('[^a-zA-Z]', ' ').str.replace('\\s+', ' ')"
   ]
  },
  {
   "cell_type": "code",
   "execution_count": 5,
   "id": "b496c529",
   "metadata": {},
   "outputs": [
    {
     "data": {
      "text/plain": [
       "'Fellow Citizens I AM again called upon by the voice of my country to execute the functions of its Chief Magistrate When the occasion proper for it shall arrive I shall endeavor to express the high sense I entertain of this distinguished honor and of the confidence which has been reposed in me by the people of united America Previous to the execution of any official act of the President the Constitution requires an oath of office This oath I am now about to take and in your presence That if it shall be found during my administration of the Government I have in any instance violated willingly or knowingly the injunctions thereof I may besides incurring constitutional punishment be subject to the upbraidings of all who are now witnesses of the present solemn ceremony '"
      ]
     },
     "execution_count": 5,
     "metadata": {},
     "output_type": "execute_result"
    }
   ],
   "source": [
    "df.loc[1, 'text_clean']"
   ]
  },
  {
   "cell_type": "code",
   "execution_count": 6,
   "id": "efa850d5",
   "metadata": {},
   "outputs": [
    {
     "data": {
      "text/plain": [
       "'fellow citizens i am again called upon by the voice of my country to execute the functions of its chief magistrate when the occasion proper for it shall arrive i shall endeavor to express the high sense i entertain of this distinguished honor and of the confidence which has been reposed in me by the people of united america previous to the execution of any official act of the president the constitution requires an oath of office this oath i am now about to take and in your presence that if it shall be found during my administration of the government i have in any instance violated willingly or knowingly the injunctions thereof i may besides incurring constitutional punishment be subject to the upbraidings of all who are now witnesses of the present solemn ceremony '"
      ]
     },
     "execution_count": 6,
     "metadata": {},
     "output_type": "execute_result"
    }
   ],
   "source": [
    "df['text_clean'] = df['text_clean'].str.lower()\n",
    "df.loc[1, 'text_clean']"
   ]
  },
  {
   "cell_type": "code",
   "execution_count": 7,
   "id": "65f6b3fa",
   "metadata": {},
   "outputs": [],
   "source": [
    "# tạo các thuộc tính văn bản cấp cao\n",
    "df['char_count'] = df['text_clean'].str.len()\n",
    "df['word_count'] = df['text_clean'].str.split().str.len()\n",
    "df['avg_word_length'] = df['char_count'] / df['word_count']"
   ]
  },
  {
   "cell_type": "code",
   "execution_count": 8,
   "id": "6decac1c",
   "metadata": {},
   "outputs": [
    {
     "data": {
      "text/html": [
       "<div>\n",
       "<style scoped>\n",
       "    .dataframe tbody tr th:only-of-type {\n",
       "        vertical-align: middle;\n",
       "    }\n",
       "\n",
       "    .dataframe tbody tr th {\n",
       "        vertical-align: top;\n",
       "    }\n",
       "\n",
       "    .dataframe thead th {\n",
       "        text-align: right;\n",
       "    }\n",
       "</style>\n",
       "<table border=\"1\" class=\"dataframe\">\n",
       "  <thead>\n",
       "    <tr style=\"text-align: right;\">\n",
       "      <th></th>\n",
       "      <th>text_clean</th>\n",
       "      <th>char_count</th>\n",
       "      <th>word_count</th>\n",
       "      <th>avg_word_length</th>\n",
       "    </tr>\n",
       "  </thead>\n",
       "  <tbody>\n",
       "    <tr>\n",
       "      <th>0</th>\n",
       "      <td>fellow citizens of the senate and of the house...</td>\n",
       "      <td>8503</td>\n",
       "      <td>1432</td>\n",
       "      <td>5.937849</td>\n",
       "    </tr>\n",
       "    <tr>\n",
       "      <th>1</th>\n",
       "      <td>fellow citizens i am again called upon by the ...</td>\n",
       "      <td>775</td>\n",
       "      <td>135</td>\n",
       "      <td>5.740741</td>\n",
       "    </tr>\n",
       "    <tr>\n",
       "      <th>2</th>\n",
       "      <td>when it was first perceived in early times tha...</td>\n",
       "      <td>13605</td>\n",
       "      <td>2323</td>\n",
       "      <td>5.856651</td>\n",
       "    </tr>\n",
       "    <tr>\n",
       "      <th>3</th>\n",
       "      <td>friends and fellow citizens called upon to und...</td>\n",
       "      <td>9931</td>\n",
       "      <td>1736</td>\n",
       "      <td>5.720622</td>\n",
       "    </tr>\n",
       "    <tr>\n",
       "      <th>4</th>\n",
       "      <td>proceeding fellow citizens to that qualificati...</td>\n",
       "      <td>12680</td>\n",
       "      <td>2169</td>\n",
       "      <td>5.846012</td>\n",
       "    </tr>\n",
       "  </tbody>\n",
       "</table>\n",
       "</div>"
      ],
      "text/plain": [
       "                                          text_clean  char_count  word_count  \\\n",
       "0  fellow citizens of the senate and of the house...        8503        1432   \n",
       "1  fellow citizens i am again called upon by the ...         775         135   \n",
       "2  when it was first perceived in early times tha...       13605        2323   \n",
       "3  friends and fellow citizens called upon to und...        9931        1736   \n",
       "4  proceeding fellow citizens to that qualificati...       12680        2169   \n",
       "\n",
       "   avg_word_length  \n",
       "0         5.937849  \n",
       "1         5.740741  \n",
       "2         5.856651  \n",
       "3         5.720622  \n",
       "4         5.846012  "
      ]
     },
     "execution_count": 8,
     "metadata": {},
     "output_type": "execute_result"
    }
   ],
   "source": [
    "df[['text_clean', 'char_count', 'word_count', 'avg_word_length']].head()"
   ]
  },
  {
   "cell_type": "code",
   "execution_count": 9,
   "id": "ba05ec07",
   "metadata": {},
   "outputs": [],
   "source": [
    "df.to_csv('data/inaugural_speeches_clean.csv', index=False)"
   ]
  },
  {
   "cell_type": "code",
   "execution_count": null,
   "id": "65e7f5eb",
   "metadata": {},
   "outputs": [],
   "source": []
  }
 ],
 "metadata": {
  "kernelspec": {
   "display_name": "Python 3 (ipykernel)",
   "language": "python",
   "name": "python3"
  },
  "language_info": {
   "codemirror_mode": {
    "name": "ipython",
    "version": 3
   },
   "file_extension": ".py",
   "mimetype": "text/x-python",
   "name": "python",
   "nbconvert_exporter": "python",
   "pygments_lexer": "ipython3",
   "version": "3.9.7"
  }
 },
 "nbformat": 4,
 "nbformat_minor": 5
}
