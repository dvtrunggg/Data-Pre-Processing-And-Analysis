{
 "cells": [
  {
   "cell_type": "code",
   "execution_count": 1,
   "id": "08c4317b",
   "metadata": {},
   "outputs": [],
   "source": [
    "import pandas as pd\n",
    "import numpy as np\n",
    "import matplotlib.pyplot as plt\n",
    "import seaborn as sns\n",
    "import warnings"
   ]
  },
  {
   "cell_type": "code",
   "execution_count": 2,
   "id": "140c5d83",
   "metadata": {},
   "outputs": [],
   "source": [
    "warnings.filterwarnings(\"ignore\")"
   ]
  },
  {
   "cell_type": "code",
   "execution_count": 3,
   "id": "bbb2410d",
   "metadata": {},
   "outputs": [],
   "source": [
    "df_train = pd.read_csv('data/autoMobile_train.csv')\n",
    "df_test = pd.read_csv('data/autoMobile_test.csv')"
   ]
  },
  {
   "cell_type": "code",
   "execution_count": 4,
   "id": "363bc4a0",
   "metadata": {},
   "outputs": [],
   "source": [
    "X_train = df_train.drop('price', axis=1)\n",
    "y_train = df_train['price']\n",
    "X_test = df_test.drop('price', axis=1)\n",
    "y_test = df_test['price']"
   ]
  },
  {
   "cell_type": "code",
   "execution_count": 6,
   "id": "d096fdb7",
   "metadata": {},
   "outputs": [],
   "source": [
    "#import thư viện\n",
    "from sklearn.linear_model import LinearRegression\n",
    "from sklearn.preprocessing import PolynomialFeatures\n",
    "from sklearn.preprocessing import StandardScaler\n",
    "from sklearn.pipeline import Pipeline"
   ]
  },
  {
   "cell_type": "code",
   "execution_count": 7,
   "id": "a8ec8cce",
   "metadata": {},
   "outputs": [
    {
     "data": {
      "text/plain": [
       "[('scale', StandardScaler()),\n",
       " ('polynomial', PolynomialFeatures()),\n",
       " ('model', LinearRegression())]"
      ]
     },
     "execution_count": 7,
     "metadata": {},
     "output_type": "execute_result"
    }
   ],
   "source": [
    "my_steps = [\n",
    "    ('scale', StandardScaler()),\n",
    "    ('polynomial', PolynomialFeatures(degree=2)),\n",
    "    ('model', LinearRegression())\n",
    "]\n",
    "my_steps"
   ]
  },
  {
   "cell_type": "code",
   "execution_count": 8,
   "id": "d9d6b556",
   "metadata": {},
   "outputs": [
    {
     "data": {
      "text/plain": [
       "Pipeline(steps=[('scale', StandardScaler()),\n",
       "                ('polynomial', PolynomialFeatures()),\n",
       "                ('model', LinearRegression())])"
      ]
     },
     "execution_count": 8,
     "metadata": {},
     "output_type": "execute_result"
    }
   ],
   "source": [
    "pipe = Pipeline(steps=my_steps)\n",
    "pipe"
   ]
  },
  {
   "cell_type": "code",
   "execution_count": 11,
   "id": "686bbcdc",
   "metadata": {},
   "outputs": [
    {
     "data": {
      "text/plain": [
       "Pipeline(steps=[('scale', StandardScaler()),\n",
       "                ('polynomial', PolynomialFeatures()),\n",
       "                ('model', LinearRegression())])"
      ]
     },
     "execution_count": 11,
     "metadata": {},
     "output_type": "execute_result"
    }
   ],
   "source": [
    "pipe.fit(X_train, y_train)"
   ]
  },
  {
   "cell_type": "code",
   "execution_count": 12,
   "id": "82426391",
   "metadata": {},
   "outputs": [],
   "source": [
    "yhat_train = pipe.predict(X_train)"
   ]
  },
  {
   "cell_type": "code",
   "execution_count": 13,
   "id": "d3fd6933",
   "metadata": {},
   "outputs": [
    {
     "data": {
      "text/plain": [
       "0    12290.0\n",
       "1     7898.0\n",
       "2    16503.0\n",
       "3     7975.0\n",
       "4     5151.0\n",
       "Name: price, dtype: float64"
      ]
     },
     "execution_count": 13,
     "metadata": {},
     "output_type": "execute_result"
    }
   ],
   "source": [
    "y_train[:5]"
   ]
  },
  {
   "cell_type": "code",
   "execution_count": 14,
   "id": "ed1ebabb",
   "metadata": {},
   "outputs": [
    {
     "data": {
      "text/plain": [
       "array([10160.40326012,  7824.62041369, 21027.24659322,  8549.44917677,\n",
       "        6403.4363739 ])"
      ]
     },
     "execution_count": 14,
     "metadata": {},
     "output_type": "execute_result"
    }
   ],
   "source": [
    "yhat_train[:5]"
   ]
  },
  {
   "cell_type": "code",
   "execution_count": 15,
   "id": "3fa82c32",
   "metadata": {},
   "outputs": [],
   "source": [
    "yhat_test = pipe.predict(X_test)"
   ]
  },
  {
   "cell_type": "code",
   "execution_count": 16,
   "id": "b91d3b34",
   "metadata": {},
   "outputs": [],
   "source": [
    "# đo lường các chỉ số để đánh giá model: R-squared và MSE, MAE\n",
    "from sklearn.metrics import mean_squared_error, mean_absolute_error"
   ]
  },
  {
   "cell_type": "code",
   "execution_count": 19,
   "id": "688de765",
   "metadata": {},
   "outputs": [
    {
     "name": "stdout",
     "output_type": "stream",
     "text": [
      "R-squared train data: 86.43 %\n",
      "R-squared test data: 73.5 %\n"
     ]
    }
   ],
   "source": [
    "# tính R-squared\n",
    "print('R-squared train data:', round(pipe.score(X_train, y_train) * 100, 2), '%')\n",
    "print('R-squared test data:', round(pipe.score(X_test, y_test) * 100, 2), '%')"
   ]
  },
  {
   "cell_type": "code",
   "execution_count": 20,
   "id": "8c6694fc",
   "metadata": {},
   "outputs": [
    {
     "name": "stdout",
     "output_type": "stream",
     "text": [
      "MSE train data: 8919273.74480167\n",
      "MSE test data: 13669486.810491102\n",
      "MAE train data: 2036.9374941875024\n",
      "MAE test data: 2685.5585995266565\n"
     ]
    }
   ],
   "source": [
    "# tính MSE và MAE\n",
    "print('MSE train data:', mean_squared_error(y_train, yhat_train))\n",
    "print('MSE test data:', mean_squared_error(y_test, yhat_test))\n",
    "\n",
    "print('MAE train data:', mean_absolute_error(y_train, yhat_train))\n",
    "print('MAE test data:', mean_absolute_error(y_test, yhat_test))"
   ]
  },
  {
   "cell_type": "code",
   "execution_count": null,
   "id": "441452b0",
   "metadata": {},
   "outputs": [],
   "source": []
  }
 ],
 "metadata": {
  "kernelspec": {
   "display_name": "Python 3",
   "language": "python",
   "name": "python3"
  },
  "language_info": {
   "codemirror_mode": {
    "name": "ipython",
    "version": 3
   },
   "file_extension": ".py",
   "mimetype": "text/x-python",
   "name": "python",
   "nbconvert_exporter": "python",
   "pygments_lexer": "ipython3",
   "version": "3.6.8"
  }
 },
 "nbformat": 4,
 "nbformat_minor": 5
}
