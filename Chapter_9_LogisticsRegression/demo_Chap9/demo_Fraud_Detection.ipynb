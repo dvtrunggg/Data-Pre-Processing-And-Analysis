{
 "cells": [
  {
   "cell_type": "markdown",
   "id": "c83e8a0b",
   "metadata": {},
   "source": [
    "### Bài toán tìm gian lận"
   ]
  },
  {
   "cell_type": "code",
   "execution_count": 7,
   "id": "fa66b0b0",
   "metadata": {},
   "outputs": [],
   "source": [
    "import warnings\n",
    "warnings.filterwarnings('ignore')"
   ]
  },
  {
   "cell_type": "code",
   "execution_count": 8,
   "id": "6d01f85f",
   "metadata": {},
   "outputs": [],
   "source": [
    "import pandas as pd\n",
    "import numpy as np\n",
    "import matplotlib.pyplot as plt\n",
    "import seaborn as sns\n"
   ]
  },
  {
   "cell_type": "code",
   "execution_count": 9,
   "id": "76bc9651",
   "metadata": {},
   "outputs": [
    {
     "name": "stdout",
     "output_type": "stream",
     "text": [
      "<class 'pandas.core.frame.DataFrame'>\n",
      "Int64Index: 5050 entries, 258647 to 63421\n",
      "Data columns (total 30 columns):\n",
      " #   Column  Non-Null Count  Dtype  \n",
      "---  ------  --------------  -----  \n",
      " 0   V1      5050 non-null   float64\n",
      " 1   V2      5050 non-null   float64\n",
      " 2   V3      5050 non-null   float64\n",
      " 3   V4      5050 non-null   float64\n",
      " 4   V5      5050 non-null   float64\n",
      " 5   V6      5050 non-null   float64\n",
      " 6   V7      5050 non-null   float64\n",
      " 7   V8      5050 non-null   float64\n",
      " 8   V9      5050 non-null   float64\n",
      " 9   V10     5050 non-null   float64\n",
      " 10  V11     5050 non-null   float64\n",
      " 11  V12     5050 non-null   float64\n",
      " 12  V13     5050 non-null   float64\n",
      " 13  V14     5050 non-null   float64\n",
      " 14  V15     5050 non-null   float64\n",
      " 15  V16     5050 non-null   float64\n",
      " 16  V17     5050 non-null   float64\n",
      " 17  V18     5050 non-null   float64\n",
      " 18  V19     5050 non-null   float64\n",
      " 19  V20     5050 non-null   float64\n",
      " 20  V21     5050 non-null   float64\n",
      " 21  V22     5050 non-null   float64\n",
      " 22  V23     5050 non-null   float64\n",
      " 23  V24     5050 non-null   float64\n",
      " 24  V25     5050 non-null   float64\n",
      " 25  V26     5050 non-null   float64\n",
      " 26  V27     5050 non-null   float64\n",
      " 27  V28     5050 non-null   float64\n",
      " 28  Amount  5050 non-null   float64\n",
      " 29  Class   5050 non-null   int64  \n",
      "dtypes: float64(29), int64(1)\n",
      "memory usage: 1.2 MB\n"
     ]
    }
   ],
   "source": [
    "df = pd.read_csv('data/creditcard_sampledata_3.csv', index_col=0)\n",
    "df.info()"
   ]
  },
  {
   "cell_type": "code",
   "execution_count": 10,
   "id": "c70f1399",
   "metadata": {},
   "outputs": [
    {
     "data": {
      "text/html": [
       "<div>\n",
       "<style scoped>\n",
       "    .dataframe tbody tr th:only-of-type {\n",
       "        vertical-align: middle;\n",
       "    }\n",
       "\n",
       "    .dataframe tbody tr th {\n",
       "        vertical-align: top;\n",
       "    }\n",
       "\n",
       "    .dataframe thead th {\n",
       "        text-align: right;\n",
       "    }\n",
       "</style>\n",
       "<table border=\"1\" class=\"dataframe\">\n",
       "  <thead>\n",
       "    <tr style=\"text-align: right;\">\n",
       "      <th></th>\n",
       "      <th>V1</th>\n",
       "      <th>V2</th>\n",
       "      <th>V3</th>\n",
       "      <th>V4</th>\n",
       "      <th>V5</th>\n",
       "      <th>V6</th>\n",
       "      <th>V7</th>\n",
       "      <th>V8</th>\n",
       "      <th>V9</th>\n",
       "      <th>V10</th>\n",
       "      <th>...</th>\n",
       "      <th>V21</th>\n",
       "      <th>V22</th>\n",
       "      <th>V23</th>\n",
       "      <th>V24</th>\n",
       "      <th>V25</th>\n",
       "      <th>V26</th>\n",
       "      <th>V27</th>\n",
       "      <th>V28</th>\n",
       "      <th>Amount</th>\n",
       "      <th>Class</th>\n",
       "    </tr>\n",
       "  </thead>\n",
       "  <tbody>\n",
       "    <tr>\n",
       "      <th>258647</th>\n",
       "      <td>1.725265</td>\n",
       "      <td>-1.337256</td>\n",
       "      <td>-1.012687</td>\n",
       "      <td>-0.361656</td>\n",
       "      <td>-1.431611</td>\n",
       "      <td>-1.098681</td>\n",
       "      <td>-0.842274</td>\n",
       "      <td>-0.026594</td>\n",
       "      <td>-0.032409</td>\n",
       "      <td>0.215113</td>\n",
       "      <td>...</td>\n",
       "      <td>0.414524</td>\n",
       "      <td>0.793434</td>\n",
       "      <td>0.028887</td>\n",
       "      <td>0.419421</td>\n",
       "      <td>-0.367529</td>\n",
       "      <td>-0.155634</td>\n",
       "      <td>-0.015768</td>\n",
       "      <td>0.010790</td>\n",
       "      <td>189.00</td>\n",
       "      <td>0</td>\n",
       "    </tr>\n",
       "    <tr>\n",
       "      <th>69263</th>\n",
       "      <td>0.683254</td>\n",
       "      <td>-1.681875</td>\n",
       "      <td>0.533349</td>\n",
       "      <td>-0.326064</td>\n",
       "      <td>-1.455603</td>\n",
       "      <td>0.101832</td>\n",
       "      <td>-0.520590</td>\n",
       "      <td>0.114036</td>\n",
       "      <td>-0.601760</td>\n",
       "      <td>0.444011</td>\n",
       "      <td>...</td>\n",
       "      <td>0.116898</td>\n",
       "      <td>-0.304605</td>\n",
       "      <td>-0.125547</td>\n",
       "      <td>0.244848</td>\n",
       "      <td>0.069163</td>\n",
       "      <td>-0.460712</td>\n",
       "      <td>-0.017068</td>\n",
       "      <td>0.063542</td>\n",
       "      <td>315.17</td>\n",
       "      <td>0</td>\n",
       "    </tr>\n",
       "    <tr>\n",
       "      <th>96552</th>\n",
       "      <td>1.067973</td>\n",
       "      <td>-0.656667</td>\n",
       "      <td>1.029738</td>\n",
       "      <td>0.253899</td>\n",
       "      <td>-1.172715</td>\n",
       "      <td>0.073232</td>\n",
       "      <td>-0.745771</td>\n",
       "      <td>0.249803</td>\n",
       "      <td>1.383057</td>\n",
       "      <td>-0.483771</td>\n",
       "      <td>...</td>\n",
       "      <td>-0.189315</td>\n",
       "      <td>-0.426743</td>\n",
       "      <td>0.079539</td>\n",
       "      <td>0.129692</td>\n",
       "      <td>0.002778</td>\n",
       "      <td>0.970498</td>\n",
       "      <td>-0.035056</td>\n",
       "      <td>0.017313</td>\n",
       "      <td>59.98</td>\n",
       "      <td>0</td>\n",
       "    </tr>\n",
       "  </tbody>\n",
       "</table>\n",
       "<p>3 rows × 30 columns</p>\n",
       "</div>"
      ],
      "text/plain": [
       "              V1        V2        V3        V4        V5        V6        V7  \\\n",
       "258647  1.725265 -1.337256 -1.012687 -0.361656 -1.431611 -1.098681 -0.842274   \n",
       "69263   0.683254 -1.681875  0.533349 -0.326064 -1.455603  0.101832 -0.520590   \n",
       "96552   1.067973 -0.656667  1.029738  0.253899 -1.172715  0.073232 -0.745771   \n",
       "\n",
       "              V8        V9       V10  ...       V21       V22       V23  \\\n",
       "258647 -0.026594 -0.032409  0.215113  ...  0.414524  0.793434  0.028887   \n",
       "69263   0.114036 -0.601760  0.444011  ...  0.116898 -0.304605 -0.125547   \n",
       "96552   0.249803  1.383057 -0.483771  ... -0.189315 -0.426743  0.079539   \n",
       "\n",
       "             V24       V25       V26       V27       V28  Amount  Class  \n",
       "258647  0.419421 -0.367529 -0.155634 -0.015768  0.010790  189.00      0  \n",
       "69263   0.244848  0.069163 -0.460712 -0.017068  0.063542  315.17      0  \n",
       "96552   0.129692  0.002778  0.970498 -0.035056  0.017313   59.98      0  \n",
       "\n",
       "[3 rows x 30 columns]"
      ]
     },
     "execution_count": 10,
     "metadata": {},
     "output_type": "execute_result"
    }
   ],
   "source": [
    "df.head(3)"
   ]
  },
  {
   "cell_type": "code",
   "execution_count": 11,
   "id": "387877ae",
   "metadata": {},
   "outputs": [
    {
     "data": {
      "text/plain": [
       "0    5000\n",
       "1      50\n",
       "Name: Class, dtype: int64"
      ]
     },
     "execution_count": 11,
     "metadata": {},
     "output_type": "execute_result"
    }
   ],
   "source": [
    "df['Class'].value_counts()"
   ]
  },
  {
   "cell_type": "code",
   "execution_count": 14,
   "id": "055b78f8",
   "metadata": {},
   "outputs": [
    {
     "data": {
      "text/plain": [
       "'\\ncó 50 giá trị chệnh lệch trong 5000 data\\n'"
      ]
     },
     "execution_count": 14,
     "metadata": {},
     "output_type": "execute_result"
    }
   ],
   "source": [
    "'''\n",
    "có 50 giá trị chệnh lệch trong 5000 data\n",
    "'''"
   ]
  },
  {
   "cell_type": "code",
   "execution_count": 15,
   "id": "0299fb23",
   "metadata": {},
   "outputs": [
    {
     "data": {
      "text/plain": [
       "0    0.990099\n",
       "1    0.009901\n",
       "Name: Class, dtype: float64"
      ]
     },
     "execution_count": 15,
     "metadata": {},
     "output_type": "execute_result"
    }
   ],
   "source": [
    "df['Class'].value_counts()/len(df.index) "
   ]
  },
  {
   "cell_type": "code",
   "execution_count": null,
   "id": "5f8b2258",
   "metadata": {},
   "outputs": [],
   "source": []
  },
  {
   "cell_type": "markdown",
   "id": "f682067c",
   "metadata": {},
   "source": [
    "## Original Data"
   ]
  },
  {
   "cell_type": "code",
   "execution_count": 16,
   "id": "8f25a632",
   "metadata": {},
   "outputs": [],
   "source": [
    "from sklearn.model_selection import train_test_split\n",
    "from sklearn.linear_model import LogisticRegression\n",
    "from sklearn.metrics import accuracy_score"
   ]
  },
  {
   "cell_type": "code",
   "execution_count": 17,
   "id": "5a241df6",
   "metadata": {},
   "outputs": [],
   "source": [
    "X = df.drop('Class', axis=1)\n",
    "y = df['Class']"
   ]
  },
  {
   "cell_type": "code",
   "execution_count": 18,
   "id": "ffe70347",
   "metadata": {},
   "outputs": [],
   "source": [
    "# tách dữ liệu\n",
    "X_train, X_test, y_train, y_test = train_test_split(X, y)"
   ]
  },
  {
   "cell_type": "code",
   "execution_count": 19,
   "id": "0bfea6d6",
   "metadata": {},
   "outputs": [],
   "source": [
    "# khởi tạo model\n",
    "model_o = LogisticRegression()"
   ]
  },
  {
   "cell_type": "code",
   "execution_count": 20,
   "id": "cb26f6eb",
   "metadata": {},
   "outputs": [
    {
     "data": {
      "text/plain": [
       "LogisticRegression()"
      ]
     },
     "execution_count": 20,
     "metadata": {},
     "output_type": "execute_result"
    }
   ],
   "source": [
    "# huấn luyện model\n",
    "model_o.fit(X_train, y_train)"
   ]
  },
  {
   "cell_type": "code",
   "execution_count": 21,
   "id": "84d65401",
   "metadata": {},
   "outputs": [
    {
     "name": "stdout",
     "output_type": "stream",
     "text": [
      "Score on train: 0.998415632426723\n",
      "Score on test: 0.9968329374505146\n"
     ]
    }
   ],
   "source": [
    "print('Score on train:', model_o.score(X_train, y_train))\n",
    "print('Score on test:', model_o.score(X_test, y_test))"
   ]
  },
  {
   "cell_type": "code",
   "execution_count": 22,
   "id": "6fd8b6e3",
   "metadata": {},
   "outputs": [],
   "source": [
    "yhat_train = model_o.predict(X_train)\n",
    "yhat_test = model_o.predict(X_test)"
   ]
  },
  {
   "cell_type": "code",
   "execution_count": 23,
   "id": "fbf482a1",
   "metadata": {},
   "outputs": [
    {
     "name": "stdout",
     "output_type": "stream",
     "text": [
      "Accuracy on train: 0.998415632426723\n",
      "Accuracy on test: 0.9968329374505146\n"
     ]
    }
   ],
   "source": [
    "print('Accuracy on train:', accuracy_score(y_train, yhat_train))\n",
    "print('Accuracy on test:', accuracy_score(y_test, yhat_test))"
   ]
  },
  {
   "cell_type": "code",
   "execution_count": 25,
   "id": "83269680",
   "metadata": {},
   "outputs": [
    {
     "data": {
      "text/plain": [
       "'\\ncả Score và Accuracy đều cao lắm nè\\n'"
      ]
     },
     "execution_count": 25,
     "metadata": {},
     "output_type": "execute_result"
    }
   ],
   "source": [
    "'''\n",
    "cả Score và Accuracy đều cao lắm nè\n",
    "'''"
   ]
  },
  {
   "cell_type": "code",
   "execution_count": 27,
   "id": "efd7faca",
   "metadata": {},
   "outputs": [],
   "source": [
    "from sklearn.metrics import confusion_matrix, classification_report"
   ]
  },
  {
   "cell_type": "code",
   "execution_count": 28,
   "id": "e20ddc52",
   "metadata": {},
   "outputs": [
    {
     "name": "stdout",
     "output_type": "stream",
     "text": [
      "Confusion matrix:\n",
      "[[1248    2]\n",
      " [   2   11]]\n"
     ]
    }
   ],
   "source": [
    "print('Confusion matrix:')\n",
    "print(confusion_matrix(y_test, yhat_test))"
   ]
  },
  {
   "cell_type": "code",
   "execution_count": 30,
   "id": "f5e0c3ac",
   "metadata": {},
   "outputs": [
    {
     "data": {
      "text/plain": [
       "'\\n[[1248    2]\\n [   2   11]]\\n \\nphát hiện 11 giá trị gian lận, lộ sổ 2\\n'"
      ]
     },
     "execution_count": 30,
     "metadata": {},
     "output_type": "execute_result"
    }
   ],
   "source": [
    "'''\n",
    "[[1248    2]\n",
    " [   2   11]]\n",
    " \n",
    "phát hiện 11 giá trị gian lận, lộ sổ 2\n",
    "'''"
   ]
  },
  {
   "cell_type": "code",
   "execution_count": 31,
   "id": "2bf95dc4",
   "metadata": {},
   "outputs": [
    {
     "name": "stdout",
     "output_type": "stream",
     "text": [
      "Classification report:\n",
      "              precision    recall  f1-score   support\n",
      "\n",
      "           0       1.00      1.00      1.00      1250\n",
      "           1       0.85      0.85      0.85        13\n",
      "\n",
      "    accuracy                           1.00      1263\n",
      "   macro avg       0.92      0.92      0.92      1263\n",
      "weighted avg       1.00      1.00      1.00      1263\n",
      "\n"
     ]
    }
   ],
   "source": [
    "print('Classification report:')\n",
    "print(classification_report(y_test, yhat_test))"
   ]
  },
  {
   "cell_type": "code",
   "execution_count": 34,
   "id": "121a7d62",
   "metadata": {},
   "outputs": [
    {
     "data": {
      "text/plain": [
       "'\\nđể tăng hiệu suất này lên (hiện tại là 0.85) thì coi ở dưới:)))\\n'"
      ]
     },
     "execution_count": 34,
     "metadata": {},
     "output_type": "execute_result"
    }
   ],
   "source": [
    "'''\n",
    "để tăng hiệu suất này lên (hiện tại là 0.85) thì coi ở dưới:)))\n",
    "'''"
   ]
  },
  {
   "cell_type": "markdown",
   "id": "f32a1cb6",
   "metadata": {},
   "source": [
    "## Resampling Data"
   ]
  },
  {
   "cell_type": "code",
   "execution_count": 33,
   "id": "ade8db2a",
   "metadata": {},
   "outputs": [
    {
     "ename": "ModuleNotFoundError",
     "evalue": "No module named 'imblearn'",
     "output_type": "error",
     "traceback": [
      "\u001b[1;31m---------------------------------------------------------------------------\u001b[0m",
      "\u001b[1;31mModuleNotFoundError\u001b[0m                       Traceback (most recent call last)",
      "\u001b[1;32m~\\AppData\\Local\\Temp/ipykernel_24696/2488521305.py\u001b[0m in \u001b[0;36m<module>\u001b[1;34m\u001b[0m\n\u001b[0;32m      1\u001b[0m \u001b[1;31m# sử dụng Oversamling với SMOTE\u001b[0m\u001b[1;33m\u001b[0m\u001b[1;33m\u001b[0m\u001b[0m\n\u001b[1;32m----> 2\u001b[1;33m \u001b[1;32mfrom\u001b[0m \u001b[0mimblearn\u001b[0m\u001b[1;33m.\u001b[0m\u001b[0mover_sampling\u001b[0m \u001b[1;32mimport\u001b[0m \u001b[0mSMOTE\u001b[0m\u001b[1;33m\u001b[0m\u001b[1;33m\u001b[0m\u001b[0m\n\u001b[0m",
      "\u001b[1;31mModuleNotFoundError\u001b[0m: No module named 'imblearn'"
     ]
    }
   ],
   "source": [
    "# sử dụng Oversamling với SMOTE\n",
    "from imblearn.over_sampling import SMOTE"
   ]
  },
  {
   "cell_type": "code",
   "execution_count": 26,
   "id": "e7008e71",
   "metadata": {},
   "outputs": [],
   "source": [
    "#khởi tạo \n",
    "sm = SMOTE()"
   ]
  },
  {
   "cell_type": "code",
   "execution_count": 27,
   "id": "5069cfb2",
   "metadata": {},
   "outputs": [],
   "source": [
    "X_train_resample, y_train_resample = sm.fit_resample(X_train, y_train)"
   ]
  },
  {
   "cell_type": "code",
   "execution_count": 28,
   "id": "7116eba1",
   "metadata": {},
   "outputs": [],
   "source": [
    "# khởi tạo model\n",
    "model_rs = LogisticRegression()"
   ]
  },
  {
   "cell_type": "code",
   "execution_count": 29,
   "id": "81e83258",
   "metadata": {},
   "outputs": [
    {
     "data": {
      "text/plain": [
       "LogisticRegression()"
      ]
     },
     "execution_count": 29,
     "metadata": {},
     "output_type": "execute_result"
    }
   ],
   "source": [
    "# huấn luyện model\n",
    "model_rs.fit(X_train_resample, y_train_resample)"
   ]
  },
  {
   "cell_type": "code",
   "execution_count": 30,
   "id": "6328ac25",
   "metadata": {},
   "outputs": [
    {
     "name": "stdout",
     "output_type": "stream",
     "text": [
      "Score on train: 0.9993343982960596\n",
      "Score on test: 0.9960411718131433\n"
     ]
    }
   ],
   "source": [
    "print('Score on train:', model_rs.score(X_train_resample, y_train_resample))\n",
    "print('Score on test:', model_rs.score(X_test, y_test))"
   ]
  },
  {
   "cell_type": "code",
   "execution_count": 31,
   "id": "75a8ee95",
   "metadata": {},
   "outputs": [],
   "source": [
    "yhat_test = model_rs.predict(X_test)"
   ]
  },
  {
   "cell_type": "code",
   "execution_count": 32,
   "id": "9d7a4b48",
   "metadata": {},
   "outputs": [
    {
     "name": "stdout",
     "output_type": "stream",
     "text": [
      "Accuracy on test: 0.9960411718131433\n"
     ]
    }
   ],
   "source": [
    "print('Accuracy on test:', accuracy_score(y_test, yhat_test))"
   ]
  },
  {
   "cell_type": "code",
   "execution_count": 33,
   "id": "aa5c9593",
   "metadata": {},
   "outputs": [
    {
     "name": "stdout",
     "output_type": "stream",
     "text": [
      "Confusion matrix:\n",
      "[[1244    0]\n",
      " [   5   14]]\n"
     ]
    }
   ],
   "source": [
    "print('Confusion matrix:')\n",
    "print(confusion_matrix(y_test, yhat_test))"
   ]
  },
  {
   "cell_type": "code",
   "execution_count": 34,
   "id": "8a3e83c7",
   "metadata": {},
   "outputs": [
    {
     "name": "stdout",
     "output_type": "stream",
     "text": [
      "Classification report:\n",
      "              precision    recall  f1-score   support\n",
      "\n",
      "           0       1.00      1.00      1.00      1244\n",
      "           1       1.00      0.74      0.85        19\n",
      "\n",
      "    accuracy                           1.00      1263\n",
      "   macro avg       1.00      0.87      0.92      1263\n",
      "weighted avg       1.00      1.00      1.00      1263\n",
      "\n"
     ]
    }
   ],
   "source": [
    "print('Classification report:')\n",
    "print(classification_report(y_test, yhat_test))"
   ]
  },
  {
   "cell_type": "code",
   "execution_count": 36,
   "id": "9ef198ba",
   "metadata": {},
   "outputs": [
    {
     "data": {
      "text/plain": [
       "(3756, 31)"
      ]
     },
     "execution_count": 36,
     "metadata": {},
     "output_type": "execute_result"
    }
   ],
   "source": [
    "# SMOTE(sampling_strategy={0: 3756, 1: 2000})\n",
    "len(y_train[y_train == 0]), len(y_train[y_train == 1])"
   ]
  },
  {
   "cell_type": "markdown",
   "id": "39ede5e1",
   "metadata": {},
   "source": [
    "### ROC curve"
   ]
  },
  {
   "cell_type": "code",
   "execution_count": 41,
   "id": "abae1781",
   "metadata": {},
   "outputs": [],
   "source": [
    "from sklearn.metrics import roc_curve, auc, roc_auc_score"
   ]
  },
  {
   "cell_type": "code",
   "execution_count": 38,
   "id": "83048de4",
   "metadata": {},
   "outputs": [],
   "source": [
    "yhat_test_proba = model_rs.predict_proba(X_test)"
   ]
  },
  {
   "cell_type": "code",
   "execution_count": 39,
   "id": "70b042ed",
   "metadata": {},
   "outputs": [
    {
     "data": {
      "text/plain": [
       "array([[9.99997061e-01, 2.93945184e-06],\n",
       "       [9.99953195e-01, 4.68048773e-05],\n",
       "       [9.99932900e-01, 6.71003724e-05]])"
      ]
     },
     "execution_count": 39,
     "metadata": {},
     "output_type": "execute_result"
    }
   ],
   "source": [
    "yhat_test_proba[:3]"
   ]
  },
  {
   "cell_type": "code",
   "execution_count": 40,
   "id": "a0d78053",
   "metadata": {},
   "outputs": [],
   "source": [
    "yhat_positive = yhat_test_proba[:, 1]"
   ]
  },
  {
   "cell_type": "code",
   "execution_count": 42,
   "id": "a91da5a1",
   "metadata": {},
   "outputs": [
    {
     "name": "stdout",
     "output_type": "stream",
     "text": [
      "0.9613301743103739\n"
     ]
    }
   ],
   "source": [
    "print(roc_auc_score(y_test, yhat_positive))"
   ]
  },
  {
   "cell_type": "code",
   "execution_count": 43,
   "id": "b5cd944a",
   "metadata": {},
   "outputs": [],
   "source": [
    "#TPR và FPR\n",
    "fpr, tpr, thresholds = roc_curve(y_test, yhat_positive)"
   ]
  },
  {
   "cell_type": "code",
   "execution_count": 46,
   "id": "f3b09eb8",
   "metadata": {},
   "outputs": [
    {
     "data": {
      "image/png": "[encoded data removed]",
      "text/plain": [
       "<Figure size 432x432 with 1 Axes>"
      ]
     },
     "metadata": {
      "needs_background": "light"
     },
     "output_type": "display_data"
    }
   ],
   "source": [
    "plt.figure(figsize=(6,6))\n",
    "plt.plot([0, 1], [0, 1], 'r--')\n",
    "plt.plot(fpr, tpr, marker='.')\n",
    "plt.xlabel('False Positive Rate')\n",
    "plt.ylabel('True Positive Rate')\n",
    "plt.title('ROC Curve')\n",
    "plt.show()"
   ]
  },
  {
   "cell_type": "code",
   "execution_count": null,
   "id": "1888a702",
   "metadata": {},
   "outputs": [],
   "source": []
  }
 ],
 "metadata": {
  "kernelspec": {
   "display_name": "Python 3 (ipykernel)",
   "language": "python",
   "name": "python3"
  },
  "language_info": {
   "codemirror_mode": {
    "name": "ipython",
    "version": 3
   },
   "file_extension": ".py",
   "mimetype": "text/x-python",
   "name": "python",
   "nbconvert_exporter": "python",
   "pygments_lexer": "ipython3",
   "version": "3.9.7"
  }
 },
 "nbformat": 4,
 "nbformat_minor": 5
}
