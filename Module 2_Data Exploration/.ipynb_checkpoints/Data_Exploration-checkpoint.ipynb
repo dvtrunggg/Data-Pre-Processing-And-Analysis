{
 "cells": [
  {
   "cell_type": "code",
   "execution_count": 179,
   "id": "55a2e91c",
   "metadata": {},
   "outputs": [
    {
     "data": {
      "application/javascript": [
       "\n",
       "            setTimeout(function() {\n",
       "                var nbb_cell_id = 179;\n",
       "                var nbb_unformatted_code = \"%load_ext nb_black\\nimport pandas as pd\\nimport numpy as np\\nimport matplotlib.pyplot as plt\\nimport seaborn as sns\\nimport warnings\";\n",
       "                var nbb_formatted_code = \"%load_ext nb_black\\nimport pandas as pd\\nimport numpy as np\\nimport matplotlib.pyplot as plt\\nimport seaborn as sns\\nimport warnings\";\n",
       "                var nbb_cells = Jupyter.notebook.get_cells();\n",
       "                for (var i = 0; i < nbb_cells.length; ++i) {\n",
       "                    if (nbb_cells[i].input_prompt_number == nbb_cell_id) {\n",
       "                        if (nbb_cells[i].get_text() == nbb_unformatted_code) {\n",
       "                             nbb_cells[i].set_text(nbb_formatted_code);\n",
       "                        }\n",
       "                        break;\n",
       "                    }\n",
       "                }\n",
       "            }, 500);\n",
       "            "
      ],
      "text/plain": [
       "<IPython.core.display.Javascript object>"
      ]
     },
     "metadata": {},
     "output_type": "display_data"
    }
   ],
   "source": [
    "%load_ext nb_black\n",
    "import pandas as pd\n",
    "import numpy as np\n",
    "import matplotlib.pyplot as plt\n",
    "import seaborn as sns\n",
    "import warnings"
   ]
  },
  {
   "cell_type": "code",
   "execution_count": 2,
   "id": "fd447f5e",
   "metadata": {},
   "outputs": [],
   "source": [
    "warnings.filterwarnings('ignore')"
   ]
  },
  {
   "cell_type": "code",
   "execution_count": 8,
   "id": "be9711ec",
   "metadata": {},
   "outputs": [],
   "source": [
    "#df = sns.load_dataset('titanic')\n",
    "df = pd.read_csv('titanic.csv')"
   ]
  },
  {
   "cell_type": "code",
   "execution_count": 9,
   "id": "04bd5c41",
   "metadata": {},
   "outputs": [
    {
     "name": "stdout",
     "output_type": "stream",
     "text": [
      "<class 'pandas.core.frame.DataFrame'>\n",
      "RangeIndex: 891 entries, 0 to 890\n",
      "Data columns (total 12 columns):\n",
      " #   Column       Non-Null Count  Dtype  \n",
      "---  ------       --------------  -----  \n",
      " 0   PassengerId  891 non-null    int64  \n",
      " 1   Survived     891 non-null    int64  \n",
      " 2   Pclass       891 non-null    int64  \n",
      " 3   Name         891 non-null    object \n",
      " 4   Sex          891 non-null    object \n",
      " 5   Age          714 non-null    float64\n",
      " 6   SibSp        891 non-null    int64  \n",
      " 7   Parch        891 non-null    int64  \n",
      " 8   Ticket       891 non-null    object \n",
      " 9   Fare         891 non-null    float64\n",
      " 10  Cabin        204 non-null    object \n",
      " 11  Embarked     889 non-null    object \n",
      "dtypes: float64(2), int64(5), object(5)\n",
      "memory usage: 83.7+ KB\n"
     ]
    }
   ],
   "source": [
    "df.info()"
   ]
  },
  {
   "cell_type": "code",
   "execution_count": 10,
   "id": "6002950f",
   "metadata": {},
   "outputs": [
    {
     "data": {
      "text/html": [
       "<div>\n",
       "<style scoped>\n",
       "    .dataframe tbody tr th:only-of-type {\n",
       "        vertical-align: middle;\n",
       "    }\n",
       "\n",
       "    .dataframe tbody tr th {\n",
       "        vertical-align: top;\n",
       "    }\n",
       "\n",
       "    .dataframe thead th {\n",
       "        text-align: right;\n",
       "    }\n",
       "</style>\n",
       "<table border=\"1\" class=\"dataframe\">\n",
       "  <thead>\n",
       "    <tr style=\"text-align: right;\">\n",
       "      <th></th>\n",
       "      <th>PassengerId</th>\n",
       "      <th>Survived</th>\n",
       "      <th>Pclass</th>\n",
       "      <th>Name</th>\n",
       "      <th>Sex</th>\n",
       "      <th>Age</th>\n",
       "      <th>SibSp</th>\n",
       "      <th>Parch</th>\n",
       "      <th>Ticket</th>\n",
       "      <th>Fare</th>\n",
       "      <th>Cabin</th>\n",
       "      <th>Embarked</th>\n",
       "    </tr>\n",
       "  </thead>\n",
       "  <tbody>\n",
       "    <tr>\n",
       "      <th>0</th>\n",
       "      <td>1</td>\n",
       "      <td>0</td>\n",
       "      <td>3</td>\n",
       "      <td>Braund, Mr. Owen Harris</td>\n",
       "      <td>male</td>\n",
       "      <td>22.0</td>\n",
       "      <td>1</td>\n",
       "      <td>0</td>\n",
       "      <td>A/5 21171</td>\n",
       "      <td>7.2500</td>\n",
       "      <td>NaN</td>\n",
       "      <td>S</td>\n",
       "    </tr>\n",
       "    <tr>\n",
       "      <th>1</th>\n",
       "      <td>2</td>\n",
       "      <td>1</td>\n",
       "      <td>1</td>\n",
       "      <td>Cumings, Mrs. John Bradley (Florence Briggs Th...</td>\n",
       "      <td>female</td>\n",
       "      <td>38.0</td>\n",
       "      <td>1</td>\n",
       "      <td>0</td>\n",
       "      <td>PC 17599</td>\n",
       "      <td>71.2833</td>\n",
       "      <td>C85</td>\n",
       "      <td>C</td>\n",
       "    </tr>\n",
       "    <tr>\n",
       "      <th>2</th>\n",
       "      <td>3</td>\n",
       "      <td>1</td>\n",
       "      <td>3</td>\n",
       "      <td>Heikkinen, Miss. Laina</td>\n",
       "      <td>female</td>\n",
       "      <td>26.0</td>\n",
       "      <td>0</td>\n",
       "      <td>0</td>\n",
       "      <td>STON/O2. 3101282</td>\n",
       "      <td>7.9250</td>\n",
       "      <td>NaN</td>\n",
       "      <td>S</td>\n",
       "    </tr>\n",
       "    <tr>\n",
       "      <th>3</th>\n",
       "      <td>4</td>\n",
       "      <td>1</td>\n",
       "      <td>1</td>\n",
       "      <td>Futrelle, Mrs. Jacques Heath (Lily May Peel)</td>\n",
       "      <td>female</td>\n",
       "      <td>35.0</td>\n",
       "      <td>1</td>\n",
       "      <td>0</td>\n",
       "      <td>113803</td>\n",
       "      <td>53.1000</td>\n",
       "      <td>C123</td>\n",
       "      <td>S</td>\n",
       "    </tr>\n",
       "    <tr>\n",
       "      <th>4</th>\n",
       "      <td>5</td>\n",
       "      <td>0</td>\n",
       "      <td>3</td>\n",
       "      <td>Allen, Mr. William Henry</td>\n",
       "      <td>male</td>\n",
       "      <td>35.0</td>\n",
       "      <td>0</td>\n",
       "      <td>0</td>\n",
       "      <td>373450</td>\n",
       "      <td>8.0500</td>\n",
       "      <td>NaN</td>\n",
       "      <td>S</td>\n",
       "    </tr>\n",
       "  </tbody>\n",
       "</table>\n",
       "</div>"
      ],
      "text/plain": [
       "   PassengerId  Survived  Pclass  \\\n",
       "0            1         0       3   \n",
       "1            2         1       1   \n",
       "2            3         1       3   \n",
       "3            4         1       1   \n",
       "4            5         0       3   \n",
       "\n",
       "                                                Name     Sex   Age  SibSp  \\\n",
       "0                            Braund, Mr. Owen Harris    male  22.0      1   \n",
       "1  Cumings, Mrs. John Bradley (Florence Briggs Th...  female  38.0      1   \n",
       "2                             Heikkinen, Miss. Laina  female  26.0      0   \n",
       "3       Futrelle, Mrs. Jacques Heath (Lily May Peel)  female  35.0      1   \n",
       "4                           Allen, Mr. William Henry    male  35.0      0   \n",
       "\n",
       "   Parch            Ticket     Fare Cabin Embarked  \n",
       "0      0         A/5 21171   7.2500   NaN        S  \n",
       "1      0          PC 17599  71.2833   C85        C  \n",
       "2      0  STON/O2. 3101282   7.9250   NaN        S  \n",
       "3      0            113803  53.1000  C123        S  \n",
       "4      0            373450   8.0500   NaN        S  "
      ]
     },
     "execution_count": 10,
     "metadata": {},
     "output_type": "execute_result"
    }
   ],
   "source": [
    "df.head()"
   ]
  },
  {
   "cell_type": "code",
   "execution_count": 11,
   "id": "7d5b9bc4",
   "metadata": {},
   "outputs": [
    {
     "data": {
      "text/plain": [
       "'\\nQuan sát yêu cầu: xem xét, dự doán khả năng survived của hành khách\\n\\nta thấy PassengerId, Name là cái fetures ko liên quan đến yêu cầu này\\n\\n'"
      ]
     },
     "execution_count": 11,
     "metadata": {},
     "output_type": "execute_result"
    }
   ],
   "source": [
    "'''\n",
    "Quan sát yêu cầu: xem xét, dự doán khả năng survived của hành khách\n",
    "Input: Các fetures trừ Survived\n",
    "Output: Survived\n",
    "ta thấy PassengerId, Name là cái fetures ko liên quan đến yêu cầu này\n",
    "\n",
    "'''"
   ]
  },
  {
   "cell_type": "code",
   "execution_count": 13,
   "id": "a65d1463",
   "metadata": {},
   "outputs": [
    {
     "data": {
      "text/html": [
       "<div>\n",
       "<style scoped>\n",
       "    .dataframe tbody tr th:only-of-type {\n",
       "        vertical-align: middle;\n",
       "    }\n",
       "\n",
       "    .dataframe tbody tr th {\n",
       "        vertical-align: top;\n",
       "    }\n",
       "\n",
       "    .dataframe thead th {\n",
       "        text-align: right;\n",
       "    }\n",
       "</style>\n",
       "<table border=\"1\" class=\"dataframe\">\n",
       "  <thead>\n",
       "    <tr style=\"text-align: right;\">\n",
       "      <th></th>\n",
       "      <th>Survived</th>\n",
       "      <th>Pclass</th>\n",
       "      <th>Sex</th>\n",
       "      <th>Age</th>\n",
       "      <th>SibSp</th>\n",
       "      <th>Parch</th>\n",
       "      <th>Ticket</th>\n",
       "      <th>Fare</th>\n",
       "      <th>Cabin</th>\n",
       "      <th>Embarked</th>\n",
       "    </tr>\n",
       "  </thead>\n",
       "  <tbody>\n",
       "    <tr>\n",
       "      <th>0</th>\n",
       "      <td>0</td>\n",
       "      <td>3</td>\n",
       "      <td>male</td>\n",
       "      <td>22.0</td>\n",
       "      <td>1</td>\n",
       "      <td>0</td>\n",
       "      <td>A/5 21171</td>\n",
       "      <td>7.2500</td>\n",
       "      <td>NaN</td>\n",
       "      <td>S</td>\n",
       "    </tr>\n",
       "    <tr>\n",
       "      <th>1</th>\n",
       "      <td>1</td>\n",
       "      <td>1</td>\n",
       "      <td>female</td>\n",
       "      <td>38.0</td>\n",
       "      <td>1</td>\n",
       "      <td>0</td>\n",
       "      <td>PC 17599</td>\n",
       "      <td>71.2833</td>\n",
       "      <td>C85</td>\n",
       "      <td>C</td>\n",
       "    </tr>\n",
       "    <tr>\n",
       "      <th>2</th>\n",
       "      <td>1</td>\n",
       "      <td>3</td>\n",
       "      <td>female</td>\n",
       "      <td>26.0</td>\n",
       "      <td>0</td>\n",
       "      <td>0</td>\n",
       "      <td>STON/O2. 3101282</td>\n",
       "      <td>7.9250</td>\n",
       "      <td>NaN</td>\n",
       "      <td>S</td>\n",
       "    </tr>\n",
       "    <tr>\n",
       "      <th>3</th>\n",
       "      <td>1</td>\n",
       "      <td>1</td>\n",
       "      <td>female</td>\n",
       "      <td>35.0</td>\n",
       "      <td>1</td>\n",
       "      <td>0</td>\n",
       "      <td>113803</td>\n",
       "      <td>53.1000</td>\n",
       "      <td>C123</td>\n",
       "      <td>S</td>\n",
       "    </tr>\n",
       "    <tr>\n",
       "      <th>4</th>\n",
       "      <td>0</td>\n",
       "      <td>3</td>\n",
       "      <td>male</td>\n",
       "      <td>35.0</td>\n",
       "      <td>0</td>\n",
       "      <td>0</td>\n",
       "      <td>373450</td>\n",
       "      <td>8.0500</td>\n",
       "      <td>NaN</td>\n",
       "      <td>S</td>\n",
       "    </tr>\n",
       "  </tbody>\n",
       "</table>\n",
       "</div>"
      ],
      "text/plain": [
       "   Survived  Pclass     Sex   Age  SibSp  Parch            Ticket     Fare  \\\n",
       "0         0       3    male  22.0      1      0         A/5 21171   7.2500   \n",
       "1         1       1  female  38.0      1      0          PC 17599  71.2833   \n",
       "2         1       3  female  26.0      0      0  STON/O2. 3101282   7.9250   \n",
       "3         1       1  female  35.0      1      0            113803  53.1000   \n",
       "4         0       3    male  35.0      0      0            373450   8.0500   \n",
       "\n",
       "  Cabin Embarked  \n",
       "0   NaN        S  \n",
       "1   C85        C  \n",
       "2   NaN        S  \n",
       "3  C123        S  \n",
       "4   NaN        S  "
      ]
     },
     "execution_count": 13,
     "metadata": {},
     "output_type": "execute_result"
    }
   ],
   "source": [
    "df = df.drop(['PassengerId', 'Name'], axis = 1)\n",
    "df.head()"
   ]
  },
  {
   "cell_type": "code",
   "execution_count": 15,
   "id": "f430026d",
   "metadata": {},
   "outputs": [],
   "source": [
    "# Xác định input và output\n",
    "x = df.drop(['Survived'], axis = 1)\n",
    "y = df.Survived"
   ]
  },
  {
   "cell_type": "code",
   "execution_count": 16,
   "id": "b1f9968d",
   "metadata": {},
   "outputs": [
    {
     "data": {
      "text/plain": [
       "array([0, 1], dtype=int64)"
      ]
     },
     "execution_count": 16,
     "metadata": {},
     "output_type": "execute_result"
    }
   ],
   "source": [
    "# data type\n",
    "\n",
    "#ktra biến phân loại hay liên tục (categorical field or continuous filed)\n",
    "df.Survived.unique()"
   ]
  },
  {
   "cell_type": "code",
   "execution_count": 17,
   "id": "d686a6fe",
   "metadata": {},
   "outputs": [
    {
     "data": {
      "text/plain": [
       "Survived                                               [0, 1]\n",
       "Pclass                                              [3, 1, 2]\n",
       "Sex                                            [male, female]\n",
       "Age         [22.0, 38.0, 26.0, 35.0, nan, 54.0, 2.0, 27.0,...\n",
       "SibSp                                   [1, 0, 3, 4, 2, 5, 8]\n",
       "Parch                                   [0, 1, 2, 5, 3, 4, 6]\n",
       "Ticket      [A/5 21171, PC 17599, STON/O2. 3101282, 113803...\n",
       "Fare        [7.25, 71.2833, 7.925, 53.1, 8.05, 8.4583, 51....\n",
       "Cabin       [nan, C85, C123, E46, G6, C103, D56, A6, C23 C...\n",
       "Embarked                                       [S, C, Q, nan]\n",
       "dtype: object"
      ]
     },
     "execution_count": 17,
     "metadata": {},
     "output_type": "execute_result"
    }
   ],
   "source": [
    "#dùng cái này cho lẹ :))\n",
    "df.apply(lambda col: col.unique())"
   ]
  },
  {
   "cell_type": "code",
   "execution_count": 35,
   "id": "5b7ec25c",
   "metadata": {},
   "outputs": [
    {
     "data": {
      "text/plain": [
       "'\\nTừ kết quả trên, ta thấy:\\nBiến phân loại (categorical field): Pclass, Sex\\nBiến có thể là phân loại: SibSp, Parch\\n\\nBiến liên tục (continuous field) (có thể): Fare  \\n\\n### chỉ xét field có type là numeric\\n'"
      ]
     },
     "execution_count": 35,
     "metadata": {},
     "output_type": "execute_result"
    }
   ],
   "source": [
    "'''\n",
    "Từ kết quả trên, ta thấy:\n",
    "Biến phân loại (categorical field): Pclass, Sex\n",
    "Biến có thể là phân loại: SibSp, Parch\n",
    "\n",
    "Biến liên tục (continuous field) (có thể): Fare  \n",
    "\n",
    "### chỉ xét field có type là numeric\n",
    "'''"
   ]
  },
  {
   "cell_type": "code",
   "execution_count": 41,
   "id": "01463cfb",
   "metadata": {},
   "outputs": [
    {
     "name": "stdout",
     "output_type": "stream",
     "text": [
      "SibSp :\t range =  8\n",
      "Parch :\t range =  6\n",
      "Fare :\t range =  512.3292\n"
     ]
    },
    {
     "data": {
      "text/plain": [
       "'\\nVậy, Fare là biến liên tục\\nSibSp, Parch là biến phân loại\\n'"
      ]
     },
     "execution_count": 41,
     "metadata": {},
     "output_type": "execute_result"
    }
   ],
   "source": [
    "#ktra biến liên tục\n",
    "for field in df[['SibSp', 'Parch', 'Fare']]:\n",
    "    print(field, ':\\t range = ', df[field].max() - df[field].min())\n",
    "    \n",
    "    \n",
    "'''\n",
    "Vậy, Fare là biến liên tục\n",
    "SibSp, Parch là biến phân loại\n",
    "'''\n"
   ]
  },
  {
   "cell_type": "markdown",
   "id": "e92ab96b",
   "metadata": {},
   "source": [
    "## B. Phân tích đơn biến (chỉ phân tích cho continous filed)"
   ]
  },
  {
   "cell_type": "markdown",
   "id": "70afbf09",
   "metadata": {},
   "source": [
    "### Continuous variable"
   ]
  },
  {
   "cell_type": "code",
   "execution_count": 46,
   "id": "d1b1fa86",
   "metadata": {},
   "outputs": [
    {
     "name": "stdout",
     "output_type": "stream",
     "text": [
      "Mean of Fare 32.204207968574636\n",
      "Median of Fare 32.204207968574636\n",
      "Mode of Fare 32.204207968574636\n",
      "Min of Fare 32.204207968574636\n",
      "Max of Fare 32.204207968574636\n"
     ]
    }
   ],
   "source": [
    "# xem xét các giá trị trung tâm\n",
    "print('Mean of Fare', df.Fare.mean())\n",
    "print('Median of Fare', df.Fare.mean())\n",
    "print('Mode of Fare', df.Fare.mean())\n",
    "print('Min of Fare', df.Fare.mean())\n",
    "print('Max of Fare', df.Fare.mean())"
   ]
  },
  {
   "cell_type": "markdown",
   "id": "eb030a53",
   "metadata": {},
   "source": [
    "#### Xem các giá trị thống kê, 4 phân vị"
   ]
  },
  {
   "cell_type": "code",
   "execution_count": 40,
   "id": "95509ebc",
   "metadata": {},
   "outputs": [
    {
     "data": {
      "text/plain": [
       "count    891.000000\n",
       "mean      32.204208\n",
       "std       49.693429\n",
       "min        0.000000\n",
       "25%        7.910400\n",
       "50%       14.454200\n",
       "75%       31.000000\n",
       "max      512.329200\n",
       "Name: Fare, dtype: float64"
      ]
     },
     "execution_count": 40,
     "metadata": {},
     "output_type": "execute_result"
    }
   ],
   "source": [
    "df.Fare.describe()"
   ]
  },
  {
   "cell_type": "markdown",
   "id": "a22a0d14",
   "metadata": {},
   "source": [
    "#### Tính range"
   ]
  },
  {
   "cell_type": "code",
   "execution_count": 47,
   "id": "3c3af6dd",
   "metadata": {},
   "outputs": [
    {
     "data": {
      "text/plain": [
       "512.3292"
      ]
     },
     "execution_count": 47,
     "metadata": {},
     "output_type": "execute_result"
    }
   ],
   "source": [
    "#cách 1\n",
    "fare_range = df.Fare.max() - df.Fare.min()\n",
    "fare_range"
   ]
  },
  {
   "cell_type": "code",
   "execution_count": 48,
   "id": "fb59c331",
   "metadata": {},
   "outputs": [
    {
     "data": {
      "text/plain": [
       "512.3292"
      ]
     },
     "execution_count": 48,
     "metadata": {},
     "output_type": "execute_result"
    }
   ],
   "source": [
    "#cách 2\n",
    "np.ptp(df.Fare)"
   ]
  },
  {
   "cell_type": "code",
   "execution_count": 49,
   "id": "b21a647b",
   "metadata": {},
   "outputs": [
    {
     "data": {
      "text/plain": [
       "512.3292"
      ]
     },
     "execution_count": 49,
     "metadata": {},
     "output_type": "execute_result"
    }
   ],
   "source": [
    "#cách 3\n",
    "df.Fare.values.ptp()"
   ]
  },
  {
   "cell_type": "markdown",
   "id": "f189f720",
   "metadata": {},
   "source": [
    "#### xác định mức dộ lan truyền của data (dùng quantile)"
   ]
  },
  {
   "cell_type": "code",
   "execution_count": 52,
   "id": "e4d3c186",
   "metadata": {},
   "outputs": [
    {
     "data": {
      "text/plain": [
       "23.0896"
      ]
     },
     "execution_count": 52,
     "metadata": {},
     "output_type": "execute_result"
    }
   ],
   "source": [
    "# IQR\n",
    "Q1 = np.quantile(df.Fare.dropna(), 0.25)\n",
    "Q3 = np.quantile(df.Fare.dropna(), 0.75)\n",
    "\n",
    "IQR = Q3 - Q1\n",
    "IQR"
   ]
  },
  {
   "cell_type": "code",
   "execution_count": 56,
   "id": "7053a497",
   "metadata": {},
   "outputs": [
    {
     "data": {
      "text/plain": [
       "23.0896"
      ]
     },
     "execution_count": 56,
     "metadata": {},
     "output_type": "execute_result"
    }
   ],
   "source": [
    "#cách 2 \n",
    "from scipy.stats import iqr\n",
    "\n",
    "IQR = iqr(df.Fare.dropna())\n",
    "IQR"
   ]
  },
  {
   "cell_type": "code",
   "execution_count": 59,
   "id": "da591383",
   "metadata": {},
   "outputs": [
    {
     "name": "stdout",
     "output_type": "stream",
     "text": [
      "2469.436845743116\n"
     ]
    },
    {
     "data": {
      "text/plain": [
       "'\\nnhận xét: phương sai khá lớn => dô phân tán dữ liệu cao\\n'"
      ]
     },
     "execution_count": 59,
     "metadata": {},
     "output_type": "execute_result"
    }
   ],
   "source": [
    "print(df.Fare.var())\n",
    "\n",
    "'''\n",
    "nhận xét: phương sai khá lớn => dô phân tán dữ liệu cao\n",
    "'''"
   ]
  },
  {
   "cell_type": "markdown",
   "id": "f2b06b80",
   "metadata": {},
   "source": [
    "#### Xem xét độ lệch của phân phối"
   ]
  },
  {
   "cell_type": "code",
   "execution_count": 65,
   "id": "23d9196e",
   "metadata": {},
   "outputs": [
    {
     "name": "stdout",
     "output_type": "stream",
     "text": [
      "4.787316519674893\n"
     ]
    },
    {
     "data": {
      "text/plain": [
       "'\\nvì df.Fare.skew() > 0\\n=> phân phối lệch phải\\n'"
      ]
     },
     "execution_count": 65,
     "metadata": {},
     "output_type": "execute_result"
    }
   ],
   "source": [
    "print(df.Fare.skew())\n",
    "\n",
    "'''\n",
    "vì df.Fare.skew() > 0\n",
    "=> phân phối lệch phải\n",
    "'''"
   ]
  },
  {
   "cell_type": "markdown",
   "id": "64ca9b2f",
   "metadata": {},
   "source": [
    "#### Xem xét độ nhọn của phân phối"
   ]
  },
  {
   "cell_type": "code",
   "execution_count": 67,
   "id": "722e5e3b",
   "metadata": {},
   "outputs": [
    {
     "name": "stdout",
     "output_type": "stream",
     "text": [
      "33.39814088089868\n"
     ]
    },
    {
     "data": {
      "text/plain": [
       "'\\nvì df.Fare.kurtosis() > 0\\n=> phân phối nhọn hơn phân phối chuẩn\\n'"
      ]
     },
     "execution_count": 67,
     "metadata": {},
     "output_type": "execute_result"
    }
   ],
   "source": [
    "print(df.Fare.kurtosis())\n",
    "\n",
    "'''\n",
    "vì df.Fare.kurtosis() > 0\n",
    "=> phân phối nhọn hơn phân phối chuẩn\n",
    "'''"
   ]
  },
  {
   "cell_type": "markdown",
   "id": "71317988",
   "metadata": {},
   "source": [
    "### data visualization"
   ]
  },
  {
   "cell_type": "code",
   "execution_count": 69,
   "id": "b73f7339",
   "metadata": {},
   "outputs": [
    {
     "data": {
      "image/png": "[encoded data removed]",
      "text/plain": [
       "<Figure size 432x288 with 1 Axes>"
      ]
     },
     "metadata": {
      "needs_background": "light"
     },
     "output_type": "display_data"
    }
   ],
   "source": [
    "#### histogram => xem độ phân bố của data\n",
    "plt.hist(df.Fare)\n",
    "plt.show()"
   ]
  },
  {
   "cell_type": "code",
   "execution_count": 94,
   "id": "bd103bb0",
   "metadata": {},
   "outputs": [
    {
     "data": {
      "image/png": "[encoded data removed]",
      "text/plain": [
       "<Figure size 432x288 with 1 Axes>"
      ]
     },
     "metadata": {
      "needs_background": "light"
     },
     "output_type": "display_data"
    }
   ],
   "source": [
    "#### boxplot => xem outliers\n",
    "plt.boxplot(df.Fare)\n",
    "plt.show()"
   ]
  },
  {
   "cell_type": "code",
   "execution_count": 78,
   "id": "2beb94a9",
   "metadata": {},
   "outputs": [
    {
     "name": "stdout",
     "output_type": "stream",
     "text": [
      "Số outliers:  116\n"
     ]
    }
   ],
   "source": [
    "print('Số outliers: ', len(df.Fare[(df.Fare > Q3 + 1.5*IQR)| (df.Fare < Q1 - 1.5*IQR)] ))"
   ]
  },
  {
   "cell_type": "code",
   "execution_count": 96,
   "id": "2366e5ee",
   "metadata": {},
   "outputs": [
    {
     "data": {
      "image/png": "[encoded data removed]",
      "text/plain": [
       "<Figure size 360x360 with 1 Axes>"
      ]
     },
     "metadata": {},
     "output_type": "display_data"
    }
   ],
   "source": [
    "sns.displot(df.Fare.dropna(), kde = True)\n",
    "plt.show()"
   ]
  },
  {
   "cell_type": "markdown",
   "id": "3da992c9",
   "metadata": {},
   "source": [
    "## B.2 Phân tích cho Categotical variable\n",
    "\n",
    "Phân tích sẽ đơn giản hơn continous variable"
   ]
  },
  {
   "cell_type": "markdown",
   "id": "6593e64d",
   "metadata": {},
   "source": [
    "### 1. Phân tích 2 biến continous - continous"
   ]
  },
  {
   "cell_type": "code",
   "execution_count": 98,
   "id": "5353b30b",
   "metadata": {},
   "outputs": [],
   "source": [
    "# phân tích Pclass"
   ]
  },
  {
   "cell_type": "code",
   "execution_count": 108,
   "id": "cfb28a3f",
   "metadata": {},
   "outputs": [
    {
     "data": {
      "text/plain": [
       "3    491\n",
       "1    216\n",
       "2    184\n",
       "Name: Pclass, dtype: int64"
      ]
     },
     "execution_count": 108,
     "metadata": {},
     "output_type": "execute_result"
    }
   ],
   "source": [
    "# mật độ phân phối\n",
    "(df.Pclass.value_counts())"
   ]
  },
  {
   "cell_type": "code",
   "execution_count": 109,
   "id": "9ccc467a",
   "metadata": {},
   "outputs": [
    {
     "name": "stdout",
     "output_type": "stream",
     "text": [
      "3    0.551066\n",
      "1    0.242424\n",
      "2    0.206510\n",
      "Name: Pclass, dtype: float64\n"
     ]
    }
   ],
   "source": [
    "### mật độ tỉ lệ phân phối: \n",
    "print(df.Pclass.value_counts() / len(df.Pclass))"
   ]
  },
  {
   "cell_type": "code",
   "execution_count": 121,
   "id": "e1667df8",
   "metadata": {},
   "outputs": [
    {
     "data": {
      "image/png": "[encoded data removed]",
      "text/plain": [
       "<Figure size 842.4x595.44 with 1 Axes>"
      ]
     },
     "metadata": {},
     "output_type": "display_data"
    }
   ],
   "source": [
    "### Trực quan hóa\n",
    "sns.set()\n",
    "df.Pclass.value_counts().plot.bar()\n",
    "plt.show()"
   ]
  },
  {
   "cell_type": "code",
   "execution_count": 117,
   "id": "0301ba69",
   "metadata": {},
   "outputs": [
    {
     "data": {
      "text/plain": [
       "Int64Index([3, 1, 2], dtype='int64')"
      ]
     },
     "execution_count": 117,
     "metadata": {},
     "output_type": "execute_result"
    }
   ],
   "source": [
    "df.Pclass.value_counts().index"
   ]
  },
  {
   "cell_type": "markdown",
   "id": "829d57a2",
   "metadata": {},
   "source": [
    "### xem mối tương quan = cách dùng trực quan"
   ]
  },
  {
   "cell_type": "code",
   "execution_count": 122,
   "id": "0f9e6ec8",
   "metadata": {},
   "outputs": [
    {
     "data": {
      "image/png": "[encoded data removed]",
      "text/plain": [
       "<Figure size 842.4x595.44 with 1 Axes>"
      ]
     },
     "metadata": {},
     "output_type": "display_data"
    }
   ],
   "source": [
    "# dùng plt\n",
    "plt.scatter(df.Age, df.Fare)\n",
    "plt.show()"
   ]
  },
  {
   "cell_type": "code",
   "execution_count": 123,
   "id": "4d7250d5",
   "metadata": {},
   "outputs": [
    {
     "data": {
      "image/png": "[encoded data removed]",
      "text/plain": [
       "<Figure size 842.4x595.44 with 1 Axes>"
      ]
     },
     "metadata": {},
     "output_type": "display_data"
    }
   ],
   "source": [
    "# dùng seaborn\n",
    "sns.scatterplot(df.Age, df.Fare)\n",
    "plt.show()"
   ]
  },
  {
   "cell_type": "code",
   "execution_count": 128,
   "id": "c5de4849",
   "metadata": {},
   "outputs": [
    {
     "name": "stdout",
     "output_type": "stream",
     "text": [
      "          Fare       Age\n",
      "Fare  1.000000  0.096067\n",
      "Age   0.096067  1.000000\n"
     ]
    },
    {
     "data": {
      "text/plain": [
       "'\\nTừ giá trị trên, ta thấy Fare và Age ko có tương quan (corr = 0.096)\\n=> ko phải cứ tuổi càng cao thì tiền càng nhiều mà mua vé sang dc:)))))\\n'"
      ]
     },
     "execution_count": 128,
     "metadata": {},
     "output_type": "execute_result"
    }
   ],
   "source": [
    "# dùng corrolation để ra giá trị cụ thể\n",
    "print(df[['Fare', 'Age']].corr() )\n",
    "\n",
    "'''\n",
    "Từ giá trị trên, ta thấy Fare và Age ko có tương quan (corr = 0.096)\n",
    "=> ko phải cứ tuổi càng cao thì tiền càng nhiều mà mua vé sang dc:)))))\n",
    "'''"
   ]
  },
  {
   "cell_type": "code",
   "execution_count": 131,
   "id": "56d1d839",
   "metadata": {},
   "outputs": [
    {
     "data": {
      "image/png": "[encoded data removed]",
      "text/plain": [
       "<Figure size 360x360 with 6 Axes>"
      ]
     },
     "metadata": {},
     "output_type": "display_data"
    }
   ],
   "source": [
    "sns.pairplot(df[['Fare', 'Age']].dropna())\n",
    "plt.show()"
   ]
  },
  {
   "cell_type": "markdown",
   "id": "6f7498c4",
   "metadata": {},
   "source": [
    "### 2. Phân tích 2 biến Categorical - Categorical"
   ]
  },
  {
   "cell_type": "code",
   "execution_count": 132,
   "id": "b442d2f1",
   "metadata": {},
   "outputs": [],
   "source": [
    "# xem xét 2 biến sex và Pclass"
   ]
  },
  {
   "cell_type": "code",
   "execution_count": 134,
   "id": "c7df712f",
   "metadata": {},
   "outputs": [
    {
     "data": {
      "text/html": [
       "<div>\n",
       "<style scoped>\n",
       "    .dataframe tbody tr th:only-of-type {\n",
       "        vertical-align: middle;\n",
       "    }\n",
       "\n",
       "    .dataframe tbody tr th {\n",
       "        vertical-align: top;\n",
       "    }\n",
       "\n",
       "    .dataframe thead th {\n",
       "        text-align: right;\n",
       "    }\n",
       "</style>\n",
       "<table border=\"1\" class=\"dataframe\">\n",
       "  <thead>\n",
       "    <tr style=\"text-align: right;\">\n",
       "      <th>Sex</th>\n",
       "      <th>female</th>\n",
       "      <th>male</th>\n",
       "    </tr>\n",
       "    <tr>\n",
       "      <th>Pclass</th>\n",
       "      <th></th>\n",
       "      <th></th>\n",
       "    </tr>\n",
       "  </thead>\n",
       "  <tbody>\n",
       "    <tr>\n",
       "      <th>1</th>\n",
       "      <td>94</td>\n",
       "      <td>122</td>\n",
       "    </tr>\n",
       "    <tr>\n",
       "      <th>2</th>\n",
       "      <td>76</td>\n",
       "      <td>108</td>\n",
       "    </tr>\n",
       "    <tr>\n",
       "      <th>3</th>\n",
       "      <td>144</td>\n",
       "      <td>347</td>\n",
       "    </tr>\n",
       "  </tbody>\n",
       "</table>\n",
       "</div>"
      ],
      "text/plain": [
       "Sex     female  male\n",
       "Pclass              \n",
       "1           94   122\n",
       "2           76   108\n",
       "3          144   347"
      ]
     },
     "execution_count": 134,
     "metadata": {},
     "output_type": "execute_result"
    }
   ],
   "source": [
    "# contigency table\n",
    "table = pd.crosstab(df.Pclass, df.Sex)\n",
    "table"
   ]
  },
  {
   "cell_type": "code",
   "execution_count": 135,
   "id": "8ef60112",
   "metadata": {},
   "outputs": [
    {
     "data": {
      "image/png": "[encoded data removed]",
      "text/plain": [
       "<Figure size 842.4x595.44 with 1 Axes>"
      ]
     },
     "metadata": {},
     "output_type": "display_data"
    }
   ],
   "source": [
    "# trực quan hóa stacked column chart\n",
    "table.plot.bar()\n",
    "plt.show()"
   ]
  },
  {
   "cell_type": "code",
   "execution_count": 137,
   "id": "54ac9ec5",
   "metadata": {},
   "outputs": [
    {
     "data": {
      "image/png": "[encoded data removed]",
      "text/plain": [
       "<Figure size 842.4x595.44 with 1 Axes>"
      ]
     },
     "metadata": {},
     "output_type": "display_data"
    }
   ],
   "source": [
    "# trực quan hóa stacked column chart\n",
    "\n",
    "## nên dùng cái này để thấy rõ hơn\n",
    "table.plot.bar(stacked = True)\n",
    "#table.plot.bar(kind = 'bar', stacked = True)\n",
    "\n",
    "plt.show()"
   ]
  },
  {
   "cell_type": "code",
   "execution_count": 141,
   "id": "7acb822a",
   "metadata": {},
   "outputs": [],
   "source": [
    "from scipy.stats import chi2_contingency\n",
    "from scipy.stats import chi2"
   ]
  },
  {
   "cell_type": "code",
   "execution_count": 148,
   "id": "e43d1460",
   "metadata": {},
   "outputs": [],
   "source": [
    "stat, p_value, dof, expected = chi2_contingency(table)"
   ]
  },
  {
   "cell_type": "code",
   "execution_count": 150,
   "id": "6dfe051c",
   "metadata": {},
   "outputs": [
    {
     "name": "stdout",
     "output_type": "stream",
     "text": [
      "Statistic:  16.971499095517114\n",
      "p-value:  0.00020638864348233114\n",
      "Dof:  2\n"
     ]
    }
   ],
   "source": [
    "print('Statistic: ', stat)\n",
    "print('p-value: ', p_value)\n",
    "print('Dof: ', dof)\n"
   ]
  },
  {
   "cell_type": "code",
   "execution_count": 155,
   "id": "bc2e062f",
   "metadata": {},
   "outputs": [
    {
     "data": {
      "text/plain": [
       "5.991464547107979"
      ]
     },
     "execution_count": 155,
     "metadata": {},
     "output_type": "execute_result"
    }
   ],
   "source": [
    "# cách 1: so sáng statistic\n",
    "proba = 0.95\n",
    "alpha = 1 - proba \n",
    "critical = chi2.ppf(proba, dof)\n",
    "critical"
   ]
  },
  {
   "cell_type": "code",
   "execution_count": 157,
   "id": "e7ab8cb9",
   "metadata": {},
   "outputs": [
    {
     "name": "stdout",
     "output_type": "stream",
     "text": [
      "Dependent (reject H0)\n"
     ]
    }
   ],
   "source": [
    "if abs(stat) >= critical:\n",
    "    print('Dependent (reject H0)')\n",
    "else:\n",
    "    print('Independent (fail to H0)')"
   ]
  },
  {
   "cell_type": "code",
   "execution_count": 151,
   "id": "195f8bee",
   "metadata": {},
   "outputs": [
    {
     "name": "stdout",
     "output_type": "stream",
     "text": [
      "Dependent (reject H0)\n"
     ]
    }
   ],
   "source": [
    "# cách 2: so sánh p-value\n",
    "proba = 0.95\n",
    "alpha = 1 - proba \n",
    "if p_value <= alpha:\n",
    "    print('Dependent (reject H0)')\n",
    "else:\n",
    "    print('Independent (fail to H0)')"
   ]
  },
  {
   "cell_type": "code",
   "execution_count": 158,
   "id": "d19c69fe",
   "metadata": {},
   "outputs": [
    {
     "data": {
      "text/plain": [
       "'\\n=> Pclass và sex là 2 biến độc lập với nhauuuu\\n'"
      ]
     },
     "execution_count": 158,
     "metadata": {},
     "output_type": "execute_result"
    }
   ],
   "source": [
    "'''\n",
    "=> Pclass và sex là 2 biến độc lập với nhauuuu\n",
    "'''"
   ]
  },
  {
   "cell_type": "markdown",
   "id": "3ea892ce",
   "metadata": {},
   "source": [
    "### 3. Category - Continuous"
   ]
  },
  {
   "cell_type": "code",
   "execution_count": 160,
   "id": "23fae0b3",
   "metadata": {},
   "outputs": [
    {
     "data": {
      "image/png": "[encoded data removed]",
      "text/plain": [
       "<Figure size 842.4x595.44 with 1 Axes>"
      ]
     },
     "metadata": {},
     "output_type": "display_data"
    }
   ],
   "source": [
    "### dùng sns thay vì plt vì plt chỉ có 2 cột mà hoyy\n",
    "sns.boxplot(data = df, x = 'Sex', y = 'Fare', hue = 'Pclass')\n",
    "plt.show()"
   ]
  },
  {
   "cell_type": "code",
   "execution_count": 167,
   "id": "d6fe2092",
   "metadata": {},
   "outputs": [
    {
     "data": {
      "image/png": "[encoded data removed]",
      "text/plain": [
       "<Figure size 576x432 with 1 Axes>"
      ]
     },
     "metadata": {},
     "output_type": "display_data"
    }
   ],
   "source": [
    "plt.figure(figsize = (8, 6))\n",
    "sns.boxplot(data = df, y = 'Sex', x = 'Fare', hue = 'Pclass')\n",
    "plt.show()"
   ]
  },
  {
   "cell_type": "code",
   "execution_count": 168,
   "id": "4ab6bffe",
   "metadata": {},
   "outputs": [],
   "source": [
    "### cách 2: dùng ANOVA Test"
   ]
  },
  {
   "cell_type": "code",
   "execution_count": 169,
   "id": "00b894c2",
   "metadata": {},
   "outputs": [
    {
     "data": {
      "text/html": [
       "<div>\n",
       "<style scoped>\n",
       "    .dataframe tbody tr th:only-of-type {\n",
       "        vertical-align: middle;\n",
       "    }\n",
       "\n",
       "    .dataframe tbody tr th {\n",
       "        vertical-align: top;\n",
       "    }\n",
       "\n",
       "    .dataframe thead th {\n",
       "        text-align: right;\n",
       "    }\n",
       "</style>\n",
       "<table border=\"1\" class=\"dataframe\">\n",
       "  <thead>\n",
       "    <tr style=\"text-align: right;\">\n",
       "      <th></th>\n",
       "      <th>Pclass</th>\n",
       "      <th>Sex</th>\n",
       "      <th>Fare</th>\n",
       "    </tr>\n",
       "  </thead>\n",
       "  <tbody>\n",
       "    <tr>\n",
       "      <th>0</th>\n",
       "      <td>3</td>\n",
       "      <td>male</td>\n",
       "      <td>7.2500</td>\n",
       "    </tr>\n",
       "    <tr>\n",
       "      <th>1</th>\n",
       "      <td>1</td>\n",
       "      <td>female</td>\n",
       "      <td>71.2833</td>\n",
       "    </tr>\n",
       "    <tr>\n",
       "      <th>2</th>\n",
       "      <td>3</td>\n",
       "      <td>female</td>\n",
       "      <td>7.9250</td>\n",
       "    </tr>\n",
       "    <tr>\n",
       "      <th>3</th>\n",
       "      <td>1</td>\n",
       "      <td>female</td>\n",
       "      <td>53.1000</td>\n",
       "    </tr>\n",
       "    <tr>\n",
       "      <th>4</th>\n",
       "      <td>3</td>\n",
       "      <td>male</td>\n",
       "      <td>8.0500</td>\n",
       "    </tr>\n",
       "  </tbody>\n",
       "</table>\n",
       "</div>"
      ],
      "text/plain": [
       "   Pclass     Sex     Fare\n",
       "0       3    male   7.2500\n",
       "1       1  female  71.2833\n",
       "2       3  female   7.9250\n",
       "3       1  female  53.1000\n",
       "4       3    male   8.0500"
      ]
     },
     "execution_count": 169,
     "metadata": {},
     "output_type": "execute_result"
    }
   ],
   "source": [
    "df_new = df[['Pclass', 'Sex', 'Fare']]\n",
    "df_new.head()"
   ]
  },
  {
   "cell_type": "code",
   "execution_count": 171,
   "id": "b40791ff",
   "metadata": {},
   "outputs": [
    {
     "name": "stdout",
     "output_type": "stream",
     "text": [
      "<class 'pandas.core.frame.DataFrame'>\n",
      "RangeIndex: 891 entries, 0 to 890\n",
      "Data columns (total 3 columns):\n",
      " #   Column  Non-Null Count  Dtype  \n",
      "---  ------  --------------  -----  \n",
      " 0   Pclass  891 non-null    int64  \n",
      " 1   Sex     891 non-null    object \n",
      " 2   Fare    891 non-null    float64\n",
      "dtypes: float64(1), int64(1), object(1)\n",
      "memory usage: 21.0+ KB\n"
     ]
    }
   ],
   "source": [
    "df_new.info()"
   ]
  },
  {
   "cell_type": "code",
   "execution_count": 173,
   "id": "4971fc7d",
   "metadata": {},
   "outputs": [
    {
     "data": {
      "text/html": [
       "<div>\n",
       "<style scoped>\n",
       "    .dataframe tbody tr th:only-of-type {\n",
       "        vertical-align: middle;\n",
       "    }\n",
       "\n",
       "    .dataframe tbody tr th {\n",
       "        vertical-align: top;\n",
       "    }\n",
       "\n",
       "    .dataframe thead th {\n",
       "        text-align: right;\n",
       "    }\n",
       "</style>\n",
       "<table border=\"1\" class=\"dataframe\">\n",
       "  <thead>\n",
       "    <tr style=\"text-align: right;\">\n",
       "      <th></th>\n",
       "      <th>Pclass</th>\n",
       "      <th>Sex</th>\n",
       "      <th>Fare</th>\n",
       "    </tr>\n",
       "  </thead>\n",
       "  <tbody>\n",
       "    <tr>\n",
       "      <th>0</th>\n",
       "      <td>3</td>\n",
       "      <td>1</td>\n",
       "      <td>7.2500</td>\n",
       "    </tr>\n",
       "    <tr>\n",
       "      <th>1</th>\n",
       "      <td>1</td>\n",
       "      <td>0</td>\n",
       "      <td>71.2833</td>\n",
       "    </tr>\n",
       "    <tr>\n",
       "      <th>2</th>\n",
       "      <td>3</td>\n",
       "      <td>0</td>\n",
       "      <td>7.9250</td>\n",
       "    </tr>\n",
       "    <tr>\n",
       "      <th>3</th>\n",
       "      <td>1</td>\n",
       "      <td>0</td>\n",
       "      <td>53.1000</td>\n",
       "    </tr>\n",
       "    <tr>\n",
       "      <th>4</th>\n",
       "      <td>3</td>\n",
       "      <td>1</td>\n",
       "      <td>8.0500</td>\n",
       "    </tr>\n",
       "  </tbody>\n",
       "</table>\n",
       "</div>"
      ],
      "text/plain": [
       "   Pclass  Sex     Fare\n",
       "0       3    1   7.2500\n",
       "1       1    0  71.2833\n",
       "2       3    0   7.9250\n",
       "3       1    0  53.1000\n",
       "4       3    1   8.0500"
      ]
     },
     "execution_count": 173,
     "metadata": {},
     "output_type": "execute_result"
    }
   ],
   "source": [
    "df_new['Sex'] = df.Sex.apply(lambda x : 0 if x == 'female' else 1)\n",
    "df_new.head()"
   ]
  },
  {
   "cell_type": "code",
   "execution_count": 188,
   "id": "2f491ccb",
   "metadata": {},
   "outputs": [
    {
     "data": {
      "application/javascript": [
       "\n",
       "            setTimeout(function() {\n",
       "                var nbb_cell_id = 188;\n",
       "                var nbb_unformatted_code = \"import statsmodels.api as sm\\nfrom statsmodels.formula.api import ols\";\n",
       "                var nbb_formatted_code = \"import statsmodels.api as sm\\nfrom statsmodels.formula.api import ols\";\n",
       "                var nbb_cells = Jupyter.notebook.get_cells();\n",
       "                for (var i = 0; i < nbb_cells.length; ++i) {\n",
       "                    if (nbb_cells[i].input_prompt_number == nbb_cell_id) {\n",
       "                        if (nbb_cells[i].get_text() == nbb_unformatted_code) {\n",
       "                             nbb_cells[i].set_text(nbb_formatted_code);\n",
       "                        }\n",
       "                        break;\n",
       "                    }\n",
       "                }\n",
       "            }, 500);\n",
       "            "
      ],
      "text/plain": [
       "<IPython.core.display.Javascript object>"
      ]
     },
     "metadata": {},
     "output_type": "display_data"
    }
   ],
   "source": [
    "import statsmodels.api as sm\n",
    "from statsmodels.formula.api import ols"
   ]
  },
  {
   "cell_type": "code",
   "execution_count": 184,
   "id": "a114c2fd",
   "metadata": {},
   "outputs": [
    {
     "data": {
      "text/plain": [
       "<statsmodels.regression.linear_model.OLS at 0x26f9dae0ac0>"
      ]
     },
     "execution_count": 184,
     "metadata": {},
     "output_type": "execute_result"
    },
    {
     "data": {
      "application/javascript": [
       "\n",
       "            setTimeout(function() {\n",
       "                var nbb_cell_id = 184;\n",
       "                var nbb_unformatted_code = \"# m\\u1ed1i li\\u00ean h\\u1ec7 gi\\u1eefa Fare v\\u00e0 Pclass\\n# C l\\u00e0 categorical variable\\nmodel_simple = ols('Fare ~ C(Pclass)', data = df_new)\\nmodel_simple\";\n",
       "                var nbb_formatted_code = \"# m\\u1ed1i li\\u00ean h\\u1ec7 gi\\u1eefa Fare v\\u00e0 Pclass\\n# C l\\u00e0 categorical variable\\nmodel_simple = ols(\\\"Fare ~ C(Pclass)\\\", data=df_new)\\nmodel_simple\";\n",
       "                var nbb_cells = Jupyter.notebook.get_cells();\n",
       "                for (var i = 0; i < nbb_cells.length; ++i) {\n",
       "                    if (nbb_cells[i].input_prompt_number == nbb_cell_id) {\n",
       "                        if (nbb_cells[i].get_text() == nbb_unformatted_code) {\n",
       "                             nbb_cells[i].set_text(nbb_formatted_code);\n",
       "                        }\n",
       "                        break;\n",
       "                    }\n",
       "                }\n",
       "            }, 500);\n",
       "            "
      ],
      "text/plain": [
       "<IPython.core.display.Javascript object>"
      ]
     },
     "metadata": {},
     "output_type": "display_data"
    }
   ],
   "source": [
    "# mối liên hệ giữa Fare và Pclass\n",
    "# C là categorical variable\n",
    "model_simple = ols(\"Fare ~ C(Pclass)\", data=df_new)\n",
    "model_simple"
   ]
  },
  {
   "cell_type": "code",
   "execution_count": 198,
   "id": "10313595",
   "metadata": {},
   "outputs": [
    {
     "data": {
      "application/javascript": [
       "\n",
       "            setTimeout(function() {\n",
       "                var nbb_cell_id = 198;\n",
       "                var nbb_unformatted_code = \"# m\\u1ed1i li\\u00ean h\\u1ec7 gi\\u1eefa Fare v\\u00e0 Pclass\\n# C l\\u00e0 categorical variable\\n# C(Pclass):C(Sex) s\\u1ef1 k\\u1ebft h\\u1ee3p gi\\u1eefa Pclass v\\u00e0 Sex c\\u00f3 \\u1ea3nh h\\u01b0\\u1edfng \\u0111\\u1ebfn Fare hay honggg\\nmodel = ols(\\\"Fare ~ C(Pclass) + C(Sex) + C(Pclass):C(Sex)\\\", data=df_new)\\nmodel = model.fit()\";\n",
       "                var nbb_formatted_code = \"# m\\u1ed1i li\\u00ean h\\u1ec7 gi\\u1eefa Fare v\\u00e0 Pclass\\n# C l\\u00e0 categorical variable\\n# C(Pclass):C(Sex) s\\u1ef1 k\\u1ebft h\\u1ee3p gi\\u1eefa Pclass v\\u00e0 Sex c\\u00f3 \\u1ea3nh h\\u01b0\\u1edfng \\u0111\\u1ebfn Fare hay honggg\\nmodel = ols(\\\"Fare ~ C(Pclass) + C(Sex) + C(Pclass):C(Sex)\\\", data=df_new)\\nmodel = model.fit()\";\n",
       "                var nbb_cells = Jupyter.notebook.get_cells();\n",
       "                for (var i = 0; i < nbb_cells.length; ++i) {\n",
       "                    if (nbb_cells[i].input_prompt_number == nbb_cell_id) {\n",
       "                        if (nbb_cells[i].get_text() == nbb_unformatted_code) {\n",
       "                             nbb_cells[i].set_text(nbb_formatted_code);\n",
       "                        }\n",
       "                        break;\n",
       "                    }\n",
       "                }\n",
       "            }, 500);\n",
       "            "
      ],
      "text/plain": [
       "<IPython.core.display.Javascript object>"
      ]
     },
     "metadata": {},
     "output_type": "display_data"
    }
   ],
   "source": [
    "# mối liên hệ giữa Fare và Pclass\n",
    "# C là categorical variable\n",
    "# C(Pclass):C(Sex) sự kết hợp giữa Pclass và Sex có ảnh hưởng đến Fare hay honggg\n",
    "model = ols(\"Fare ~ C(Pclass) + C(Sex) + C(Pclass):C(Sex)\", data=df_new)\n",
    "model = model.fit()"
   ]
  },
  {
   "cell_type": "code",
   "execution_count": 200,
   "id": "7c25484d",
   "metadata": {},
   "outputs": [
    {
     "data": {
      "text/html": [
       "<div>\n",
       "<style scoped>\n",
       "    .dataframe tbody tr th:only-of-type {\n",
       "        vertical-align: middle;\n",
       "    }\n",
       "\n",
       "    .dataframe tbody tr th {\n",
       "        vertical-align: top;\n",
       "    }\n",
       "\n",
       "    .dataframe thead th {\n",
       "        text-align: right;\n",
       "    }\n",
       "</style>\n",
       "<table border=\"1\" class=\"dataframe\">\n",
       "  <thead>\n",
       "    <tr style=\"text-align: right;\">\n",
       "      <th></th>\n",
       "      <th>sum_sq</th>\n",
       "      <th>df</th>\n",
       "      <th>F</th>\n",
       "      <th>PR(&gt;F)</th>\n",
       "    </tr>\n",
       "  </thead>\n",
       "  <tbody>\n",
       "    <tr>\n",
       "      <th>C(Pclass)</th>\n",
       "      <td>7.347122e+05</td>\n",
       "      <td>2.0</td>\n",
       "      <td>242.620968</td>\n",
       "      <td>9.763645e-85</td>\n",
       "    </tr>\n",
       "    <tr>\n",
       "      <th>C(Sex)</th>\n",
       "      <td>3.174857e+04</td>\n",
       "      <td>1.0</td>\n",
       "      <td>20.968394</td>\n",
       "      <td>5.337586e-06</td>\n",
       "    </tr>\n",
       "    <tr>\n",
       "      <th>C(Pclass):C(Sex)</th>\n",
       "      <td>5.002816e+04</td>\n",
       "      <td>2.0</td>\n",
       "      <td>16.520591</td>\n",
       "      <td>9.034206e-08</td>\n",
       "    </tr>\n",
       "    <tr>\n",
       "      <th>Residual</th>\n",
       "      <td>1.339992e+06</td>\n",
       "      <td>885.0</td>\n",
       "      <td>NaN</td>\n",
       "      <td>NaN</td>\n",
       "    </tr>\n",
       "  </tbody>\n",
       "</table>\n",
       "</div>"
      ],
      "text/plain": [
       "                        sum_sq     df           F        PR(>F)\n",
       "C(Pclass)         7.347122e+05    2.0  242.620968  9.763645e-85\n",
       "C(Sex)            3.174857e+04    1.0   20.968394  5.337586e-06\n",
       "C(Pclass):C(Sex)  5.002816e+04    2.0   16.520591  9.034206e-08\n",
       "Residual          1.339992e+06  885.0         NaN           NaN"
      ]
     },
     "execution_count": 200,
     "metadata": {},
     "output_type": "execute_result"
    },
    {
     "data": {
      "application/javascript": [
       "\n",
       "            setTimeout(function() {\n",
       "                var nbb_cell_id = 200;\n",
       "                var nbb_unformatted_code = \"# ANOVA Test\\nanova_table = sm.stats.anova_lm(model, typ=2)  # 2 chi\\u1ec1u\\nanova_table \";\n",
       "                var nbb_formatted_code = \"# ANOVA Test\\nanova_table = sm.stats.anova_lm(model, typ=2)  # 2 chi\\u1ec1u\\nanova_table\";\n",
       "                var nbb_cells = Jupyter.notebook.get_cells();\n",
       "                for (var i = 0; i < nbb_cells.length; ++i) {\n",
       "                    if (nbb_cells[i].input_prompt_number == nbb_cell_id) {\n",
       "                        if (nbb_cells[i].get_text() == nbb_unformatted_code) {\n",
       "                             nbb_cells[i].set_text(nbb_formatted_code);\n",
       "                        }\n",
       "                        break;\n",
       "                    }\n",
       "                }\n",
       "            }, 500);\n",
       "            "
      ],
      "text/plain": [
       "<IPython.core.display.Javascript object>"
      ]
     },
     "metadata": {},
     "output_type": "display_data"
    }
   ],
   "source": [
    "# ANOVA Test để ktra sự ảnh hưởng của Fare vào các yếu tố trên\n",
    "anova_table = sm.stats.anova_lm(model, typ=2)  # 2 chiều\n",
    "anova_table"
   ]
  },
  {
   "cell_type": "code",
   "execution_count": 201,
   "id": "07f72640",
   "metadata": {},
   "outputs": [
    {
     "data": {
      "text/plain": [
       "'\\nNhận xét: p-value có dc từ bảng ANOVA cho Sex, Pclass và sự kết hợp Sex và Pclass đều < 0.05 (alpha = 5%)\\n=> có ý nghĩa thống kê\\n\\n=> Pclass có ảnh hưởng đến Fare\\n=> Sex có ảnh hưởng đến Fare\\n=> (Sex phối hợp Pclass) có ảnh hưởng đến Fare\\n'"
      ]
     },
     "execution_count": 201,
     "metadata": {},
     "output_type": "execute_result"
    },
    {
     "data": {
      "application/javascript": [
       "\n",
       "            setTimeout(function() {\n",
       "                var nbb_cell_id = 201;\n",
       "                var nbb_unformatted_code = \"'''\\nNh\\u1eadn x\\u00e9t: p-value c\\u00f3 dc t\\u1eeb b\\u1ea3ng ANOVA cho Sex, Pclass v\\u00e0 s\\u1ef1 k\\u1ebft h\\u1ee3p Sex v\\u00e0 Pclass \\u0111\\u1ec1u < 0.05 (alpha = 5%)\\n=> c\\u00f3 \\u00fd ngh\\u0129a th\\u1ed1ng k\\u00ea\\n\\n=> Pclass c\\u00f3 \\u1ea3nh h\\u01b0\\u1edfng \\u0111\\u1ebfn Fare\\n=> Sex c\\u00f3 \\u1ea3nh h\\u01b0\\u1edfng \\u0111\\u1ebfn Fare\\n=> (Sex ph\\u1ed1i h\\u1ee3p Pclass) c\\u00f3 \\u1ea3nh h\\u01b0\\u1edfng \\u0111\\u1ebfn Fare\\n'''\";\n",
       "                var nbb_formatted_code = \"\\\"\\\"\\\"\\nNh\\u1eadn x\\u00e9t: p-value c\\u00f3 dc t\\u1eeb b\\u1ea3ng ANOVA cho Sex, Pclass v\\u00e0 s\\u1ef1 k\\u1ebft h\\u1ee3p Sex v\\u00e0 Pclass \\u0111\\u1ec1u < 0.05 (alpha = 5%)\\n=> c\\u00f3 \\u00fd ngh\\u0129a th\\u1ed1ng k\\u00ea\\n\\n=> Pclass c\\u00f3 \\u1ea3nh h\\u01b0\\u1edfng \\u0111\\u1ebfn Fare\\n=> Sex c\\u00f3 \\u1ea3nh h\\u01b0\\u1edfng \\u0111\\u1ebfn Fare\\n=> (Sex ph\\u1ed1i h\\u1ee3p Pclass) c\\u00f3 \\u1ea3nh h\\u01b0\\u1edfng \\u0111\\u1ebfn Fare\\n\\\"\\\"\\\"\";\n",
       "                var nbb_cells = Jupyter.notebook.get_cells();\n",
       "                for (var i = 0; i < nbb_cells.length; ++i) {\n",
       "                    if (nbb_cells[i].input_prompt_number == nbb_cell_id) {\n",
       "                        if (nbb_cells[i].get_text() == nbb_unformatted_code) {\n",
       "                             nbb_cells[i].set_text(nbb_formatted_code);\n",
       "                        }\n",
       "                        break;\n",
       "                    }\n",
       "                }\n",
       "            }, 500);\n",
       "            "
      ],
      "text/plain": [
       "<IPython.core.display.Javascript object>"
      ]
     },
     "metadata": {},
     "output_type": "display_data"
    }
   ],
   "source": [
    "\"\"\"\n",
    "Nhận xét: p-value có dc từ bảng ANOVA cho Sex, Pclass và sự kết hợp Sex và Pclass đều < 0.05 (alpha = 5%)\n",
    "=> có ý nghĩa thống kê\n",
    "\n",
    "=> Pclass có ảnh hưởng đến Fare\n",
    "=> Sex có ảnh hưởng đến Fare\n",
    "=> (Sex phối hợp Pclass) có ảnh hưởng đến Fare\n",
    "\"\"\""
   ]
  },
  {
   "cell_type": "code",
   "execution_count": 204,
   "id": "6166663f",
   "metadata": {},
   "outputs": [
    {
     "data": {
      "application/javascript": [
       "\n",
       "            setTimeout(function() {\n",
       "                var nbb_cell_id = 204;\n",
       "                var nbb_unformatted_code = \"# ki\\u1ec3m tra \\u0111\\u1ed9 \\u1ea3nh h\\u01b0\\u1edfng m\\u1ea1nh hay y\\u1ebfu, ... c\\u1ee7a c\\u00e1c y\\u1ebfu t\\u1ed1 tr\\u00ean v\\u1edbi Fare => ANOVA ko l\\u00e0m r\\u00f5 dc\\n# ph\\u1ea3i s\\u1eed d\\u1ee5ng t-test (Tukey HSD)\";\n",
       "                var nbb_formatted_code = \"# ki\\u1ec3m tra \\u0111\\u1ed9 \\u1ea3nh h\\u01b0\\u1edfng m\\u1ea1nh hay y\\u1ebfu, ... c\\u1ee7a c\\u00e1c y\\u1ebfu t\\u1ed1 tr\\u00ean v\\u1edbi Fare => ANOVA ko l\\u00e0m r\\u00f5 dc\\n# ph\\u1ea3i s\\u1eed d\\u1ee5ng t-test (Tukey HSD)\";\n",
       "                var nbb_cells = Jupyter.notebook.get_cells();\n",
       "                for (var i = 0; i < nbb_cells.length; ++i) {\n",
       "                    if (nbb_cells[i].input_prompt_number == nbb_cell_id) {\n",
       "                        if (nbb_cells[i].get_text() == nbb_unformatted_code) {\n",
       "                             nbb_cells[i].set_text(nbb_formatted_code);\n",
       "                        }\n",
       "                        break;\n",
       "                    }\n",
       "                }\n",
       "            }, 500);\n",
       "            "
      ],
      "text/plain": [
       "<IPython.core.display.Javascript object>"
      ]
     },
     "metadata": {},
     "output_type": "display_data"
    }
   ],
   "source": [
    "# kiểm tra độ ảnh hưởng mạnh hay yếu, ... của các yếu tố trên với Fare => ANOVA ko làm rõ dc\n",
    "# phải sử dụng t-test (Tukey HSD)"
   ]
  },
  {
   "cell_type": "code",
   "execution_count": 203,
   "id": "22fabf9a",
   "metadata": {},
   "outputs": [
    {
     "data": {
      "application/javascript": [
       "\n",
       "            setTimeout(function() {\n",
       "                var nbb_cell_id = 203;\n",
       "                var nbb_unformatted_code = \"from statsmodels.stats.multicomp import pairwise_tukeyhsd\";\n",
       "                var nbb_formatted_code = \"from statsmodels.stats.multicomp import pairwise_tukeyhsd\";\n",
       "                var nbb_cells = Jupyter.notebook.get_cells();\n",
       "                for (var i = 0; i < nbb_cells.length; ++i) {\n",
       "                    if (nbb_cells[i].input_prompt_number == nbb_cell_id) {\n",
       "                        if (nbb_cells[i].get_text() == nbb_unformatted_code) {\n",
       "                             nbb_cells[i].set_text(nbb_formatted_code);\n",
       "                        }\n",
       "                        break;\n",
       "                    }\n",
       "                }\n",
       "            }, 500);\n",
       "            "
      ],
      "text/plain": [
       "<IPython.core.display.Javascript object>"
      ]
     },
     "metadata": {},
     "output_type": "display_data"
    }
   ],
   "source": [
    "from statsmodels.stats.multicomp import pairwise_tukeyhsd"
   ]
  },
  {
   "cell_type": "code",
   "execution_count": 205,
   "id": "60800208",
   "metadata": {},
   "outputs": [
    {
     "data": {
      "text/plain": [
       "<pandas.core.groupby.generic.DataFrameGroupBy object at 0x0000026F9CD6B580>"
      ]
     },
     "execution_count": 205,
     "metadata": {},
     "output_type": "execute_result"
    },
    {
     "data": {
      "application/javascript": [
       "\n",
       "            setTimeout(function() {\n",
       "                var nbb_cell_id = 205;\n",
       "                var nbb_unformatted_code = \"df_group = df_new.groupby('Sex')\\ndf_group\";\n",
       "                var nbb_formatted_code = \"df_group = df_new.groupby(\\\"Sex\\\")\\ndf_group\";\n",
       "                var nbb_cells = Jupyter.notebook.get_cells();\n",
       "                for (var i = 0; i < nbb_cells.length; ++i) {\n",
       "                    if (nbb_cells[i].input_prompt_number == nbb_cell_id) {\n",
       "                        if (nbb_cells[i].get_text() == nbb_unformatted_code) {\n",
       "                             nbb_cells[i].set_text(nbb_formatted_code);\n",
       "                        }\n",
       "                        break;\n",
       "                    }\n",
       "                }\n",
       "            }, 500);\n",
       "            "
      ],
      "text/plain": [
       "<IPython.core.display.Javascript object>"
      ]
     },
     "metadata": {},
     "output_type": "display_data"
    }
   ],
   "source": [
    "df_group = df_new.groupby(\"Sex\")\n",
    "df_group"
   ]
  },
  {
   "cell_type": "code",
   "execution_count": 213,
   "id": "b399ba8f",
   "metadata": {},
   "outputs": [
    {
     "name": "stdout",
     "output_type": "stream",
     "text": [
      "Sex 0   Multiple Comparison of Means - Tukey HSD, FWER=0.05  \n",
      "=======================================================\n",
      "group1 group2 meandiff p-adj    lower    upper   reject\n",
      "-------------------------------------------------------\n",
      "     1      2 -84.1557  0.001  -99.3122 -68.9991   True\n",
      "     1      3  -90.007  0.001 -103.0354 -76.9786   True\n",
      "     2      3  -5.8513 0.5783  -19.7819   8.0793  False\n",
      "-------------------------------------------------------\n",
      "Sex 1  Multiple Comparison of Means - Tukey HSD, FWER=0.05  \n",
      "======================================================\n",
      "group1 group2 meandiff p-adj   lower    upper   reject\n",
      "------------------------------------------------------\n",
      "     1      2 -47.4843  0.001 -59.0655 -35.9031   True\n",
      "     1      3 -54.5645  0.001 -63.7907 -45.3383   True\n",
      "     2      3  -7.0801 0.1978 -16.7387   2.5784  False\n",
      "------------------------------------------------------\n"
     ]
    },
    {
     "data": {
      "application/javascript": [
       "\n",
       "            setTimeout(function() {\n",
       "                var nbb_cell_id = 213;\n",
       "                var nbb_unformatted_code = \"for name, grouped_df in df_group:\\n    print('Sex', name,\\n        pairwise_tukeyhsd(\\n            endog=grouped_df[\\\"Fare\\\"],  # thu\\u1ed9c t\\u00ednh continuous\\n            groups=grouped_df[\\\"Pclass\\\"],  # thu\\u1ed9c t\\u00ednh categorical\\n            alpha=0.05,\\n        )\\n    )\";\n",
       "                var nbb_formatted_code = \"for name, grouped_df in df_group:\\n    print(\\n        \\\"Sex\\\",\\n        name,\\n        pairwise_tukeyhsd(\\n            endog=grouped_df[\\\"Fare\\\"],  # thu\\u1ed9c t\\u00ednh continuous\\n            groups=grouped_df[\\\"Pclass\\\"],  # thu\\u1ed9c t\\u00ednh categorical\\n            alpha=0.05,\\n        ),\\n    )\";\n",
       "                var nbb_cells = Jupyter.notebook.get_cells();\n",
       "                for (var i = 0; i < nbb_cells.length; ++i) {\n",
       "                    if (nbb_cells[i].input_prompt_number == nbb_cell_id) {\n",
       "                        if (nbb_cells[i].get_text() == nbb_unformatted_code) {\n",
       "                             nbb_cells[i].set_text(nbb_formatted_code);\n",
       "                        }\n",
       "                        break;\n",
       "                    }\n",
       "                }\n",
       "            }, 500);\n",
       "            "
      ],
      "text/plain": [
       "<IPython.core.display.Javascript object>"
      ]
     },
     "metadata": {},
     "output_type": "display_data"
    }
   ],
   "source": [
    "for name, grouped_df in df_group:\n",
    "    print(\n",
    "        \"Sex\",\n",
    "        name,\n",
    "        pairwise_tukeyhsd(\n",
    "            endog=grouped_df[\"Fare\"],  # thuộc tính continuous\n",
    "            groups=grouped_df[\"Pclass\"],  # thuộc tính categorical\n",
    "            alpha=0.05,\n",
    "        ),\n",
    "    )"
   ]
  },
  {
   "cell_type": "code",
   "execution_count": 214,
   "id": "33c4cd19",
   "metadata": {},
   "outputs": [
    {
     "data": {
      "text/plain": [
       "'\\n=> ngoại trừ:\\nSex = 0: Pclass = 2, 3 \\nSex = 1: Pclass = 2, 3 \\nthì cách trường hợp còn lại đều reject H0\\n\\nreject H0 thì là phụ thuộc (có ảnh hưởng)\\nNot reject H0 thì là ko phụ thuộc (ko ảnh hưởng)\\n=> có 4 trường hợp bác bỏ => ảnh hưởng đáng kể\\n\\n# nếu độc lập thì bỏ đi:))\\n'"
      ]
     },
     "execution_count": 214,
     "metadata": {},
     "output_type": "execute_result"
    },
    {
     "data": {
      "application/javascript": [
       "\n",
       "            setTimeout(function() {\n",
       "                var nbb_cell_id = 214;\n",
       "                var nbb_unformatted_code = \"### True l\\u00e0 reject, False l\\u00e0 not reject\\n\\n'''\\n=> ngo\\u1ea1i tr\\u1eeb:\\nSex = 0: Pclass = 2, 3 \\nSex = 1: Pclass = 2, 3 \\nth\\u00ec c\\u00e1ch tr\\u01b0\\u1eddng h\\u1ee3p c\\u00f2n l\\u1ea1i \\u0111\\u1ec1u reject H0\\n\\nreject H0 th\\u00ec l\\u00e0 ph\\u1ee5 thu\\u1ed9c (c\\u00f3 \\u1ea3nh h\\u01b0\\u1edfng)\\nNot reject H0 th\\u00ec l\\u00e0 ko ph\\u1ee5 thu\\u1ed9c (ko \\u1ea3nh h\\u01b0\\u1edfng)\\n=> c\\u00f3 4 tr\\u01b0\\u1eddng h\\u1ee3p b\\u00e1c b\\u1ecf => \\u1ea3nh h\\u01b0\\u1edfng \\u0111\\u00e1ng k\\u1ec3\\n\\n# n\\u1ebfu \\u0111\\u1ed9c l\\u1eadp th\\u00ec b\\u1ecf \\u0111i:))\\n'''\";\n",
       "                var nbb_formatted_code = \"### True l\\u00e0 reject, False l\\u00e0 not reject\\n\\n\\\"\\\"\\\"\\n=> ngo\\u1ea1i tr\\u1eeb:\\nSex = 0: Pclass = 2, 3 \\nSex = 1: Pclass = 2, 3 \\nth\\u00ec c\\u00e1ch tr\\u01b0\\u1eddng h\\u1ee3p c\\u00f2n l\\u1ea1i \\u0111\\u1ec1u reject H0\\n\\nreject H0 th\\u00ec l\\u00e0 ph\\u1ee5 thu\\u1ed9c (c\\u00f3 \\u1ea3nh h\\u01b0\\u1edfng)\\nNot reject H0 th\\u00ec l\\u00e0 ko ph\\u1ee5 thu\\u1ed9c (ko \\u1ea3nh h\\u01b0\\u1edfng)\\n=> c\\u00f3 4 tr\\u01b0\\u1eddng h\\u1ee3p b\\u00e1c b\\u1ecf => \\u1ea3nh h\\u01b0\\u1edfng \\u0111\\u00e1ng k\\u1ec3\\n\\n# n\\u1ebfu \\u0111\\u1ed9c l\\u1eadp th\\u00ec b\\u1ecf \\u0111i:))\\n\\\"\\\"\\\"\";\n",
       "                var nbb_cells = Jupyter.notebook.get_cells();\n",
       "                for (var i = 0; i < nbb_cells.length; ++i) {\n",
       "                    if (nbb_cells[i].input_prompt_number == nbb_cell_id) {\n",
       "                        if (nbb_cells[i].get_text() == nbb_unformatted_code) {\n",
       "                             nbb_cells[i].set_text(nbb_formatted_code);\n",
       "                        }\n",
       "                        break;\n",
       "                    }\n",
       "                }\n",
       "            }, 500);\n",
       "            "
      ],
      "text/plain": [
       "<IPython.core.display.Javascript object>"
      ]
     },
     "metadata": {},
     "output_type": "display_data"
    }
   ],
   "source": [
    "### True là reject, False là not reject\n",
    "\n",
    "\"\"\"\n",
    "=> ngoại trừ:\n",
    "Sex = 0: Pclass = 2, 3 \n",
    "Sex = 1: Pclass = 2, 3 \n",
    "thì cách trường hợp còn lại đều reject H0\n",
    "\n",
    "reject H0 thì là phụ thuộc (có ảnh hưởng)\n",
    "Not reject H0 thì là ko phụ thuộc (ko ảnh hưởng)\n",
    "=> có 4 trường hợp bác bỏ => ảnh hưởng đáng kể\n",
    "\n",
    "# nếu độc lập thì bỏ đi:))\n",
    "\"\"\""
   ]
  },
  {
   "cell_type": "code",
   "execution_count": null,
   "id": "1a11dc40",
   "metadata": {},
   "outputs": [],
   "source": []
  }
 ],
 "metadata": {
  "kernelspec": {
   "display_name": "Python 3 (ipykernel)",
   "language": "python",
   "name": "python3"
  },
  "language_info": {
   "codemirror_mode": {
    "name": "ipython",
    "version": 3
   },
   "file_extension": ".py",
   "mimetype": "text/x-python",
   "name": "python",
   "nbconvert_exporter": "python",
   "pygments_lexer": "ipython3",
   "version": "3.9.7"
  }
 },
 "nbformat": 4,
 "nbformat_minor": 5
}
