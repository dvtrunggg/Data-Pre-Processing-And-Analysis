{
 "cells": [
  {
   "cell_type": "code",
   "execution_count": 1,
   "id": "6a61884e",
   "metadata": {},
   "outputs": [],
   "source": [
    "import numpy as np\n",
    "import pandas as pd"
   ]
  },
  {
   "cell_type": "markdown",
   "id": "d9753247",
   "metadata": {},
   "source": [
    "# TH1"
   ]
  },
  {
   "cell_type": "code",
   "execution_count": 2,
   "id": "22ae0adf",
   "metadata": {},
   "outputs": [
    {
     "data": {
      "text/html": [
       "<div>\n",
       "<style scoped>\n",
       "    .dataframe tbody tr th:only-of-type {\n",
       "        vertical-align: middle;\n",
       "    }\n",
       "\n",
       "    .dataframe tbody tr th {\n",
       "        vertical-align: top;\n",
       "    }\n",
       "\n",
       "    .dataframe thead th {\n",
       "        text-align: right;\n",
       "    }\n",
       "</style>\n",
       "<table border=\"1\" class=\"dataframe\">\n",
       "  <thead>\n",
       "    <tr style=\"text-align: right;\">\n",
       "      <th></th>\n",
       "      <th>hoten</th>\n",
       "      <th>gioitinh</th>\n",
       "    </tr>\n",
       "  </thead>\n",
       "  <tbody>\n",
       "    <tr>\n",
       "      <th>0</th>\n",
       "      <td>nva</td>\n",
       "      <td>nam</td>\n",
       "    </tr>\n",
       "    <tr>\n",
       "      <th>1</th>\n",
       "      <td>nvb</td>\n",
       "      <td>nam</td>\n",
       "    </tr>\n",
       "    <tr>\n",
       "      <th>2</th>\n",
       "      <td>ltc</td>\n",
       "      <td>nữ</td>\n",
       "    </tr>\n",
       "  </tbody>\n",
       "</table>\n",
       "</div>"
      ],
      "text/plain": [
       "  hoten gioitinh\n",
       "0   nva      nam\n",
       "1   nvb      nam\n",
       "2   ltc       nữ"
      ]
     },
     "execution_count": 2,
     "metadata": {},
     "output_type": "execute_result"
    }
   ],
   "source": [
    "df1 = pd.DataFrame({\n",
    "    'hoten': ['nva', 'nvb', 'ltc'],\n",
    "    'gioitinh': ['nam', 'nam', 'nữ']\n",
    "})\n",
    "df1"
   ]
  },
  {
   "cell_type": "code",
   "execution_count": 3,
   "id": "06f29f64",
   "metadata": {},
   "outputs": [
    {
     "data": {
      "text/html": [
       "<div>\n",
       "<style scoped>\n",
       "    .dataframe tbody tr th:only-of-type {\n",
       "        vertical-align: middle;\n",
       "    }\n",
       "\n",
       "    .dataframe tbody tr th {\n",
       "        vertical-align: top;\n",
       "    }\n",
       "\n",
       "    .dataframe thead th {\n",
       "        text-align: right;\n",
       "    }\n",
       "</style>\n",
       "<table border=\"1\" class=\"dataframe\">\n",
       "  <thead>\n",
       "    <tr style=\"text-align: right;\">\n",
       "      <th></th>\n",
       "      <th>hoten</th>\n",
       "      <th>gioitinh</th>\n",
       "    </tr>\n",
       "  </thead>\n",
       "  <tbody>\n",
       "    <tr>\n",
       "      <th>0</th>\n",
       "      <td>ltd</td>\n",
       "      <td>nam</td>\n",
       "    </tr>\n",
       "    <tr>\n",
       "      <th>1</th>\n",
       "      <td>nve</td>\n",
       "      <td>nữ</td>\n",
       "    </tr>\n",
       "  </tbody>\n",
       "</table>\n",
       "</div>"
      ],
      "text/plain": [
       "  hoten gioitinh\n",
       "0   ltd      nam\n",
       "1   nve       nữ"
      ]
     },
     "execution_count": 3,
     "metadata": {},
     "output_type": "execute_result"
    }
   ],
   "source": [
    "df2 = pd.DataFrame({\n",
    "    'hoten': ['ltd', 'nve'],\n",
    "    'gioitinh': ['nam', 'nữ']\n",
    "})\n",
    "df2"
   ]
  },
  {
   "cell_type": "code",
   "execution_count": 4,
   "id": "e4370499",
   "metadata": {},
   "outputs": [
    {
     "data": {
      "text/html": [
       "<div>\n",
       "<style scoped>\n",
       "    .dataframe tbody tr th:only-of-type {\n",
       "        vertical-align: middle;\n",
       "    }\n",
       "\n",
       "    .dataframe tbody tr th {\n",
       "        vertical-align: top;\n",
       "    }\n",
       "\n",
       "    .dataframe thead th {\n",
       "        text-align: right;\n",
       "    }\n",
       "</style>\n",
       "<table border=\"1\" class=\"dataframe\">\n",
       "  <thead>\n",
       "    <tr style=\"text-align: right;\">\n",
       "      <th></th>\n",
       "      <th>hoten</th>\n",
       "      <th>gioitinh</th>\n",
       "    </tr>\n",
       "  </thead>\n",
       "  <tbody>\n",
       "    <tr>\n",
       "      <th>0</th>\n",
       "      <td>nva</td>\n",
       "      <td>nam</td>\n",
       "    </tr>\n",
       "    <tr>\n",
       "      <th>1</th>\n",
       "      <td>nvb</td>\n",
       "      <td>nam</td>\n",
       "    </tr>\n",
       "    <tr>\n",
       "      <th>2</th>\n",
       "      <td>ltc</td>\n",
       "      <td>nữ</td>\n",
       "    </tr>\n",
       "    <tr>\n",
       "      <th>3</th>\n",
       "      <td>ltd</td>\n",
       "      <td>nam</td>\n",
       "    </tr>\n",
       "    <tr>\n",
       "      <th>4</th>\n",
       "      <td>nve</td>\n",
       "      <td>nữ</td>\n",
       "    </tr>\n",
       "  </tbody>\n",
       "</table>\n",
       "</div>"
      ],
      "text/plain": [
       "  hoten gioitinh\n",
       "0   nva      nam\n",
       "1   nvb      nam\n",
       "2   ltc       nữ\n",
       "3   ltd      nam\n",
       "4   nve       nữ"
      ]
     },
     "execution_count": 4,
     "metadata": {},
     "output_type": "execute_result"
    }
   ],
   "source": [
    "# kết hợp df1 và df2 theo cột (thêm dòng)\n",
    "#axis=0 là thêm zô dòng (append)\n",
    "df_new1 = pd.concat([df1, df2], axis=0, ignore_index=True)\n",
    "df_new1"
   ]
  },
  {
   "cell_type": "markdown",
   "id": "f4857cc3",
   "metadata": {},
   "source": [
    "# TH2"
   ]
  },
  {
   "cell_type": "code",
   "execution_count": 5,
   "id": "3467dafd",
   "metadata": {},
   "outputs": [
    {
     "data": {
      "text/html": [
       "<div>\n",
       "<style scoped>\n",
       "    .dataframe tbody tr th:only-of-type {\n",
       "        vertical-align: middle;\n",
       "    }\n",
       "\n",
       "    .dataframe tbody tr th {\n",
       "        vertical-align: top;\n",
       "    }\n",
       "\n",
       "    .dataframe thead th {\n",
       "        text-align: right;\n",
       "    }\n",
       "</style>\n",
       "<table border=\"1\" class=\"dataframe\">\n",
       "  <thead>\n",
       "    <tr style=\"text-align: right;\">\n",
       "      <th></th>\n",
       "      <th>hoten</th>\n",
       "      <th>gioitinh</th>\n",
       "    </tr>\n",
       "  </thead>\n",
       "  <tbody>\n",
       "    <tr>\n",
       "      <th>0</th>\n",
       "      <td>nva</td>\n",
       "      <td>nam</td>\n",
       "    </tr>\n",
       "    <tr>\n",
       "      <th>1</th>\n",
       "      <td>nvb</td>\n",
       "      <td>nam</td>\n",
       "    </tr>\n",
       "    <tr>\n",
       "      <th>2</th>\n",
       "      <td>ltc</td>\n",
       "      <td>nữ</td>\n",
       "    </tr>\n",
       "  </tbody>\n",
       "</table>\n",
       "</div>"
      ],
      "text/plain": [
       "  hoten gioitinh\n",
       "0   nva      nam\n",
       "1   nvb      nam\n",
       "2   ltc       nữ"
      ]
     },
     "execution_count": 5,
     "metadata": {},
     "output_type": "execute_result"
    }
   ],
   "source": [
    "df1 = pd.DataFrame({\n",
    "    'hoten': ['nva', 'nvb', 'ltc'],\n",
    "    'gioitinh': ['nam', 'nam', 'nữ']\n",
    "})\n",
    "df1"
   ]
  },
  {
   "cell_type": "code",
   "execution_count": 6,
   "id": "2937256b",
   "metadata": {},
   "outputs": [
    {
     "data": {
      "text/html": [
       "<div>\n",
       "<style scoped>\n",
       "    .dataframe tbody tr th:only-of-type {\n",
       "        vertical-align: middle;\n",
       "    }\n",
       "\n",
       "    .dataframe tbody tr th {\n",
       "        vertical-align: top;\n",
       "    }\n",
       "\n",
       "    .dataframe thead th {\n",
       "        text-align: right;\n",
       "    }\n",
       "</style>\n",
       "<table border=\"1\" class=\"dataframe\">\n",
       "  <thead>\n",
       "    <tr style=\"text-align: right;\">\n",
       "      <th></th>\n",
       "      <th>hoten</th>\n",
       "      <th>gioitinh</th>\n",
       "      <th>dienthoai</th>\n",
       "    </tr>\n",
       "  </thead>\n",
       "  <tbody>\n",
       "    <tr>\n",
       "      <th>0</th>\n",
       "      <td>ltd</td>\n",
       "      <td>nam</td>\n",
       "      <td>0903222444</td>\n",
       "    </tr>\n",
       "    <tr>\n",
       "      <th>1</th>\n",
       "      <td>nve</td>\n",
       "      <td>nữ</td>\n",
       "      <td>0908111222</td>\n",
       "    </tr>\n",
       "  </tbody>\n",
       "</table>\n",
       "</div>"
      ],
      "text/plain": [
       "  hoten gioitinh   dienthoai\n",
       "0   ltd      nam  0903222444\n",
       "1   nve       nữ  0908111222"
      ]
     },
     "execution_count": 6,
     "metadata": {},
     "output_type": "execute_result"
    }
   ],
   "source": [
    "df2 = pd.DataFrame({\n",
    "    'hoten': ['ltd', 'nve'],\n",
    "    'gioitinh': ['nam', 'nữ'],\n",
    "    'dienthoai': ['0903222444', '0908111222']\n",
    "})\n",
    "df2"
   ]
  },
  {
   "cell_type": "code",
   "execution_count": 8,
   "id": "852197bb",
   "metadata": {},
   "outputs": [
    {
     "data": {
      "text/html": [
       "<div>\n",
       "<style scoped>\n",
       "    .dataframe tbody tr th:only-of-type {\n",
       "        vertical-align: middle;\n",
       "    }\n",
       "\n",
       "    .dataframe tbody tr th {\n",
       "        vertical-align: top;\n",
       "    }\n",
       "\n",
       "    .dataframe thead th {\n",
       "        text-align: right;\n",
       "    }\n",
       "</style>\n",
       "<table border=\"1\" class=\"dataframe\">\n",
       "  <thead>\n",
       "    <tr style=\"text-align: right;\">\n",
       "      <th></th>\n",
       "      <th>hoten</th>\n",
       "      <th>gioitinh</th>\n",
       "      <th>dienthoai</th>\n",
       "    </tr>\n",
       "  </thead>\n",
       "  <tbody>\n",
       "    <tr>\n",
       "      <th>0</th>\n",
       "      <td>nva</td>\n",
       "      <td>nam</td>\n",
       "      <td>NaN</td>\n",
       "    </tr>\n",
       "    <tr>\n",
       "      <th>1</th>\n",
       "      <td>nvb</td>\n",
       "      <td>nam</td>\n",
       "      <td>NaN</td>\n",
       "    </tr>\n",
       "    <tr>\n",
       "      <th>2</th>\n",
       "      <td>ltc</td>\n",
       "      <td>nữ</td>\n",
       "      <td>NaN</td>\n",
       "    </tr>\n",
       "    <tr>\n",
       "      <th>3</th>\n",
       "      <td>ltd</td>\n",
       "      <td>nam</td>\n",
       "      <td>0903222444</td>\n",
       "    </tr>\n",
       "    <tr>\n",
       "      <th>4</th>\n",
       "      <td>nve</td>\n",
       "      <td>nữ</td>\n",
       "      <td>0908111222</td>\n",
       "    </tr>\n",
       "  </tbody>\n",
       "</table>\n",
       "</div>"
      ],
      "text/plain": [
       "  hoten gioitinh   dienthoai\n",
       "0   nva      nam         NaN\n",
       "1   nvb      nam         NaN\n",
       "2   ltc       nữ         NaN\n",
       "3   ltd      nam  0903222444\n",
       "4   nve       nữ  0908111222"
      ]
     },
     "execution_count": 8,
     "metadata": {},
     "output_type": "execute_result"
    }
   ],
   "source": [
    "# kết hợp df1 và df2 theo cột (thêm dòng)\n",
    "# nếu số lượng cột ko giống nhau, các giá trị bị thiếu sẽ là null\n",
    "df_new2 = pd.concat([df1, df2], axis=0, ignore_index=True)\n",
    "df_new2"
   ]
  },
  {
   "cell_type": "markdown",
   "id": "2bde0bdf",
   "metadata": {},
   "source": [
    "# TH3"
   ]
  },
  {
   "cell_type": "code",
   "execution_count": 9,
   "id": "b68568a2",
   "metadata": {},
   "outputs": [
    {
     "data": {
      "text/html": [
       "<div>\n",
       "<style scoped>\n",
       "    .dataframe tbody tr th:only-of-type {\n",
       "        vertical-align: middle;\n",
       "    }\n",
       "\n",
       "    .dataframe tbody tr th {\n",
       "        vertical-align: top;\n",
       "    }\n",
       "\n",
       "    .dataframe thead th {\n",
       "        text-align: right;\n",
       "    }\n",
       "</style>\n",
       "<table border=\"1\" class=\"dataframe\">\n",
       "  <thead>\n",
       "    <tr style=\"text-align: right;\">\n",
       "      <th></th>\n",
       "      <th>hoten</th>\n",
       "      <th>gioitinh</th>\n",
       "    </tr>\n",
       "  </thead>\n",
       "  <tbody>\n",
       "    <tr>\n",
       "      <th>0</th>\n",
       "      <td>nva</td>\n",
       "      <td>nam</td>\n",
       "    </tr>\n",
       "    <tr>\n",
       "      <th>1</th>\n",
       "      <td>nvb</td>\n",
       "      <td>nam</td>\n",
       "    </tr>\n",
       "    <tr>\n",
       "      <th>2</th>\n",
       "      <td>ltc</td>\n",
       "      <td>nữ</td>\n",
       "    </tr>\n",
       "  </tbody>\n",
       "</table>\n",
       "</div>"
      ],
      "text/plain": [
       "  hoten gioitinh\n",
       "0   nva      nam\n",
       "1   nvb      nam\n",
       "2   ltc       nữ"
      ]
     },
     "execution_count": 9,
     "metadata": {},
     "output_type": "execute_result"
    }
   ],
   "source": [
    "df1 = pd.DataFrame({\n",
    "    'hoten': ['nva', 'nvb', 'ltc'],\n",
    "    'gioitinh': ['nam', 'nam', 'nữ']\n",
    "})\n",
    "df1"
   ]
  },
  {
   "cell_type": "code",
   "execution_count": 10,
   "id": "80c5692d",
   "metadata": {},
   "outputs": [
    {
     "data": {
      "text/html": [
       "<div>\n",
       "<style scoped>\n",
       "    .dataframe tbody tr th:only-of-type {\n",
       "        vertical-align: middle;\n",
       "    }\n",
       "\n",
       "    .dataframe tbody tr th {\n",
       "        vertical-align: top;\n",
       "    }\n",
       "\n",
       "    .dataframe thead th {\n",
       "        text-align: right;\n",
       "    }\n",
       "</style>\n",
       "<table border=\"1\" class=\"dataframe\">\n",
       "  <thead>\n",
       "    <tr style=\"text-align: right;\">\n",
       "      <th></th>\n",
       "      <th>hoten</th>\n",
       "      <th>dienthoai</th>\n",
       "    </tr>\n",
       "  </thead>\n",
       "  <tbody>\n",
       "    <tr>\n",
       "      <th>0</th>\n",
       "      <td>nva</td>\n",
       "      <td>0903222111</td>\n",
       "    </tr>\n",
       "    <tr>\n",
       "      <th>1</th>\n",
       "      <td>nvb</td>\n",
       "      <td>NaN</td>\n",
       "    </tr>\n",
       "    <tr>\n",
       "      <th>2</th>\n",
       "      <td>ltc</td>\n",
       "      <td>0903333444</td>\n",
       "    </tr>\n",
       "    <tr>\n",
       "      <th>3</th>\n",
       "      <td>lte</td>\n",
       "      <td>0918111222</td>\n",
       "    </tr>\n",
       "  </tbody>\n",
       "</table>\n",
       "</div>"
      ],
      "text/plain": [
       "  hoten   dienthoai\n",
       "0   nva  0903222111\n",
       "1   nvb         NaN\n",
       "2   ltc  0903333444\n",
       "3   lte  0918111222"
      ]
     },
     "execution_count": 10,
     "metadata": {},
     "output_type": "execute_result"
    }
   ],
   "source": [
    "df2 = pd.DataFrame({\n",
    "    'hoten': ['nva', 'nvb', 'ltc', 'lte'],\n",
    "    'dienthoai': ['0903222111', np.nan, '0903333444', '0918111222']\n",
    "})\n",
    "df2"
   ]
  },
  {
   "cell_type": "code",
   "execution_count": 12,
   "id": "9906d4d7",
   "metadata": {},
   "outputs": [
    {
     "data": {
      "text/html": [
       "<div>\n",
       "<style scoped>\n",
       "    .dataframe tbody tr th:only-of-type {\n",
       "        vertical-align: middle;\n",
       "    }\n",
       "\n",
       "    .dataframe tbody tr th {\n",
       "        vertical-align: top;\n",
       "    }\n",
       "\n",
       "    .dataframe thead th {\n",
       "        text-align: right;\n",
       "    }\n",
       "</style>\n",
       "<table border=\"1\" class=\"dataframe\">\n",
       "  <thead>\n",
       "    <tr style=\"text-align: right;\">\n",
       "      <th></th>\n",
       "      <th>hoten</th>\n",
       "      <th>gioitinh</th>\n",
       "      <th>hoten</th>\n",
       "      <th>dienthoai</th>\n",
       "    </tr>\n",
       "  </thead>\n",
       "  <tbody>\n",
       "    <tr>\n",
       "      <th>0</th>\n",
       "      <td>nva</td>\n",
       "      <td>nam</td>\n",
       "      <td>nva</td>\n",
       "      <td>0903222111</td>\n",
       "    </tr>\n",
       "    <tr>\n",
       "      <th>1</th>\n",
       "      <td>nvb</td>\n",
       "      <td>nam</td>\n",
       "      <td>nvb</td>\n",
       "      <td>NaN</td>\n",
       "    </tr>\n",
       "    <tr>\n",
       "      <th>2</th>\n",
       "      <td>ltc</td>\n",
       "      <td>nữ</td>\n",
       "      <td>ltc</td>\n",
       "      <td>0903333444</td>\n",
       "    </tr>\n",
       "    <tr>\n",
       "      <th>3</th>\n",
       "      <td>NaN</td>\n",
       "      <td>NaN</td>\n",
       "      <td>lte</td>\n",
       "      <td>0918111222</td>\n",
       "    </tr>\n",
       "  </tbody>\n",
       "</table>\n",
       "</div>"
      ],
      "text/plain": [
       "  hoten gioitinh hoten   dienthoai\n",
       "0   nva      nam   nva  0903222111\n",
       "1   nvb      nam   nvb         NaN\n",
       "2   ltc       nữ   ltc  0903333444\n",
       "3   NaN      NaN   lte  0918111222"
      ]
     },
     "execution_count": 12,
     "metadata": {},
     "output_type": "execute_result"
    }
   ],
   "source": [
    "# kết hợp df1 và df2 theo dòng (thêm cột)\n",
    "# merge lại á\n",
    "df_new3 = pd.concat([df1, df2], axis=1)\n",
    "df_new3"
   ]
  },
  {
   "cell_type": "markdown",
   "id": "af5a7df6",
   "metadata": {},
   "source": [
    "## dùng Glob để ghép nhiều file lại\n",
    "\n",
    "- sử dụng khi có quá nhiều file:)"
   ]
  },
  {
   "cell_type": "code",
   "execution_count": 17,
   "id": "9ba33b70",
   "metadata": {},
   "outputs": [],
   "source": [
    "import glob as gb"
   ]
  },
  {
   "cell_type": "code",
   "execution_count": 20,
   "id": "db24640c",
   "metadata": {},
   "outputs": [],
   "source": [
    "# tạo chuỗi mẫu\n",
    "file_pattern = 'data/ds*.csv'"
   ]
  },
  {
   "cell_type": "code",
   "execution_count": 21,
   "id": "3086d7ea",
   "metadata": {},
   "outputs": [
    {
     "data": {
      "text/plain": [
       "['data\\\\dsnv_03.csv',\n",
       " 'data\\\\dsnv_1.csv',\n",
       " 'data\\\\ds_nv_2.csv',\n",
       " 'data\\\\ds_tong_1.csv']"
      ]
     },
     "execution_count": 21,
     "metadata": {},
     "output_type": "execute_result"
    }
   ],
   "source": [
    "# sử dụng hàm glob để lấy danh sách file theo mẫu\n",
    "list_files = gb.glob(file_pattern)\n",
    "list_files"
   ]
  },
  {
   "cell_type": "code",
   "execution_count": 22,
   "id": "7a0a44ce",
   "metadata": {},
   "outputs": [],
   "source": [
    "# khai báo list chứa các DataFrame\n",
    "list_data = []\n",
    "#duyệt qua từng tên file trong list_files để đọc dữ liệu\n",
    "for filename in list_files:\n",
    "    #đọc dữ liệu\n",
    "    df_temp = pd.read_csv(filename)\n",
    "    #gắn dataframe vào list_data\n",
    "    list_data.append(df_temp)"
   ]
  },
  {
   "cell_type": "code",
   "execution_count": 23,
   "id": "584b5b07",
   "metadata": {},
   "outputs": [
    {
     "data": {
      "text/html": [
       "<div>\n",
       "<style scoped>\n",
       "    .dataframe tbody tr th:only-of-type {\n",
       "        vertical-align: middle;\n",
       "    }\n",
       "\n",
       "    .dataframe tbody tr th {\n",
       "        vertical-align: top;\n",
       "    }\n",
       "\n",
       "    .dataframe thead th {\n",
       "        text-align: right;\n",
       "    }\n",
       "</style>\n",
       "<table border=\"1\" class=\"dataframe\">\n",
       "  <thead>\n",
       "    <tr style=\"text-align: right;\">\n",
       "      <th></th>\n",
       "      <th>hoten</th>\n",
       "      <th>gioitinh</th>\n",
       "      <th>tuoi</th>\n",
       "    </tr>\n",
       "  </thead>\n",
       "  <tbody>\n",
       "    <tr>\n",
       "      <th>0</th>\n",
       "      <td>ltd</td>\n",
       "      <td>nu</td>\n",
       "      <td>29</td>\n",
       "    </tr>\n",
       "    <tr>\n",
       "      <th>1</th>\n",
       "      <td>nva</td>\n",
       "      <td>nam</td>\n",
       "      <td>25</td>\n",
       "    </tr>\n",
       "    <tr>\n",
       "      <th>2</th>\n",
       "      <td>ltb</td>\n",
       "      <td>nu</td>\n",
       "      <td>22</td>\n",
       "    </tr>\n",
       "    <tr>\n",
       "      <th>3</th>\n",
       "      <td>nvc</td>\n",
       "      <td>nam</td>\n",
       "      <td>28</td>\n",
       "    </tr>\n",
       "    <tr>\n",
       "      <th>4</th>\n",
       "      <td>nva</td>\n",
       "      <td>nam</td>\n",
       "      <td>25</td>\n",
       "    </tr>\n",
       "    <tr>\n",
       "      <th>5</th>\n",
       "      <td>ltb</td>\n",
       "      <td>nu</td>\n",
       "      <td>22</td>\n",
       "    </tr>\n",
       "    <tr>\n",
       "      <th>6</th>\n",
       "      <td>nvc</td>\n",
       "      <td>nam</td>\n",
       "      <td>28</td>\n",
       "    </tr>\n",
       "    <tr>\n",
       "      <th>7</th>\n",
       "      <td>ltd</td>\n",
       "      <td>nu</td>\n",
       "      <td>29</td>\n",
       "    </tr>\n",
       "  </tbody>\n",
       "</table>\n",
       "</div>"
      ],
      "text/plain": [
       "  hoten gioitinh  tuoi\n",
       "0   ltd       nu    29\n",
       "1   nva      nam    25\n",
       "2   ltb       nu    22\n",
       "3   nvc      nam    28\n",
       "4   nva      nam    25\n",
       "5   ltb       nu    22\n",
       "6   nvc      nam    28\n",
       "7   ltd       nu    29"
      ]
     },
     "execution_count": 23,
     "metadata": {},
     "output_type": "execute_result"
    }
   ],
   "source": [
    "# nối các DataFrame trong list_data\n",
    "df_all = pd.concat(list_data, ignore_index = True)\n",
    "df_all"
   ]
  },
  {
   "cell_type": "code",
   "execution_count": null,
   "id": "484f3b42",
   "metadata": {},
   "outputs": [],
   "source": []
  }
 ],
 "metadata": {
  "kernelspec": {
   "display_name": "Python 3 (ipykernel)",
   "language": "python",
   "name": "python3"
  },
  "language_info": {
   "codemirror_mode": {
    "name": "ipython",
    "version": 3
   },
   "file_extension": ".py",
   "mimetype": "text/x-python",
   "name": "python",
   "nbconvert_exporter": "python",
   "pygments_lexer": "ipython3",
   "version": "3.9.7"
  }
 },
 "nbformat": 4,
 "nbformat_minor": 5
}
